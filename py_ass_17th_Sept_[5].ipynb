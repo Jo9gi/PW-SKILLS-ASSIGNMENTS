{
  "cells": [
    {
      "cell_type": "markdown",
      "metadata": {
        "id": "view-in-github",
        "colab_type": "text"
      },
      "source": [
        "<a href=\"https://colab.research.google.com/github/Jo9gi/PW-SKILLS-ASSIGNMENTS/blob/main/py_ass_17th_Sept_%5B5%5D.ipynb\" target=\"_parent\"><img src=\"https://colab.research.google.com/assets/colab-badge.svg\" alt=\"Open In Colab\"/></a>"
      ]
    },
    {
      "cell_type": "markdown",
      "id": "f075e95e",
      "metadata": {
        "id": "f075e95e"
      },
      "source": [
        "# For Loop :-"
      ]
    },
    {
      "cell_type": "markdown",
      "id": "4b03e582",
      "metadata": {
        "id": "4b03e582"
      },
      "source": [
        "1. Write a Python program to print numbers from 1 to 10 using a for loop."
      ]
    },
    {
      "cell_type": "code",
      "execution_count": null,
      "id": "d4f352b7",
      "metadata": {
        "id": "d4f352b7",
        "outputId": "1fb757d6-1d5b-424a-f494-42adbc945488"
      },
      "outputs": [
        {
          "name": "stdout",
          "output_type": "stream",
          "text": [
            "1\n",
            "2\n",
            "3\n",
            "4\n",
            "5\n",
            "6\n",
            "7\n",
            "8\n",
            "9\n",
            "10\n"
          ]
        }
      ],
      "source": [
        "for i in range(1,11):\n",
        "    print(i)"
      ]
    },
    {
      "cell_type": "markdown",
      "id": "6a34cf91",
      "metadata": {
        "id": "6a34cf91"
      },
      "source": [
        "2. Explain the difference between a for loop and a while loop in Python.\n",
        "\n",
        "A for loop and a while loop are both used to execute a block of code repeatedly in Python, but they have some differences.\n",
        "\n",
        "A for loop is used to iterate over a sequence of items, such as a list, tuple, string, or range. The loop will execute the block of code for each item in the sequence. For example:"
      ]
    },
    {
      "cell_type": "code",
      "execution_count": null,
      "id": "2e4c94f2",
      "metadata": {
        "id": "2e4c94f2",
        "outputId": "564dceee-ea06-49e5-c84f-90333bfaaeee"
      },
      "outputs": [
        {
          "name": "stdout",
          "output_type": "stream",
          "text": [
            "1\n",
            "2\n",
            "3\n",
            "4\n",
            "5\n",
            "6\n",
            "7\n",
            "8\n",
            "9\n",
            "10\n"
          ]
        }
      ],
      "source": [
        "#for loop\n",
        "\n",
        "for i in range(1,11):\n",
        "    print(i)"
      ]
    },
    {
      "cell_type": "markdown",
      "id": "39500da7",
      "metadata": {
        "id": "39500da7"
      },
      "source": [
        "A while loop is used to execute a block of code while a condition is true. The loop will continue to run as long as the condition remains true. For example:"
      ]
    },
    {
      "cell_type": "code",
      "execution_count": null,
      "id": "9c2074ff",
      "metadata": {
        "id": "9c2074ff",
        "outputId": "c302439c-eabd-42ec-e0db-ce1565d67615"
      },
      "outputs": [
        {
          "name": "stdout",
          "output_type": "stream",
          "text": [
            "1\n",
            "2\n",
            "3\n",
            "4\n",
            "5\n",
            "6\n",
            "7\n",
            "8\n",
            "9\n",
            "10\n"
          ]
        }
      ],
      "source": [
        "#while loop\n",
        "\n",
        "i = 1\n",
        "while i<=10:\n",
        "    print(i)\n",
        "    i+=1"
      ]
    },
    {
      "cell_type": "markdown",
      "id": "5574360e",
      "metadata": {
        "id": "5574360e"
      },
      "source": [
        "3. Write a Python program to calculate the sum of all numbers from 1 to 100 using a for loop."
      ]
    },
    {
      "cell_type": "code",
      "execution_count": null,
      "id": "cc053d4c",
      "metadata": {
        "id": "cc053d4c",
        "outputId": "4c8e29ec-c4ed-4aad-e6d8-faa09a178480"
      },
      "outputs": [
        {
          "name": "stdout",
          "output_type": "stream",
          "text": [
            "5050\n"
          ]
        }
      ],
      "source": [
        "sum = 0\n",
        "for i in range(1,101):\n",
        "    sum+=i\n",
        "print(sum)"
      ]
    },
    {
      "cell_type": "markdown",
      "id": "b17d9918",
      "metadata": {
        "id": "b17d9918"
      },
      "source": [
        "4. How do you iterate through a list using a for loop in Python?"
      ]
    },
    {
      "cell_type": "code",
      "execution_count": null,
      "id": "0ac4cb44",
      "metadata": {
        "id": "0ac4cb44",
        "outputId": "bca5a5c9-4083-4251-c432-ec07c93831cb"
      },
      "outputs": [
        {
          "name": "stdout",
          "output_type": "stream",
          "text": [
            "1\n",
            "2\n",
            "3\n",
            "4\n",
            "5\n",
            "67\n"
          ]
        }
      ],
      "source": [
        "lst = [1,2,3,4,5,67]\n",
        "for i in lst:\n",
        "    print(i)"
      ]
    },
    {
      "cell_type": "markdown",
      "id": "a461b441",
      "metadata": {
        "id": "a461b441"
      },
      "source": [
        "5. Write a Python program to find the product of all elements in a list using a for loop."
      ]
    },
    {
      "cell_type": "code",
      "execution_count": null,
      "id": "36c22d0a",
      "metadata": {
        "id": "36c22d0a",
        "outputId": "c584922c-85ce-45e4-b49e-1fbd14aac401"
      },
      "outputs": [
        {
          "name": "stdout",
          "output_type": "stream",
          "text": [
            "2\n",
            "4\n",
            "6\n",
            "8\n",
            "10\n"
          ]
        }
      ],
      "source": [
        "lst = [1,2,3,4,5]\n",
        "for i in lst :\n",
        "    print(i*2)"
      ]
    },
    {
      "cell_type": "markdown",
      "id": "62776aed",
      "metadata": {
        "id": "62776aed"
      },
      "source": [
        "6. Create a Python program that prints all even numbers from 1 to 20 using a for loop."
      ]
    },
    {
      "cell_type": "code",
      "execution_count": null,
      "id": "85ece70c",
      "metadata": {
        "id": "85ece70c",
        "outputId": "575e4c42-60ca-4acc-cd3f-e89d36d07090"
      },
      "outputs": [
        {
          "name": "stdout",
          "output_type": "stream",
          "text": [
            "[2, 4, 6, 8, 10, 12, 14, 16, 18, 20]\n"
          ]
        }
      ],
      "source": [
        "print([i for i in range(1,21) if i%2==0])"
      ]
    },
    {
      "cell_type": "markdown",
      "id": "51e0e092",
      "metadata": {
        "id": "51e0e092"
      },
      "source": [
        "7. Write a Python program that calculates the factorial of a number using a for loop."
      ]
    },
    {
      "cell_type": "code",
      "execution_count": null,
      "id": "9867a682",
      "metadata": {
        "scrolled": true,
        "id": "9867a682",
        "outputId": "e972c972-ce05-4430-b729-d9d9bba77ae5"
      },
      "outputs": [
        {
          "name": "stdout",
          "output_type": "stream",
          "text": [
            "enter the number:6\n",
            "the factorial of 6 is 720\n"
          ]
        }
      ],
      "source": [
        "n = int(input(\"enter the number:\"))\n",
        "fact = 1\n",
        "for i in range(1,n+1):\n",
        "    fact = fact*i\n",
        "print(f\"the factorial of {n} is {fact}\")"
      ]
    },
    {
      "cell_type": "markdown",
      "id": "56248b8d",
      "metadata": {
        "id": "56248b8d"
      },
      "source": [
        "8. How can you iterate through the characters of a string using a for loop in Python?"
      ]
    },
    {
      "cell_type": "code",
      "execution_count": null,
      "id": "a50b68fb",
      "metadata": {
        "id": "a50b68fb",
        "outputId": "652925e4-d029-44a2-e64c-5ef3d670a612"
      },
      "outputs": [
        {
          "name": "stdout",
          "output_type": "stream",
          "text": [
            "j\n",
            "o\n",
            "g\n",
            "i\n",
            "n\n",
            "a\n",
            "i\n",
            "d\n",
            "u\n"
          ]
        }
      ],
      "source": [
        "string = \"joginaidu\"\n",
        "for i in string:\n",
        "    print(i)"
      ]
    },
    {
      "cell_type": "markdown",
      "id": "520be438",
      "metadata": {
        "id": "520be438"
      },
      "source": [
        "9. Write a Python program to find the largest number in a list using a for loop."
      ]
    },
    {
      "cell_type": "code",
      "execution_count": null,
      "id": "04ba2723",
      "metadata": {
        "id": "04ba2723",
        "outputId": "4e8559db-3b78-4f95-9269-7ff515400030"
      },
      "outputs": [
        {
          "name": "stdout",
          "output_type": "stream",
          "text": [
            "45\n"
          ]
        }
      ],
      "source": [
        "lst = [2,3,23,45,1,5,44]\n",
        "largest = lst[0]\n",
        "for i in range(1,len(lst)):\n",
        "    if lst[i]>largest:\n",
        "        largest = lst[i]\n",
        "print(largest)\n",
        ""
      ]
    },
    {
      "cell_type": "markdown",
      "id": "0c20d80c",
      "metadata": {
        "id": "0c20d80c"
      },
      "source": [
        "10. Create a Python program that prints the Fibonacci sequence up to a specified limit using a for loop."
      ]
    },
    {
      "cell_type": "code",
      "execution_count": null,
      "id": "fe5dbe4b",
      "metadata": {
        "id": "fe5dbe4b",
        "outputId": "16a2b7f8-014a-4a3f-f5d7-1fa85a74222f"
      },
      "outputs": [
        {
          "data": {
            "text/plain": [
              "[0, 1, 1, 2, 3, 5, 8, 13, 21, 34]"
            ]
          },
          "execution_count": 20,
          "metadata": {},
          "output_type": "execute_result"
        }
      ],
      "source": [
        "def fibnocci(n):\n",
        "    lst = [0,1]\n",
        "    for i in range(2,n):\n",
        "        lst.append(lst[i-1]+lst[i-2])\n",
        "    return lst\n",
        "fibnocci(10)"
      ]
    },
    {
      "cell_type": "markdown",
      "id": "325a4f4c",
      "metadata": {
        "id": "325a4f4c"
      },
      "source": [
        "11. Write a Python program to count the number of vowels in a given string using a for loop."
      ]
    },
    {
      "cell_type": "code",
      "execution_count": null,
      "id": "ef055f8e",
      "metadata": {
        "id": "ef055f8e",
        "outputId": "34fbd528-5558-420b-9a51-48f6fb004c36"
      },
      "outputs": [
        {
          "name": "stdout",
          "output_type": "stream",
          "text": [
            "5\n"
          ]
        }
      ],
      "source": [
        "string = \"joginaidu\"\n",
        "vowels = \"aeiouAEIOU\"\n",
        "count = 0\n",
        "for i in string:\n",
        "    if i in vowels:\n",
        "        count+=1\n",
        "print(count)"
      ]
    },
    {
      "cell_type": "markdown",
      "id": "efe08448",
      "metadata": {
        "id": "efe08448"
      },
      "source": [
        "12. Create a Python program that generates a multiplication table for a given number using a for loop."
      ]
    },
    {
      "cell_type": "code",
      "execution_count": null,
      "id": "b46bef2c",
      "metadata": {
        "id": "b46bef2c",
        "outputId": "e1d0a2b4-a8d2-4190-982e-577b457acb68"
      },
      "outputs": [
        {
          "name": "stdout",
          "output_type": "stream",
          "text": [
            "enter the number:10\n",
            "1x10=10\n",
            "2x10=20\n",
            "3x10=30\n",
            "4x10=40\n",
            "5x10=50\n",
            "6x10=60\n",
            "7x10=70\n",
            "8x10=80\n",
            "9x10=90\n",
            "10x10=100\n"
          ]
        }
      ],
      "source": [
        "n = int(input(\"enter the number:\"))\n",
        "for i in range(1,11):\n",
        "    print(f\"{i}x{n}={i*n}\")"
      ]
    },
    {
      "cell_type": "markdown",
      "id": "e62de18d",
      "metadata": {
        "id": "e62de18d"
      },
      "source": [
        "13. Write a Python program to reverse a list using a for loop."
      ]
    },
    {
      "cell_type": "code",
      "execution_count": null,
      "id": "c1f8591d",
      "metadata": {
        "id": "c1f8591d",
        "outputId": "096ef997-cfa1-4563-990b-2a709d43c79e"
      },
      "outputs": [
        {
          "name": "stdout",
          "output_type": "stream",
          "text": [
            "Original List: [1, 2, 3, 4, 5]\n",
            "Reversed List: [5, 4, 3, 2, 1]\n"
          ]
        }
      ],
      "source": [
        "def reverse_list(input_list):\n",
        "    reversed_list = []\n",
        "    for item in reversed(input_list):\n",
        "        reversed_list.append(item)\n",
        "    return reversed_list\n",
        "\n",
        "# Example usage:\n",
        "original_list = [1, 2, 3, 4, 5]\n",
        "reversed_result = reverse_list(original_list)\n",
        "\n",
        "print(\"Original List:\", original_list)\n",
        "print(\"Reversed List:\", reversed_result)\n"
      ]
    },
    {
      "cell_type": "markdown",
      "id": "d441d70d",
      "metadata": {
        "id": "d441d70d"
      },
      "source": [
        "14. Write a Python program to find the common elements between two lists using a for loop."
      ]
    },
    {
      "cell_type": "code",
      "execution_count": null,
      "id": "3dfc40dc",
      "metadata": {
        "id": "3dfc40dc",
        "outputId": "21d25f25-9c30-44d3-a287-c2cec6234e3e"
      },
      "outputs": [
        {
          "name": "stdout",
          "output_type": "stream",
          "text": [
            "[2, 3]\n"
          ]
        }
      ],
      "source": [
        "lst = [1,2,3,4,5]\n",
        "lst1 = [2,3,6,7,8]\n",
        "com = []\n",
        "for i in lst:\n",
        "    if i in lst1:\n",
        "        com.append(i)\n",
        "print(com)"
      ]
    },
    {
      "cell_type": "markdown",
      "id": "5f410a13",
      "metadata": {
        "id": "5f410a13"
      },
      "source": [
        "15. Explain how to use a for loop to iterate through the keys and values of a dictionary in Python.\n",
        "\n",
        "Ans)-A for loop is a way of repeating a block of code for a certain number of times or until a condition is met. A dictionary is a collection of key-value pairs, where each key is associated with a value. To iterate through the keys and values of a dictionary in Python, you can use one of the following methods:\n",
        "\n",
        "Use the \".items()\" method to get a view object that contains the key-value pairs as tuples. Then, use a for loop to unpack each tuple into two variables, one for the key and one for the value. For example:"
      ]
    },
    {
      "cell_type": "code",
      "execution_count": null,
      "id": "ffee798d",
      "metadata": {
        "id": "ffee798d",
        "outputId": "8d59e809-7353-46df-c039-0cee17887632"
      },
      "outputs": [
        {
          "name": "stdout",
          "output_type": "stream",
          "text": [
            "a 1\n",
            "b 2\n",
            "c 3\n"
          ]
        }
      ],
      "source": [
        "d = {\"a\": 1, \"b\": 2, \"c\": 3}\n",
        "for key, value in d.items():\n",
        "    print(key, value)\n"
      ]
    },
    {
      "cell_type": "markdown",
      "id": "68586b9a",
      "metadata": {
        "id": "68586b9a"
      },
      "source": [
        "16. Write a Python program to find the GCD (Greatest Common Divisor) of two numbers using a for loop."
      ]
    },
    {
      "cell_type": "code",
      "execution_count": null,
      "id": "038bbc39",
      "metadata": {
        "id": "038bbc39",
        "outputId": "5cf6ef78-8136-4c32-b175-e2e4df7a7cd7"
      },
      "outputs": [
        {
          "name": "stdout",
          "output_type": "stream",
          "text": [
            "enter the n1:12\n",
            "enter the n2:15\n",
            "the GCD of 12 and 15 is 3\n"
          ]
        }
      ],
      "source": [
        "def find_gcd(n1,n2):\n",
        "    if n1<n2:\n",
        "        n1,n2 = n2,n1\n",
        "    for i in range(1,n2+1):\n",
        "        if n1%i==0 and n2%i==0:\n",
        "            gcd = i\n",
        "    return gcd\n",
        "n1 = int(input(\"enter the n1:\"))\n",
        "n2 = int(input('enter the n2:'))\n",
        "print(f\"the GCD of {n1} and {n2} is {find_gcd(n1,n2)}\")"
      ]
    },
    {
      "cell_type": "markdown",
      "id": "7a1a6078",
      "metadata": {
        "id": "7a1a6078"
      },
      "source": [
        "17. Create a Python program that checks if a string is a palindrome using a for loop."
      ]
    },
    {
      "cell_type": "code",
      "execution_count": null,
      "id": "5e0af3cf",
      "metadata": {
        "id": "5e0af3cf",
        "outputId": "5d379d14-131d-415b-ad27-186f9132db6c"
      },
      "outputs": [
        {
          "name": "stdout",
          "output_type": "stream",
          "text": [
            "enter the string:wer\n",
            "not a palindrome\n"
          ]
        }
      ],
      "source": [
        "def palindrome(string):\n",
        "    rev = string[::-1]\n",
        "    for i in range(len(string)):\n",
        "        if string[i]==rev[i]:\n",
        "            return True\n",
        "        return False\n",
        "string = input(\"enter the string:\")\n",
        "if palindrome(string):\n",
        "    print(\"it is a palindrome\")\n",
        "else:\n",
        "    print(\"not a palindrome\")"
      ]
    },
    {
      "cell_type": "markdown",
      "id": "4231c0ea",
      "metadata": {
        "id": "4231c0ea"
      },
      "source": [
        "18. Write a Python program to remove duplicates from a list using a for loop."
      ]
    },
    {
      "cell_type": "code",
      "execution_count": null,
      "id": "0ca2d601",
      "metadata": {
        "id": "0ca2d601",
        "outputId": "fe111869-9900-4040-c697-d2d35641c943"
      },
      "outputs": [
        {
          "name": "stdout",
          "output_type": "stream",
          "text": [
            "[1, 2, 3, 6]\n"
          ]
        }
      ],
      "source": [
        "lst = [1,2,3,3,1,6]\n",
        "lst1=[]\n",
        "for i in lst:\n",
        "    if i not in lst1:\n",
        "        lst1.append(i)\n",
        "print(lst1)"
      ]
    },
    {
      "cell_type": "markdown",
      "id": "8c61c189",
      "metadata": {
        "id": "8c61c189"
      },
      "source": [
        "19. Create a Python program that counts the number of words in a sentence using a for loop."
      ]
    },
    {
      "cell_type": "code",
      "execution_count": null,
      "id": "872d423e",
      "metadata": {
        "id": "872d423e",
        "outputId": "3893fec7-750f-4c1b-8b77-e29791527333"
      },
      "outputs": [
        {
          "name": "stdout",
          "output_type": "stream",
          "text": [
            "The count of the words in a sentence is 17\n"
          ]
        }
      ],
      "source": [
        "sentence = \"Create a Python program that counts the number of words in a sentence using a for loop\".split()\n",
        "\n",
        "count = 0\n",
        "for i in sentence:\n",
        "    count+=1\n",
        "print(\"The count of the words in a sentence is\",count)"
      ]
    },
    {
      "cell_type": "markdown",
      "id": "0e579166",
      "metadata": {
        "id": "0e579166"
      },
      "source": [
        "20. Write a Python program to find the sum of all odd numbers from 1 to 50 using a for loop."
      ]
    },
    {
      "cell_type": "code",
      "execution_count": null,
      "id": "ed34a451",
      "metadata": {
        "id": "ed34a451",
        "outputId": "0c52704f-8e01-4ee1-b44a-c49ffaf28f46"
      },
      "outputs": [
        {
          "name": "stdout",
          "output_type": "stream",
          "text": [
            "625\n"
          ]
        }
      ],
      "source": [
        "sum = 0\n",
        "for i in range(1,51):\n",
        "    if i %2!=0:\n",
        "        sum+=i\n",
        "print(sum)"
      ]
    },
    {
      "cell_type": "markdown",
      "id": "d593b1eb",
      "metadata": {
        "id": "d593b1eb"
      },
      "source": [
        "21. Write a Python program that checks if a given year is a leap year using a for loop."
      ]
    },
    {
      "cell_type": "code",
      "execution_count": null,
      "id": "c0b8e1e9",
      "metadata": {
        "id": "c0b8e1e9",
        "outputId": "f8359cfd-eac5-4ce4-adeb-4fd85650a357"
      },
      "outputs": [
        {
          "name": "stdout",
          "output_type": "stream",
          "text": [
            "Enter a year to check if it's a leap year: 2024\n",
            "2024 is a leap year.\n"
          ]
        }
      ],
      "source": [
        "def is_leap_year(year):\n",
        "\n",
        "    if (year % 4 == 0 and year % 100 != 0) or (year % 400 == 0):\n",
        "        return True\n",
        "    else:\n",
        "        return False\n",
        "\n",
        "\n",
        "user_input = int(input(\"Enter a year to check if it's a leap year: \"))\n",
        "\n",
        "if is_leap_year(user_input):\n",
        "    print(f\"{user_input} is a leap year.\")\n",
        "else:\n",
        "    print(f\"{user_input} is not a leap year.\")"
      ]
    },
    {
      "cell_type": "markdown",
      "id": "32a34f74",
      "metadata": {
        "id": "32a34f74"
      },
      "source": [
        "22. Create a Python program that calculates the square root of a number using a for loop."
      ]
    },
    {
      "cell_type": "code",
      "execution_count": null,
      "id": "f2fb1220",
      "metadata": {
        "id": "f2fb1220",
        "outputId": "d04a9434-59f1-4eb3-a3be-9d14dcd5372d"
      },
      "outputs": [
        {
          "name": "stdout",
          "output_type": "stream",
          "text": [
            "Enter a number to calculate its square root: 2\n",
            "The square root of 2.0 is approximately: 1.41\n"
          ]
        }
      ],
      "source": [
        "def sq_root(num, iterations=10):\n",
        "    # Initial guess for the square root\n",
        "    guess = num / 2.0\n",
        "\n",
        "    # Using a for loop for a fixed number of iterations\n",
        "    for _ in range(iterations):\n",
        "        guess = 0.5 * (guess + num / guess)\n",
        "\n",
        "    return guess\n",
        "\n",
        "# Example usage:\n",
        "user_input = float(input(\"Enter a number to calculate its square root: \"))\n",
        "result = sq_root(user_input)\n",
        "\n",
        "print(f\"The square root of {user_input} is approximately: {result:.2f}\")"
      ]
    },
    {
      "cell_type": "markdown",
      "id": "fb7c6660",
      "metadata": {
        "id": "fb7c6660"
      },
      "source": [
        "23. Write a Python program to find the LCM (Least Common Multiple) of two numbers using a for loop."
      ]
    },
    {
      "cell_type": "code",
      "execution_count": null,
      "id": "d6469240",
      "metadata": {
        "id": "d6469240",
        "outputId": "82f90e83-6f20-40c7-cc70-2c3961233164"
      },
      "outputs": [
        {
          "name": "stdout",
          "output_type": "stream",
          "text": [
            "enter the n1:2\n",
            "enter the n2:3\n",
            "the lcm of 2 and 3 is 6\n"
          ]
        }
      ],
      "source": [
        "def lcm(n1,n2):\n",
        "    for i in range(max(n1,n2),n1*n2+1):\n",
        "        if i%n1==0 and i%n2==0:\n",
        "            return i\n",
        "n1 = int(input(\"enter the n1:\"))\n",
        "n2 = int(input(\"enter the n2:\"))\n",
        "print(f\"the lcm of {n1} and {n2} is {lcm(n1,n2)}\")"
      ]
    },
    {
      "cell_type": "markdown",
      "id": "ba04dc84",
      "metadata": {
        "id": "ba04dc84"
      },
      "source": [
        "# If else :"
      ]
    },
    {
      "cell_type": "markdown",
      "id": "1dc9375d",
      "metadata": {
        "id": "1dc9375d"
      },
      "source": [
        "1. Write a Python program to check if a number is positive, negative, or zero using an if-else statement.\n"
      ]
    },
    {
      "cell_type": "code",
      "execution_count": null,
      "id": "d0329d15",
      "metadata": {
        "id": "d0329d15",
        "outputId": "e5fa911b-8ecd-4cca-e722-8cb4c3cccafd"
      },
      "outputs": [
        {
          "name": "stdout",
          "output_type": "stream",
          "text": [
            "enter the number1\n"
          ]
        },
        {
          "data": {
            "text/plain": [
              "'positive'"
            ]
          },
          "execution_count": 28,
          "metadata": {},
          "output_type": "execute_result"
        }
      ],
      "source": [
        "def checking(n):\n",
        "    if n<0:\n",
        "        return \"negitive\"\n",
        "    elif n==0:\n",
        "        return \"zero\"\n",
        "    else:\n",
        "        return 'positive'\n",
        "n = int(input(\"enter the number\"))\n",
        "checking(n)"
      ]
    },
    {
      "cell_type": "markdown",
      "id": "6f828797",
      "metadata": {
        "id": "6f828797"
      },
      "source": [
        "2. Create a Python program that checks if a given number is even or odd using an if-else statement."
      ]
    },
    {
      "cell_type": "code",
      "execution_count": null,
      "id": "98d1ba47",
      "metadata": {
        "id": "98d1ba47",
        "outputId": "3ce5bb8b-64df-48e0-a1af-05f841c17464"
      },
      "outputs": [
        {
          "name": "stdout",
          "output_type": "stream",
          "text": [
            "enter the number:12\n",
            "even\n"
          ]
        }
      ],
      "source": [
        "n = int(input(\"enter the number:\"))\n",
        "if n%2==0:\n",
        "    print(\"even\")\n",
        "else:\n",
        "    print(\"odd\")"
      ]
    },
    {
      "cell_type": "markdown",
      "id": "20f78845",
      "metadata": {
        "id": "20f78845"
      },
      "source": [
        "3.How can you use nested if-else statements in Python, and provide an example?\n",
        "\n",
        "Ans)- Nested if-else statements are a way of writing conditional logic in Python that allows you to check multiple conditions in a hierarchical manner. You can use nested if-else statements by placing an if-else statement inside another if-else statement. The inner if-else statement will only execute if the condition of the outer if-else statement is true. For example, suppose you want to check if a number is positive, negative, or zero. You can use nested if-else statements like this:"
      ]
    },
    {
      "cell_type": "code",
      "execution_count": null,
      "id": "5b83a9dc",
      "metadata": {
        "id": "5b83a9dc",
        "outputId": "d450a119-e080-463a-cf0d-fb633430ee5c"
      },
      "outputs": [
        {
          "name": "stdout",
          "output_type": "stream",
          "text": [
            "Enter a number: 1\n",
            "The number is positive.\n"
          ]
        }
      ],
      "source": [
        "num = int(input(\"Enter a number: \"))\n",
        "if num >= 0:\n",
        "    if num == 0:\n",
        "        print(\"The number is zero.\")\n",
        "    else:\n",
        "        print(\"The number is positive.\")\n",
        "else:\n",
        "    print(\"The number is negative.\")\n"
      ]
    },
    {
      "cell_type": "markdown",
      "id": "c2aaa5b2",
      "metadata": {
        "id": "c2aaa5b2"
      },
      "source": [
        "This program will first check if the number is greater than or equal to zero. If yes, it will then check if the number is equal to zero. If yes, it will print “The number is zero.” If no, it will print “The number is positive.” If the number is less than zero, it will skip the inner if-else statement and print “The number is negative.”"
      ]
    },
    {
      "cell_type": "markdown",
      "id": "8381df35",
      "metadata": {
        "id": "8381df35"
      },
      "source": [
        "4. Write a Python program to determine the largest of three numbers using if-else."
      ]
    },
    {
      "cell_type": "code",
      "execution_count": null,
      "id": "118c3614",
      "metadata": {
        "id": "118c3614",
        "outputId": "a92aaa9d-333e-4125-a3ca-92caa2d31be2"
      },
      "outputs": [
        {
          "name": "stdout",
          "output_type": "stream",
          "text": [
            "1st number:12\n",
            "2nd number:23\n",
            "3rd number:1\n",
            "23 is greater\n"
          ]
        }
      ],
      "source": [
        "a = int(input(\"1st number:\"))\n",
        "b = int(input(\"2nd number:\"))\n",
        "c = int(input(\"3rd number:\"))\n",
        "if a>b and a>c:\n",
        "    print(f'{a} is greater')\n",
        "elif b>c:\n",
        "    print(f'{b} is greater')\n",
        "else:\n",
        "    print(f'{c} is greater')"
      ]
    },
    {
      "cell_type": "markdown",
      "id": "0090bbcd",
      "metadata": {
        "id": "0090bbcd"
      },
      "source": [
        "5. Write a Python program that calculates the absolute value of a number using if-else."
      ]
    },
    {
      "cell_type": "code",
      "execution_count": null,
      "id": "515b3390",
      "metadata": {
        "id": "515b3390",
        "outputId": "76f4b607-f05c-46e4-8a44-a57c583468d2"
      },
      "outputs": [
        {
          "name": "stdout",
          "output_type": "stream",
          "text": [
            "enter the number:10\n",
            "10\n"
          ]
        }
      ],
      "source": [
        "n = int(input(\"enter the number:\"))\n",
        "if n<0:\n",
        "    print(abs(n))\n",
        "else:\n",
        "    print(n)"
      ]
    },
    {
      "cell_type": "markdown",
      "id": "6d115be9",
      "metadata": {
        "id": "6d115be9"
      },
      "source": [
        "6. Create a Python program that checks if a given character is a vowel or consonant using if-else."
      ]
    },
    {
      "cell_type": "code",
      "execution_count": null,
      "id": "b6703891",
      "metadata": {
        "id": "b6703891",
        "outputId": "15d0ea48-0e34-482b-fa60-aa8163c46817"
      },
      "outputs": [
        {
          "name": "stdout",
          "output_type": "stream",
          "text": [
            "enter the character:e\n",
            "given character is a vowel\n"
          ]
        }
      ],
      "source": [
        "n = input (\"enter the character:\")\n",
        "vowels = \"aeiouAEIOU\"\n",
        "if n in vowels:\n",
        "    print(\"given character is a vowel\")\n",
        "elif n not in vowels:\n",
        "    print(\"it is a consonant\")"
      ]
    },
    {
      "cell_type": "markdown",
      "id": "f3558c1c",
      "metadata": {
        "id": "f3558c1c"
      },
      "source": [
        "7. Write a Python program to determine if a user is eligible to vote based on their age using if-else."
      ]
    },
    {
      "cell_type": "code",
      "execution_count": null,
      "id": "0bb2dec0",
      "metadata": {
        "id": "0bb2dec0",
        "outputId": "9a409439-3f29-49c7-857d-8034ce0ae48b"
      },
      "outputs": [
        {
          "name": "stdout",
          "output_type": "stream",
          "text": [
            "enter the age:17\n",
            "not eligible for vote\n"
          ]
        }
      ],
      "source": [
        "n = int(input(\"enter the age:\"))\n",
        "if n<=17:\n",
        "    print(\"not eligible for vote\")\n",
        "else:\n",
        "    print('eligible for vote')"
      ]
    },
    {
      "cell_type": "markdown",
      "id": "b61ae57b",
      "metadata": {
        "id": "b61ae57b"
      },
      "source": [
        "8. Create a Python program that calculates the discount amount based on the purchase amount using if-else."
      ]
    },
    {
      "cell_type": "code",
      "execution_count": null,
      "id": "d7ec54c6",
      "metadata": {
        "id": "d7ec54c6",
        "outputId": "2a4ae204-1dc6-424e-8a49-b6282927bb0b"
      },
      "outputs": [
        {
          "data": {
            "text/plain": [
              "'not elgible for discount'"
            ]
          },
          "execution_count": 39,
          "metadata": {},
          "output_type": "execute_result"
        }
      ],
      "source": [
        "def discount(amount):\n",
        "    if amount<=100:\n",
        "        return \"not elgible for discount\"\n",
        "    elif amount<=500:\n",
        "        return \"10% discount\"\n",
        "    elif amount<=1000:\n",
        "        return \"20% discount\"\n",
        "    else:\n",
        "        return \"30 % discount\"\n",
        "discount(100)"
      ]
    },
    {
      "cell_type": "markdown",
      "id": "9d47d638",
      "metadata": {
        "id": "9d47d638"
      },
      "source": [
        "9. Write a Python program to check if a number is within a specified range using if-else."
      ]
    },
    {
      "cell_type": "code",
      "execution_count": null,
      "id": "40271902",
      "metadata": {
        "id": "40271902",
        "outputId": "2e6ab8af-f2b2-4814-d39e-d2bb6c5ba3bc"
      },
      "outputs": [
        {
          "name": "stdout",
          "output_type": "stream",
          "text": [
            "enter the lower:1\n",
            "enter the upper:20\n",
            "enter the value:5\n",
            "The number 5.0 is within the specified range.\n"
          ]
        }
      ],
      "source": [
        "lower = float(input(\"enter the lower:\"))\n",
        "upper = float(input(\"enter the upper:\"))\n",
        "n = float(input(\"enter the value:\"))\n",
        "if lower <= n <= upper:\n",
        "    print(f\"The number {n} is within the specified range.\")\n",
        "else:\n",
        "    print(f\"The number {n} is outside the specified range.\")\n"
      ]
    },
    {
      "cell_type": "markdown",
      "id": "1c905ad2",
      "metadata": {
        "id": "1c905ad2"
      },
      "source": [
        "10. Create a Python program that determines the grade of a student based on their score using if-else.\n"
      ]
    },
    {
      "cell_type": "code",
      "execution_count": null,
      "id": "93ebbc66",
      "metadata": {
        "id": "93ebbc66",
        "outputId": "ec880ebd-5925-41dc-cabd-095278f3e3e7"
      },
      "outputs": [
        {
          "name": "stdout",
          "output_type": "stream",
          "text": [
            "enter the score:100\n"
          ]
        },
        {
          "data": {
            "text/plain": [
              "'A grade'"
            ]
          },
          "execution_count": 3,
          "metadata": {},
          "output_type": "execute_result"
        }
      ],
      "source": [
        "def grades(score):\n",
        "    if 90<=score<=100:\n",
        "        return \"A grade\"\n",
        "    elif 80<= score <90:\n",
        "        return \"B grade\"\n",
        "    elif 70<= score <80:\n",
        "        return \"C grade\"\n",
        "    elif 60 <= score<70:\n",
        "        return \"D grade\"\n",
        "    elif 50<=score<60:\n",
        "        return \"E grade\"\n",
        "    elif score>50:\n",
        "        return \"fail\"\n",
        "    else:\n",
        "        return \"enter the valid score\"\n",
        "score=int(input(\"enter the score:\"))\n",
        "grades(score)"
      ]
    },
    {
      "cell_type": "markdown",
      "id": "8ea4566e",
      "metadata": {
        "id": "8ea4566e"
      },
      "source": [
        "11. Write a Python program to check if a string is empty or not using if-else.\n"
      ]
    },
    {
      "cell_type": "code",
      "execution_count": null,
      "id": "8c3f1758",
      "metadata": {
        "id": "8c3f1758",
        "outputId": "b60e7518-89a5-4d47-d61e-64b1e20ca0e2"
      },
      "outputs": [
        {
          "name": "stdout",
          "output_type": "stream",
          "text": [
            "enter the string:\n",
            "empty string\n"
          ]
        }
      ],
      "source": [
        "string = input(\"enter the string:\")\n",
        "if not string:\n",
        "    print(\"empty string\")\n",
        "else:\n",
        "    print(\"not empty string\")"
      ]
    },
    {
      "cell_type": "markdown",
      "id": "3c65b05b",
      "metadata": {
        "id": "3c65b05b"
      },
      "source": [
        "12. Create a Python program that identifies the type of a triangle (e.g., equilateral, isosceles, or scalene) based on input values using if-else.\n"
      ]
    },
    {
      "cell_type": "code",
      "execution_count": null,
      "id": "e8cedc78",
      "metadata": {
        "id": "e8cedc78",
        "outputId": "a6088ecc-0e46-4481-a1f9-06c47b9f58ca"
      },
      "outputs": [
        {
          "name": "stdout",
          "output_type": "stream",
          "text": [
            "enter the side1:12\n",
            "enter the side2:12\n",
            "enter the side3:12\n",
            "equilateral triangle\n"
          ]
        }
      ],
      "source": [
        "a = int(input(\"enter the side1:\"))\n",
        "b = int(input(\"enter the side2:\"))\n",
        "c = int(input(\"enter the side3:\"))\n",
        "if a==b and a==c:\n",
        "    print(\"equilateral triangle\")\n",
        "elif a==b or b==c or a==c:\n",
        "    print(\"isosceles triangle\")\n",
        "else:\n",
        "    print(\"scalene triangle\")\n",
        ""
      ]
    },
    {
      "cell_type": "markdown",
      "id": "42eb9409",
      "metadata": {
        "id": "42eb9409"
      },
      "source": [
        "13. Write a Python program to determine the day of the week based on a user-provided number using if-else."
      ]
    },
    {
      "cell_type": "code",
      "execution_count": null,
      "id": "59ed2b40",
      "metadata": {
        "id": "59ed2b40",
        "outputId": "076eca9f-3aaa-4da8-b822-42b7c501f05f"
      },
      "outputs": [
        {
          "name": "stdout",
          "output_type": "stream",
          "text": [
            "enter the day3\n"
          ]
        },
        {
          "data": {
            "text/plain": [
              "'wednesday'"
            ]
          },
          "execution_count": 7,
          "metadata": {},
          "output_type": "execute_result"
        }
      ],
      "source": [
        "def week(n):\n",
        "    if n == 1 :\n",
        "        return \"Monday\"\n",
        "    elif n==2 :\n",
        "        return \"Tuesday\"\n",
        "    elif n==3:\n",
        "        return \"wednesday\"\n",
        "    elif n==4:\n",
        "        return \"thursday\"\n",
        "    elif n==5:\n",
        "        return \"friday\"\n",
        "    elif n==6:\n",
        "        return \"saturday\"\n",
        "    elif n==7:\n",
        "        return \"sunday\"\n",
        "    else:\n",
        "        return \"invald day\"\n",
        "n = int(input(\"enter the day\"))\n",
        "week(n)"
      ]
    },
    {
      "cell_type": "markdown",
      "id": "5879ffc5",
      "metadata": {
        "id": "5879ffc5"
      },
      "source": [
        "14. Create a Python program that checks if a given year is a leap year using both if-else and a function.\n"
      ]
    },
    {
      "cell_type": "code",
      "execution_count": null,
      "id": "98618eb5",
      "metadata": {
        "id": "98618eb5",
        "outputId": "6799b834-5226-4c37-bbd2-940a25163091"
      },
      "outputs": [
        {
          "name": "stdout",
          "output_type": "stream",
          "text": [
            "enter the year2024\n"
          ]
        },
        {
          "data": {
            "text/plain": [
              "'it is a leap year'"
            ]
          },
          "execution_count": 8,
          "metadata": {},
          "output_type": "execute_result"
        }
      ],
      "source": [
        "def leap_year(year):\n",
        "    if year%4==0 and year%100!=0:\n",
        "        return \"it is a leap year\"\n",
        "    else:\n",
        "        return \"it is not a lea year\"\n",
        "year = int(input(\"enter the year\"))\n",
        "leap_year(year)"
      ]
    },
    {
      "cell_type": "markdown",
      "id": "8dcbbe4b",
      "metadata": {
        "id": "8dcbbe4b"
      },
      "source": [
        "15. How do you use the \"assert\" statement in Python to add debugging checks within if-else blocks?\n",
        "\n",
        "Ans)-In Python, the \"assert\" statement is used for debugging purposes to test whether a given expression is true. If the expression is false, an \"AssertionErro\" exception is raised, and you can include an optional error message."
      ]
    },
    {
      "cell_type": "code",
      "execution_count": null,
      "id": "8f23d70f",
      "metadata": {
        "id": "8f23d70f"
      },
      "outputs": [],
      "source": [
        "def divide(a, b):\n",
        "    assert b != 0, \"Cannot divide by zero\"\n",
        "\n",
        "    if a % b == 0:\n",
        "        result = a // b\n",
        "        print(f\"{a} is divisible by {b}, result: {result}\")\n",
        "    else:\n",
        "        print(f\"{a} is not perfectly divisible by {b}\")\n",
        "\n",
        "# Example usage\n",
        "divide(10, 2)  # Output: 10 is divisible by 2, result: 5\n",
        "divide(15, 4)  # Output: 15 is not perfectly divisible by 4\n",
        "divide(8, 0)   # Raises AssertionError: Cannot divide by zero\n"
      ]
    },
    {
      "cell_type": "markdown",
      "id": "4a4e4e71",
      "metadata": {
        "id": "4a4e4e71"
      },
      "source": [
        " the \"assert\" statement checks if 'b' is not equal to zero. If it's zero, an \"AssertionError\" is raised with the specified error message. This helps catch potential issues during development by providing a clear error message."
      ]
    },
    {
      "cell_type": "markdown",
      "id": "55633b43",
      "metadata": {
        "id": "55633b43"
      },
      "source": [
        "16. Create a Python program that determines the eligibility of a person for a senior citizen discountbased on age using if-else.\n"
      ]
    },
    {
      "cell_type": "code",
      "execution_count": null,
      "id": "b7598b1c",
      "metadata": {
        "id": "b7598b1c",
        "outputId": "cc75401b-007d-4776-e35f-3d918ea6b50b"
      },
      "outputs": [
        {
          "name": "stdout",
          "output_type": "stream",
          "text": [
            "Please enter your age: 74\n",
            "You are eligible for a senior citizen discount.\n"
          ]
        }
      ],
      "source": [
        "age = int(input(\"Please enter your age: \"))\n",
        "senior_age = 60\n",
        "if age >= senior_age:\n",
        "    print(\"You are eligible for a senior citizen discount.\")\n",
        "else:\n",
        "    print(\"You are not eligible for a senior citizen discount.\")\n"
      ]
    },
    {
      "cell_type": "markdown",
      "id": "deb549f0",
      "metadata": {
        "id": "deb549f0"
      },
      "source": [
        "17. Write a Python program to categorize a given character as uppercase, lowercase, or neither\n",
        "using if-else.\n"
      ]
    },
    {
      "cell_type": "code",
      "execution_count": null,
      "id": "1d1e48d1",
      "metadata": {
        "id": "1d1e48d1",
        "outputId": "8caa9975-3f18-495a-c250-36719450515f"
      },
      "outputs": [
        {
          "name": "stdout",
          "output_type": "stream",
          "text": [
            "enter the charcter:w\n"
          ]
        },
        {
          "data": {
            "text/plain": [
              "'it is an lowercase'"
            ]
          },
          "execution_count": 12,
          "metadata": {},
          "output_type": "execute_result"
        }
      ],
      "source": [
        "def categorize(char):\n",
        "    if char.isupper():\n",
        "        return \"it is an uppercase\"\n",
        "    elif char.islower():\n",
        "        return \"it is an lowercase\"\n",
        "    else:\n",
        "        return \"it is neither upper nor lower\"\n",
        "char = input(\"enter the charcter:\")\n",
        "categorize(char)"
      ]
    },
    {
      "cell_type": "markdown",
      "id": "4e2ffdb2",
      "metadata": {
        "id": "4e2ffdb2"
      },
      "source": [
        "18. Write a Python program to determine the roots of a quadratic equation using if-else.\n"
      ]
    },
    {
      "cell_type": "code",
      "execution_count": null,
      "id": "6c2c71c5",
      "metadata": {
        "id": "6c2c71c5",
        "outputId": "db99f882-9cc6-4d98-88a8-3f58c12ce804"
      },
      "outputs": [
        {
          "name": "stdout",
          "output_type": "stream",
          "text": [
            "enter the a2\n",
            "enter the b4\n",
            "enter the c1\n",
            "2X**2 + 4X + 1==0\n",
            "The roots are real and different: -0.2928932188134524 and -1.7071067811865475\n"
          ]
        }
      ],
      "source": [
        "import math\n",
        "a = int(input(\"enter the a\"))\n",
        "b = int(input(\"enter the b\"))\n",
        "c = int(input(\"enter the c\"))\n",
        "print(f\"{a}X**2 + {b}X + {c}==0\")\n",
        "dis = b**2 -4*a*c\n",
        "if dis > 0:\n",
        "        root1 = (-b + math.sqrt(dis)) / (2*a)\n",
        "        root2 = (-b - math.sqrt(dis)) / (2*a)\n",
        "        print(f\"The roots are real and different: {root1} and {root2}\")\n",
        "elif dis == 0:\n",
        "        root = -b / (2*a)\n",
        "        print(f\"The root is real and equal: {root}\")\n",
        "else:\n",
        "    real_part = -b / (2*a)\n",
        "    imaginary_part = math.sqrt(abs(dis)) / (2*a)\n",
        "    print(f\"The roots are complex: {real_part} + {imaginary_part}i and {real_part} - {imaginary_part}i\")\n"
      ]
    },
    {
      "cell_type": "markdown",
      "id": "6baadfef",
      "metadata": {
        "id": "6baadfef"
      },
      "source": [
        "19. Create a Python program that checks if a given year is a century year or not using if-else.\n"
      ]
    },
    {
      "cell_type": "code",
      "execution_count": null,
      "id": "b5d906eb",
      "metadata": {
        "id": "b5d906eb",
        "outputId": "f0f628fa-ca4a-4a23-f231-5ba2936377b8"
      },
      "outputs": [
        {
          "name": "stdout",
          "output_type": "stream",
          "text": [
            "year1234\n",
            "it is a normal year\n"
          ]
        }
      ],
      "source": [
        "n = int(input(\"year\"))\n",
        "if n%100==0:\n",
        "    if n%400==0:\n",
        "        print(f\"{n} is a century year.\")\n",
        "    else:\n",
        "        print(f\"{n} is a leap year\")\n",
        "else:\n",
        "    print(\"it is a normal year\")"
      ]
    },
    {
      "cell_type": "markdown",
      "id": "de2833d4",
      "metadata": {
        "id": "de2833d4"
      },
      "source": [
        "20. Write a Python program to determine if a given number is a perfect square using if-else.\n"
      ]
    },
    {
      "cell_type": "code",
      "execution_count": null,
      "id": "d37952ff",
      "metadata": {
        "id": "d37952ff",
        "outputId": "ad2d7a3b-7bc1-479b-82b1-df48a6eb7955"
      },
      "outputs": [
        {
          "name": "stdout",
          "output_type": "stream",
          "text": [
            "input:9\n",
            "it is the perfect\n"
          ]
        }
      ],
      "source": [
        "n = int(input(\"input:\"))\n",
        "if n**0.5==(n/(n**0.5)):\n",
        "    print(\"it is the perfect\")\n",
        "else:\n",
        "    print(\"it is a not a perfect\")"
      ]
    },
    {
      "cell_type": "markdown",
      "id": "14738341",
      "metadata": {
        "id": "14738341"
      },
      "source": [
        "21. Explain the purpose of the \"continue\" and \"break\" statements within if-else loops.\n"
      ]
    },
    {
      "cell_type": "markdown",
      "id": "6b2761ea",
      "metadata": {
        "id": "6b2761ea"
      },
      "source": [
        "the \"continue\" and \"break\" statements are used within loops to control the flow of the program.\n",
        "\n",
        "### continue statement:\n",
        "The \"continue\" statement is used to skip the rest of the code inside a loop for the current iteration and move on to the next iteration.\n",
        "When the \"continue\" statement is encountered, the remaining code within the loop for the current iteration is skipped, and the loop proceeds to the next iteration.\n",
        "It is often used when you want to skip certain iterations based on a condition without terminating the entire loop."
      ]
    },
    {
      "cell_type": "code",
      "execution_count": null,
      "id": "74f39ec5",
      "metadata": {
        "id": "74f39ec5",
        "outputId": "6b97cf41-1758-4347-ed5e-cfed3b559508"
      },
      "outputs": [
        {
          "name": "stdout",
          "output_type": "stream",
          "text": [
            "1\n",
            "2\n",
            "4\n",
            "5\n"
          ]
        }
      ],
      "source": [
        "for i in range(1, 6):\n",
        "    if i == 3:\n",
        "        continue  # Skip the rest of the loop for i = 3\n",
        "    print(i)\n"
      ]
    },
    {
      "cell_type": "markdown",
      "id": "f00ecc20",
      "metadata": {
        "id": "f00ecc20"
      },
      "source": [
        "### break statement:\n",
        "\n",
        "The 'break' statement is used to terminate the loop prematurely, regardless of the loop's condition.\n",
        "When the 'break' statement is encountered, the loop is immediately terminated, and the program continues with the code following the loop.\n",
        "It is often used when a certain condition is met, and there is no need to 'continue' iterating through the rest of the loop."
      ]
    },
    {
      "cell_type": "code",
      "execution_count": null,
      "id": "f9bc1dbe",
      "metadata": {
        "id": "f9bc1dbe",
        "outputId": "3d27b006-e964-4a7d-f4bb-ad08c28be820"
      },
      "outputs": [
        {
          "name": "stdout",
          "output_type": "stream",
          "text": [
            "1\n",
            "2\n"
          ]
        }
      ],
      "source": [
        "for i in range(1, 6):\n",
        "    if i == 3:\n",
        "        break  # Terminate the loop when i = 3\n",
        "    print(i)\n"
      ]
    },
    {
      "cell_type": "markdown",
      "id": "8704f46a",
      "metadata": {
        "id": "8704f46a"
      },
      "source": [
        "22. Create a Python program that calculates the BMI (Body Mass Index) of a person based on their\n",
        "weight and height using if-else.\n"
      ]
    },
    {
      "cell_type": "code",
      "execution_count": null,
      "id": "7deb7098",
      "metadata": {
        "id": "7deb7098",
        "outputId": "55e34f9f-f2e9-427c-9efd-dd2edddb0944"
      },
      "outputs": [
        {
          "name": "stdout",
          "output_type": "stream",
          "text": [
            "Enter your weight in kilograms: 70\n",
            "Enter your height in meters: 5.9\n",
            "Your BMI is: 2.01\n",
            "You are classified as: Underweight\n"
          ]
        }
      ],
      "source": [
        "def BMI(weight,height):\n",
        "    bmi = weight/(height**2)\n",
        "    return bmi\n",
        "def interpret_bmi(bmi):\n",
        "    if bmi < 18.5:\n",
        "        return \"Underweight\"\n",
        "    elif 18.5 <= bmi < 25:\n",
        "        return \"Normal weight\"\n",
        "    elif 25 <= bmi < 30:\n",
        "        return \"Overweight\"\n",
        "    else:\n",
        "        return \"Obese\"\n",
        "weight = float(input(\"Enter your weight in kilograms: \"))\n",
        "height = float(input(\"Enter your height in meters: \"))\n",
        "\n",
        "bmi_result = BMI(weight, height)\n",
        "bmi_category = interpret_bmi(bmi_result)\n",
        "\n",
        "print(f\"Your BMI is: {bmi_result:.2f}\")\n",
        "print(f\"You are classified as: {bmi_category}\")"
      ]
    },
    {
      "cell_type": "markdown",
      "id": "a4cffec7",
      "metadata": {
        "id": "a4cffec7"
      },
      "source": [
        "23. How can you use the \"filter()\" function with if-else statements to filter elements from a list?\n"
      ]
    },
    {
      "cell_type": "markdown",
      "id": "704bf5bf",
      "metadata": {
        "id": "704bf5bf"
      },
      "source": [
        "The 'filter()' function in Python is used to filter elements from an iterable (like a list) based on a specified function. The 'filter()' function takes a function and an iterable as its arguments. The function is applied to each element of the iterable, and only the elements for which the function returns True are included in the filtered result.\n",
        "\n",
        "If you want to use an 'if-else' statement to determine the filtering condition, you can use a 'lambda' function inside 'filter()''. Here's an example:"
      ]
    },
    {
      "cell_type": "code",
      "execution_count": null,
      "id": "3d4ddb23",
      "metadata": {
        "id": "3d4ddb23",
        "outputId": "6896bf37-b0ae-4891-cfd9-be2e8411fba6"
      },
      "outputs": [
        {
          "name": "stdout",
          "output_type": "stream",
          "text": [
            "[2, 4, 6, 8, 10]\n"
          ]
        }
      ],
      "source": [
        "numbers = [1, 2, 3, 4, 5, 6, 7, 8, 9, 10]\n",
        "\n",
        "filtered_numbers = filter(lambda x: True if x % 2 == 0 else False, numbers)\n",
        "\n",
        "result_list = list(filtered_numbers)\n",
        "\n",
        "print(result_list)"
      ]
    },
    {
      "cell_type": "markdown",
      "id": "4e5c3ef4",
      "metadata": {
        "id": "4e5c3ef4"
      },
      "source": [
        "24. Write a Python program to determine if a given number is prime or not using if-else."
      ]
    },
    {
      "cell_type": "code",
      "execution_count": null,
      "id": "1b6f0b95",
      "metadata": {
        "id": "1b6f0b95",
        "outputId": "866c9bd6-12bc-4487-9232-ece1de4e1c4a"
      },
      "outputs": [
        {
          "name": "stdout",
          "output_type": "stream",
          "text": [
            "it is not a prime\n"
          ]
        }
      ],
      "source": [
        "def prime(num):\n",
        "    if num<=1:\n",
        "        return False\n",
        "    else:\n",
        "        for i in range(2,int(num**0.5)+1):\n",
        "            if num%i==0:\n",
        "                return False\n",
        "        return True\n",
        "if prime(4):\n",
        "    print(\"it is a prime\")\n",
        "else:\n",
        "    print(\"it is not a prime\")"
      ]
    },
    {
      "cell_type": "markdown",
      "id": "5f5c1d7f",
      "metadata": {
        "id": "5f5c1d7f"
      },
      "source": [
        "# Map :-\n"
      ]
    },
    {
      "cell_type": "markdown",
      "id": "6a365cee",
      "metadata": {
        "id": "6a365cee"
      },
      "source": [
        "1. Explain the purpose of the `map()` function in Python and provide an example of how it can be\n",
        "used to apply a function to each element of an iterable.\n"
      ]
    },
    {
      "cell_type": "markdown",
      "id": "3565c4aa",
      "metadata": {
        "id": "3565c4aa"
      },
      "source": [
        "The 'map()' function in Python is used to apply a specified function to each item in an iterable (such as a list) and returns an iterable of the results. It takes two arguments: the function to apply and the iterable to which the function should be applied.\n",
        "\n",
        "The syntax of the 'map()' function is as follows:\n",
        "\n",
        "map(function, iterable, ...)\n",
        "\n",
        "'function' : The function to apply to each item in the iterable.\n",
        "\n",
        "'iterable' : The iterable (e.g., a list, tuple, etc.) whose elements will be processed by the                      function."
      ]
    },
    {
      "cell_type": "code",
      "execution_count": null,
      "id": "0cd085ff",
      "metadata": {
        "id": "0cd085ff",
        "outputId": "11674fba-bf28-4564-e858-bdc2be7077c5"
      },
      "outputs": [
        {
          "name": "stdout",
          "output_type": "stream",
          "text": [
            "[1, 4, 9, 16, 25]\n"
          ]
        }
      ],
      "source": [
        "# Example 1: Squaring each element in a list using map()\n",
        "numbers = [1, 2, 3, 4, 5]\n",
        "\n",
        "# Using map() to square each element\n",
        "squared_numbers = map(lambda x: x**2, numbers)\n",
        "\n",
        "# Converting the result to a list\n",
        "result_list = list(squared_numbers)\n",
        "\n",
        "print(result_list)\n"
      ]
    },
    {
      "cell_type": "markdown",
      "id": "d13b060b",
      "metadata": {
        "id": "d13b060b"
      },
      "source": [
        "2. Write a Python program that uses the `map()` function to square each element of a list of\n",
        "numbers.\n"
      ]
    },
    {
      "cell_type": "code",
      "execution_count": null,
      "id": "a75816b6",
      "metadata": {
        "id": "a75816b6",
        "outputId": "a03578ce-22e6-44f7-a3d4-b9c27df5d819"
      },
      "outputs": [
        {
          "data": {
            "text/plain": [
              "[1, 4, 9, 16, 25]"
            ]
          },
          "execution_count": 23,
          "metadata": {},
          "output_type": "execute_result"
        }
      ],
      "source": [
        "lst = [1,2,3,4,5]\n",
        "list(map(lambda n:n**2 , lst))"
      ]
    },
    {
      "cell_type": "markdown",
      "id": "24f0af10",
      "metadata": {
        "id": "24f0af10"
      },
      "source": [
        "3. How does the `map()` function differ from a list comprehension in Python, and when would you\n",
        "choose one over the other?\n"
      ]
    },
    {
      "cell_type": "markdown",
      "id": "d1e97a2e",
      "metadata": {
        "id": "d1e97a2e"
      },
      "source": [
        "Both 'map()' and list comprehensions in Python serve the purpose of applying a function to each element of an iterable, but they have some differences in terms of syntax and use cases.\n",
        "\n",
        "Syntax:\n",
        "\n",
        "map() uses a function and an iterable as arguments and returns a map object. If necessary, you need to convert the map object to a list or another iterable type.\n",
        "List comprehensions use a more concise and readable syntax, directly expressing the transformation in a single line.\n"
      ]
    },
    {
      "cell_type": "code",
      "execution_count": null,
      "id": "84c6a53c",
      "metadata": {
        "id": "84c6a53c",
        "outputId": "330cffde-b910-4e98-8c08-029ade6d198a"
      },
      "outputs": [
        {
          "data": {
            "text/plain": [
              "[1, 4, 9, 16, 25]"
            ]
          },
          "execution_count": 25,
          "metadata": {},
          "output_type": "execute_result"
        }
      ],
      "source": [
        "#Example using 'map()':\n",
        "\n",
        "numbers = [1, 2, 3, 4, 5]\n",
        "squared_numbers = map(lambda x: x**2, numbers)\n",
        "result_list = list(squared_numbers)\n",
        "result_list"
      ]
    },
    {
      "cell_type": "code",
      "execution_count": null,
      "id": "e6ded380",
      "metadata": {
        "id": "e6ded380",
        "outputId": "0de9e1d3-289d-4831-ea30-8ee14594d374"
      },
      "outputs": [
        {
          "data": {
            "text/plain": [
              "[1, 4, 9, 16, 25]"
            ]
          },
          "execution_count": 26,
          "metadata": {},
          "output_type": "execute_result"
        }
      ],
      "source": [
        "#Example using list comprehension:\n",
        "numbers = [1, 2, 3, 4, 5]\n",
        "result_list = [x**2 for x in numbers]\n",
        "result_list"
      ]
    },
    {
      "cell_type": "markdown",
      "id": "63d00817",
      "metadata": {
        "id": "63d00817"
      },
      "source": [
        "4. Create a Python program that uses the `map()` function to convert a list of names to uppercase.\n"
      ]
    },
    {
      "cell_type": "code",
      "execution_count": null,
      "id": "515b2021",
      "metadata": {
        "id": "515b2021",
        "outputId": "7b427089-7070-47d7-a470-53e38e52af8a"
      },
      "outputs": [
        {
          "data": {
            "text/plain": [
              "['JOGI', 'KING', 'GREEN']"
            ]
          },
          "execution_count": 27,
          "metadata": {},
          "output_type": "execute_result"
        }
      ],
      "source": [
        "lst = ['jogi','king','green']\n",
        "list(map(lambda x: x.upper(),lst))"
      ]
    },
    {
      "cell_type": "markdown",
      "id": "a9bba57d",
      "metadata": {
        "id": "a9bba57d"
      },
      "source": [
        "5. Write a Python program that uses the `map()` function to calculate the length of each word in a\n",
        "list of strings."
      ]
    },
    {
      "cell_type": "code",
      "execution_count": null,
      "id": "72c1c628",
      "metadata": {
        "id": "72c1c628",
        "outputId": "002e2fe5-3996-436e-9213-2227e116b7d0"
      },
      "outputs": [
        {
          "data": {
            "text/plain": [
              "[4, 4, 5]"
            ]
          },
          "execution_count": 28,
          "metadata": {},
          "output_type": "execute_result"
        }
      ],
      "source": [
        "list(map(lambda x:len(x),lst))"
      ]
    },
    {
      "cell_type": "markdown",
      "id": "3004a302",
      "metadata": {
        "id": "3004a302"
      },
      "source": [
        "6. How can you use the `map()` function to apply a custom function to elements of multiple lists\n",
        "simultaneously in Python?\n"
      ]
    },
    {
      "cell_type": "markdown",
      "id": "3fae7375",
      "metadata": {
        "id": "3fae7375"
      },
      "source": [
        "The 'map()' function in Python can be used to apply a custom function to elements of multiple lists simultaneously. To achieve this, the custom function should take as many arguments as there are input lists. The 'map()' function will then pass corresponding elements from each input list to the custom function.\n",
        "\n",
        "Here's an example demonstrating how to use 'map()' with a custom function for element-wise operations on multiple lists:"
      ]
    },
    {
      "cell_type": "code",
      "execution_count": null,
      "id": "210bfaca",
      "metadata": {
        "id": "210bfaca",
        "outputId": "3e99f466-85e4-4541-e327-4450142caf1f"
      },
      "outputs": [
        {
          "name": "stdout",
          "output_type": "stream",
          "text": [
            "[6, 8, 10, 12]\n"
          ]
        }
      ],
      "source": [
        "# Example: Adding corresponding elements of two lists\n",
        "list1 = [1, 2, 3, 4]\n",
        "list2 = [5, 6, 7, 8]\n",
        "\n",
        "# Custom function to add corresponding elements\n",
        "def add_elements(x, y):\n",
        "    return x + y\n",
        "\n",
        "# Using map() to apply the custom function\n",
        "result = list(map(add_elements, list1, list2))\n",
        "\n",
        "print(result)\n"
      ]
    },
    {
      "cell_type": "markdown",
      "id": "50e05371",
      "metadata": {
        "id": "50e05371"
      },
      "source": [
        "7. Create a Python program that uses `map()` to convert a list of temperatures from Celsius to\n",
        "Fahrenheit.\n"
      ]
    },
    {
      "cell_type": "code",
      "execution_count": null,
      "id": "9db17c16",
      "metadata": {
        "id": "9db17c16",
        "outputId": "fae35755-62db-4e6c-9fda-0490ff88c0f7"
      },
      "outputs": [
        {
          "data": {
            "text/plain": [
              "[73.4, 37.4, 35.6, 33.8, 42.8]"
            ]
          },
          "execution_count": 30,
          "metadata": {},
          "output_type": "execute_result"
        }
      ],
      "source": [
        "lst = [23,3,2,1,6]\n",
        "list(map(lambda x : (x * 9/5)+32 , lst))"
      ]
    },
    {
      "cell_type": "markdown",
      "id": "9c91e001",
      "metadata": {
        "id": "9c91e001"
      },
      "source": [
        "8. Write a Python program that uses the `map()` function to round each element of a list of\n",
        "floating-point numbers to the nearest integer.\n"
      ]
    },
    {
      "cell_type": "code",
      "execution_count": null,
      "id": "1c604b50",
      "metadata": {
        "id": "1c604b50",
        "outputId": "64e184b5-8898-4552-cb40-2e893134188e"
      },
      "outputs": [
        {
          "name": "stdout",
          "output_type": "stream",
          "text": [
            "Original numbers: [3.14, 2.718, 1.5, 4.9, 6.75]\n",
            "Rounded numbers: [3, 3, 2, 5, 7]\n"
          ]
        }
      ],
      "source": [
        "float_numbers = [3.14, 2.718, 1.5, 4.9, 6.75]\n",
        "rounded_numbers = list(map(round, float_numbers))\n",
        "print(\"Original numbers:\", float_numbers)\n",
        "print(\"Rounded numbers:\", rounded_numbers)"
      ]
    },
    {
      "cell_type": "markdown",
      "id": "63ded33c",
      "metadata": {
        "id": "63ded33c"
      },
      "source": [
        "# Reduce :-"
      ]
    },
    {
      "cell_type": "markdown",
      "id": "48e690ae",
      "metadata": {
        "id": "48e690ae"
      },
      "source": [
        "1. What is the `reduce()` function in Python, and what module should you import to use it? Provide\n",
        "an example of its basic usage."
      ]
    },
    {
      "cell_type": "markdown",
      "id": "690ccc5b",
      "metadata": {
        "id": "690ccc5b"
      },
      "source": [
        "The \"reduce()\" function in Python is part of the functools module. It is used for reducing a sequence of elements to a single value by successively applying a binary function to the elements. The binary function should take two arguments and return a single result.\n",
        "\n",
        "To use the \"reduce()\" function, you need to import it from the functools module. Here's an example of its basic usage:"
      ]
    },
    {
      "cell_type": "code",
      "execution_count": null,
      "id": "0a6f1814",
      "metadata": {
        "id": "0a6f1814",
        "outputId": "5a12e7ef-28d6-4dc3-f34f-14540fe0cfd5"
      },
      "outputs": [
        {
          "name": "stdout",
          "output_type": "stream",
          "text": [
            "Original list: [1, 2, 3, 4, 5]\n",
            "Product of elements: 120\n"
          ]
        }
      ],
      "source": [
        "from functools import reduce\n",
        "numbers = [1, 2, 3, 4, 5]\n",
        "def multiply(x, y):\n",
        "    return x * y\n",
        "product = reduce(multiply, numbers)\n",
        "print(\"Original list:\", numbers)\n",
        "print(\"Product of elements:\", product)\n"
      ]
    },
    {
      "cell_type": "markdown",
      "id": "a1b95830",
      "metadata": {
        "id": "a1b95830"
      },
      "source": [
        "2. Write a Python program that uses the `reduce()` function to find the product of all elements in a\n",
        "list.\n"
      ]
    },
    {
      "cell_type": "code",
      "execution_count": null,
      "id": "5a12c7a1",
      "metadata": {
        "id": "5a12c7a1",
        "outputId": "6af46a3f-5f0a-4db7-d6c6-6fa12ed1c3e2"
      },
      "outputs": [
        {
          "data": {
            "text/plain": [
              "120"
            ]
          },
          "execution_count": 1,
          "metadata": {},
          "output_type": "execute_result"
        }
      ],
      "source": [
        "from functools import reduce\n",
        "numbers = [1, 2, 3, 4, 5]\n",
        "reduce(lambda x,y:x*y,numbers)"
      ]
    },
    {
      "cell_type": "markdown",
      "id": "293bff7d",
      "metadata": {
        "id": "293bff7d"
      },
      "source": [
        "3. Create a Python program that uses `reduce()` to find the maximum element in a list of numbers.\n"
      ]
    },
    {
      "cell_type": "code",
      "execution_count": null,
      "id": "0f144618",
      "metadata": {
        "id": "0f144618",
        "outputId": "58e71df6-de64-4093-afab-20533929ba03"
      },
      "outputs": [
        {
          "data": {
            "text/plain": [
              "39"
            ]
          },
          "execution_count": 35,
          "metadata": {},
          "output_type": "execute_result"
        }
      ],
      "source": [
        "lst = [10,2,39,33,1]\n",
        "reduce(lambda x,y:x if x>y else y,lst)"
      ]
    },
    {
      "cell_type": "markdown",
      "id": "2b0184b8",
      "metadata": {
        "id": "2b0184b8"
      },
      "source": [
        "4. How can you use the `reduce()` function to concatenate a list of strings into a single string?\n"
      ]
    },
    {
      "cell_type": "code",
      "execution_count": null,
      "id": "7286392a",
      "metadata": {
        "id": "7286392a",
        "outputId": "017e9862-f2d3-4491-94b2-b78eea32bdfa"
      },
      "outputs": [
        {
          "data": {
            "text/plain": [
              "'joginaidupavangreen'"
            ]
          },
          "execution_count": 3,
          "metadata": {},
          "output_type": "execute_result"
        }
      ],
      "source": [
        "lst = ['jogi','naidu','pavan','green']\n",
        "reduce(lambda x,y:x+ y,lst)"
      ]
    },
    {
      "cell_type": "markdown",
      "id": "270c219c",
      "metadata": {
        "id": "270c219c"
      },
      "source": [
        "5. Write a Python program that calculates the factorial of a number using the `reduce()` function.\n"
      ]
    },
    {
      "cell_type": "code",
      "execution_count": null,
      "id": "cc2d7d9e",
      "metadata": {
        "id": "cc2d7d9e",
        "outputId": "0b1a8272-bb9a-4717-df73-52eee2a51c23"
      },
      "outputs": [
        {
          "data": {
            "text/plain": [
              "120"
            ]
          },
          "execution_count": 5,
          "metadata": {},
          "output_type": "execute_result"
        }
      ],
      "source": [
        "n = 5\n",
        "reduce(lambda x,y:x*y,range(1,n+1))"
      ]
    },
    {
      "cell_type": "markdown",
      "id": "5286efeb",
      "metadata": {
        "id": "5286efeb"
      },
      "source": [
        "6. Create a Python program that uses `reduce()` to find the GCD (Greatest Common Divisor) of a list\n",
        "of numbers.\n"
      ]
    },
    {
      "cell_type": "code",
      "execution_count": null,
      "id": "757ddd39",
      "metadata": {
        "id": "757ddd39",
        "outputId": "66dbc103-9bcf-41ed-97d7-bd5151c259c7"
      },
      "outputs": [
        {
          "data": {
            "text/plain": [
              "2"
            ]
          },
          "execution_count": 11,
          "metadata": {},
          "output_type": "execute_result"
        }
      ],
      "source": [
        "from functools import reduce\n",
        "from math import gcd\n",
        "lst=[2,4,6,10]\n",
        "reduce(gcd,lst)\n"
      ]
    },
    {
      "cell_type": "markdown",
      "id": "7412cd7b",
      "metadata": {
        "id": "7412cd7b"
      },
      "source": [
        "7. Write a Python program that uses the `reduce()` function to find the sum of the digits of a given\n",
        "number."
      ]
    },
    {
      "cell_type": "code",
      "execution_count": null,
      "id": "f42003aa",
      "metadata": {
        "id": "f42003aa",
        "outputId": "9b2a149f-ec35-437d-8664-a90560f7e044"
      },
      "outputs": [
        {
          "data": {
            "text/plain": [
              "15"
            ]
          },
          "execution_count": 12,
          "metadata": {},
          "output_type": "execute_result"
        }
      ],
      "source": [
        "lst = [1,2,3,4,5]\n",
        "reduce(lambda x,y:x+y,lst)"
      ]
    },
    {
      "cell_type": "markdown",
      "id": "eee331c8",
      "metadata": {
        "id": "eee331c8"
      },
      "source": [
        "# Filter :-"
      ]
    },
    {
      "cell_type": "markdown",
      "id": "9cb16b87",
      "metadata": {
        "id": "9cb16b87"
      },
      "source": [
        "1. Explain the purpose of the `filter()` function in Python and provide an example of how it can be\n",
        "used to filter elements from an iterable.\n"
      ]
    },
    {
      "cell_type": "markdown",
      "id": "e2d5d583",
      "metadata": {
        "id": "e2d5d583"
      },
      "source": [
        "The 'filter()' function in Python is used to filter elements from an iterable (such as a list) based on a specified function or condition. It creates a new iterator that includes only the elements from the original iterable for which the given function or condition returns True.\n",
        "\n",
        "The basic syntax of 'filter()' is as follows:\n",
        "\n",
        "filter(function, iterable)\n"
      ]
    },
    {
      "cell_type": "markdown",
      "id": "5e5dad5e",
      "metadata": {
        "id": "5e5dad5e"
      },
      "source": [
        "function: A function that tests each element of the iterable. If this function returns True, the element is included in the result; otherwise, it is excluded.\n",
        "\n",
        "iterable: The iterable (e.g., a list, tuple, etc.) whose elements are tested by the function.\n",
        "\n",
        "Here's an example to illustrate how filter() works. Let's say you want to filter out only the even numbers from a list:"
      ]
    },
    {
      "cell_type": "code",
      "execution_count": null,
      "id": "c9e85238",
      "metadata": {
        "id": "c9e85238",
        "outputId": "1b6bff57-ff09-45f6-928c-992acbc524fb"
      },
      "outputs": [
        {
          "data": {
            "text/plain": [
              "[2, 4, 6, 8, 10]"
            ]
          },
          "execution_count": 14,
          "metadata": {},
          "output_type": "execute_result"
        }
      ],
      "source": [
        "lst = [1,2,3,4,5,6,7,8,9,10]\n",
        "list(filter(lambda x: x%2==0,lst))"
      ]
    },
    {
      "cell_type": "markdown",
      "id": "57567b0b",
      "metadata": {
        "id": "57567b0b"
      },
      "source": [
        "2. Write a Python program that uses the `filter()` function to select even numbers from a list of\n",
        "integers.\n"
      ]
    },
    {
      "cell_type": "code",
      "execution_count": null,
      "id": "69af89a8",
      "metadata": {
        "id": "69af89a8",
        "outputId": "8aa9d2a0-195e-4aaa-e8e3-1222efbb3cf2"
      },
      "outputs": [
        {
          "data": {
            "text/plain": [
              "[2, 4, 6, 8, 10]"
            ]
          },
          "execution_count": 15,
          "metadata": {},
          "output_type": "execute_result"
        }
      ],
      "source": [
        "lst = [1,2,3,4,5,6,7,8,9,10]\n",
        "list(filter(lambda x: x%2==0,lst))"
      ]
    },
    {
      "cell_type": "markdown",
      "id": "fc659ca7",
      "metadata": {
        "id": "fc659ca7"
      },
      "source": [
        "3. Create a Python program that uses the `filter()` function to select names that start with a specific\n",
        "letter from a list of strings.\n"
      ]
    },
    {
      "cell_type": "code",
      "execution_count": null,
      "id": "6d4911f0",
      "metadata": {
        "id": "6d4911f0",
        "outputId": "500dbd65-8760-4ff2-cd95-d6e8ce0c4678"
      },
      "outputs": [
        {
          "data": {
            "text/plain": [
              "['shannu', 'shiva']"
            ]
          },
          "execution_count": 25,
          "metadata": {},
          "output_type": "execute_result"
        }
      ],
      "source": [
        "lst = ['jogi','pavan','naidu','shannu','shiva']\n",
        "list(filter(lambda x:x.startswith('s'),lst))"
      ]
    },
    {
      "cell_type": "markdown",
      "id": "1c0fc2c7",
      "metadata": {
        "id": "1c0fc2c7"
      },
      "source": [
        "4. Write a Python program that uses the `filter()` function to select prime numbers from a list of\n",
        "integers.\n"
      ]
    },
    {
      "cell_type": "code",
      "execution_count": null,
      "id": "1e8cf0b5",
      "metadata": {
        "id": "1e8cf0b5",
        "outputId": "f31ef2f7-b3c5-4d2f-ae5c-34af8673022c"
      },
      "outputs": [
        {
          "data": {
            "text/plain": [
              "[2, 3, 5, 7]"
            ]
          },
          "execution_count": 26,
          "metadata": {},
          "output_type": "execute_result"
        }
      ],
      "source": [
        "list(filter(lambda x:all(x%i!=0 for i in range(2,int(x**0.5)+1)) and x>1,range(2,10) ))"
      ]
    },
    {
      "cell_type": "markdown",
      "id": "5e8a1726",
      "metadata": {
        "id": "5e8a1726"
      },
      "source": [
        "5. How can you use the `filter()` function to remove None values from a list in Python?\n"
      ]
    },
    {
      "cell_type": "code",
      "execution_count": null,
      "id": "6cf1e7b1",
      "metadata": {
        "id": "6cf1e7b1",
        "outputId": "0c307bb0-be3e-42c1-fd4a-e209c1d8f937"
      },
      "outputs": [
        {
          "data": {
            "text/plain": [
              "[3, 5, 6, 8, 'prasad']"
            ]
          },
          "execution_count": 27,
          "metadata": {},
          "output_type": "execute_result"
        }
      ],
      "source": [
        "lst = [3, 5, 6, None, 8, None, \"prasad\", None]\n",
        "list(filter(lambda x:x is not None,lst))"
      ]
    },
    {
      "cell_type": "markdown",
      "id": "62a2e0e6",
      "metadata": {
        "id": "62a2e0e6"
      },
      "source": [
        "6. Create a Python program that uses `filter()` to select words longer than a certain length from a\n",
        "list of strings.\n"
      ]
    },
    {
      "cell_type": "code",
      "execution_count": null,
      "id": "a967e68e",
      "metadata": {
        "id": "a967e68e",
        "outputId": "cfe107bd-d080-4203-867e-b878102d3fb5"
      },
      "outputs": [
        {
          "data": {
            "text/plain": [
              "['jogi', 'green', 'sad']"
            ]
          },
          "execution_count": 28,
          "metadata": {},
          "output_type": "execute_result"
        }
      ],
      "source": [
        "lst = ['jogi','is','a','green','sad']\n",
        "list(filter(lambda x:len(x)>2,lst))"
      ]
    },
    {
      "cell_type": "markdown",
      "id": "0e5786bc",
      "metadata": {
        "id": "0e5786bc"
      },
      "source": [
        "7. Write a Python program that uses the `filter()` function to select elements greater than a\n",
        "specified threshold from a list of values.\n"
      ]
    },
    {
      "cell_type": "code",
      "execution_count": null,
      "id": "cc92dc38",
      "metadata": {
        "id": "cc92dc38",
        "outputId": "dce4a86f-1100-44bf-a142-b7b179c170a0"
      },
      "outputs": [
        {
          "data": {
            "text/plain": [
              "[33, 70]"
            ]
          },
          "execution_count": 29,
          "metadata": {},
          "output_type": "execute_result"
        }
      ],
      "source": [
        "lst = [10,2,30,33,4,70]\n",
        "thres=30\n",
        "def func(x,thres):\n",
        "    return x>thres\n",
        "list(filter(lambda x:func(x,thres),lst))"
      ]
    },
    {
      "cell_type": "markdown",
      "id": "6e4ab604",
      "metadata": {
        "id": "6e4ab604"
      },
      "source": [
        "# Recursion:-"
      ]
    },
    {
      "cell_type": "markdown",
      "id": "380cbac1",
      "metadata": {
        "id": "380cbac1"
      },
      "source": [
        "1. Explain the concept of recursion in Python. How does it differ from iteration?\n"
      ]
    },
    {
      "cell_type": "markdown",
      "id": "440c6e9b",
      "metadata": {
        "id": "440c6e9b"
      },
      "source": [
        "The main difference between recursion and iteration is that recursion uses a stack to keep track of the function calls, while iteration uses a single loop to execute the statements. Recursion can be more elegant and concise than iteration, but it can also be more expensive in terms of memory and time. Recursion also requires a base case to stop the function from calling itself infinitely, while iteration requires a terminating condition to exit the loop.\n",
        "\n",
        "Here is an example of a recursive function to find the factorial of a number:\n",
        "\n"
      ]
    },
    {
      "cell_type": "code",
      "execution_count": null,
      "id": "a01f1aed",
      "metadata": {
        "id": "a01f1aed",
        "outputId": "2d447fe5-4b8b-4c33-efe8-885f5e49cdfb"
      },
      "outputs": [
        {
          "data": {
            "text/plain": [
              "120"
            ]
          },
          "execution_count": 2,
          "metadata": {},
          "output_type": "execute_result"
        }
      ],
      "source": [
        "def factorial(n):\n",
        "    # base case\n",
        "    if n == 1:\n",
        "        return 1\n",
        "    # recursive case\n",
        "    else:\n",
        "        return n * factorial(n-1)\n",
        "factorial(5)"
      ]
    },
    {
      "cell_type": "markdown",
      "id": "1be9ebdb",
      "metadata": {
        "id": "1be9ebdb"
      },
      "source": [
        "Here is an example of an iterative function to find the factorial of a number:\n",
        "\n"
      ]
    },
    {
      "cell_type": "code",
      "execution_count": null,
      "id": "a4c495b4",
      "metadata": {
        "id": "a4c495b4",
        "outputId": "2b47795b-c516-4314-9644-8c3540a5ce22"
      },
      "outputs": [
        {
          "data": {
            "text/plain": [
              "120"
            ]
          },
          "execution_count": 4,
          "metadata": {},
          "output_type": "execute_result"
        }
      ],
      "source": [
        "def factorial(n):\n",
        "    # initialize result\n",
        "    result = 1\n",
        "    # loop from 1 to n\n",
        "    for i in range(1, n+1):\n",
        "        # multiply result by i\n",
        "        result = result * i\n",
        "    # return result\n",
        "    return result\n",
        "factorial(5)"
      ]
    },
    {
      "cell_type": "markdown",
      "id": "b5a0cb12",
      "metadata": {
        "id": "b5a0cb12"
      },
      "source": [
        "Both functions will return the same output for the same input, but they use different approaches to achieve the same goal."
      ]
    },
    {
      "cell_type": "markdown",
      "id": "bb9145f3",
      "metadata": {
        "id": "bb9145f3"
      },
      "source": [
        " 2. Write a Python program to calculate the factorial of a number using recursion.\n"
      ]
    },
    {
      "cell_type": "code",
      "execution_count": null,
      "id": "61c9c2e8",
      "metadata": {
        "id": "61c9c2e8",
        "outputId": "66fc6d9c-6527-42eb-8cfe-015f6eb3008a"
      },
      "outputs": [
        {
          "data": {
            "text/plain": [
              "120"
            ]
          },
          "execution_count": 7,
          "metadata": {},
          "output_type": "execute_result"
        }
      ],
      "source": [
        "def factorial(n):\n",
        "    if n==1:\n",
        "        return 1\n",
        "    else:\n",
        "        return n*factorial(n-1)\n",
        "factorial(5)"
      ]
    },
    {
      "cell_type": "markdown",
      "id": "fff25b70",
      "metadata": {
        "id": "fff25b70"
      },
      "source": [
        "3. Create a recursive Python function to find the nth Fibonacci number.\n"
      ]
    },
    {
      "cell_type": "code",
      "execution_count": null,
      "id": "8282f0b6",
      "metadata": {
        "id": "8282f0b6",
        "outputId": "89c3ad65-972c-4e8f-cfa4-f96175a6457c"
      },
      "outputs": [
        {
          "name": "stdout",
          "output_type": "stream",
          "text": [
            "5\n"
          ]
        }
      ],
      "source": [
        "def fibonacci(n):\n",
        "    if n<=1:\n",
        "        return n\n",
        "    else:\n",
        "        return fibonacci(n-1)+fibonacci(n-2)\n",
        "term = 5\n",
        "print(fibonacci(term))"
      ]
    },
    {
      "cell_type": "markdown",
      "id": "3ccb8fe6",
      "metadata": {
        "id": "3ccb8fe6"
      },
      "source": [
        "4. Write a recursive Python function to calculate the sum of all elements in a list.\n"
      ]
    },
    {
      "cell_type": "code",
      "execution_count": null,
      "id": "e6c75762",
      "metadata": {
        "id": "e6c75762",
        "outputId": "f81b4637-c586-4374-d262-0a3b4d506aac"
      },
      "outputs": [
        {
          "name": "stdout",
          "output_type": "stream",
          "text": [
            "13\n"
          ]
        }
      ],
      "source": [
        "def sumation(lst):\n",
        "    if not lst:\n",
        "        return 0\n",
        "    else:\n",
        "        return lst[0]+sumation(lst[1:])\n",
        "lst = [2,1,4,5,1]\n",
        "sum1 = sumation(lst)\n",
        "print(sum1)"
      ]
    },
    {
      "cell_type": "markdown",
      "id": "d52fe166",
      "metadata": {
        "id": "d52fe166"
      },
      "source": [
        "5. How can you prevent a recursive function from running indefinitely, causing a stack overflow\n",
        "error?\n"
      ]
    },
    {
      "cell_type": "code",
      "execution_count": null,
      "id": "21de6d9c",
      "metadata": {
        "id": "21de6d9c",
        "outputId": "d7e9f842-d6bf-46d3-f592-e784827c4b2d"
      },
      "outputs": [
        {
          "name": "stdout",
          "output_type": "stream",
          "text": [
            "5 4 3 2 1 "
          ]
        }
      ],
      "source": [
        "def stop_watch(n):\n",
        "    if n<=0:\n",
        "        pass  # Base case: stop when n is 0 or negative\n",
        "    else:\n",
        "        print(n,end=' ')\n",
        "        stop_watch(n-1)\n",
        "stop_watch(5) # Recursive call with progress towards the base case\n"
      ]
    },
    {
      "cell_type": "markdown",
      "id": "ae446ffc",
      "metadata": {
        "id": "ae446ffc"
      },
      "source": [
        "6. Create a recursive Python function to find the greatest common divisor (GCD) of two numbers\n",
        "using the Euclidean algorithm.\n"
      ]
    },
    {
      "cell_type": "code",
      "execution_count": null,
      "id": "99759499",
      "metadata": {
        "id": "99759499",
        "outputId": "8a28dac0-ecc6-49b6-c488-df58b556aeaf"
      },
      "outputs": [
        {
          "data": {
            "text/plain": [
              "5"
            ]
          },
          "execution_count": 19,
          "metadata": {},
          "output_type": "execute_result"
        }
      ],
      "source": [
        "def GCD(a,b):\n",
        "    if b==0:\n",
        "        return a\n",
        "    else:\n",
        "        return GCD(b,a%b)\n",
        "GCD(15,20)"
      ]
    },
    {
      "cell_type": "markdown",
      "id": "e1526c97",
      "metadata": {
        "id": "e1526c97"
      },
      "source": [
        "7. Write a recursive Python function to reverse a string.\n"
      ]
    },
    {
      "cell_type": "code",
      "execution_count": null,
      "id": "943a08c5",
      "metadata": {
        "id": "943a08c5",
        "outputId": "3580ddf1-7c38-4090-f4b0-d4ef35703734"
      },
      "outputs": [
        {
          "data": {
            "text/plain": [
              "'udianigoj'"
            ]
          },
          "execution_count": 20,
          "metadata": {},
          "output_type": "execute_result"
        }
      ],
      "source": [
        "def reverse(string):\n",
        "    if not string:\n",
        "        return \"\"\n",
        "    else:\n",
        "        return string[-1] + reverse(string[:-1])\n",
        "reverse(\"joginaidu\")"
      ]
    },
    {
      "cell_type": "markdown",
      "id": "238020c7",
      "metadata": {
        "id": "238020c7"
      },
      "source": [
        "8. Create a recursive Python function to calculate the power of a number (x^n).\n"
      ]
    },
    {
      "cell_type": "code",
      "execution_count": null,
      "id": "3883b7e7",
      "metadata": {
        "id": "3883b7e7",
        "outputId": "5fa1f932-c1b0-465d-94d7-feb3ba52288f"
      },
      "outputs": [
        {
          "name": "stdout",
          "output_type": "stream",
          "text": [
            "base:4\n",
            "power:2\n",
            "16\n"
          ]
        }
      ],
      "source": [
        "def power(base,power1):\n",
        "    if power1==0:\n",
        "        return 1\n",
        "    else:\n",
        "        return base*power(base,power1-1)\n",
        "base=int(input(\"base:\"))\n",
        "power1=int(input(\"power:\"))\n",
        "print(power(base,power1))"
      ]
    },
    {
      "cell_type": "markdown",
      "id": "fe3becc9",
      "metadata": {
        "id": "fe3becc9"
      },
      "source": [
        "9. Write a recursive Python function to find all permutations of a given string.\n"
      ]
    },
    {
      "cell_type": "code",
      "execution_count": null,
      "id": "1d432ad8",
      "metadata": {
        "id": "1d432ad8",
        "outputId": "fcb9a9a4-0c3e-49e5-8405-bbf1250dd90a"
      },
      "outputs": [
        {
          "name": "stdout",
          "output_type": "stream",
          "text": [
            "All permutations of 'abc': ['abc', 'acb', 'bac', 'bca', 'cab', 'cba']\n"
          ]
        }
      ],
      "source": [
        "def permutation(string):\n",
        "    if len(string)<=1:\n",
        "        return string\n",
        "    all_per = []\n",
        "    for i in range(len(string)):\n",
        "        intial = string[i]\n",
        "        later = string[:i]+string[i+1:]\n",
        "        remain_permu = permutation(later)\n",
        "        for num in remain_permu:\n",
        "            all_per.append(intial + num)\n",
        "    return all_per\n",
        "input_string = \"abc\"\n",
        "result = permutation(input_string)\n",
        "print(f\"All permutations of '{input_string}': {result}\")"
      ]
    },
    {
      "cell_type": "markdown",
      "id": "d2b38271",
      "metadata": {
        "id": "d2b38271"
      },
      "source": [
        "10. Write a recursive Python function to check if a string is a palindrome.\n"
      ]
    },
    {
      "cell_type": "code",
      "execution_count": null,
      "id": "b9960e87",
      "metadata": {
        "id": "b9960e87",
        "outputId": "d969fa29-2f78-4a13-f129-97809cfc0919"
      },
      "outputs": [
        {
          "name": "stdout",
          "output_type": "stream",
          "text": [
            "Enter the string:radar\n",
            "It is a palindrome.\n"
          ]
        }
      ],
      "source": [
        "def palindrome(string):\n",
        "    if len(string) <= 1:\n",
        "        return True\n",
        "    elif string[0] == string[-1]:\n",
        "        return palindrome(string[1:-1])\n",
        "    else:\n",
        "        return False\n",
        "\n",
        "user_input = input(\"Enter the string:\").lower()\n",
        "if palindrome(user_input):\n",
        "    print(\"It is a palindrome.\")\n",
        "else:\n",
        "    print(\"It is not a palindrome.\")\n"
      ]
    },
    {
      "cell_type": "markdown",
      "id": "a261b435",
      "metadata": {
        "id": "a261b435"
      },
      "source": [
        "11. Create a recursive Python function to generate all possible combinations of a list of elements."
      ]
    },
    {
      "cell_type": "code",
      "execution_count": null,
      "id": "17fc3f33",
      "metadata": {
        "id": "17fc3f33",
        "outputId": "b5756075-1e9a-45bf-9ef1-28b09be8040f"
      },
      "outputs": [
        {
          "name": "stdout",
          "output_type": "stream",
          "text": [
            "[1, 2]\n",
            "[1]\n",
            "[2]\n",
            "[]\n"
          ]
        }
      ],
      "source": [
        "def get_combinations(elements, current_combination=None, start=0):\n",
        "    if current_combination is None:\n",
        "        current_combination = []\n",
        "\n",
        "    # Base case: If no more elements to include, print the current combination\n",
        "    if start == len(elements):\n",
        "        print(current_combination)\n",
        "        return\n",
        "\n",
        "    # Include the current element and make a recursive call for the remaining elements\n",
        "    current_combination.append(elements[start])\n",
        "    get_combinations(elements, current_combination, start + 1)\n",
        "\n",
        "    # Exclude the current element and make a recursive call for the remaining elements\n",
        "    current_combination.pop()\n",
        "    get_combinations(elements, current_combination, start + 1)\n",
        "\n",
        "# Example usage:\n",
        "my_list = [1, 2]\n",
        "get_combinations(my_list)"
      ]
    },
    {
      "cell_type": "markdown",
      "id": "760f9626",
      "metadata": {
        "id": "760f9626"
      },
      "source": [
        "# Basics of Functions:"
      ]
    },
    {
      "cell_type": "markdown",
      "id": "e1edade7",
      "metadata": {
        "id": "e1edade7"
      },
      "source": [
        "1. What is a function in Python, and why is it used?\n"
      ]
    },
    {
      "cell_type": "markdown",
      "id": "348505e3",
      "metadata": {
        "id": "348505e3"
      },
      "source": [
        "In Python, a function is a reusable block of code that performs a specific task or a set of tasks. Functions are defined using the def keyword, followed by the function name, a list of parameters enclosed in parentheses, and a colon. The body of the function is then indented and contains the code to be executed when the function is called.\n",
        "\n",
        "Here's a simple example of a Python function:"
      ]
    },
    {
      "cell_type": "code",
      "execution_count": null,
      "id": "c4d95c54",
      "metadata": {
        "id": "c4d95c54",
        "outputId": "6f3a9a38-8e14-4167-c2a8-bbc21d76eaf3"
      },
      "outputs": [
        {
          "name": "stdout",
          "output_type": "stream",
          "text": [
            "Hello, Alice!\n"
          ]
        }
      ],
      "source": [
        "def greet(name):\n",
        "    print(f\"Hello, {name}!\")\n",
        "\n",
        "# Calling the function\n",
        "greet(\"Alice\")\n"
      ]
    },
    {
      "cell_type": "markdown",
      "id": "e8384de4",
      "metadata": {
        "id": "e8384de4"
      },
      "source": [
        "2. How do you define a function in Python? Provide an example.\n"
      ]
    },
    {
      "cell_type": "markdown",
      "id": "bdd9dc8d",
      "metadata": {
        "id": "bdd9dc8d"
      },
      "source": [
        "A function in Python is a block of code that performs a specific task and can be reused in different parts of a program. To define a function in Python, you need to use the 'def keyword', followed by the name of the function and the parameters '(if any)' in parentheses. Then, you need to indent the body of the function and use the 'return' statement to return a value (if any)."
      ]
    },
    {
      "cell_type": "code",
      "execution_count": null,
      "id": "5a790587",
      "metadata": {
        "id": "5a790587",
        "outputId": "3f5844bc-29e7-4c0d-9d99-800bebf95c20"
      },
      "outputs": [
        {
          "data": {
            "text/plain": [
              "78.5"
            ]
          },
          "execution_count": 3,
          "metadata": {},
          "output_type": "execute_result"
        }
      ],
      "source": [
        "def area_of_circle(radius):\n",
        "    pi = 3.14\n",
        "    area = pi * radius ** 2\n",
        "    return area\n",
        "area_of_circle(5)"
      ]
    },
    {
      "cell_type": "markdown",
      "id": "ddca1fea",
      "metadata": {
        "id": "ddca1fea"
      },
      "source": [
        "3. Explain the difference between a function definition and a function call.\n"
      ]
    },
    {
      "cell_type": "markdown",
      "id": "2e31b264",
      "metadata": {
        "id": "2e31b264"
      },
      "source": [
        "A function definition is the code that creates a function and specifies its name, parameters, and body. A function call is the code that invokes or executes a function with a specific set of arguments. A function definition is written once, but a function can be called multiple times with different arguments."
      ]
    },
    {
      "cell_type": "code",
      "execution_count": null,
      "id": "e614ef3c",
      "metadata": {
        "id": "e614ef3c"
      },
      "outputs": [],
      "source": [
        "def area_of_circle(radius):\n",
        "    pi = 3.14\n",
        "    area = pi * radius ** 2\n",
        "    return area\n",
        "#so this is the function defination"
      ]
    },
    {
      "cell_type": "code",
      "execution_count": null,
      "id": "e0bb07be",
      "metadata": {
        "id": "e0bb07be",
        "outputId": "0791b720-8bf9-4228-9639-4d1aa57597df"
      },
      "outputs": [
        {
          "data": {
            "text/plain": [
              "78.5"
            ]
          },
          "execution_count": 6,
          "metadata": {},
          "output_type": "execute_result"
        }
      ],
      "source": [
        "area_of_circle(5) #this is the function call"
      ]
    },
    {
      "cell_type": "markdown",
      "id": "77a2db27",
      "metadata": {
        "id": "77a2db27"
      },
      "source": [
        "4. Write a Python program that defines a function to calculate the sum of two numbers and then\n",
        "calls the function.\n"
      ]
    },
    {
      "cell_type": "code",
      "execution_count": null,
      "id": "1036967e",
      "metadata": {
        "id": "1036967e",
        "outputId": "57d2f187-ecc9-415e-94dd-e4f90437681c"
      },
      "outputs": [
        {
          "data": {
            "text/plain": [
              "'the sum of two numbers :30'"
            ]
          },
          "execution_count": 8,
          "metadata": {},
          "output_type": "execute_result"
        }
      ],
      "source": [
        "def sum_of_num(a,b):\n",
        "    return f\"the sum of two numbers :{a+b}\"\n",
        "sum_of_num(10,20)"
      ]
    },
    {
      "cell_type": "markdown",
      "id": "347b60bf",
      "metadata": {
        "id": "347b60bf"
      },
      "source": [
        "5. What is a function signature, and what information does it typically include?\n"
      ]
    },
    {
      "cell_type": "markdown",
      "id": "fc779ec7",
      "metadata": {
        "id": "fc779ec7"
      },
      "source": [
        "A function signature is a way of describing the name, parameters, and return type of a function. It helps to define the interface of the function, which specifies how the function can be called and what it can return. A function signature typically includes the following information:\n",
        "\n",
        "1.The name of the function, which is used to identify and invoke the function.\n",
        "\n",
        "2.The parameters of the function, which are the variables that the function can accept as input. The parameters can have names, types, default values, and annotations to provide more details about the expected input.\n",
        "\n",
        "3.The return type of the function, which is the type of the value that the function can return as output. The return type can also have an annotation to indicate the expected output."
      ]
    },
    {
      "cell_type": "code",
      "execution_count": null,
      "id": "f9cf9910",
      "metadata": {
        "id": "f9cf9910"
      },
      "outputs": [],
      "source": [
        "def add(x: int = 0, y: int = 0) -> int:\n",
        "    \"\"\"Returns the sum of x and y.\"\"\"\n",
        "    return x + y\n"
      ]
    },
    {
      "cell_type": "markdown",
      "id": "adf8986f",
      "metadata": {
        "id": "adf8986f"
      },
      "source": [
        "The signature of this function can be written as add(x: int = 0, y: int = 0) -> int. This means that the function is called add, it takes two integers as input, and it returns an integer as output."
      ]
    },
    {
      "cell_type": "markdown",
      "id": "3c53be7c",
      "metadata": {
        "id": "3c53be7c"
      },
      "source": [
        "6. Create a Python function that takes two arguments and returns their product."
      ]
    },
    {
      "cell_type": "code",
      "execution_count": null,
      "id": "e3bd683c",
      "metadata": {
        "id": "e3bd683c",
        "outputId": "2d3d62e7-5c7c-437c-d697-8c5b142584a7"
      },
      "outputs": [
        {
          "data": {
            "text/plain": [
              "200"
            ]
          },
          "execution_count": 9,
          "metadata": {},
          "output_type": "execute_result"
        }
      ],
      "source": [
        "def product(a,b):\n",
        "    return a*b\n",
        "product(10,20)"
      ]
    },
    {
      "cell_type": "markdown",
      "id": "d65b6e5b",
      "metadata": {
        "id": "d65b6e5b"
      },
      "source": [
        "# Function Parameters and Arguments:\n"
      ]
    },
    {
      "cell_type": "markdown",
      "id": "dd235716",
      "metadata": {
        "id": "dd235716"
      },
      "source": [
        "1. Explain the concepts of formal parameters and actual arguments in Python functions.\n"
      ]
    },
    {
      "cell_type": "markdown",
      "id": "6fd976ae",
      "metadata": {
        "id": "6fd976ae"
      },
      "source": [
        "Formal parameters and actual arguments are two terms related to Python functions. Formal parameters are the variables that are defined in the function signature, and they represent the input that the function can accept. Actual arguments are the values that are passed to the function when it is called, and they are assigned to the corresponding formal parameters."
      ]
    },
    {
      "cell_type": "code",
      "execution_count": null,
      "id": "ccc8aa24",
      "metadata": {
        "id": "ccc8aa24",
        "outputId": "5e41b40f-1cf3-4674-c427-f8d167728da0"
      },
      "outputs": [
        {
          "name": "stdout",
          "output_type": "stream",
          "text": [
            "7\n"
          ]
        }
      ],
      "source": [
        "def add(x, y): # x and y are formal parameters\n",
        "    return x + y\n",
        "result = add(3, 4) # 3 and 4 are actual arguments\n",
        "print(result)"
      ]
    },
    {
      "cell_type": "markdown",
      "id": "7335a003",
      "metadata": {
        "id": "7335a003"
      },
      "source": [
        "2. Write a Python program that defines a function with default argument values.\n"
      ]
    },
    {
      "cell_type": "code",
      "execution_count": null,
      "id": "1cfab953",
      "metadata": {
        "id": "1cfab953",
        "outputId": "007e6300-d756-4103-cda8-9306ebe56c15"
      },
      "outputs": [
        {
          "data": {
            "text/plain": [
              "10"
            ]
          },
          "execution_count": 14,
          "metadata": {},
          "output_type": "execute_result"
        }
      ],
      "source": [
        "def add(a=2,b=5): #2 and 5 are the default argument values\n",
        "    return a*b\n",
        "add()"
      ]
    },
    {
      "cell_type": "markdown",
      "id": "dff23689",
      "metadata": {
        "id": "dff23689"
      },
      "source": [
        "3. How do you use keyword arguments in Python function calls? Provide an example.\n"
      ]
    },
    {
      "cell_type": "markdown",
      "id": "22ae685c",
      "metadata": {
        "id": "22ae685c"
      },
      "source": [
        "Keyword arguments are arguments that are passed to a function by specifying the name of the parameter and the value to assign to it. Keyword arguments can be used to provide clarity, flexibility, and readability to function calls."
      ]
    },
    {
      "cell_type": "code",
      "execution_count": null,
      "id": "31e08ad5",
      "metadata": {
        "id": "31e08ad5"
      },
      "outputs": [],
      "source": [
        "def volume(length, width, height):\n",
        "    return length * width * height\n"
      ]
    },
    {
      "cell_type": "code",
      "execution_count": null,
      "id": "c39aae7b",
      "metadata": {
        "id": "c39aae7b",
        "outputId": "e122c74f-805b-4da3-a12d-8c693ef6b81e"
      },
      "outputs": [
        {
          "name": "stdout",
          "output_type": "stream",
          "text": [
            "100\n"
          ]
        }
      ],
      "source": [
        "v = volume(height=2, length=10, width=5) # these are the keyword arguments\n",
        "print(v)"
      ]
    },
    {
      "cell_type": "markdown",
      "id": "a2d77562",
      "metadata": {
        "id": "a2d77562"
      },
      "source": [
        "4. Create a Python function that accepts a variable number of arguments and calculates their sum.\n"
      ]
    },
    {
      "cell_type": "code",
      "execution_count": null,
      "id": "caf8e635",
      "metadata": {
        "id": "caf8e635",
        "outputId": "fc5c51f8-a1b0-4d72-a842-20c9f0bf8b80"
      },
      "outputs": [
        {
          "name": "stdout",
          "output_type": "stream",
          "text": [
            "15\n"
          ]
        }
      ],
      "source": [
        "def sumation(*args):\n",
        "    count = 0\n",
        "    for i in args:\n",
        "        count+=i\n",
        "    print(count)\n",
        "sumation(1,2,5,4,3)"
      ]
    },
    {
      "cell_type": "markdown",
      "id": "1a990112",
      "metadata": {
        "id": "1a990112"
      },
      "source": [
        "5. What is the purpose of the `*args` and `**kwargs` syntax in function parameter lists?"
      ]
    },
    {
      "cell_type": "markdown",
      "id": "46cf6b55",
      "metadata": {
        "id": "46cf6b55"
      },
      "source": [
        "The purpose of the *args and **kwargs syntax in function parameter lists is to allow the function to accept a variable number of arguments, both positional and keyworded. This can make the function more flexible and adaptable to different use cases.\n",
        "\n",
        "The *args syntax enables the function to take any number of non-keyworded arguments and store them in a tuple called args inside the function. The **kwargs syntax enables the function to take any number of keyworded arguments and store them in a dictionary called kwargs inside the function."
      ]
    },
    {
      "cell_type": "markdown",
      "id": "5f805ab3",
      "metadata": {
        "id": "5f805ab3"
      },
      "source": [
        "def print_person(name, age, **kwargs):\n",
        "    print(f\"Name: {name}\")\n",
        "    print(f\"Age: {age}\")\n",
        "    for key, value in kwargs.items():\n",
        "        print(f\"{key}: {value}\")\n",
        "#This function can be called with different arguments"
      ]
    },
    {
      "cell_type": "code",
      "execution_count": null,
      "id": "d10de19a",
      "metadata": {
        "id": "d10de19a",
        "outputId": "3ecf1431-27d0-45ad-a852-9fac6e078ae2"
      },
      "outputs": [
        {
          "name": "stdout",
          "output_type": "stream",
          "text": [
            "Name: Bob\n",
            "Age: 30\n",
            "occupation: Engineer\n",
            "hobby: Chess\n"
          ]
        }
      ],
      "source": [
        "print_person(\"Bob\", 30, occupation=\"Engineer\", hobby=\"Chess\") # name, age, and additional keyworded arguments\n"
      ]
    },
    {
      "cell_type": "markdown",
      "id": "372e71a1",
      "metadata": {
        "id": "372e71a1"
      },
      "source": [
        "# Return Values and Scoping:\n"
      ]
    },
    {
      "cell_type": "markdown",
      "id": "14dc40e6",
      "metadata": {
        "id": "14dc40e6"
      },
      "source": [
        "1. Describe the role of the `return` statement in Python functions and provide examples.\n"
      ]
    },
    {
      "cell_type": "markdown",
      "id": "eb8c7f6c",
      "metadata": {
        "id": "eb8c7f6c"
      },
      "source": [
        "The role of the return statement in Python functions is to end the execution of the function and send back a value to the caller. The return statement can be used to return any type of value, such as numbers, strings, lists, dictionaries, etc. The return statement can also be used to return multiple values by using a tuple or a dictionary. If the function does not have a return statement, or the return statement does not have a value, the function returns None by default."
      ]
    },
    {
      "cell_type": "code",
      "execution_count": null,
      "id": "f2002e2e",
      "metadata": {
        "id": "f2002e2e"
      },
      "outputs": [],
      "source": [
        "# A function that returns the square of a number\n",
        "def square(x):\n",
        "    return x ** 2\n",
        "\n",
        "# A function that returns the sum and the product of two numbers\n",
        "def sum_and_product(x, y):\n",
        "    return x + y, x * y # returns a tuple\n",
        "\n",
        "# A function that returns a dictionary of the name and age of a person\n",
        "def person(name, age):\n",
        "    return {\"name\": name, \"age\": age} # returns a dictionary\n",
        "\n",
        "# A function that does not return anything\n",
        "def hello():\n",
        "    print(\"Hello, world!\")\n",
        "    return # returns None\n"
      ]
    },
    {
      "cell_type": "markdown",
      "id": "ba4f9733",
      "metadata": {
        "id": "ba4f9733"
      },
      "source": [
        "To use these functions, you can assign the return value to a variable, or use it directly in an expression, like this:"
      ]
    },
    {
      "cell_type": "code",
      "execution_count": null,
      "id": "bce8ccdc",
      "metadata": {
        "id": "bce8ccdc",
        "outputId": "d83c78fc-5b34-4d04-d099-13667c6478f7"
      },
      "outputs": [
        {
          "name": "stdout",
          "output_type": "stream",
          "text": [
            "100\n",
            "(11, 30)\n",
            "{'name': 'Bob', 'age': 30}\n",
            "Hello, world!\n",
            "Hello, world!\n",
            "None\n"
          ]
        }
      ],
      "source": [
        "s = square(5) # s is 25\n",
        "print(square(10)) # prints 100\n",
        "\n",
        "a, b = sum_and_product(3, 4) # a is 7, b is 12\n",
        "print(sum_and_product(5, 6)) # prints (11, 30)\n",
        "\n",
        "p = person(\"Alice\", 25) # p is {\"name\": \"Alice\", \"age\": 25}\n",
        "print(person(\"Bob\", 30)) # prints {\"name\": \"Bob\", \"age\": 30}\n",
        "\n",
        "hello() # prints Hello, world!\n",
        "print(hello()) # prints Hello, world! and None\n"
      ]
    },
    {
      "cell_type": "markdown",
      "id": "34461e77",
      "metadata": {
        "id": "34461e77"
      },
      "source": [
        "2. Explain the concept of variable scope in Python, including local and global variables.\n"
      ]
    },
    {
      "cell_type": "markdown",
      "id": "702b7d16",
      "metadata": {
        "id": "702b7d16"
      },
      "source": [
        "The concept of variable scope in Python refers to the region of the code where a variable can be accessed and modified. There are two types of variable scope in Python: \"local\" and \"global\".\n",
        "\n",
        "A **local** variable is a variable that is defined and used inside a function or a block of code. A local variable can only be accessed and modified within the function or the block where it is defined. A local variable is created when the function or the block is executed, and is deleted when the function or the block ends. For example, in the following code, x and y are local variables:"
      ]
    },
    {
      "cell_type": "code",
      "execution_count": null,
      "id": "547022c2",
      "metadata": {
        "id": "547022c2",
        "outputId": "22333b7d-3cdd-4144-f639-d58257d44096"
      },
      "outputs": [
        {
          "name": "stdout",
          "output_type": "stream",
          "text": [
            "7\n"
          ]
        },
        {
          "ename": "NameError",
          "evalue": "name 'x' is not defined",
          "output_type": "error",
          "traceback": [
            "\u001b[1;31m---------------------------------------------------------------------------\u001b[0m",
            "\u001b[1;31mNameError\u001b[0m                                 Traceback (most recent call last)",
            "Cell \u001b[1;32mIn[8], line 5\u001b[0m\n\u001b[0;32m      2\u001b[0m     \u001b[38;5;28;01mreturn\u001b[39;00m x \u001b[38;5;241m+\u001b[39m y\n\u001b[0;32m      4\u001b[0m \u001b[38;5;28mprint\u001b[39m(add(\u001b[38;5;241m3\u001b[39m, \u001b[38;5;241m4\u001b[39m)) \u001b[38;5;66;03m# prints 7\u001b[39;00m\n\u001b[1;32m----> 5\u001b[0m \u001b[38;5;28mprint\u001b[39m(\u001b[43mx\u001b[49m) \u001b[38;5;66;03m# causes an error, x is not defined outside the function\u001b[39;00m\n",
            "\u001b[1;31mNameError\u001b[0m: name 'x' is not defined"
          ]
        }
      ],
      "source": [
        "def add(x, y): # x and y are local variables\n",
        "    return x + y\n",
        "\n",
        "print(add(3, 4)) # prints 7\n",
        "print(x) # causes an error, x is not defined outside the function\n"
      ]
    },
    {
      "cell_type": "markdown",
      "id": "e0e4192a",
      "metadata": {
        "id": "e0e4192a"
      },
      "source": [
        "A **global** variable is a variable that is defined outside any function or block of code. A global variable can be accessed and modified by any function or block of code in the same module. A global variable is created when the module is imported or executed, and is deleted when the module ends."
      ]
    },
    {
      "cell_type": "code",
      "execution_count": null,
      "id": "2a1deaa3",
      "metadata": {
        "id": "2a1deaa3",
        "outputId": "7080f863-b667-4ae7-eaa0-ab777047ca5f"
      },
      "outputs": [
        {
          "name": "stdout",
          "output_type": "stream",
          "text": [
            "12\n",
            "10\n"
          ]
        }
      ],
      "source": [
        "z = 10 # z is a global variable\n",
        "\n",
        "def multiply(z): # z is a local variable\n",
        "    return z * 2\n",
        "\n",
        "print(multiply(6)) # prints 10, uses the local z\n",
        "print(z) # prints 10, uses the global z\n"
      ]
    },
    {
      "cell_type": "markdown",
      "id": "c130fe2d",
      "metadata": {
        "id": "c130fe2d"
      },
      "source": [
        "3. Write a Python program that demonstrates the use of global variables within functions.\n"
      ]
    },
    {
      "cell_type": "code",
      "execution_count": null,
      "id": "1d491198",
      "metadata": {
        "id": "1d491198",
        "outputId": "d4d29127-b60d-4d5b-f351-dc5ff57b6087"
      },
      "outputs": [
        {
          "name": "stdout",
          "output_type": "stream",
          "text": [
            "15\n",
            "10\n"
          ]
        }
      ],
      "source": [
        "z = 10\n",
        "def add(z):\n",
        "    return z+10\n",
        "print(add(5))\n",
        "print(z)"
      ]
    },
    {
      "cell_type": "markdown",
      "id": "aeafc510",
      "metadata": {
        "id": "aeafc510"
      },
      "source": [
        "4. Create a Python function that calculates the factorial of a number and returns it.\n"
      ]
    },
    {
      "cell_type": "code",
      "execution_count": null,
      "id": "ea916d0e",
      "metadata": {
        "id": "ea916d0e",
        "outputId": "8281f199-1d75-4031-fa46-ed78044a7dbc"
      },
      "outputs": [
        {
          "data": {
            "text/plain": [
              "120"
            ]
          },
          "execution_count": 15,
          "metadata": {},
          "output_type": "execute_result"
        }
      ],
      "source": [
        "def fact(n):\n",
        "    if n<=1:\n",
        "        return 1\n",
        "    else:\n",
        "        return n*fact(n-1)\n",
        "fact(5)"
      ]
    },
    {
      "cell_type": "markdown",
      "id": "d02b3844",
      "metadata": {
        "id": "d02b3844"
      },
      "source": [
        "5. How can you access variables defined outside a function from within the function?\n"
      ]
    },
    {
      "cell_type": "code",
      "execution_count": null,
      "id": "86c348cf",
      "metadata": {
        "id": "86c348cf",
        "outputId": "4b754aea-9f66-481b-a648-37b6cfeecd02"
      },
      "outputs": [
        {
          "name": "stdout",
          "output_type": "stream",
          "text": [
            "10\n",
            "20\n",
            "20\n"
          ]
        }
      ],
      "source": [
        "x = 10\n",
        "def local_x():\n",
        "    return x\n",
        "def change_x():\n",
        "    global x\n",
        "    x=20\n",
        "    return x\n",
        "print(local_x())\n",
        "print(change_x())\n",
        "print(local_x())"
      ]
    },
    {
      "cell_type": "markdown",
      "id": "e6ff0eca",
      "metadata": {
        "id": "e6ff0eca"
      },
      "source": [
        "# Lambda Functions and Higher-Order Functions:"
      ]
    },
    {
      "cell_type": "markdown",
      "id": "c4f10589",
      "metadata": {
        "id": "c4f10589"
      },
      "source": [
        "1. What are lambda functions in Python, and when are they typically used?\n"
      ]
    },
    {
      "cell_type": "markdown",
      "id": "f93fdfa7",
      "metadata": {
        "id": "f93fdfa7"
      },
      "source": [
        "Lambda functions in Python are anonymous functions that can have any number of arguments and one expression. They are typically used when a simple and one-time function is needed, such as in the context of other built-in functions like filter, map, reduce, etc. Lambda functions are defined using the lambda keyword, followed by the arguments and the expression."
      ]
    },
    {
      "cell_type": "code",
      "execution_count": null,
      "id": "4ecf58d0",
      "metadata": {
        "id": "4ecf58d0"
      },
      "outputs": [],
      "source": [
        "# A lambda function that doubles a number\n",
        "double = lambda x: x * 2\n",
        "\n",
        "# A lambda function that checks if a number is even\n",
        "is_even = lambda x: x % 2 == 0\n",
        "\n",
        "# A lambda function that adds two numbers\n",
        "add = lambda x, y: x + y\n"
      ]
    },
    {
      "cell_type": "markdown",
      "id": "76b2148c",
      "metadata": {
        "id": "76b2148c"
      },
      "source": [
        "2. Write a Python program that uses lambda functions to sort a list of tuples based on the second\n",
        "element.\n"
      ]
    },
    {
      "cell_type": "code",
      "execution_count": null,
      "id": "e3260c96",
      "metadata": {
        "id": "e3260c96",
        "outputId": "76da1417-9ee2-45d0-f1d3-bd4e42d670b3"
      },
      "outputs": [
        {
          "name": "stdout",
          "output_type": "stream",
          "text": [
            "[(4, 1), (3, 2), (6, 3), (1, 5), (7, 8)]\n"
          ]
        }
      ],
      "source": [
        "tuples_list = [(1, 5), (3, 2), (7, 8), (4, 1), (6, 3)]\n",
        "sort = sorted(tuples_list,key = lambda x: x[1])\n",
        "print(sort)"
      ]
    },
    {
      "cell_type": "markdown",
      "id": "b8158b12",
      "metadata": {
        "id": "b8158b12"
      },
      "source": [
        "3. Explain the concept of higher-order functions in Python, and provide an example.\n"
      ]
    },
    {
      "cell_type": "markdown",
      "id": "e434c8c2",
      "metadata": {
        "id": "e434c8c2"
      },
      "source": [
        "Higher-order functions in Python are functions that either:\n",
        "\n",
        "Take one or more functions as arguments\n",
        "Return a function as a result\n",
        "Higher-order functions are useful for creating abstractions and reusing code. They allow us to modify or enhance the behavior of other functions without changing them.\n",
        "\n",
        "For example, the map function is a higher-order function that takes a function and an iterable as arguments, and returns a new iterable where the function is applied to each element. The map function can be used to transform a list of numbers into a list of their squares, like this:"
      ]
    },
    {
      "cell_type": "code",
      "execution_count": null,
      "id": "25c37aff",
      "metadata": {
        "id": "25c37aff",
        "outputId": "822b7aff-db53-474c-d080-fb1bb5d6407e"
      },
      "outputs": [
        {
          "name": "stdout",
          "output_type": "stream",
          "text": [
            "[1, 4, 9, 16, 25, 36]\n"
          ]
        }
      ],
      "source": [
        "def squares(x):\n",
        "    return x**2\n",
        "lst = [1,2,3,4,5,6]\n",
        "ans = list(map(squares,lst))\n",
        "print(ans)"
      ]
    },
    {
      "cell_type": "markdown",
      "id": "ed8fc139",
      "metadata": {
        "id": "ed8fc139"
      },
      "source": [
        "4. Create a Python function that takes a list of numbers and a function as arguments, applying the\n",
        "function to each element in the list.\n"
      ]
    },
    {
      "cell_type": "code",
      "execution_count": null,
      "id": "ad3ccc50",
      "metadata": {
        "id": "ad3ccc50",
        "outputId": "76dd6ea5-e8a3-44d8-cfcb-98dc7a194bf4"
      },
      "outputs": [
        {
          "name": "stdout",
          "output_type": "stream",
          "text": [
            "[3, 4, 5, 6, 7]\n"
          ]
        }
      ],
      "source": [
        "def function(lst , func):\n",
        "    return [func(i) for i in lst]\n",
        "lst1 = [1,2,3,4,5]\n",
        "cond = lambda x : x+2\n",
        "result = function(lst1,cond)\n",
        "print(result)"
      ]
    },
    {
      "cell_type": "markdown",
      "id": "309af2a5",
      "metadata": {
        "id": "309af2a5"
      },
      "source": [
        "# Built-in Functions:"
      ]
    },
    {
      "cell_type": "markdown",
      "id": "a697f8bf",
      "metadata": {
        "id": "a697f8bf"
      },
      "source": [
        "1. Describe the role of built-in functions like `len()`, `max()`, and `min()` in Python.\n"
      ]
    },
    {
      "cell_type": "markdown",
      "id": "97e05ed4",
      "metadata": {
        "id": "97e05ed4"
      },
      "source": [
        "1.len() : it can helps to find the length of the string ,list and tuple;\n",
        "\n",
        "2.max() : it finds the maximum values from given values of list ,tuple etc\n",
        "\n",
        "3.min() : it finds the minimum values from given values of list ,tuple etc\n"
      ]
    },
    {
      "cell_type": "code",
      "execution_count": null,
      "id": "6434f0c7",
      "metadata": {
        "id": "6434f0c7",
        "outputId": "c3f5df86-2c91-451b-bc4e-7913e318e8cd"
      },
      "outputs": [
        {
          "name": "stdout",
          "output_type": "stream",
          "text": [
            "6\n",
            "8\n",
            "1\n"
          ]
        }
      ],
      "source": [
        "l = [1,3,5,2,4,8]\n",
        "print(len(l))\n",
        "print(max(l))\n",
        "print(min(l))"
      ]
    },
    {
      "cell_type": "markdown",
      "id": "3cf385db",
      "metadata": {
        "id": "3cf385db"
      },
      "source": [
        "2. Write a Python program that uses the `map()` function to apply a function to each element of a\n",
        "list.\n"
      ]
    },
    {
      "cell_type": "code",
      "execution_count": null,
      "id": "0f397519",
      "metadata": {
        "id": "0f397519",
        "outputId": "7848fa9b-a45a-4cc6-c856-7cbb34e14a96"
      },
      "outputs": [
        {
          "name": "stdout",
          "output_type": "stream",
          "text": [
            "[1, 8, 27]\n"
          ]
        }
      ],
      "source": [
        "def add(x):\n",
        "    return x**3\n",
        "lst = [1,2,3]\n",
        "result = list(map(add,lst))\n",
        "print(result)"
      ]
    },
    {
      "cell_type": "markdown",
      "id": "3e24080a",
      "metadata": {
        "id": "3e24080a"
      },
      "source": [
        "3. How does the `filter()` function work in Python, and when would you use it?\n"
      ]
    },
    {
      "cell_type": "code",
      "execution_count": null,
      "id": "48735b5b",
      "metadata": {
        "id": "48735b5b",
        "outputId": "94e31b7b-5b9f-4fea-d45b-5751d76c0bc3"
      },
      "outputs": [
        {
          "name": "stdout",
          "output_type": "stream",
          "text": [
            "[-2, -3, -8, -100]\n"
          ]
        }
      ],
      "source": [
        "lst = [-2,-3,4,6,7,-8,1,2,-100]\n",
        "\n",
        "#here i am filtering elements only positive elements based on a condition\n",
        "result = list(filter(lambda x : x<0,lst))\n",
        "\n",
        "print(result)"
      ]
    },
    {
      "cell_type": "markdown",
      "id": "2e049148",
      "metadata": {
        "id": "2e049148"
      },
      "source": [
        "4. Create a Python program that uses the `reduce()` function to find the product of all elements in\n",
        "a list.\n"
      ]
    },
    {
      "cell_type": "code",
      "execution_count": null,
      "id": "d3b8ad52",
      "metadata": {
        "id": "d3b8ad52",
        "outputId": "6af617a6-7ead-4ac3-fffe-9b9ec02cce77"
      },
      "outputs": [
        {
          "data": {
            "text/plain": [
              "120"
            ]
          },
          "execution_count": 38,
          "metadata": {},
          "output_type": "execute_result"
        }
      ],
      "source": [
        "from functools import reduce\n",
        "def product(x,y):\n",
        "    return x*y\n",
        "lst = [1,2,3,4,5]\n",
        "reduce(product,lst)"
      ]
    },
    {
      "cell_type": "markdown",
      "id": "9da7bac6",
      "metadata": {
        "id": "9da7bac6"
      },
      "source": [
        "# Function Documentation and Best Practices:\n"
      ]
    },
    {
      "cell_type": "markdown",
      "id": "e2913313",
      "metadata": {
        "id": "e2913313"
      },
      "source": [
        "1. Explain the purpose of docstrings in Python functions and how to write them.\n"
      ]
    },
    {
      "cell_type": "markdown",
      "id": "30c459b2",
      "metadata": {
        "id": "30c459b2"
      },
      "source": [
        "Docstrings in Python serve the purpose of providing documentation and information about a function, method, class, or module. They are used to describe the purpose, usage, parameters, and return values of the code, making it easier for developers to understand and use the code effectively. Docstrings are also used by various tools and documentation generators to automatically generate documentation.\n",
        "\n",
        "To write a docstring for a Python function, you place a string literal as the first statement inside the function. This string can span multiple lines and typically follows a specific format called the \"Google-style\" or \"Numpy-style\" docstring conventions."
      ]
    },
    {
      "cell_type": "code",
      "execution_count": null,
      "id": "923b7604",
      "metadata": {
        "id": "923b7604"
      },
      "outputs": [],
      "source": [
        "def add_numbers(a, b):\n",
        "    \"\"\"\n",
        "    Adds two numbers.\n",
        "\n",
        "    Parameters:\n",
        "    - a (int): The first number.\n",
        "    - b (int): The second number.\n",
        "\n",
        "    Returns:\n",
        "    - int: The sum of the two numbers.\n",
        "    \"\"\"\n",
        "    return a + b\n"
      ]
    },
    {
      "cell_type": "markdown",
      "id": "6155ec7d",
      "metadata": {
        "id": "6155ec7d"
      },
      "source": [
        "**2**)Describe some best practices for naming functions and variables in Python, including naming conventions and guidelines."
      ]
    },
    {
      "cell_type": "markdown",
      "id": "6a547624",
      "metadata": {
        "id": "6a547624"
      },
      "source": []
    },
    {
      "cell_type": "code",
      "execution_count": null,
      "id": "649bb251",
      "metadata": {
        "id": "649bb251"
      },
      "outputs": [],
      "source": [
        "### Preceding code:\n",
        "None\n",
        "### Task:\n",
        "Write a Python program that defines a function to calculate the factorial of a number using recursion.\n",
        "### Answer with code:\n"
      ]
    },
    {
      "cell_type": "code",
      "execution_count": null,
      "id": "1233fafb",
      "metadata": {
        "id": "1233fafb"
      },
      "outputs": [],
      "source": []
    },
    {
      "cell_type": "code",
      "execution_count": null,
      "id": "a4eab113",
      "metadata": {
        "id": "a4eab113"
      },
      "outputs": [],
      "source": []
    }
  ],
  "metadata": {
    "kernelspec": {
      "display_name": "Python 3 (ipykernel)",
      "language": "python",
      "name": "python3"
    },
    "language_info": {
      "codemirror_mode": {
        "name": "ipython",
        "version": 3
      },
      "file_extension": ".py",
      "mimetype": "text/x-python",
      "name": "python",
      "nbconvert_exporter": "python",
      "pygments_lexer": "ipython3",
      "version": "3.10.9"
    },
    "colab": {
      "provenance": [],
      "include_colab_link": true
    }
  },
  "nbformat": 4,
  "nbformat_minor": 5
}