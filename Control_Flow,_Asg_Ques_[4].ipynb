{
  "cells": [
    {
      "cell_type": "markdown",
      "metadata": {
        "id": "view-in-github",
        "colab_type": "text"
      },
      "source": [
        "<a href=\"https://colab.research.google.com/github/Jo9gi/PW-SKILLS-ASSIGNMENTS/blob/main/Control_Flow%2C_Asg_Ques_%5B4%5D.ipynb\" target=\"_parent\"><img src=\"https://colab.research.google.com/assets/colab-badge.svg\" alt=\"Open In Colab\"/></a>"
      ]
    },
    {
      "cell_type": "markdown",
      "id": "1fecacca",
      "metadata": {
        "id": "1fecacca"
      },
      "source": [
        "# Control Flow"
      ]
    },
    {
      "cell_type": "markdown",
      "id": "4eb2be00",
      "metadata": {
        "id": "4eb2be00"
      },
      "source": [
        "## Basic If-Else Statements:"
      ]
    },
    {
      "cell_type": "code",
      "execution_count": null,
      "id": "d8dfe64c",
      "metadata": {
        "id": "d8dfe64c",
        "outputId": "cb90cd8a-f224-4ee8-c2c8-485e2137e1dd"
      },
      "outputs": [
        {
          "name": "stdout",
          "output_type": "stream",
          "text": [
            "enter the number:2\n",
            "given number is positive\n"
          ]
        }
      ],
      "source": [
        "#1. Write a Python program to check if a given number is positive or negative.\n",
        "n = int(input(\"enter the number:\"))\n",
        "if n < 0 :\n",
        "    print(\"given number is negative\")\n",
        "else:\n",
        "    print(\"given number is positive\")"
      ]
    },
    {
      "cell_type": "code",
      "execution_count": null,
      "id": "0204128d",
      "metadata": {
        "id": "0204128d",
        "outputId": "fa341907-ac0b-4919-82e3-47e4f026bd3c"
      },
      "outputs": [
        {
          "name": "stdout",
          "output_type": "stream",
          "text": [
            "enter the age4\n",
            "not eligible to vote\n"
          ]
        }
      ],
      "source": [
        "#2. Create a program that determines if a person is eligible to vote based on their age.\n",
        "\n",
        "n = int(input(\"enter the age\"))\n",
        "if n <= 17:\n",
        "    print(\"not eligible to vote\")\n",
        "else:\n",
        "    print(\"eligible to vote\")"
      ]
    },
    {
      "cell_type": "code",
      "execution_count": null,
      "id": "4ec17b0b",
      "metadata": {
        "id": "4ec17b0b",
        "outputId": "a6f16fbe-ff71-4d39-dc48-7dec405d050f"
      },
      "outputs": [
        {
          "name": "stdout",
          "output_type": "stream",
          "text": [
            "enter the a number:2\n",
            "enter the b number:4\n",
            "b is maximum\n"
          ]
        }
      ],
      "source": [
        "#3. Develop a program to find the maximum of two numbers using if-else statements.\n",
        "\n",
        "a = int(input(\"enter the a number:\"))\n",
        "b = int(input(\"enter the b number:\"))\n",
        "if a>b :\n",
        "    print(\"a is maximum\")\n",
        "else:\n",
        "    print(\"b is maximum\")"
      ]
    },
    {
      "cell_type": "code",
      "execution_count": null,
      "id": "4fbe0489",
      "metadata": {
        "id": "4fbe0489",
        "outputId": "725f2b0e-09e3-4123-aac5-96e7698a5b59"
      },
      "outputs": [
        {
          "name": "stdout",
          "output_type": "stream",
          "text": [
            "enter the year:23\n",
            "not a leap year\n"
          ]
        }
      ],
      "source": [
        "#4. Write a Python script to classify a given year as a leap year or not.\n",
        "n = int(input(\"enter the year:\"))\n",
        "if n%4==0 and n%100 != 0:\n",
        "    print(\"leap year\")\n",
        "else:\n",
        "    print(\"not a leap year\")"
      ]
    },
    {
      "cell_type": "code",
      "execution_count": null,
      "id": "12bfac6c",
      "metadata": {
        "id": "12bfac6c",
        "outputId": "4374fd78-d618-4039-a99a-6349ef89f283"
      },
      "outputs": [
        {
          "name": "stdout",
          "output_type": "stream",
          "text": [
            "character is a consonant\n"
          ]
        }
      ],
      "source": [
        "#5. Create a program that checks whether a character is a vowel or a consonant.\n",
        "\n",
        "a = \"aeiouAEIOU\"\n",
        "b = 'j'\n",
        "if b in a:\n",
        "    print(\"character is a vowel\")\n",
        "else:\n",
        "    print(\"character is a consonant\")"
      ]
    },
    {
      "cell_type": "code",
      "execution_count": null,
      "id": "9dfc3089",
      "metadata": {
        "id": "9dfc3089",
        "outputId": "5306cb34-793a-4a95-da46-c274ecd05b3e"
      },
      "outputs": [
        {
          "name": "stdout",
          "output_type": "stream",
          "text": [
            "even\n"
          ]
        }
      ],
      "source": [
        "#6. Implement a program to determine whether a given number is even or odd.\n",
        "n = 10\n",
        "if n%2 == 0:\n",
        "    print(\"even\")\n",
        "else:\n",
        "    print(\"odd\")"
      ]
    },
    {
      "cell_type": "code",
      "execution_count": null,
      "id": "c2262474",
      "metadata": {
        "id": "c2262474",
        "outputId": "ade94137-38a5-428f-fc87-f84cad3e68fc"
      },
      "outputs": [
        {
          "name": "stdout",
          "output_type": "stream",
          "text": [
            "5\n"
          ]
        }
      ],
      "source": [
        "#7. Write a Python function to calculate the absolute value of a number without using the `abs()` function.\n",
        "\n",
        "def absolute(n):\n",
        "    if n<0:\n",
        "        return -n\n",
        "    else:\n",
        "        return n\n",
        "print(absolute(-5))\n",
        ""
      ]
    },
    {
      "cell_type": "code",
      "execution_count": null,
      "id": "c4c7e845",
      "metadata": {
        "id": "c4c7e845",
        "outputId": "470be2d1-7162-4359-8870-64a416dbf7d5"
      },
      "outputs": [
        {
          "name": "stdout",
          "output_type": "stream",
          "text": [
            "the largest is 30\n"
          ]
        }
      ],
      "source": [
        "#8. Develop a program that determines the largest of three given numbers using if-else statements.\n",
        "a,b,c = 10,30,20\n",
        "if a>b and a>c:\n",
        "    print(f\"the largest is {a}\")\n",
        "elif b>a and b>c:\n",
        "    print(f\"the largest is {b}\")\n",
        "else:\n",
        "    print(f\"the largest is {c}\")"
      ]
    },
    {
      "cell_type": "code",
      "execution_count": null,
      "id": "c9a8dbc7",
      "metadata": {
        "id": "c9a8dbc7",
        "outputId": "54b49fb8-d62a-40d3-bbff-695dded111b7"
      },
      "outputs": [
        {
          "name": "stdout",
          "output_type": "stream",
          "text": [
            "string is not a palindrome\n"
          ]
        }
      ],
      "source": [
        "#9. Create a program that checks if a given string is a palindrome.\n",
        "\n",
        "n = 'wow1'\n",
        "if n == n[::-1]:\n",
        "    print(\"string is a palidrome\")\n",
        "else:\n",
        "    print(\"string is not a palindrome\")"
      ]
    },
    {
      "cell_type": "code",
      "execution_count": null,
      "id": "77a944ae",
      "metadata": {
        "id": "77a944ae",
        "outputId": "cf19a77c-fcd5-4d73-e956-2db3633b82b4"
      },
      "outputs": [
        {
          "name": "stdout",
          "output_type": "stream",
          "text": [
            "F\n"
          ]
        }
      ],
      "source": [
        "#10. Write a Python program to calculate the grade based on a student's score.\n",
        "\n",
        "def student_grades(score):\n",
        "     if 90 <= score <= 100:\n",
        "        return 'A'\n",
        "     elif 80 <= score < 90:\n",
        "        return 'B'\n",
        "     elif 70 <= score < 80:\n",
        "        return 'C'\n",
        "     elif 60 <= score < 70:\n",
        "        return 'D'\n",
        "     elif 30 <= score < 60:\n",
        "        return 'E'\n",
        "     else:\n",
        "        return 'F'\n",
        "print(student_grades(21))"
      ]
    },
    {
      "cell_type": "markdown",
      "id": "e8dddfb8",
      "metadata": {
        "id": "e8dddfb8"
      },
      "source": [
        "## Nested If-Else Statements:"
      ]
    },
    {
      "cell_type": "code",
      "execution_count": null,
      "id": "d0cd610e",
      "metadata": {
        "id": "d0cd610e",
        "outputId": "090bf9fc-9be9-4ed4-d1e5-f2a7be8db1fb"
      },
      "outputs": [
        {
          "name": "stdout",
          "output_type": "stream",
          "text": [
            "the 20 is greater than 10 and 2\n"
          ]
        }
      ],
      "source": [
        "#11. Write a program to find the largest among three numbers using nested if-else statements.\n",
        "\n",
        "a,b,c = 10,2,20\n",
        "if a > b:\n",
        "    if a > c:\n",
        "        print(f\"the {a} is greater than {b} and {c}\")\n",
        "\n",
        "    else:\n",
        "        print(f\"the {c} is greater than {a} and {b}\")\n",
        "elif b>c:\n",
        "    print(f\"the {b} is greater than {a} and {c}\")\n",
        "else:\n",
        "    print(f\"the {c} is greater than {a} and {c}\")"
      ]
    },
    {
      "cell_type": "code",
      "execution_count": null,
      "id": "1aae6af2",
      "metadata": {
        "id": "1aae6af2",
        "outputId": "cb920b84-1072-4cc3-b819-acb080abdd31"
      },
      "outputs": [
        {
          "name": "stdout",
          "output_type": "stream",
          "text": [
            "enter the lenth of a34\n",
            "enter the lenth of b3\n",
            "enter the lenth of c\n"
          ]
        },
        {
          "ename": "ValueError",
          "evalue": "invalid literal for int() with base 10: ''",
          "output_type": "error",
          "traceback": [
            "\u001b[1;31m---------------------------------------------------------------------------\u001b[0m",
            "\u001b[1;31mValueError\u001b[0m                                Traceback (most recent call last)",
            "Cell \u001b[1;32mIn[12], line 5\u001b[0m\n\u001b[0;32m      3\u001b[0m a\u001b[38;5;241m=\u001b[39m \u001b[38;5;28mint\u001b[39m(\u001b[38;5;28minput\u001b[39m(\u001b[38;5;124m\"\u001b[39m\u001b[38;5;124menter the lenth of a\u001b[39m\u001b[38;5;124m\"\u001b[39m))\n\u001b[0;32m      4\u001b[0m b \u001b[38;5;241m=\u001b[39m\u001b[38;5;28mint\u001b[39m(\u001b[38;5;28minput\u001b[39m(\u001b[38;5;124m\"\u001b[39m\u001b[38;5;124menter the lenth of b\u001b[39m\u001b[38;5;124m\"\u001b[39m))\n\u001b[1;32m----> 5\u001b[0m c \u001b[38;5;241m=\u001b[39m \u001b[38;5;28;43mint\u001b[39;49m\u001b[43m(\u001b[49m\u001b[38;5;28;43minput\u001b[39;49m\u001b[43m(\u001b[49m\u001b[38;5;124;43m\"\u001b[39;49m\u001b[38;5;124;43menter the lenth of c\u001b[39;49m\u001b[38;5;124;43m\"\u001b[39;49m\u001b[43m)\u001b[49m\u001b[43m)\u001b[49m\n\u001b[0;32m      6\u001b[0m \u001b[38;5;28;01mif\u001b[39;00m a \u001b[38;5;241m==\u001b[39m b:\n\u001b[0;32m      7\u001b[0m     \u001b[38;5;28;01mif\u001b[39;00m a \u001b[38;5;241m==\u001b[39m c:\n",
            "\u001b[1;31mValueError\u001b[0m: invalid literal for int() with base 10: ''"
          ]
        }
      ],
      "source": [
        "#2. Implement a program to determine if a triangle is equilateral, isosceles, or scalene.\n",
        "\n",
        "a= int(input(\"enter the lenth of a\"))\n",
        "b =int(input(\"enter the lenth of b\"))\n",
        "c = int(input(\"enter the lenth of c\"))\n",
        "if a == b:\n",
        "    if a == c:\n",
        "        print(\"equilateral triangle \")\n",
        "    else:\n",
        "        print(\" isosceles triangle \")\n",
        "elif a==c or c==b:\n",
        "        print(\"isosceles triange\")\n",
        "else:\n",
        "    print(\"scalene triangle\")"
      ]
    },
    {
      "cell_type": "code",
      "execution_count": null,
      "id": "455a6f0e",
      "metadata": {
        "id": "455a6f0e"
      },
      "outputs": [],
      "source": [
        "#13. Develop a program that checks if a year is a leap year and also if it is a century year.\n",
        "year = int(input(\"enter the year :\"))\n",
        "if year%400==0 and year%100==0:\n",
        "    print(\"year is a leap year and also a century year\")\n",
        "else:\n",
        "    if year%4==0 and year%100!=0:\n",
        "        print(\"it is only leafyear\")\n",
        "    elif year%100==0:\n",
        "        print(\"it is only century year\")\n",
        "    else:\n",
        "        print(\"it is a normal year\")"
      ]
    },
    {
      "cell_type": "code",
      "execution_count": null,
      "id": "d0620c69",
      "metadata": {
        "id": "d0620c69"
      },
      "outputs": [],
      "source": [
        "#14. Write a Python script to determine if a number is positive, negative, or zero.\n",
        "\n",
        "n = int(input(\"enter the number:\"))\n",
        "if n<1:\n",
        "    if n==0:\n",
        "        print(\"it is a zero\")\n",
        "    else:\n",
        "        print(\"it is a negitive\")\n",
        "else:\n",
        "    if n>0:\n",
        "        print(\"it is a positive\")\n",
        "\n"
      ]
    },
    {
      "cell_type": "code",
      "execution_count": null,
      "id": "99a93571",
      "metadata": {
        "id": "99a93571"
      },
      "outputs": [],
      "source": [
        "#5. Create a program to check if a person is a teenager (between 13 and 19 years old).\n",
        "yr = int(input(\"enter the year\"))\n",
        "if yr>=13:\n",
        "    if yr<=19:\n",
        "        print(\"teenager\")\n",
        "    else:\n",
        "        print(\"young\")\n",
        "else:\n",
        "    print(\"child\")"
      ]
    },
    {
      "cell_type": "code",
      "execution_count": null,
      "id": "08dab05e",
      "metadata": {
        "id": "08dab05e"
      },
      "outputs": [],
      "source": [
        "#16. Develop a program that determines the type of angle based on its measure (acute, obtuse, or right).\n",
        "n = int(input(\"enter the angle\"))\n",
        "if n>89:\n",
        "    if n ==90:\n",
        "        print(\"right angle\")\n",
        "    else:\n",
        "        print(\"obtuse angle\")\n",
        "else:\n",
        "    print(\"acute angle\")"
      ]
    },
    {
      "cell_type": "code",
      "execution_count": null,
      "id": "c6d34a87",
      "metadata": {
        "id": "c6d34a87"
      },
      "outputs": [],
      "source": [
        "#17. Write a Python program to calculate the roots of a quadratic equation.\n",
        "import math\n",
        "a = float(input(\"enter coefficient of A :\"))\n",
        "b = float(input(\"enter coefficient of B :\"))\n",
        "c = float(input(\"enter coefficient of C :\"))\n",
        "print(\"enter the equation:\")\n",
        "print(f\"{a} X^2 + {b} X + c = 0\")\n",
        "dis_val = b**2 - 4*a*c\n",
        "sqrt_val = math.sqrt(abs(dis_val))\n",
        "\n",
        "if dis_val > 0:\n",
        "    print(\"real and different roots\\n\")\n",
        "    print((-b+sqrt_val)/(2*a))\n",
        "    print((-b-sqrt_val)/(2*a))\n",
        "elif dis_val == 0:\n",
        "    print(\"real and same roots\\n\")\n",
        "    print(-b/(2*a))\n",
        "else :\n",
        "    print(\"complexed roots\\n\")\n",
        "    print(-b / (2*a) , \"+ i\", sqrt_val)\n",
        "    print(-b / (2*a) , \"- i\" , sqrt_val)"
      ]
    },
    {
      "cell_type": "code",
      "execution_count": null,
      "id": "74582685",
      "metadata": {
        "id": "74582685"
      },
      "outputs": [],
      "source": [
        "#18. Implement a program to determine the day of the week based on a user-provided number (1 for Monday, 2  for Tuesday, etc.).\n",
        "\n",
        "n=int(input(\"enter the day:\"))\n",
        "if n==1:\n",
        "    print(\"monday\")\n",
        "elif n==2:\n",
        "    print(\"tuesday\")\n",
        "elif n==3:\n",
        "    print(\"wednesday\")\n",
        "elif n== 4:\n",
        "    print(\"thrusday\")\n",
        "elif n==5:\n",
        "    print(\"friday\")\n",
        "elif n==6:\n",
        "    print(\"saturday\")\n",
        "elif n==7:\n",
        "    print(\"sunday\")\n",
        "else:\n",
        "    print(\"please enter between 1 to 7\")"
      ]
    },
    {
      "cell_type": "code",
      "execution_count": null,
      "id": "f143053d",
      "metadata": {
        "id": "f143053d"
      },
      "outputs": [],
      "source": [
        "#19. Create a program that determines if a year is a leap year and also if it is evenly divisible by 400.\n",
        "n = int(input(\"enter the year:\"))\n",
        "if n%4==0 and n%100!=0:\n",
        "    print(\"it is leap year and it is not divisible by 400\")\n",
        "elif n%400==0:\n",
        "    print(\"it is a leap year and it also divisible by 400\")\n",
        "else:\n",
        "    print(\"it is not a leap year and not divisible by 400\")"
      ]
    },
    {
      "cell_type": "code",
      "execution_count": null,
      "id": "3fb31c13",
      "metadata": {
        "id": "3fb31c13"
      },
      "outputs": [],
      "source": [
        "#20. Develop a program that checks if a given number is prime or not using nested if-else statements.\n",
        "\n",
        "n = int(input(\"enter the value:\"))\n",
        "if n<=1:\n",
        "    print(\"it is not a prime\")\n",
        "elif n==2:\n",
        "    print(\"it is a prime number\")\n",
        "else:\n",
        "\n",
        "    is_prime = True\n",
        "    for i in range(2,int(n**0.5)+1):\n",
        "        if n%i==0:\n",
        "            is_prime = False\n",
        "            break\n",
        "    if is_prime:\n",
        "        print(\"it is prime number\")\n",
        "    else:\n",
        "        print(\"not a prime\")"
      ]
    },
    {
      "cell_type": "markdown",
      "id": "c07a2644",
      "metadata": {
        "id": "c07a2644"
      },
      "source": [
        "## Elif Statements:"
      ]
    },
    {
      "cell_type": "code",
      "execution_count": null,
      "id": "782062fc",
      "metadata": {
        "id": "782062fc"
      },
      "outputs": [],
      "source": [
        "#21. Write a Python program to assign grades based on different ranges of scores using elif statements.\n",
        "score = int(input(\"enter the score of the student \"))\n",
        "if 90<= score <= 100:\n",
        "    print(\"A grade\")\n",
        "elif 80 <= score < 90:\n",
        "    print(\"B grade\")\n",
        "elif 70 <= score < 80:\n",
        "    print('C grade')\n",
        "elif 60 <= score < 70:\n",
        "    print(\"D grade\")\n",
        "elif 30 <= score < 60:\n",
        "    print(\"E grade\")\n",
        "elif 0<= score <30:\n",
        "    print(\"Fail\")\n",
        "else:\n",
        "    print(\"the score is between 0 t0 100\")"
      ]
    },
    {
      "cell_type": "code",
      "execution_count": null,
      "id": "bdfc13b5",
      "metadata": {
        "id": "bdfc13b5"
      },
      "outputs": [],
      "source": [
        "#22. Implement a program to determine the type of a triangle based on its angles.\n",
        "a = int(input(\"enter the angle A:\"))\n",
        "b = int(input(\"enter the angle B:\"))\n",
        "c = int(input(\"enter the angle C:\"))\n",
        "if a+b+c==180:\n",
        "    if a==90 or b==90 or c==90:\n",
        "        print(\"right angled triangle\")\n",
        "    elif a==b==c:\n",
        "        print(\"equiletral triangle\")\n",
        "    elif a>90 or b>90 or c>90:\n",
        "        print(\"obtuse angle\")\n",
        "    else:\n",
        "        print(\"acute angle\")\n",
        "else:\n",
        "    print(\"invalid_triangle, the sum of angles are must me 180 \")"
      ]
    },
    {
      "cell_type": "code",
      "execution_count": null,
      "id": "4e36a3f6",
      "metadata": {
        "id": "4e36a3f6"
      },
      "outputs": [],
      "source": [
        "#23. Develop a program to categorize a given person's BMI into underweight, normal, overweight, or obese using  elif statements.\n",
        "weight = float(input(\"enter the values in kgs:\"))\n",
        "height = float(input(\"enter the height in feets:\"))*0.3048\n",
        "BMI =  weight/(height**2)\n",
        "if BMI < 18.5:\n",
        "    print(\"under weight\")\n",
        "elif 18.5 <= BMI< 24.9:\n",
        "    print(\"healthy weight\")\n",
        "elif 24.9<= BMI <30:\n",
        "    print(\"overweight\")\n",
        "else:\n",
        "    print(\"obesity\")"
      ]
    },
    {
      "cell_type": "code",
      "execution_count": null,
      "id": "7deaa831",
      "metadata": {
        "id": "7deaa831"
      },
      "outputs": [],
      "source": [
        "#24. Create a program that determines whether a given number is positive, negative, or zero using elif  statements.\n",
        "\n",
        "n = int(input(\"enter the number:\"))\n",
        "if n>0:\n",
        "    print(\"positive\")\n",
        "elif n<0:\n",
        "    print(\"negitive\")\n",
        "else:\n",
        "    print(\"zero\")"
      ]
    },
    {
      "cell_type": "code",
      "execution_count": null,
      "id": "7790a954",
      "metadata": {
        "id": "7790a954"
      },
      "outputs": [],
      "source": [
        "#25. Write a Python script to determine the type of a character (uppercase, lowercase, or special) using elif  statements.\n",
        "n = input(\"enter the character:\")\n",
        "if n.isupper():\n",
        "    print(\"upper case\")\n",
        "elif n.islower():\n",
        "    print(\"lower case\")\n",
        "elif n.isdigit():\n",
        "    print(\" it is a digit\")\n",
        "else:\n",
        "    print(\"it is a special character\")"
      ]
    },
    {
      "cell_type": "code",
      "execution_count": null,
      "id": "eec8b8f7",
      "metadata": {
        "id": "eec8b8f7"
      },
      "outputs": [],
      "source": [
        "#26. Implement a program to calculate the discounted price based on different purchase amounts using elif  statements.\n",
        "amount = int(input(\"enter the purchase amount :\"))\n",
        "if amount<100:\n",
        "    print(\"discount 0%\")\n",
        "elif amount<500:\n",
        "    print(\"discount 10%\")\n",
        "elif amount<1000:\n",
        "    print(\"discount 20%\")\n",
        "else :\n",
        "    print(\"increasing the dicount\")"
      ]
    },
    {
      "cell_type": "code",
      "execution_count": null,
      "id": "dd7a7736",
      "metadata": {
        "id": "dd7a7736"
      },
      "outputs": [],
      "source": [
        "#27. Develop a program to calculate the electricity bill based on different consumption slabs using elif  statements.\n",
        "\n",
        "units = int(input(\"enter the consumption slab units:\"))\n",
        "bill = 0.0\n",
        "if units<=100:\n",
        "    bill = units*2.5 # Rs. 2.5 per unit for first 100 units slab\n",
        "elif units<=200:\n",
        "    bill = 100*2*5 +(units-100)*4 # Rs. 4.0 per unit for next 200 units slab\n",
        "elif units<=300:\n",
        "    bill = 100*2.5 + 100*4 + (units-200)*6 # Rs. 6.0 per unit for next 300 units slab\n",
        "else:\n",
        "    bill = 100*2.5 + 100*4 + 100*6 + (units-300)*8 # Rs. 8.0 per unit for above 300 units slab\n",
        "# Add a fixed charge of Rs. 50 to the bill\n",
        "bill += 50\n",
        "print(f\"the electricity bill is rs {bill}\")"
      ]
    },
    {
      "cell_type": "code",
      "execution_count": null,
      "id": "3f1411db",
      "metadata": {
        "id": "3f1411db"
      },
      "outputs": [],
      "source": [
        "#28. Create a program to determine the type of quadrilateral based on its angles and sides using elif  statements.\n",
        "\n",
        "angle1, angle2, angle3, angle4 = map(int, input(\"Enter 4 angles separated by space: \").split())\n",
        "side1, side2, side3,side4 = map(int,input(\"enter the 4 sides separated by space:\").split())\n",
        "if angle1 + angle2 + angle3 + angle4 !=360:\n",
        "    print(\"invalid quadrilateral\")\n",
        "elif angle1 == angle2 == angle3 == angle4  and side1==side2==side3==side4:\n",
        "    print(\"squre\")\n",
        "elif angle1 == angle2 == angle3 == angle4 ==90:\n",
        "    print(\"rectangle\")\n",
        "elif side1==side2==side3==side4:\n",
        "    print(\"rhombus\")\n",
        "elif angle == angle3 and angle2==angle4:\n",
        "    print('parallelogram')\n",
        "else:\n",
        "    print(\"quadrilateral\")"
      ]
    },
    {
      "cell_type": "code",
      "execution_count": null,
      "id": "d02ab847",
      "metadata": {
        "id": "d02ab847"
      },
      "outputs": [],
      "source": [
        "#29. Write a Python script to determine the season based on a user-provided month using elif statements.\n",
        "winter = [\"november\",\"december\",\"january\",\"february\"]\n",
        "summer = [\"march\",\"april\",\"may\",\"june\"]\n",
        "rain = [\"july\",\"august\",\"september\",\"october\"]\n",
        "month = input(\"enter the month:\").lower()\n",
        "if month in winter:\n",
        "    print(f\"{month} is winter season\")\n",
        "elif month in summer:\n",
        "    print(f\"{month} is a summer season\")\n",
        "elif month in rain:\n",
        "    print(f\"{month} is a rainy season\")\n",
        "else:\n",
        "    print(\"please enter the valid month name\")"
      ]
    },
    {
      "cell_type": "code",
      "execution_count": null,
      "id": "b9f29c42",
      "metadata": {
        "id": "b9f29c42"
      },
      "outputs": [],
      "source": [
        "#30. Implement a program to determine the type of a year (leap or common) and month (30 or 31 days) using  elif statements.\n",
        "year = int(input(\"enter the year:\"))\n",
        "month = int(input(\"enter the month 1 t0 12 :\"))\n",
        "if year%4==0 and year%100!=0:\n",
        "    if month in [1,3,5,7,8,10,12]:\n",
        "        print(f\"{year} is a leap year and {month} month as 31 days\")\n",
        "    elif month ==2 :\n",
        "        print(f\"{year} is a leap year and\\n {month}nd month of this year has 29 days\")\n",
        "    else:\n",
        "        print(f\"{year} is a leap year and {month} month as 30 days\")\n",
        "else:\n",
        "    if month in [1,3,5,7,8,10,12]:\n",
        "        print(f\"{year} is a common year and {month} month as 31 days\")\n",
        "    elif month ==2 :\n",
        "        print(f\"{year} is a common year and\\n {month}nd month of this year has 29 days\")\n",
        "    else:\n",
        "        print(f\"{year} is a common year and {month} month as 30 days\")"
      ]
    },
    {
      "cell_type": "markdown",
      "id": "49bd3948",
      "metadata": {
        "id": "49bd3948"
      },
      "source": [
        "## Basic Level:"
      ]
    },
    {
      "cell_type": "code",
      "execution_count": null,
      "id": "f6238e4a",
      "metadata": {
        "id": "f6238e4a"
      },
      "outputs": [],
      "source": [
        "#1. Write a Python program that checks if a given number is positive, negative, or zero.\n",
        "\n",
        "n = int(input(\"enter the value:\"))\n",
        "if n<0:\n",
        "    if n==0:\n",
        "        print(\"zero\")\n",
        "    else:\n",
        "        print(\"negative\")\n",
        "else:\n",
        "    print(\"positive\")"
      ]
    },
    {
      "cell_type": "code",
      "execution_count": null,
      "id": "32e046eb",
      "metadata": {
        "id": "32e046eb"
      },
      "outputs": [],
      "source": [
        "#2. Create a program to determine if a person is eligible to vote based on their age.\n",
        "n = int(input(\"enter the age:\"))\n",
        "if n>=18:\n",
        "    print(\"eligible for vote\")\n",
        "else:\n",
        "    print(\"not eligible for vote\")"
      ]
    },
    {
      "cell_type": "code",
      "execution_count": null,
      "id": "6747e348",
      "metadata": {
        "id": "6747e348"
      },
      "outputs": [],
      "source": [
        "#3. Write a program to find the maximum of two given numbers using conditional statements.\n",
        "a= int(input(\"enter 'a' value:\"))\n",
        "b = int(input(\"enter 'b'value:\"))\n",
        "if a>b:\n",
        "    print(f\"{a} is maximum\")\n",
        "else:\n",
        "    print(f\"{b} is maximum\")"
      ]
    },
    {
      "cell_type": "code",
      "execution_count": null,
      "id": "beb1a6da",
      "metadata": {
        "id": "beb1a6da"
      },
      "outputs": [],
      "source": [
        "#4. Develop a program that calculates the grade of a student based on their exam score.\n",
        "\n",
        "score = int(input(\"enter the score :\"))\n",
        "if 90<= score <= 100:\n",
        "    print(\"A grade\")\n",
        "elif 80 <= score < 90:\n",
        "    print(\"B grade\")\n",
        "elif 70 <= score < 80:\n",
        "    print('C grade')\n",
        "elif 60 <= score < 70:\n",
        "    print(\"D grade\")\n",
        "elif 30 <= score < 60:\n",
        "    print(\"E grade\")\n",
        "elif 0<= score <30:\n",
        "    print(\"Fail\")\n",
        "else:\n",
        "    print(\"the score is between 0 t0 100\")"
      ]
    },
    {
      "cell_type": "code",
      "execution_count": null,
      "id": "160f6801",
      "metadata": {
        "id": "160f6801"
      },
      "outputs": [],
      "source": [
        "#5. Create a program that checks if a year is a leap year or not.\n",
        "year = int(input(\"enter the year:\"))\n",
        "if year%4==0 and year%100!=0:\n",
        "    print(\"leap year\")\n",
        "else:\n",
        "    print(\"normal year\")"
      ]
    },
    {
      "cell_type": "code",
      "execution_count": null,
      "id": "c0ecfd62",
      "metadata": {
        "id": "c0ecfd62"
      },
      "outputs": [],
      "source": [
        "#6. Write a program to classify a triangle based on its sides' lengths.\n",
        "a= int(input(\"enter the lenth of a\"))\n",
        "b =int(input(\"enter the lenth of b\"))\n",
        "c = int(input(\"enter the lenth of c\"))\n",
        "if a == b:\n",
        "    if a == c:\n",
        "        print(\"equilateral triangle \")\n",
        "    else:\n",
        "        print(\" isosceles triangle \")\n",
        "elif a==c or c==b:\n",
        "        print(\"isosceles triange\")\n",
        "else:\n",
        "    print(\"scalene triangle\")"
      ]
    },
    {
      "cell_type": "code",
      "execution_count": null,
      "id": "f658729e",
      "metadata": {
        "id": "f658729e"
      },
      "outputs": [],
      "source": [
        "#7. Build a program that determines the largest of three given numbers.\n",
        "\n",
        "a = int(input(\"enter 'a':\"))\n",
        "b = int(input(\"enter 'b':\"))\n",
        "c = int(input(\"enter 'c':\"))\n",
        "if a>b and a>c:\n",
        "    print(\"'a' is larger\")\n",
        "elif b>c:\n",
        "    print(\"'b' is larger\")\n",
        "else:\n",
        "    print(\"'c' is larger\")"
      ]
    },
    {
      "cell_type": "code",
      "execution_count": null,
      "id": "4f472579",
      "metadata": {
        "id": "4f472579"
      },
      "outputs": [],
      "source": [
        "#8. Develop a program that checks whether a character is a vowel or a consonant.\n",
        "\n",
        "a = 'aeiouAEIOU'\n",
        "n = input(\"enter the character:\")\n",
        "if n in a :\n",
        "    print(\"character is VOWEL\")\n",
        "else:\n",
        "    print(\"charaacter is CONSONENT\")"
      ]
    },
    {
      "cell_type": "code",
      "execution_count": null,
      "id": "0f8a7b49",
      "metadata": {
        "id": "0f8a7b49"
      },
      "outputs": [],
      "source": [
        "#9. Create a program to calculate the total cost of a shopping cart based on discounts.\n",
        "\n",
        "amount = int(input(\"enter the purchase amount :\"))\n",
        "if amount<100:\n",
        "    print(\"discount 0%\")\n",
        "elif amount<500:\n",
        "    print(\"discount 10%\")\n",
        "elif amount<1000:\n",
        "    print(\"discount 20%\")\n",
        "else :\n",
        "    print(\"increasing the dicount\")"
      ]
    },
    {
      "cell_type": "code",
      "execution_count": null,
      "id": "13436419",
      "metadata": {
        "id": "13436419"
      },
      "outputs": [],
      "source": [
        "#10. Write a program that checks if a given number is even or odd.\n",
        "\n",
        "n = int(input(\"enter the value:\"))\n",
        "if n%2==0:\n",
        "    print(\"it is a even\")\n",
        "else:\n",
        "    print(\"it is a odd\")"
      ]
    },
    {
      "cell_type": "markdown",
      "id": "900d1a25",
      "metadata": {
        "id": "900d1a25"
      },
      "source": [
        "## Intermediate Level:"
      ]
    },
    {
      "cell_type": "code",
      "execution_count": null,
      "id": "f5601b2f",
      "metadata": {
        "id": "f5601b2f"
      },
      "outputs": [],
      "source": [
        "#11. Write a program that calculates the roots of a quadratic equation .\n",
        "import math\n",
        "a = float(input(\"enter the cofficent 'a' :\"))\n",
        "b = float(input(\"enter the cofficent 'b' :\"))\n",
        "c = float(input(\"enter the cofficent 'c' :\"))\n",
        "\n",
        "print(f\"enter the equation:\\n{a}X**2 + {b}X + {c} = 0\")\n",
        "dis = math.sqrt(abs(b**2 - 4*a*c))\n",
        "if dis>0:\n",
        "    print(\"real and different roots\\n\")\n",
        "    print((-b+dis)/(2*a))\n",
        "    print((-b-dis)/(2*a))\n",
        "elif dis == 0:\n",
        "    print(\"real and same roots\\n\")\n",
        "    print(-b/(2*a))\n",
        "else:\n",
        "    print(\"complex and imaginary roots\\n\")\n",
        "    print(-b/(2*a),'+i',dis)\n",
        "    print(-b/(2*a),'-i',dis)"
      ]
    },
    {
      "cell_type": "code",
      "execution_count": null,
      "id": "ba5989bb",
      "metadata": {
        "id": "ba5989bb"
      },
      "outputs": [],
      "source": [
        "#12. Create a program that determines the day of the week based on the day number (1-7).\n",
        "\n",
        "n = int(input(\"enter the day [1-7]:\"))\n",
        "if n==1:\n",
        "    print(\"monday\")\n",
        "elif n==2:\n",
        "    print(\"tuesday\")\n",
        "elif n==3:\n",
        "    print(\"wednesday\")\n",
        "elif n==4:\n",
        "    print(\"thrusday\")\n",
        "elif n==5:\n",
        "    print(\"friday\")\n",
        "elif n==6:\n",
        "    print(\"saturday\")\n",
        "elif n==7:\n",
        "    print(\"sunday\")\n",
        "else:\n",
        "    print('enter between 1 - 7')"
      ]
    },
    {
      "cell_type": "code",
      "execution_count": null,
      "id": "66393e72",
      "metadata": {
        "id": "66393e72"
      },
      "outputs": [],
      "source": [
        "#13. Develop a program that calculates the factorial of a given number using recursion.\n",
        "def factorial(n):\n",
        "    if n==0 or n==1:\n",
        "        return 1\n",
        "    else:\n",
        "        return n * factorial(n-1)\n",
        "print(factorial(int(input(\"enter the number:\"))))"
      ]
    },
    {
      "cell_type": "code",
      "execution_count": null,
      "id": "94415c00",
      "metadata": {
        "id": "94415c00"
      },
      "outputs": [],
      "source": [
        "#14. Write a program to find the largest among three numbers without using the `max()` function.\n",
        "\n",
        "a = int(input(\"enter 'a':\"))\n",
        "b = int(input(\"enter 'b':\"))\n",
        "c = int(input(\"enter 'c':\"))\n",
        "if a>b and a>c:\n",
        "    print(\"'a' is larger\")\n",
        "elif b>c:\n",
        "    print(\"'b' is larger\")\n",
        "else:\n",
        "    print(\"'c' is larger\")"
      ]
    },
    {
      "cell_type": "code",
      "execution_count": null,
      "id": "cce97ab8",
      "metadata": {
        "id": "cce97ab8"
      },
      "outputs": [],
      "source": [
        "#15. Create a program that simulates a basic ATM transaction menu.\n",
        "user = {\n",
        "  'pin': 1234,\n",
        "  'balance': 1000\n",
        "}\n",
        "\n",
        "def verify_pin(pin):\n",
        "    if pin == user['pin']:\n",
        "        return True\n",
        "    else:\n",
        "        return False\n",
        "def check_balance():\n",
        "    print(f\"the current balance is ${user['balance']:.2f}\")\n",
        "\n",
        "def withdraw_amount(amount):\n",
        "    if amount<= user['balance']:\n",
        "        user['balance']-=amount\n",
        "        print(f\"the withdraw amount is ${amount:.2f} \\nremaining amount is ${user['balance']}.\")\n",
        "    else:\n",
        "        print(\"You don't have enough balance to withdraw this amount.\")\n",
        "\n",
        "def deposit_money(amount):\n",
        "    user['balance']+=amount\n",
        "    print(f\"You have deposited {amount} rupees. Your new balance is ${user['balance']} .\")\n",
        "def ATM_menu():\n",
        "    print(\"======WELCOME TO ATM======\")\n",
        "    print('==========================')\n",
        "    pin = int(input(\"enter the pin:\\n\"))\n",
        "    if verify_pin(pin):\n",
        "        print(\"pin accepted\")\n",
        "        while True:\n",
        "            print(\"What would you like to do?\")\n",
        "            print(\"1. Check balance\")\n",
        "            print(\"2. Withdraw \")\n",
        "            print(\"3. Deposit\")\n",
        "            print(\"4. Quit\")\n",
        "            choice = int(input(\"choice 1-4 options\\n\"))\n",
        "            if choice ==1:\n",
        "\n",
        "                check_balance()\n",
        "            elif choice==2:\n",
        "                amount = float(input(\"enter the withdrawl amount:\\n\"))\n",
        "                withdraw_amount(amount)\n",
        "            elif choice == 3:\n",
        "                amount = float(input(\"eneter the deposit amount:\\n\"))\n",
        "                deposit_money(amount)\n",
        "            elif choice == 4:\n",
        "                print(\"Thank you for using the ATM. Goodbye!\")\n",
        "                break\n",
        "            else:\n",
        "                print(\"Invalid choice. Please try again.\")\n",
        "    else:\n",
        "        print('enter wrong pin ,please enter the correct pin')\n",
        "ATM_menu()"
      ]
    },
    {
      "cell_type": "code",
      "execution_count": null,
      "id": "c5497975",
      "metadata": {
        "id": "c5497975"
      },
      "outputs": [],
      "source": [
        "#16. Build a program that checks if a given string is a palindrome or not.\n",
        "\n",
        "n = input(\"enter the string word : \")\n",
        "if n == n[::-1]:\n",
        "    print(\"it is a palindrome\")\n",
        "else:\n",
        "    print(\"it is not a palindrome\")"
      ]
    },
    {
      "cell_type": "code",
      "execution_count": null,
      "id": "35b3b2fc",
      "metadata": {
        "id": "35b3b2fc"
      },
      "outputs": [],
      "source": [
        "#17. Write a program that calculates the average of a list of numbers, excluding the smallest and largest values.\n",
        "\n",
        "lst = [1,2,7,3,4,5]\n",
        "if len(lst)==0 or len(lst)==1:\n",
        "    print(\"None\")\n",
        "\n",
        "lst.remove(min(lst))\n",
        "lst.remove(max(lst))\n",
        "average = sum(lst)/len(lst)\n",
        "print(average)\n",
        "\n",
        "\n"
      ]
    },
    {
      "cell_type": "code",
      "execution_count": null,
      "id": "cc501750",
      "metadata": {
        "id": "cc501750"
      },
      "outputs": [],
      "source": [
        "#18. Develop a program that converts a given temperature from Celsius to Fahrenheit.\n",
        "\n",
        "def conversation(celsius):\n",
        "    if isinstance(celsius,(int,float)):\n",
        "        fahrenheit = (celsius * 9/5)+32\n",
        "        return fahrenheit\n",
        "    else :\n",
        "        return \"enter the correct value\"\n",
        "print(conversation(10))"
      ]
    },
    {
      "cell_type": "code",
      "execution_count": null,
      "id": "5d891dba",
      "metadata": {
        "id": "5d891dba"
      },
      "outputs": [],
      "source": [
        "#19. Create a program that simulates a basic calculator for addition, subtraction, multiplication, and division.\n",
        "\n",
        "def addition(a,b):\n",
        "    return a+b\n",
        "def substract(a,b):\n",
        "    return a-b\n",
        "def multiplication(a,b):\n",
        "    return a*b\n",
        "def division(a,b):\n",
        "    if b!=0:\n",
        "        return a/b\n",
        "    else:\n",
        "        (\"invalid or given value doesn't divided by zero\")\n",
        "def basic_calculator():\n",
        "    print(\"====WELCOME T0 BASIC CALCULATOR====\")\n",
        "    print(\"===================================\")\n",
        "    print(\"choose the options\")\n",
        "    print(\"1.addition\")\n",
        "    print(\"2.substraction\")\n",
        "    print(\"3.multiplication\")\n",
        "    print(\"4.division\")\n",
        "    print(\"5.exit\")\n",
        "    print(\"===================================\")\n",
        "    while True:\n",
        "        choice = int(input(\"choose the 1 - 5 options\\n\"))\n",
        "\n",
        "        if choice==1:\n",
        "            a = float(input(\"enter the 'a' value:\"))\n",
        "            b = float(input(\"enter the 'b' value:\"))\n",
        "            print(addition(a,b))\n",
        "        elif choice==2:\n",
        "            a = float(input(\"enter the 'a' value:\"))\n",
        "            b = float(input(\"enter the 'b' value:\"))\n",
        "            print(substract(a,b))\n",
        "        elif choice==3:\n",
        "            a = float(input(\"enter the 'a' value:\"))\n",
        "            b = float(input(\"enter the 'b' value:\"))\n",
        "            print(multliplication(a,b))\n",
        "        elif choice==4:\n",
        "            a = float(input(\"enter the 'a' value:\"))\n",
        "            b = float(input(\"enter the 'b' value:\"))\n",
        "            print(division(a,b))\n",
        "        elif choice == 5:\n",
        "            print(\"Thank you for using basic calculator🤗\")\n",
        "            break\n",
        "        else:\n",
        "            print(\"invalid option\")\n",
        "basic_calculator()"
      ]
    },
    {
      "cell_type": "code",
      "execution_count": null,
      "id": "8727311d",
      "metadata": {
        "id": "8727311d"
      },
      "outputs": [],
      "source": [
        "#20. Write a program that determines the roots of a cubic equation using the Cardano formula.\n",
        "\n",
        ""
      ]
    },
    {
      "cell_type": "code",
      "execution_count": null,
      "id": "a253a7cc",
      "metadata": {
        "id": "a253a7cc"
      },
      "outputs": [],
      "source": [
        "#20. Write a program that determines the roots of a cubic equation using the Cardano formula.\n",
        "\n",
        "import cmath  # Importing complex math module for handling complex roots\n",
        "\n",
        "def cubic_roots(a, b, c, d):\n",
        "    p = c / a - (b ** 2) / (3 * a ** 2)\n",
        "    q = (2 * (b ** 3)) / (27 * a ** 3) - (b * c) / (3 * a ** 2) + d / a\n",
        "    delta = (q ** 2) / 4 + (p ** 3) / 27\n",
        "\n",
        "    # Check the discriminant for different cases\n",
        "    if delta > 0:\n",
        "        # One real root and two complex roots\n",
        "        u = (-q / 2 + cmath.sqrt(delta)) ** (1 / 3)\n",
        "        v = (-q / 2 - cmath.sqrt(delta)) ** (1 / 3)\n",
        "        root1 = u + v - b / (3 * a)\n",
        "        root2 = -(u + v) / 2 - b / (3 * a) + (u - v) * cmath.sqrt(3) / 2j\n",
        "        root3 = -(u + v) / 2 - b / (3 * a) - (u - v) * cmath.sqrt(3) / 2j\n",
        "    elif delta == 0:\n",
        "        # All roots are real and at least two are equal\n",
        "        if q == 0:\n",
        "            root1 = -b / (3 * a)\n",
        "            root2 = root3 = root1\n",
        "        else:\n",
        "            u = (-q / 2) ** (1 / 3)\n",
        "            root1 = 2 * u - b / (3 * a)\n",
        "            root2 = root3 = -u - b / (3 * a)\n",
        "    else:\n",
        "        # All three roots are real\n",
        "        phi = cmath.phase(-q / 2 + cmath.sqrt(delta))\n",
        "        r = cmath.sqrt((-p) ** 3 / 27)\n",
        "        root1 = 2 * cmath.sqrt(-p / 3) * cmath.cos(phi / 3) - b / (3 * a)\n",
        "        root2 = 2 * cmath.sqrt(-p / 3) * cmath.cos((phi + 2 * cmath.pi) / 3) - b / (3 * a)\n",
        "        root3 = 2 * cmath.sqrt(-p / 3) * cmath.cos((phi - 2 * cmath.pi) / 3) - b / (3 * a)\n",
        "\n",
        "    return root1, root2, root3\n",
        "\n",
        "# Example usage\n",
        "a = float(input(\"Enter the coefficient a: \"))\n",
        "b = float(input(\"Enter the coefficient b: \"))\n",
        "c = float(input(\"Enter the coefficient c: \"))\n",
        "d = float(input(\"Enter the coefficient d: \"))\n",
        "\n",
        "roots = cubic_roots(a, b, c, d)\n",
        "print(\"Root 1:\", roots[0])\n",
        "print(\"Root 2:\", roots[1])\n",
        "print(\"Root 3:\", roots[2])"
      ]
    },
    {
      "cell_type": "markdown",
      "id": "649a1bfd",
      "metadata": {
        "id": "649a1bfd"
      },
      "source": [
        "##  Advanced Level:"
      ]
    },
    {
      "cell_type": "code",
      "execution_count": null,
      "id": "430a99bb",
      "metadata": {
        "id": "430a99bb"
      },
      "outputs": [],
      "source": [
        "#21. Create a program that calculates the income tax based on the user's income and tax brackets.\n",
        "\n",
        "def income_tax(income):\n",
        "    if income<=250000:\n",
        "        tax = 0\n",
        "    elif income<=500000:\n",
        "        tax = (income - 250000)*0.05\n",
        "    elif income<=750000:\n",
        "        tax = (income - 500000)*0.1+12500\n",
        "    elif income<=1000000:\n",
        "        tax = (income-750000)*0.15+37500\n",
        "    elif income <= 1000000:\n",
        "        tax = (income - 750000) * 0.15 + 37500\n",
        "    elif income <= 1250000:\n",
        "        tax = (income - 1000000) * 0.2 + 75000\n",
        "    elif income <= 1500000:\n",
        "        tax = (income - 1250000) * 0.25 + 125000\n",
        "    else:\n",
        "        tax = (income - 1500000) * 0.3 + 187500\n",
        "    return tax\n",
        "income = float(input(\"enter your income in rupees:\"))\n",
        "tax = income_tax(income)\n",
        "print(f\"The income tax for {income} is {tax} rupees.\")"
      ]
    },
    {
      "cell_type": "code",
      "execution_count": null,
      "id": "8bf33f07",
      "metadata": {
        "id": "8bf33f07",
        "outputId": "78c4fd29-2437-4d60-abe0-2d54959287ad"
      },
      "outputs": [
        {
          "name": "stdout",
          "output_type": "stream",
          "text": [
            "Choose: 1. Rock, 2. Paper, 3. Scissors\n",
            "Enter your choice (1/2/3): 2\n",
            "Your choice: 2\n",
            "Computer's choice: 1\n",
            "You win!\n",
            "Do you want to play again? (yes/no): no\n",
            "Thanks for playing! Goodbye!\n"
          ]
        }
      ],
      "source": [
        "import random\n",
        "\n",
        "def get_user_choice():\n",
        "    print(\"Choose: 1. Rock, 2. Paper, 3. Scissors\")\n",
        "    choice = input(\"Enter your choice (1/2/3): \")\n",
        "    return choice\n",
        "\n",
        "def get_computer_choice():\n",
        "    return str(random.randint(1, 3))\n",
        "\n",
        "def determine_winner(user_choice, computer_choice):\n",
        "    if user_choice == computer_choice:\n",
        "        return \"It's a tie!\"\n",
        "    elif (user_choice == '1' and computer_choice == '3') or (user_choice == '2' and computer_choice == '1') or (user_choice == '3' and computer_choice == '2'):\n",
        "\n",
        "        return \"You win!\"\n",
        "    else:\n",
        "        return \"Computer wins!\"\n",
        "\n",
        "# Main game loop\n",
        "while True:\n",
        "    user_choice = get_user_choice()\n",
        "\n",
        "    if user_choice not in ['1', '2', '3']:\n",
        "        print(\"Invalid choice. Please choose 1, 2, or 3.\")\n",
        "        continue\n",
        "\n",
        "    computer_choice = get_computer_choice()\n",
        "\n",
        "    print(f\"Your choice: {user_choice}\")\n",
        "    print(f\"Computer's choice: {computer_choice}\")\n",
        "\n",
        "    result = determine_winner(user_choice, computer_choice)\n",
        "    print(result)\n",
        "\n",
        "    play_again = input(\"Do you want to play again? (yes/no): \").lower()\n",
        "    if play_again != 'yes':\n",
        "        print(\"Thanks for playing! Goodbye!\")\n",
        "        break"
      ]
    },
    {
      "cell_type": "code",
      "execution_count": null,
      "id": "0176e237",
      "metadata": {
        "id": "0176e237",
        "outputId": "d0ce7349-e2d3-4d26-8407-cc1a1decfb53"
      },
      "outputs": [
        {
          "name": "stdout",
          "output_type": "stream",
          "text": [
            "Enter the password length: 8\n",
            "Enter the number of uppercase letters: 6\n",
            "Enter the number of lowercase letters: 1\n",
            "Enter the number of digits: 1\n",
            "Enter the number of symbols: 2\n",
            "Invalid input. The password length must be greater than or equal to the sum of the complexity.\n"
          ]
        }
      ],
      "source": [
        "##23. Develop a program that generates a random password based on user preferences (length, complexity).\n",
        "\n",
        "import random\n",
        "\n",
        "# Define the characters to use in the password\n",
        "letters = \"abcdefghijklmnopqrstuvwxyzABCDEFGHIJKLMNOPQRSTUVWXYZ\"\n",
        "digits = \"0123456789\"\n",
        "symbols = \"!@#$%^&*()_+-=[]{};:,./?\"\n",
        "\n",
        "# Ask the user for the password length and complexity\n",
        "length = int(input(\"Enter the password length: \"))\n",
        "num_upper = int(input(\"Enter the number of uppercase letters: \"))\n",
        "num_lower = int(input(\"Enter the number of lowercase letters: \"))\n",
        "num_digits = int(input(\"Enter the number of digits: \"))\n",
        "num_symbols = int(input(\"Enter the number of symbols: \"))\n",
        "\n",
        "# Check if the input is valid\n",
        "if length < num_upper + num_lower + num_digits + num_symbols:\n",
        "    print(\"Invalid input. The password length must be greater than or equal to the sum of the complexity.\")\n",
        "else:\n",
        "    # Create an empty password\n",
        "    password = \"\"\n",
        "\n",
        "    # Add the required number of uppercase letters\n",
        "    for i in range(num_upper):\n",
        "        password += random.choice(letters.upper())\n",
        "\n",
        "    # Add the required number of lowercase letters\n",
        "    for i in range(num_lower):\n",
        "        password += random.choice(letters.lower())\n",
        "\n",
        "    # Add the required number of digits\n",
        "    for i in range(num_digits):\n",
        "        password += random.choice(digits)\n",
        "\n",
        "    # Add the required number of symbols\n",
        "    for i in range(num_symbols):\n",
        "        password += random.choice(symbols)\n",
        "\n",
        "    # Shuffle the password to make it more random\n",
        "    password = \"\".join(random.sample(password, len(password)))\n",
        "\n",
        "    # Print the password\n",
        "    print(\"Your password is:\", password)\n"
      ]
    },
    {
      "cell_type": "code",
      "execution_count": null,
      "id": "78bef539",
      "metadata": {
        "scrolled": true,
        "id": "78bef539",
        "outputId": "33027713-7255-4503-cc57-baf2feb96bb3"
      },
      "outputs": [
        {
          "name": "stdout",
          "output_type": "stream",
          "text": [
            "Welcome to the Text Adventure Game!\n",
            "You find yourself in front of a mysterious cave.\n",
            "Do you want to enter the cave? (yes/no)\n",
            "yes\n",
            "You enter the dark cave and see two tunnels.\n",
            "Do you want to go left or right? (left/right)\n",
            "left\n",
            "You find a treasure chest! You win!\n"
          ]
        }
      ],
      "source": [
        "##24. Create a program that implements a simple text-based adventure game with branching scenarios.\n",
        "\n",
        "import time\n",
        "\n",
        "def delay_print(text, delay=1):\n",
        "    for char in text:\n",
        "        print(char, end='', flush=True)\n",
        "        time.sleep(delay)\n",
        "    print()\n",
        "\n",
        "def adventure_game():\n",
        "    delay_print(\"Welcome to the Text Adventure Game!\")\n",
        "    delay_print(\"You find yourself in front of a mysterious cave.\")\n",
        "    delay_print(\"Do you want to enter the cave? (yes/no)\")\n",
        "\n",
        "    choice1 = input().lower()\n",
        "\n",
        "    if choice1 == 'yes':\n",
        "        delay_print(\"You enter the dark cave and see two tunnels.\")\n",
        "        delay_print(\"Do you want to go left or right? (left/right)\")\n",
        "\n",
        "        choice2 = input().lower()\n",
        "\n",
        "        if choice2 == 'left':\n",
        "            delay_print(\"You find a treasure chest! You win!\")\n",
        "        elif choice2 == 'right':\n",
        "            delay_print(\"You encounter a giant spider. Game over!\")\n",
        "        else:\n",
        "            delay_print(\"Invalid choice. Game over!\")\n",
        "    elif choice1 == 'no':\n",
        "        delay_print(\"You decide not to enter the cave. Game over!\")\n",
        "    else:\n",
        "        delay_print(\"Invalid choice. Game over!\")\n",
        "\n",
        "# Run the adventure game\n",
        "adventure_game()"
      ]
    },
    {
      "cell_type": "code",
      "execution_count": null,
      "id": "08d24342",
      "metadata": {
        "id": "08d24342",
        "outputId": "f6a22768-6e79-4505-a2b9-93360d352bdc"
      },
      "outputs": [
        {
          "name": "stdout",
          "output_type": "stream",
          "text": [
            "Enter the coefficient a: 14\n",
            "Enter the coefficient b: 2\n",
            "The solution is x = -0.14285714285714285\n"
          ]
        }
      ],
      "source": [
        "#25. Build a program that solves a linear equation  for x, considering different cases\n",
        "\n",
        "def solve_linear_equation(a, b):\n",
        "    # Case 1: Equation is not linear (a = 0)\n",
        "    if a == 0:\n",
        "        if b == 0:\n",
        "            return \"Infinite solutions (Identity Equation)\"\n",
        "        else:\n",
        "            return \"No solution (Contradiction)\"\n",
        "\n",
        "    # Case 2: Equation is linear (a is not 0)\n",
        "    x = -b / a\n",
        "    return f\"The solution is x = {x}\"\n",
        "\n",
        "# Get user input for coefficients\n",
        "a = float(input(\"Enter the coefficient a: \"))\n",
        "b = float(input(\"Enter the coefficient b: \"))\n",
        "\n",
        "# Solve and display the result\n",
        "result = solve_linear_equation(a, b)\n",
        "print(result)\n"
      ]
    },
    {
      "cell_type": "code",
      "execution_count": null,
      "id": "f535f3ee",
      "metadata": {
        "id": "f535f3ee",
        "outputId": "3f9493bc-4994-4470-e1ae-532078a448b6"
      },
      "outputs": [
        {
          "name": "stdout",
          "output_type": "stream",
          "text": [
            "What is the capital of France?\n",
            "1) Paris\n",
            "2) Berlin\n",
            "3) Rome\n",
            "4) London\n",
            "Enter your answer: 1\n",
            "Incorrect! The correct answer is Paris\n",
            "\n",
            "What is the largest animal in the world?\n",
            "1) Elephant\n",
            "2) Whale\n",
            "3) Giraffe\n",
            "4) Dinosaur\n",
            "Enter your answer: 2\n",
            "Incorrect! The correct answer is Whale\n",
            "\n",
            "Who wrote the Harry Potter series?\n",
            "1) J.R.R. Tolkien\n",
            "2) George R.R. Martin\n",
            "3) J.K. Rowling\n",
            "4) Stephen King\n",
            "Enter your answer: 4\n",
            "Incorrect! The correct answer is J.K. Rowling\n",
            "\n",
            "You scored 0 out of 3\n",
            "Well done!\n"
          ]
        }
      ],
      "source": [
        "##26. Write a program that simulates a basic quiz game with multiple-choice questions and scoring.\n",
        "\n",
        "questions = [\n",
        "    {\n",
        "        \"text\": \"What is the capital of France?\",\n",
        "        \"choices\": [\"Paris\", \"Berlin\", \"Rome\", \"London\"],\n",
        "        \"answer\": \"Paris\"\n",
        "    },\n",
        "    {\n",
        "        \"text\": \"What is the largest animal in the world?\",\n",
        "        \"choices\": [\"Elephant\", \"Whale\", \"Giraffe\", \"Dinosaur\"],\n",
        "        \"answer\": \"Whale\"\n",
        "    },\n",
        "    {\n",
        "        \"text\": \"Who wrote the Harry Potter series?\",\n",
        "        \"choices\": [\"J.R.R. Tolkien\", \"George R.R. Martin\", \"J.K. Rowling\", \"Stephen King\"],\n",
        "        \"answer\": \"J.K. Rowling\"\n",
        "    }\n",
        "]\n",
        "\n",
        "# The user's score\n",
        "score = 0\n",
        "\n",
        "# Loop through the questions\n",
        "for question in questions:\n",
        "    # Print the question text\n",
        "    print(question[\"text\"])\n",
        "    for i, choice in enumerate(question[\"choices\"], 1):\n",
        "        print(f\"{i}) {choice}\")\n",
        "    # Get the user's answer\n",
        "    answer = input(\"Enter your answer: \")\n",
        "    # Check if the answer is correct\n",
        "    if answer.lower() == question[\"answer\"].lower():\n",
        "        # Increment the score and print positive feedback\n",
        "        score += 1\n",
        "        print(\"Correct!\")\n",
        "    else:\n",
        "        # Print negative feedback and the correct answer\n",
        "        print(f\"Incorrect! The correct answer is {question['answer']}\")\n",
        "    # Print a blank line\n",
        "    print()\n",
        "\n",
        "# Print the final score and a congratulatory message\n",
        "print(f\"You scored {score} out of {len(questions)}\")\n",
        "print(\"Well done!\")\n"
      ]
    },
    {
      "cell_type": "code",
      "execution_count": null,
      "id": "f084d56e",
      "metadata": {
        "id": "f084d56e",
        "outputId": "76c2c9be-6440-4fbf-99fd-9020d58682b3"
      },
      "outputs": [
        {
          "name": "stdout",
          "output_type": "stream",
          "text": [
            "enter the number:2022\n",
            "it is not prime year\n"
          ]
        }
      ],
      "source": [
        "##27. Develop a program that determines whether a given year is a prime number or not.\n",
        "\n",
        "def prime_number(n):\n",
        "    if n<=1:\n",
        "        return False\n",
        "    for i in range(2,int(n**0.5)+1):\n",
        "        if n%i==0:\n",
        "            return False\n",
        "    return False\n",
        "n = int(input(\"enter the number:\"))\n",
        "if prime_number(n):\n",
        "    print(\"it is a prime year\")\n",
        "else:\n",
        "    print(\"it is not prime year\")"
      ]
    },
    {
      "cell_type": "code",
      "execution_count": null,
      "id": "187ee3f5",
      "metadata": {
        "id": "187ee3f5",
        "outputId": "74c1e527-bf99-4446-8c4e-d0bf7237cea5"
      },
      "outputs": [
        {
          "name": "stdout",
          "output_type": "stream",
          "text": [
            "enter the 3 numbers with spaces:29 23 100\n",
            "23 29 100\n"
          ]
        }
      ],
      "source": [
        "#28. Create a program that sorts three numbers in ascending order using conditional statements\n",
        "\n",
        "a,b,c = map(int,input(\"enter the 3 numbers with spaces:\").split())\n",
        "if a<=b<=c:\n",
        "    print(a,b,c)\n",
        "elif a<=c<=b:\n",
        "    print(a,c,b)\n",
        "elif b<=a<=c:\n",
        "    print(b,a,c)\n",
        "elif b<=c<=a:\n",
        "    print(b,c,a)\n",
        "elif c<=a<=b:\n",
        "    print(c,a,b)\n",
        "else:\n",
        "    print(c,b,a)\n"
      ]
    },
    {
      "cell_type": "code",
      "execution_count": null,
      "id": "10216665",
      "metadata": {
        "id": "10216665",
        "outputId": "5ce3491c-1ec7-42bd-fb17-a691b94983a5"
      },
      "outputs": [
        {
          "name": "stdout",
          "output_type": "stream",
          "text": [
            "Enter the coefficient a: 22\n",
            "Enter the coefficient b: 44\n",
            "Enter the coefficient c: 2\n",
            "Enter the coefficient d: 5\n",
            "Enter the constant term e: 1\n",
            "Enter an initial guess for the root: 20\n",
            "A root of the quartic equation is approximately -0.171295\n"
          ]
        }
      ],
      "source": [
        "##29. Build a program that determines the roots of a quartic equation using numerical methods.\n",
        "\n",
        "def quartic_equation(x, coefficients):\n",
        "\n",
        "    a, b, c, d, e = coefficients\n",
        "    return a * x**4 + b * x**3 + c * x**2 + d * x + e\n",
        "\n",
        "def quartic_derivative(x, coefficients):\n",
        "\n",
        "    a, b, c, d, _ = coefficients\n",
        "    return 4 * a * x**3 + 3 * b * x**2 + 2 * c * x + d\n",
        "\n",
        "def newton_raphson_quartic(coefficients, initial_guess, tolerance=1e-6, max_iterations=100):\n",
        "\n",
        "    x = initial_guess\n",
        "\n",
        "    for i in range(max_iterations):\n",
        "        f_x = quartic_equation(x, coefficients)\n",
        "        f_prime_x = quartic_derivative(x, coefficients)\n",
        "\n",
        "        if abs(f_prime_x) < tolerance:\n",
        "            print(\"Derivative close to zero. Newton-Raphson method may not converge.\")\n",
        "            return None\n",
        "\n",
        "        x -= f_x / f_prime_x\n",
        "\n",
        "        if abs(f_x) < tolerance:\n",
        "            return x\n",
        "\n",
        "    print(\"Newton-Raphson method did not converge within the maximum number of iterations.\")\n",
        "    return None\n",
        "\n",
        "# Get user input for quartic equation coefficients\n",
        "a = float(input(\"Enter the coefficient a: \"))\n",
        "b = float(input(\"Enter the coefficient b: \"))\n",
        "c = float(input(\"Enter the coefficient c: \"))\n",
        "d = float(input(\"Enter the coefficient d: \"))\n",
        "e = float(input(\"Enter the constant term e: \"))\n",
        "\n",
        "coefficients = [a, b, c, d, e]\n",
        "\n",
        "# Get user input for initial guess\n",
        "initial_guess = float(input(\"Enter an initial guess for the root: \"))\n",
        "\n",
        "# Find a root using Newton-Raphson method\n",
        "root = newton_raphson_quartic(coefficients, initial_guess)\n",
        "\n",
        "# Display the result\n",
        "if root is not None:\n",
        "    print(f\"A root of the quartic equation is approximately {root:.6f}\")\n"
      ]
    },
    {
      "cell_type": "code",
      "execution_count": null,
      "id": "fd2e5340",
      "metadata": {
        "id": "fd2e5340",
        "outputId": "b496f270-7921-42e1-e38a-11546a1c44e6"
      },
      "outputs": [
        {
          "name": "stdout",
          "output_type": "stream",
          "text": [
            "enter the values in kgs:12\n",
            "enter the height in feets:3\n",
            "your BMI is 14.35\n",
            "under weight\n",
            "Recommendation: Consider gaining some weight for better health.\n"
          ]
        }
      ],
      "source": [
        "#30. Write a program that calculates the BMI (Body Mass Index) and provides health recommendations based  on the user's input.\n",
        "\n",
        "\n",
        "weight = float(input(\"enter the values in kgs:\"))\n",
        "height = float(input(\"enter the height in feets:\"))*0.3048\n",
        "BMI =  weight/(height**2)\n",
        "print(f\"your BMI is {BMI:.2f}\")\n",
        "if BMI < 18.5:\n",
        "    print(\"under weight\\nRecommendation: Consider gaining some weight for better health.\")\n",
        "elif 18.5 <= BMI< 24.9:\n",
        "    print(\"healthy weight \\nRecommendation: Maintain a healthy lifestyle to stay in the normal weight range.\")\n",
        "elif 24.9<= BMI <30:\n",
        "    print(\"overweight \\nRecommendation: Consider adopting a healthier diet and exercise routine.\")\n",
        "else:\n",
        "    print(\"obesity \\n Recommendation: Consult with a healthcare professional for weight management.\")"
      ]
    },
    {
      "cell_type": "markdown",
      "id": "c826ac76",
      "metadata": {
        "id": "c826ac76"
      },
      "source": [
        "## Challenge Level:"
      ]
    },
    {
      "cell_type": "code",
      "execution_count": null,
      "id": "d1c7737e",
      "metadata": {
        "id": "d1c7737e",
        "outputId": "135f51f5-f699-49da-831a-320d65964894"
      },
      "outputs": [
        {
          "name": "stdout",
          "output_type": "stream",
          "text": [
            "enter the password12fdSDFG123\n",
            "password is valid\n"
          ]
        }
      ],
      "source": [
        "#31. Create a program that validates a password based on complexity rules (length, characters, etc.).\n",
        "\n",
        "def password_validation(password):\n",
        "    pass_length=8\n",
        "    uppercase = True\n",
        "    Lowercase = True\n",
        "    Digits = True\n",
        "    if len(password)<pass_length:\n",
        "        return f\"the minimum length of the  password is {pass_length}\"\n",
        "    if uppercase and not any(i.isupper() for i in password):\n",
        "        return \"password must contain atleast one upper case character\"\n",
        "    if Lowercase and not any(i.islower() for i in password):\n",
        "        return \"password must contain atleast one lower case character\"\n",
        "    if Digits and not any(i.isdigit() for i in password):\n",
        "        return \"password must contain atleast one digit \"\n",
        "    return \"password is valid\"\n",
        "password = input(\"enter the password\")\n",
        "print(password_validation(password))"
      ]
    },
    {
      "cell_type": "code",
      "execution_count": null,
      "id": "b6e39d7b",
      "metadata": {
        "id": "b6e39d7b"
      },
      "outputs": [],
      "source": [
        "#32. Develop a program that performs matrix addition and subtraction based on user input\n",
        "\n",
        "def matrix_addition(matrix1, matrix2):\n",
        "    result_matrix = []\n",
        "    for i in range(len(matrix1)):\n",
        "        row = [matrix1[i][j] + matrix2[i][j] for j in range(len(matrix1[i]))]\n",
        "        result_matrix.append(row)\n",
        "    return result_matrix\n",
        "\n",
        "def matrix_subtraction(matrix1, matrix2):\n",
        "    result_matrix = []\n",
        "    for i in range(len(matrix1)):\n",
        "        row = [matrix1[i][j] - matrix2[i][j] for j in range(len(matrix1[i]))]\n",
        "        result_matrix.append(row)\n",
        "    return result_matrix\n",
        "\n",
        "def input_matrix(rows, columns):\n",
        "    matrix = []\n",
        "    for i in range(rows):\n",
        "        row = []\n",
        "        for j in range(columns):\n",
        "            element = float(input(f\"Enter element at position ({i + 1}, {j + 1}): \"))\n",
        "            row.append(element)\n",
        "        matrix.append(row)\n",
        "    return matrix\n",
        "\n",
        "def display_matrix(matrix, label):\n",
        "    print(f\"\\n{label} Matrix:\")\n",
        "    for row in matrix:\n",
        "        print(row)\n",
        "\n",
        "# Get user input for matrix dimensions\n",
        "rows = int(input(\"Enter the number of rows for the matrices: \"))\n",
        "columns = int(input(\"Enter the number of columns for the matrices: \"))\n",
        "\n",
        "# Input matrices from the user\n",
        "matrix1 = input_matrix(rows, columns)\n",
        "matrix2 = input_matrix(rows, columns)\n",
        "\n",
        "# Perform matrix addition and subtraction\n",
        "sum_matrix = matrix_addition(matrix1, matrix2)\n",
        "difference_matrix = matrix_subtraction(matrix1, matrix2)\n",
        "\n",
        "# Display the results\n",
        "display_matrix(matrix1, \"Matrix 1\")\n",
        "display_matrix(matrix2, \"Matrix 2\")\n",
        "display_matrix(sum_matrix, \"Sum\")\n",
        "display_matrix(difference_matrix, \"Difference\")\n",
        ""
      ]
    },
    {
      "cell_type": "code",
      "execution_count": null,
      "id": "ddaca701",
      "metadata": {
        "id": "ddaca701",
        "outputId": "d65bc658-ff8f-4540-d521-4e1d698cd365"
      },
      "outputs": [
        {
          "name": "stdout",
          "output_type": "stream",
          "text": [
            "6\n",
            "1\n"
          ]
        }
      ],
      "source": [
        "#33. Write a program that calculates the greatest common divisor (GCD) of two numbers using the Euclidean algorithm\n",
        "\n",
        "\n",
        "def gcd(a,b):\n",
        "    if b==0:\n",
        "        return a\n",
        "    else:\n",
        "        return gcd(b,a%b)\n",
        "print(gcd(12,18))\n",
        "print(gcd(13,25))\n"
      ]
    },
    {
      "cell_type": "code",
      "execution_count": null,
      "id": "b38e2bdc",
      "metadata": {
        "id": "b38e2bdc",
        "outputId": "a7688ca1-bc03-4af5-bd5f-5c8dbb40edf6"
      },
      "outputs": [
        {
          "name": "stdout",
          "output_type": "stream",
          "text": [
            "Enter the number of rows for Matrix 1: 2\n",
            "Enter the number of columns for Matrix 1: 2\n",
            "Enter the number of rows for Matrix 2: 2\n",
            "Enter the number of columns for Matrix 2: 2\n",
            "Enter element at position (1, 1): 1\n",
            "Enter element at position (1, 2): 2\n",
            "Enter element at position (2, 1): 3\n",
            "Enter element at position (2, 2): 4\n",
            "Enter element at position (1, 1): 5\n",
            "Enter element at position (1, 2): 6\n",
            "Enter element at position (2, 1): 7\n",
            "Enter element at position (2, 2): 8\n",
            "\n",
            "Matrix 1 Matrix:\n",
            "[1.0, 2.0]\n",
            "[3.0, 4.0]\n",
            "\n",
            "Matrix 2 Matrix:\n",
            "[5.0, 6.0]\n",
            "[7.0, 8.0]\n",
            "\n",
            "Result Matrix:\n",
            "[19.0, 22.0]\n",
            "[43.0, 50.0]\n"
          ]
        }
      ],
      "source": [
        "#34. Build a program that performs matrix multiplication using nested loops and conditional statements.\n",
        "\n",
        "def matrix_multiplication(matrix1, matrix2):\n",
        "    # Check if the matrices can be multiplied\n",
        "    if len(matrix1[0]) != len(matrix2):\n",
        "        print(\"Error: Matrices cannot be multiplied. Number of columns in Matrix 1 must be equal to the number of rows in Matrix 2.\")\n",
        "        return None\n",
        "\n",
        "    # Initialize the result matrix with zeros\n",
        "    result_matrix = [[0 for _ in range(len(matrix2[0]))] for _ in range(len(matrix1))]\n",
        "\n",
        "    # Perform matrix multiplication\n",
        "    for i in range(len(matrix1)):\n",
        "        for j in range(len(matrix2[0])):\n",
        "            for k in range(len(matrix2)):\n",
        "                result_matrix[i][j] += matrix1[i][k] * matrix2[k][j]\n",
        "\n",
        "    return result_matrix\n",
        "\n",
        "def input_matrix(rows, columns):\n",
        "    matrix = []\n",
        "    for i in range(rows):\n",
        "        row = []\n",
        "        for j in range(columns):\n",
        "            element = float(input(f\"Enter element at position ({i + 1}, {j + 1}): \"))\n",
        "            row.append(element)\n",
        "        matrix.append(row)\n",
        "    return matrix\n",
        "\n",
        "def display_matrix(matrix, label):\n",
        "    print(f\"\\n{label} Matrix:\")\n",
        "    for row in matrix:\n",
        "        print(row)\n",
        "\n",
        "# Get user input for matrix dimensions\n",
        "rows1 = int(input(\"Enter the number of rows for Matrix 1: \"))\n",
        "columns1 = int(input(\"Enter the number of columns for Matrix 1: \"))\n",
        "rows2 = int(input(\"Enter the number of rows for Matrix 2: \"))\n",
        "columns2 = int(input(\"Enter the number of columns for Matrix 2: \"))\n",
        "\n",
        "# Input matrices from the user\n",
        "matrix1 = input_matrix(rows1, columns1)\n",
        "matrix2 = input_matrix(rows2, columns2)\n",
        "\n",
        "# Perform matrix multiplication\n",
        "result_matrix = matrix_multiplication(matrix1, matrix2)\n",
        "\n",
        "# Display the results\n",
        "if result_matrix is not None:\n",
        "    display_matrix(matrix1, \"Matrix 1\")\n",
        "    display_matrix(matrix2, \"Matrix 2\")\n",
        "    display_matrix(result_matrix, \"Result\")\n"
      ]
    },
    {
      "cell_type": "code",
      "execution_count": null,
      "id": "a3eb099a",
      "metadata": {
        "id": "a3eb099a",
        "outputId": "e5a267be-7e8e-4789-934d-306d07e9837b"
      },
      "outputs": [
        {
          "name": "stdout",
          "output_type": "stream",
          "text": [
            "Welcome to Tic-Tac-Toe!\n",
            "  |   |  \n",
            "-----------------\n",
            "  |   |  \n",
            "-----------------\n",
            "  |   |  \n",
            "-----------------\n",
            "Enter the row (1, 2, or 3): 2\n",
            "Enter the column (1, 2, or 3): 3\n",
            "  |   |  \n",
            "-----------------\n",
            "  |   | X\n",
            "-----------------\n",
            "  |   |  \n",
            "-----------------\n",
            "Computer's move:\n",
            "  |   |  \n",
            "-----------------\n",
            "O |   | X\n",
            "-----------------\n",
            "  |   |  \n",
            "-----------------\n",
            "Enter the row (1, 2, or 3): 1\n",
            "Enter the column (1, 2, or 3): 1\n",
            "X |   |  \n",
            "-----------------\n",
            "O |   | X\n",
            "-----------------\n",
            "  |   |  \n",
            "-----------------\n",
            "Computer's move:\n",
            "X |   |  \n",
            "-----------------\n",
            "O |   | X\n",
            "-----------------\n",
            "  |   | O\n",
            "-----------------\n",
            "Enter the row (1, 2, or 3): 1\n",
            "Enter the column (1, 2, or 3): 2\n",
            "X | X |  \n",
            "-----------------\n",
            "O |   | X\n",
            "-----------------\n",
            "  |   | O\n",
            "-----------------\n",
            "Computer's move:\n",
            "X | X | O\n",
            "-----------------\n",
            "O |   | X\n",
            "-----------------\n",
            "  |   | O\n",
            "-----------------\n",
            "Enter the row (1, 2, or 3): 2\n",
            "Enter the column (1, 2, or 3): 2\n",
            "X | X | O\n",
            "-----------------\n",
            "O | X | X\n",
            "-----------------\n",
            "  |   | O\n",
            "-----------------\n",
            "Computer's move:\n",
            "X | X | O\n",
            "-----------------\n",
            "O | X | X\n",
            "-----------------\n",
            "  | O | O\n",
            "-----------------\n",
            "Enter the row (1, 2, or 3): 3\n",
            "Enter the column (1, 2, or 3): 1\n",
            "X | X | O\n",
            "-----------------\n",
            "O | X | X\n",
            "-----------------\n",
            "X | O | O\n",
            "-----------------\n",
            "It's a tie!\n"
          ]
        }
      ],
      "source": [
        "#35. Create a program that simulates a basic text-based tic-tac-toe game against the computer.\n",
        "\n",
        "import random\n",
        "\n",
        "def print_board(board):\n",
        "    for row in board:\n",
        "        print(\" | \".join(row))\n",
        "        print(\"-\" * 10)\n",
        "\n",
        "def check_winner(board, player):\n",
        "    # Check rows and columns\n",
        "    for i in range(3):\n",
        "        if all(board[i][j] == player for j in range(3)) or all(board[j][i] == player for j in range(3)):\n",
        "            return True\n",
        "\n",
        "    # Check diagonals\n",
        "    if all(board[i][i] == player for i in range(3)) or all(board[i][2 - i] == player for i in range(3)):\n",
        "        return True\n",
        "\n",
        "    return False\n",
        "\n",
        "def is_board_full(board):\n",
        "    return all(board[i][j] != ' ' for i in range(3) for j in range(3))\n",
        "\n",
        "def get_empty_cells(board):\n",
        "    return [(i, j) for i in range(3) for j in range(3) if board[i][j] == ' ']\n",
        "\n",
        "def player_move(board):\n",
        "    while True:\n",
        "        try:\n",
        "            row = int(input(\"Enter the row (1, 2, or 3): \")) - 1\n",
        "            col = int(input(\"Enter the column (1, 2, or 3): \")) - 1\n",
        "\n",
        "            if board[row][col] == ' ':\n",
        "                return row, col\n",
        "            else:\n",
        "                print(\"Cell already taken. Try again.\")\n",
        "        except (ValueError, IndexError):\n",
        "            print(\"Invalid input. Please enter valid row and column numbers.\")\n",
        "\n",
        "def computer_move(board):\n",
        "    empty_cells = get_empty_cells(board)\n",
        "    return random.choice(empty_cells)\n",
        "\n",
        "def play_tic_tac_toe():\n",
        "    board = [[' ' for _ in range(3)] for _ in range(3)]\n",
        "    player_symbol = 'X'\n",
        "    computer_symbol = 'O'\n",
        "\n",
        "    while True:\n",
        "        print_board(board)\n",
        "\n",
        "        # Player move\n",
        "        row, col = player_move(board)\n",
        "        board[row][col] = player_symbol\n",
        "\n",
        "        # Check if the player wins\n",
        "        if check_winner(board, player_symbol):\n",
        "            print_board(board)\n",
        "            print(\"Congratulations! You win!\")\n",
        "            break\n",
        "\n",
        "        # Check if the game is a tie\n",
        "        if is_board_full(board):\n",
        "            print_board(board)\n",
        "            print(\"It's a tie!\")\n",
        "            break\n",
        "\n",
        "        print_board(board)\n",
        "\n",
        "        # Computer move\n",
        "        print(\"Computer's move:\")\n",
        "        row, col = computer_move(board)\n",
        "        board[row][col] = computer_symbol\n",
        "\n",
        "        # Check if the computer wins\n",
        "        if check_winner(board, computer_symbol):\n",
        "            print_board(board)\n",
        "            print(\"Sorry, you lose. Better luck next time!\")\n",
        "            break\n",
        "\n",
        "        # Check if the game is a tie\n",
        "        if is_board_full(board):\n",
        "            print_board(board)\n",
        "            print(\"It's a tie!\")\n",
        "            break\n",
        "\n",
        "if __name__ == \"__main__\":\n",
        "    print(\"Welcome to Tic-Tac-Toe!\")\n",
        "    play_tic_tac_toe()"
      ]
    },
    {
      "cell_type": "code",
      "execution_count": null,
      "id": "7cafc320",
      "metadata": {
        "id": "7cafc320",
        "outputId": "39918862-3247-4aaf-e07c-d39697286f0f"
      },
      "outputs": [
        {
          "name": "stdout",
          "output_type": "stream",
          "text": [
            "Enter the number of Fibonacci terms to generate: 10\n",
            "Fibonacci sequence up to the 10-th term:\n",
            "[0, 1, 1, 2, 3, 5, 8, 13, 21, 34]\n"
          ]
        }
      ],
      "source": [
        "#36. Write a program that generates Fibonacci numbers up to a specified term using iterative methods.\n",
        "def generate_fibonacci(n):\n",
        "    fibonacci_sequence = [0, 1]\n",
        "\n",
        "    for i in range(2, n):\n",
        "        next_term = fibonacci_sequence[i-1] + fibonacci_sequence[i-2]\n",
        "        fibonacci_sequence.append(next_term)\n",
        "\n",
        "    return fibonacci_sequence[:n]\n",
        "\n",
        "# Get user input for the number of terms\n",
        "num_terms = int(input(\"Enter the number of Fibonacci terms to generate: \"))\n",
        "\n",
        "# Generate and display Fibonacci numbers\n",
        "fibonacci_numbers = generate_fibonacci(num_terms)\n",
        "print(\"Fibonacci sequence up to the {}-th term:\".format(num_terms))\n",
        "print(fibonacci_numbers)\n"
      ]
    },
    {
      "cell_type": "code",
      "execution_count": null,
      "id": "0a3079af",
      "metadata": {
        "id": "0a3079af",
        "outputId": "584639f6-f41b-4814-9732-b981b808f784"
      },
      "outputs": [
        {
          "name": "stdout",
          "output_type": "stream",
          "text": [
            "Enter the number of Fibonacci terms to generate: 10\n",
            "Fibonacci sequence up to the 10-th term:\n",
            "[0, 1, 1, 2, 3, 5, 8, 13, 21, 34]\n",
            "enter the term :0\n",
            "0\n"
          ]
        }
      ],
      "source": [
        "#37. Develop a program that calculates the nth term of the Fibonacci sequence using memoization.\n",
        "\n",
        "def generate_fibonacci(n):\n",
        "    fibonacci_sequence = [0, 1]\n",
        "\n",
        "    for i in range(2, n):\n",
        "        next_term = fibonacci_sequence[i-1] + fibonacci_sequence[i-2]\n",
        "        fibonacci_sequence.append(next_term)\n",
        "\n",
        "    return fibonacci_sequence[:n]\n",
        "\n",
        "# Get user input for the number of terms\n",
        "num_terms = int(input(\"Enter the number of Fibonacci terms to generate: \"))\n",
        "\n",
        "# Generate and display Fibonacci numbers\n",
        "fibonacci_numbers = generate_fibonacci(num_terms)\n",
        "print(\"Fibonacci sequence up to the {}-th term:\".format(num_terms))\n",
        "print(fibonacci_numbers)\n",
        "\n",
        "nth_term = int(input(\"enter the term :\"))\n",
        "if nth_term >= len(fibonacci_numbers):\n",
        "    print(f\"the term is out range of fibnocci_list\")\n",
        "else:\n",
        "    print(fibonacci_numbers[nth_term])"
      ]
    },
    {
      "cell_type": "code",
      "execution_count": null,
      "id": "4fa7e3cd",
      "metadata": {
        "id": "4fa7e3cd",
        "outputId": "f864a8e8-6204-4288-a348-221629343b2b"
      },
      "outputs": [
        {
          "name": "stdout",
          "output_type": "stream",
          "text": [
            "enter the year:2023\n",
            "enter the month:10\n",
            "\n",
            "calendar for October 2023:\n",
            "\n",
            "    October 2023\n",
            "Mo Tu We Th Fr Sa Su\n",
            "                   1\n",
            " 2  3  4  5  6  7  8\n",
            " 9 10 11 12 13 14 15\n",
            "16 17 18 19 20 21 22\n",
            "23 24 25 26 27 28 29\n",
            "30 31\n",
            "\n"
          ]
        }
      ],
      "source": [
        "#38. Create a program that generates a calendar for a given month and year using conditional statements\n",
        "\n",
        "import calendar\n",
        "\n",
        "year = int(input(\"enter the year:\"))\n",
        "month = int(input(\"enter the month:\"))\n",
        "if 1<=month<=12:\n",
        "    cal = calendar.month(year,month)\n",
        "    print(f\"\\ncalendar for {calendar.month_name[month]} {year}:\\n\")\n",
        "    print(cal)\n",
        "else:\n",
        "    print(\"enter the valid month\")"
      ]
    },
    {
      "cell_type": "code",
      "execution_count": null,
      "id": "b14369c1",
      "metadata": {
        "id": "b14369c1",
        "outputId": "f8d8263f-f23a-450f-ed88-6195b214465d"
      },
      "outputs": [
        {
          "name": "stdout",
          "output_type": "stream",
          "text": [
            "Welcome to Blackjack!\n",
            "Your cards: [8, 4], current score: 12\n",
            "Computer's first card: 2\n",
            "Type 'y' to get another card, 'n' to pass: n\n",
            "Your final hand: [8, 4], final score: 12\n",
            "Computer's final hand: [2, 10, 10], final score: 22\n",
            "Computer went over. You win!\n"
          ]
        }
      ],
      "source": [
        "#39. Build a program that simulates a basic text-based blackjack game against the computer.\n",
        "\n",
        "import random\n",
        "\n",
        "def deal_card():\n",
        "    cards = [2, 3, 4, 5, 6, 7, 8, 9, 10, 10, 10, 10, 11]\n",
        "    return random.choice(cards)\n",
        "\n",
        "def calculate_score(cards):\n",
        "    if sum(cards) == 21 and len(cards) == 2:\n",
        "        return 0  # Blackjack (Ace + 10-value card)\n",
        "\n",
        "    if 11 in cards and sum(cards) > 21:\n",
        "        cards.remove(11)\n",
        "        cards.append(1)  # Convert Ace from 11 to 1\n",
        "\n",
        "    return sum(cards)\n",
        "\n",
        "def compare(user_score, computer_score):\n",
        "    if user_score == computer_score:\n",
        "        return \"It's a draw!\"\n",
        "    elif computer_score == 0:\n",
        "        return \"Computer has Blackjack. You lose.\"\n",
        "    elif user_score == 0:\n",
        "        return \"Blackjack! You win!\"\n",
        "    elif user_score > 21:\n",
        "        return \"You went over. You lose.\"\n",
        "    elif computer_score > 21:\n",
        "        return \"Computer went over. You win!\"\n",
        "    elif user_score > computer_score:\n",
        "        return \"You win!\"\n",
        "    else:\n",
        "        return \"You lose.\"\n",
        "\n",
        "def play_blackjack():\n",
        "    user_cards = []\n",
        "    computer_cards = []\n",
        "    is_game_over = False\n",
        "\n",
        "    for _ in range(2):\n",
        "        user_cards.append(deal_card())\n",
        "        computer_cards.append(deal_card())\n",
        "\n",
        "    while not is_game_over:\n",
        "        user_score = calculate_score(user_cards)\n",
        "        computer_score = calculate_score(computer_cards)\n",
        "\n",
        "        print(f\"Your cards: {user_cards}, current score: {user_score}\")\n",
        "        print(f\"Computer's first card: {computer_cards[0]}\")\n",
        "\n",
        "        if user_score == 0 or computer_score == 0 or user_score > 21:\n",
        "            is_game_over = True\n",
        "        else:\n",
        "            should_continue = input(\"Type 'y' to get another card, 'n' to pass: \").lower()\n",
        "            if should_continue == 'y':\n",
        "                user_cards.append(deal_card())\n",
        "            else:\n",
        "                is_game_over = True\n",
        "\n",
        "    while computer_score != 0 and computer_score < 17:\n",
        "        computer_cards.append(deal_card())\n",
        "        computer_score = calculate_score(computer_cards)\n",
        "\n",
        "    print(f\"Your final hand: {user_cards}, final score: {user_score}\")\n",
        "    print(f\"Computer's final hand: {computer_cards}, final score: {computer_score}\")\n",
        "    print(compare(user_score, computer_score))\n",
        "\n",
        "if __name__ == \"__main__\":\n",
        "    print(\"Welcome to Blackjack!\")\n",
        "    play_blackjack()\n"
      ]
    },
    {
      "cell_type": "code",
      "execution_count": null,
      "id": "56521445",
      "metadata": {
        "id": "56521445",
        "outputId": "0a2d23e3-94e8-45ab-8795-1dd99ff2129c"
      },
      "outputs": [
        {
          "name": "stdout",
          "output_type": "stream",
          "text": [
            "Enter a number to find its prime factors: 10\n",
            "The prime factors of 1 are: [2, 5]\n"
          ]
        }
      ],
      "source": [
        "#40. Write a program that generates the prime factors of a given number using trial division.\n",
        "\n",
        "number = int(input(\"Enter a number to find its prime factors: \"))\n",
        "factors = []\n",
        "\n",
        "# Trial division to find prime factors\n",
        "divisor = 2\n",
        "while divisor <= number:\n",
        "    if number % divisor == 0:\n",
        "        factors.append(divisor)\n",
        "        number //= divisor\n",
        "    else:\n",
        "        divisor += 1\n",
        "\n",
        "# Display the prime factors\n",
        "print(f\"The prime factors of {number} are: {factors}\")"
      ]
    }
  ],
  "metadata": {
    "kernelspec": {
      "display_name": "Python 3 (ipykernel)",
      "language": "python",
      "name": "python3"
    },
    "language_info": {
      "codemirror_mode": {
        "name": "ipython",
        "version": 3
      },
      "file_extension": ".py",
      "mimetype": "text/x-python",
      "name": "python",
      "nbconvert_exporter": "python",
      "pygments_lexer": "ipython3",
      "version": "3.10.9"
    },
    "colab": {
      "provenance": [],
      "include_colab_link": true
    }
  },
  "nbformat": 4,
  "nbformat_minor": 5
}