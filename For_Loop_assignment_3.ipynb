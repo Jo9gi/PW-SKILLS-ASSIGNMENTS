{
  "cells": [
    {
      "cell_type": "markdown",
      "metadata": {
        "id": "view-in-github",
        "colab_type": "text"
      },
      "source": [
        "<a href=\"https://colab.research.google.com/github/Jo9gi/PW-SKILLS-ASSIGNMENTS/blob/main/For_Loop_assignment_3.ipynb\" target=\"_parent\"><img src=\"https://colab.research.google.com/assets/colab-badge.svg\" alt=\"Open In Colab\"/></a>"
      ]
    },
    {
      "cell_type": "markdown",
      "id": "f2a1ce82",
      "metadata": {
        "id": "f2a1ce82"
      },
      "source": [
        "# **Basic Level**:"
      ]
    },
    {
      "cell_type": "markdown",
      "id": "0a3f44de",
      "metadata": {
        "id": "0a3f44de"
      },
      "source": [
        "1. Write a Python program to print the numbers from 1 to 10 using a `for` loop."
      ]
    },
    {
      "cell_type": "code",
      "execution_count": null,
      "id": "03f69750",
      "metadata": {
        "id": "03f69750",
        "outputId": "2b89ffdc-9299-497e-a9d0-68c8361a0b09"
      },
      "outputs": [
        {
          "name": "stdout",
          "output_type": "stream",
          "text": [
            "1\n",
            "2\n",
            "3\n",
            "4\n",
            "5\n",
            "6\n",
            "7\n",
            "8\n",
            "9\n",
            "10\n"
          ]
        }
      ],
      "source": [
        "for i in range(1,11,1):\n",
        "    print(i)"
      ]
    },
    {
      "cell_type": "markdown",
      "id": "33b400c3",
      "metadata": {
        "id": "33b400c3"
      },
      "source": [
        "2. Create a program that calculates the sum of all numbers in a list using a `for` loop."
      ]
    },
    {
      "cell_type": "code",
      "execution_count": null,
      "id": "fe4a73ca",
      "metadata": {
        "id": "fe4a73ca",
        "outputId": "eb9dc545-d0ba-4e10-fbca-206b643d010c"
      },
      "outputs": [
        {
          "name": "stdout",
          "output_type": "stream",
          "text": [
            "enter the inputs usin spaces:-1 2 4\n",
            "the sum of all numbers in a list using a `for` loop 7\n"
          ]
        }
      ],
      "source": [
        "def calculate_sum(numbers):\n",
        "    sum_total = 0\n",
        "    for i in numbers:\n",
        "        sum_total += i\n",
        "    return sum_total\n",
        "inputs = input(\"enter the inputs usin spaces:-\")\n",
        "list_forms=[int(num) for num in inputs.split()]\n",
        "results=calculate_sum(list_forms)\n",
        "print(f\"the sum of all numbers in a list using a `for` loop {results}\")\n"
      ]
    },
    {
      "cell_type": "markdown",
      "id": "2ca67568",
      "metadata": {
        "id": "2ca67568"
      },
      "source": [
        "3. Write a program to print the characters of a string in reverse order using a `for` loop"
      ]
    },
    {
      "cell_type": "code",
      "execution_count": null,
      "id": "14aa2fc4",
      "metadata": {
        "id": "14aa2fc4",
        "outputId": "a9c8c42e-0082-4e61-9816-52fae36cd105"
      },
      "outputs": [
        {
          "name": "stdout",
          "output_type": "stream",
          "text": [
            "enter the string:jogi is good fellow\n",
            "wollef doog si igoj\n"
          ]
        }
      ],
      "source": [
        "def reversed_string(collected_string):\n",
        "    reverse_one = \"\"\n",
        "    for i in reversed(collected_string):\n",
        "        reverse_one += i\n",
        "    return reverse_one\n",
        "\n",
        "user_input = input(\"enter the string:\")\n",
        "result = reversed_string(user_input)\n",
        "print(result)"
      ]
    },
    {
      "cell_type": "markdown",
      "id": "946f8462",
      "metadata": {
        "id": "946f8462"
      },
      "source": [
        "4. Develop a program that finds the factorial of a given number using a `for` loop."
      ]
    },
    {
      "cell_type": "code",
      "execution_count": null,
      "id": "fe8cf051",
      "metadata": {
        "id": "fe8cf051",
        "outputId": "6e504f47-f4a2-44e1-cf9e-743a398ac172"
      },
      "outputs": [
        {
          "name": "stdout",
          "output_type": "stream",
          "text": [
            "Enter a number: 10\n",
            "The factorial of 10 is: 3628800\n"
          ]
        }
      ],
      "source": [
        "def calculate_factorial(n):\n",
        "    factorial_result = 1\n",
        "    for i in range(1, n + 1):\n",
        "        factorial_result *= i\n",
        "    return factorial_result\n",
        "\n",
        "number = int(input(\"Enter a number: \"))\n",
        "result = calculate_factorial(number)\n",
        "print(f\"The factorial of {number} is: {result}\")\n"
      ]
    },
    {
      "cell_type": "markdown",
      "id": "0c7d490f",
      "metadata": {
        "id": "0c7d490f"
      },
      "source": [
        "5. Create a program to print the multiplication table of a given number using a `for` loop."
      ]
    },
    {
      "cell_type": "code",
      "execution_count": null,
      "id": "49b1967a",
      "metadata": {
        "colab": {
          "base_uri": "https://localhost:8080/"
        },
        "id": "49b1967a",
        "outputId": "80e6887a-178a-451d-8310-9ed1dffb2477"
      },
      "outputs": [
        {
          "output_type": "stream",
          "name": "stdout",
          "text": [
            "enter the input:10\n",
            "10x1=10\n",
            "10x2=20\n",
            "10x3=30\n",
            "10x4=40\n",
            "10x5=50\n",
            "10x6=60\n",
            "10x7=70\n",
            "10x8=80\n",
            "10x9=90\n",
            "10x10=100\n",
            "None\n"
          ]
        }
      ],
      "source": [
        "def multiplication_table(numbers):\n",
        "    for i in range(1,numbers+1):\n",
        "        result=numbers*i\n",
        "        print(f\"{numbers}x{i}={result}\")\n",
        "inputs = int(input(\"enter the input:\"))\n",
        "print(multiplication_table(inputs))"
      ]
    },
    {
      "cell_type": "code",
      "execution_count": null,
      "id": "8df17bcb",
      "metadata": {
        "colab": {
          "base_uri": "https://localhost:8080/"
        },
        "id": "8df17bcb",
        "outputId": "a4cd1d6c-8463-48c7-90f6-d167b95d3d12"
      },
      "outputs": [
        {
          "output_type": "stream",
          "name": "stdout",
          "text": [
            "Enter a list of numbers: 12 45 132 23\n",
            "The number of even numbers in the list is: 2\n",
            "The number of odd numbers in the list is: 2\n"
          ]
        }
      ],
      "source": [
        "#6. Write a program user input with in function that counts the number of even and odd numbers in a list using a `for` loop.\n",
        "\n",
        "def count_even_odd(list_of_numbers):\n",
        "  even_count = 0\n",
        "  odd_count = 0\n",
        "  for number in list_of_numbers:\n",
        "    if number % 2 == 0:\n",
        "      even_count += 1\n",
        "    else:\n",
        "      odd_count += 1\n",
        "  return even_count, odd_count\n",
        "\n",
        "list_of_numbers = [int(x) for x in input(\"Enter a list of numbers: \").split()]\n",
        "even_count, odd_count = count_even_odd(list_of_numbers)\n",
        "print(\"The number of even numbers in the list is:\", even_count)\n",
        "print(\"The number of odd numbers in the list is:\", odd_count)\n"
      ]
    },
    {
      "cell_type": "code",
      "execution_count": null,
      "id": "3c6ba6fc",
      "metadata": {
        "id": "3c6ba6fc",
        "colab": {
          "base_uri": "https://localhost:8080/"
        },
        "outputId": "f616f40b-845e-4b1f-83b7-db5172281654"
      },
      "outputs": [
        {
          "output_type": "stream",
          "name": "stdout",
          "text": [
            "1\n",
            "4\n",
            "9\n",
            "16\n",
            "25\n"
          ]
        }
      ],
      "source": [
        "#7. Develop a program that prints the squares of numbers from 1 to 5 using a `for` loop\n",
        "\n",
        "for i in range(1, 6):\n",
        "  square = i * i\n",
        "  print(square)\n"
      ]
    },
    {
      "cell_type": "code",
      "source": [
        "#8. Create a program to find the length of a string without using the `len()` function.\n",
        "\n",
        "string_input = input(\"Enter a string: \")\n",
        "count = 0\n",
        "for i in string_input:\n",
        "  count += 1\n",
        "print(\"The length of the string is:\", count)\n"
      ],
      "metadata": {
        "colab": {
          "base_uri": "https://localhost:8080/"
        },
        "id": "WhkTYW25xKHr",
        "outputId": "87a4cc04-3d45-48ed-b317-e98565913980"
      },
      "id": "WhkTYW25xKHr",
      "execution_count": null,
      "outputs": [
        {
          "output_type": "stream",
          "name": "stdout",
          "text": [
            "Enter a string: jogi\n",
            "The length of the string is: 4\n"
          ]
        }
      ]
    },
    {
      "cell_type": "code",
      "source": [
        "#9. Write a program that calculates the average of a list of numbers using a `for` loop.\n",
        "lists = [int(x) for x in input(\"emter the list of numbers:\").split()]\n",
        "average = (sum(lists))/len(lists)\n",
        "print(average)"
      ],
      "metadata": {
        "colab": {
          "base_uri": "https://localhost:8080/"
        },
        "id": "YfCVcvkCzADp",
        "outputId": "56e1c123-a5fe-403b-8de9-97f63c26a071"
      },
      "id": "YfCVcvkCzADp",
      "execution_count": null,
      "outputs": [
        {
          "output_type": "stream",
          "name": "stdout",
          "text": [
            "emter the list of numbers:11 2 1\n",
            "4.666666666666667\n"
          ]
        }
      ]
    },
    {
      "cell_type": "code",
      "source": [
        "#10. Develop a program that prints the first `n` Fibonacci numbers using a `for` loop.\n",
        "\n",
        "def fibonacci(n):\n",
        "    a, b = 0, 1\n",
        "    for i in range(1,n+1):\n",
        "        a, b = b, a + b\n",
        "        print(a)\n",
        "\n",
        "fibonacci(10)\n"
      ],
      "metadata": {
        "colab": {
          "base_uri": "https://localhost:8080/"
        },
        "id": "UEwFAwd25Pv_",
        "outputId": "1f3e64e2-d4af-445b-bcf2-f476dfcf62da"
      },
      "id": "UEwFAwd25Pv_",
      "execution_count": null,
      "outputs": [
        {
          "output_type": "stream",
          "name": "stdout",
          "text": [
            "1\n",
            "1\n",
            "2\n",
            "3\n",
            "5\n",
            "8\n",
            "13\n",
            "21\n",
            "34\n",
            "55\n"
          ]
        }
      ]
    },
    {
      "cell_type": "markdown",
      "source": [
        "# **Intermediate Level:**"
      ],
      "metadata": {
        "id": "-Hl8sSN186wF"
      },
      "id": "-Hl8sSN186wF"
    },
    {
      "cell_type": "code",
      "source": [
        "#11. Write a program to check if a given list contains any duplicates using a `for` loop.\n",
        "\n",
        "lists = input(\"enter the strings\").split()\n",
        "lst1=[]\n",
        "flag = True\n",
        "for i in lists:\n",
        "  if i in lst1:\n",
        "    flag = False\n",
        "\n",
        "    break\n",
        "  else:\n",
        "    lst1.append(i)\n",
        "if flag :\n",
        "  print(\"not contains dulicates\")\n",
        "else:\n",
        "  print(\"contains duplicate\")\n"
      ],
      "metadata": {
        "id": "5gj74NGg5PuA",
        "colab": {
          "base_uri": "https://localhost:8080/"
        },
        "outputId": "4117ebb7-75d8-46b0-8054-e4f6f9828082"
      },
      "id": "5gj74NGg5PuA",
      "execution_count": null,
      "outputs": [
        {
          "output_type": "stream",
          "name": "stdout",
          "text": [
            "enter the strings1 2 3 1\n",
            "contains duplicate\n",
            "enter the strings1 2 3 4\n",
            "not contains dulicates\n"
          ]
        }
      ]
    },
    {
      "cell_type": "code",
      "source": [
        "# 12. Create a program that prints the prime numbers in a given range\n",
        "\n",
        "def is_prime(n):\n",
        "    if n <= 1:\n",
        "        return False\n",
        "    for i in range(2, int(n**0.5) + 1):\n",
        "        if n % i == 0:\n",
        "            return False\n",
        "    return True\n",
        "\n",
        "lower = int(input(\"Enter the lower limit: \"))\n",
        "upper = int(input(\"Enter the upper limit: \"))\n",
        "\n",
        "for i in range(lower, upper + 1):\n",
        "    if is_prime(i):\n",
        "        print(i)\n"
      ],
      "metadata": {
        "id": "DpEl4wn15Pm0",
        "colab": {
          "base_uri": "https://localhost:8080/"
        },
        "outputId": "d606df32-705b-4bcf-ee10-8a6fdbfade3f"
      },
      "id": "DpEl4wn15Pm0",
      "execution_count": null,
      "outputs": [
        {
          "output_type": "stream",
          "name": "stdout",
          "text": [
            "Enter the lower limit: 2\n",
            "Enter the upper limit: 12\n",
            "2\n",
            "3\n",
            "5\n",
            "7\n",
            "11\n"
          ]
        }
      ]
    },
    {
      "cell_type": "code",
      "source": [
        "#13. Develop a program that counts the number of vowels in a string using a `for` loop.\n",
        "string = input(\"enter the string:\")\n",
        "count=0\n",
        "vowels='aeiou'\n",
        "for k in string:\n",
        "  if k in vowels:\n",
        "      count+=1\n",
        "print(\"The count of vowels in the given string is \",count)"
      ],
      "metadata": {
        "colab": {
          "base_uri": "https://localhost:8080/"
        },
        "id": "8Qt8-DDeX-hP",
        "outputId": "2c33b4ba-c26e-4669-e0b7-0aff81365ef4"
      },
      "id": "8Qt8-DDeX-hP",
      "execution_count": null,
      "outputs": [
        {
          "output_type": "stream",
          "name": "stdout",
          "text": [
            "enter the string:tyuhgf\n",
            "The count of vowels in the given string is  1\n"
          ]
        }
      ]
    },
    {
      "cell_type": "code",
      "source": [
        "#14. Write a program to find the maximum element in a 2D list using a nested `for` loop.\n",
        "matrix = []\n",
        "  #dimentions of the matrix\n",
        "rows = int(input(\"enter the number of rows\"))\n",
        "columns = int(input(\"enter tne no of columns\"))\n",
        "\n",
        "for i in range(rows):\n",
        "  row = []\n",
        "  for j in range(columns):\n",
        "    elements = int(input(f\"enter element at {i+1} row, {j+1} column :\"))\n",
        "    row.append(elements)\n",
        "  matrix.append(row)\n",
        "\n",
        "   #the maximum element\n",
        "max_ele = matrix[0][0]\n",
        "for i in range(rows):\n",
        "  for j in range(columns):\n",
        "    if matrix[i][j] > max_ele:\n",
        "      max_ele = matrix[i][j]\n",
        "print(f\"The maximum element in the matrix is: {max_ele}\")\n"
      ],
      "metadata": {
        "colab": {
          "base_uri": "https://localhost:8080/"
        },
        "id": "shp2TSbgX-Sz",
        "outputId": "47ccbecf-a5bd-4698-d6bc-1c4ee59ef431"
      },
      "id": "shp2TSbgX-Sz",
      "execution_count": null,
      "outputs": [
        {
          "output_type": "stream",
          "name": "stdout",
          "text": [
            "enter the number of rows2\n",
            "enter tne no of columns3\n",
            "enter element at 1 row, 1 column :12\n",
            "enter element at 1 row, 2 column :32\n",
            "enter element at 1 row, 3 column :3\n",
            "enter element at 2 row, 1 column :4\n",
            "enter element at 2 row, 2 column :134\n",
            "enter element at 2 row, 3 column :90\n",
            "The maximum element in the matrix is: 134\n"
          ]
        }
      ]
    },
    {
      "cell_type": "code",
      "source": [
        "#15. Create a program that removes all occurrences of a specific element from a list using a `for` loop.\n",
        "elements = input(\"enter the elements:\").split()\n",
        "ele = input(\"enter the specific element to remove:\")\n",
        "for i in elements:\n",
        "  if i==ele:\n",
        "    elements.remove(i)\n",
        "print(elements)\n"
      ],
      "metadata": {
        "colab": {
          "base_uri": "https://localhost:8080/"
        },
        "id": "8IAXhhKTsZIz",
        "outputId": "01220a11-3b6b-41a4-81d0-7eaf9ddc3488"
      },
      "id": "8IAXhhKTsZIz",
      "execution_count": null,
      "outputs": [
        {
          "output_type": "stream",
          "name": "stdout",
          "text": [
            "enter the elements:10 20 10 33 10\n",
            "10\n",
            "['20', '33']\n"
          ]
        }
      ]
    },
    {
      "cell_type": "code",
      "source": [
        "#16. Develop a program that generates a multiplication table for numbers from 1 to 5 using a nested `for` loop.\n",
        "for i in range (1,11):\n",
        "  for j in range(1,6):\n",
        "    print(f\"{i}X{j}={i*j}\\t\",end=\"\")\n",
        "  print()"
      ],
      "metadata": {
        "colab": {
          "base_uri": "https://localhost:8080/"
        },
        "id": "stA3eZR12t-g",
        "outputId": "7ffc14db-2312-490a-e3e7-9610b4791996"
      },
      "id": "stA3eZR12t-g",
      "execution_count": null,
      "outputs": [
        {
          "output_type": "stream",
          "name": "stdout",
          "text": [
            "1X1=1\t1X2=2\t1X3=3\t1X4=4\t1X5=5\t\n",
            "2X1=2\t2X2=4\t2X3=6\t2X4=8\t2X5=10\t\n",
            "3X1=3\t3X2=6\t3X3=9\t3X4=12\t3X5=15\t\n",
            "4X1=4\t4X2=8\t4X3=12\t4X4=16\t4X5=20\t\n",
            "5X1=5\t5X2=10\t5X3=15\t5X4=20\t5X5=25\t\n",
            "6X1=6\t6X2=12\t6X3=18\t6X4=24\t6X5=30\t\n",
            "7X1=7\t7X2=14\t7X3=21\t7X4=28\t7X5=35\t\n",
            "8X1=8\t8X2=16\t8X3=24\t8X4=32\t8X5=40\t\n",
            "9X1=9\t9X2=18\t9X3=27\t9X4=36\t9X5=45\t\n",
            "10X1=10\t10X2=20\t10X3=30\t10X4=40\t10X5=50\t\n"
          ]
        }
      ]
    },
    {
      "cell_type": "code",
      "source": [
        "#17. Write a program that converts a list of Fahrenheit temperatures to Celsius using a `for` loop.\n",
        "lst = [100,200,323,243,666]\n",
        "lst_1=[]\n",
        "for i in lst:# Convert Fahrenheit temperatures to Celsius using a for loop\n",
        "  celsius = (i-32)*(5/9)# the formula of fahrenheit to celsius\n",
        "  fahr=lst_1.append(celsius)\n",
        "print(f\"fahrenheit : {lst} \\ncelcius : {lst_1}\")\n",
        "\n"
      ],
      "metadata": {
        "colab": {
          "base_uri": "https://localhost:8080/"
        },
        "id": "Q9d6yJdQ5Zsb",
        "outputId": "221451b9-ad9b-4fcf-f53e-a1a642287767"
      },
      "id": "Q9d6yJdQ5Zsb",
      "execution_count": null,
      "outputs": [
        {
          "output_type": "stream",
          "name": "stdout",
          "text": [
            "fahrenheit : [100, 200, 323, 243, 666] \n",
            "celcius : [37.77777777777778, 93.33333333333334, 161.66666666666669, 117.22222222222223, 352.22222222222223]\n"
          ]
        }
      ]
    },
    {
      "cell_type": "code",
      "source": [
        "#18. Create a program to print the common elements from two lists using a `for` loop.\n",
        "lst1=['jogi','naidu','pavan','prasad']\n",
        "lst2=['jogi','mohit','nari','dinesh','prasad']\n",
        "lst3 = [] #this is a empty list ,to store the values\n",
        "for i in lst1:\n",
        "  if i in lst2 :\n",
        "    lst3.append(i)\n",
        "print(lst3)\n"
      ],
      "metadata": {
        "colab": {
          "base_uri": "https://localhost:8080/"
        },
        "id": "Q2CSPHcs5Zo4",
        "outputId": "da9bd440-70fc-4fd0-fc22-1af2cb11534f"
      },
      "id": "Q2CSPHcs5Zo4",
      "execution_count": null,
      "outputs": [
        {
          "output_type": "stream",
          "name": "stdout",
          "text": [
            "['jogi', 'prasad']\n"
          ]
        }
      ]
    },
    {
      "cell_type": "code",
      "source": [
        "#19. Develop a program that prints the pattern of right-angled triangles using a `for` loop. Use ‘*’ to draw the pattern\n",
        "num = int(input(\"enter the value:\"))\n",
        "for i in range(num):\n",
        "  for j in range(i+1):\n",
        "    print(\"*\",end=\" \")\n",
        "  print()"
      ],
      "metadata": {
        "colab": {
          "base_uri": "https://localhost:8080/"
        },
        "id": "QOin29tt5ZmP",
        "outputId": "504ce56f-a28b-428a-8f4a-db59fec6fc76"
      },
      "id": "QOin29tt5ZmP",
      "execution_count": null,
      "outputs": [
        {
          "output_type": "stream",
          "name": "stdout",
          "text": [
            "enter the value:10\n",
            "* \n",
            "* * \n",
            "* * * \n",
            "* * * * \n",
            "* * * * * \n",
            "* * * * * * \n",
            "* * * * * * * \n",
            "* * * * * * * * \n",
            "* * * * * * * * * \n",
            "* * * * * * * * * * \n"
          ]
        }
      ]
    },
    {
      "cell_type": "code",
      "source": [
        "#20. Write a program to find the greatest common divisor (GCD) of two numbers using a `for` loop.\n",
        "num1 = int(input(\"enter the first number:\"))\n",
        "num2 = int(input(\"enter the second number:\"))\n",
        "\n",
        "smaller = min(num1,num2)\n",
        "gcd = 1\n",
        "for i in range(1,smaller+1):\n",
        "  if num1 % i == 0 and num2 % i ==0:\n",
        "    gcd = i\n",
        "print(f\"the gcd of {num1} and {num2} is {gcd}\")\n"
      ],
      "metadata": {
        "id": "m0-4Joz6INfc",
        "colab": {
          "base_uri": "https://localhost:8080/"
        },
        "outputId": "53c3a006-a1f4-4c7e-d1b2-653f222aa585"
      },
      "id": "m0-4Joz6INfc",
      "execution_count": null,
      "outputs": [
        {
          "output_type": "stream",
          "name": "stdout",
          "text": [
            "enter the first number:10\n",
            "enter the second number:20\n",
            "the gcd of 10 and 20 is 10\n"
          ]
        }
      ]
    },
    {
      "cell_type": "markdown",
      "source": [
        "# **Advanced Level:**"
      ],
      "metadata": {
        "id": "EBVz6Vv988MY"
      },
      "id": "EBVz6Vv988MY"
    },
    {
      "cell_type": "code",
      "source": [
        "# prompt: #21. Create a program that calculates the sum of the digits of numbers in a list using a list comprehension.\n",
        "numer = [123, 45, 67, 89]\n",
        "lst = []\n",
        "for i in numer:\n",
        "  s=0\n",
        "  for j in str(i):\n",
        "    s+=int(j)\n",
        "  lst.append(s)\n",
        "print(f\"the sum of the digits of numbers in a numer: {numer} is lst{lst}\")\n"
      ],
      "metadata": {
        "colab": {
          "base_uri": "https://localhost:8080/"
        },
        "id": "Sy2o5J0w84Hj",
        "outputId": "bafb4586-f8c3-4820-ac63-f5f1e43ca40e"
      },
      "id": "Sy2o5J0w84Hj",
      "execution_count": null,
      "outputs": [
        {
          "output_type": "stream",
          "name": "stdout",
          "text": [
            "the sum of the digits of numbers in a numer: [123, 45, 67, 89] is lst[6, 9, 13, 17]\n"
          ]
        }
      ]
    },
    {
      "cell_type": "code",
      "source": [
        "#22. Write a program to find the prime factors of a given number using a `for` loop and list comprehension.\n",
        "def prime_factors(n):\n",
        "  factor = [i for i in range(2,n+1) if n%i==0 and all(i%j !=0 for j in  range(2,int(i**0.5)+1))]\n",
        "  return factor\n",
        "num = int(input(\"enter the number:\"))\n",
        "result=prime_factors(num)\n",
        "print(F\"the prime factors of {num} is {result}\")"
      ],
      "metadata": {
        "id": "qBOEASLo8iOg",
        "colab": {
          "base_uri": "https://localhost:8080/"
        },
        "outputId": "097bc238-42be-4756-d085-256909485b8e"
      },
      "id": "qBOEASLo8iOg",
      "execution_count": null,
      "outputs": [
        {
          "output_type": "stream",
          "name": "stdout",
          "text": [
            "enter the number:10\n",
            "the prime factors of 10 is [2, 5]\n"
          ]
        }
      ]
    },
    {
      "cell_type": "code",
      "source": [
        "#23. Develop a program that extracts unique elements from a list and stores them in a new list using a list comprehension.\n",
        "def unique_elements(n):\n",
        "  return list(set(n))\n",
        "lst=input(\"enter the numbers\")\n",
        "lst1=[int(i) for i in lst.split(\" \")]\n",
        "lst2 = unique_elements(lst1)\n",
        "print(f\"original list:{lst1} \\nunique_list:{lst2}\")"
      ],
      "metadata": {
        "colab": {
          "base_uri": "https://localhost:8080/"
        },
        "id": "r2nPSU_MOd-s",
        "outputId": "346a80ac-b898-48cf-a0b7-e475c9f68132"
      },
      "id": "r2nPSU_MOd-s",
      "execution_count": null,
      "outputs": [
        {
          "output_type": "stream",
          "name": "stdout",
          "text": [
            "enter the numbers1 2 3 2 34 1 2 3\n",
            "original list:[1, 2, 3, 2, 34, 1, 2, 3] \n",
            "unique_list:[1, 2, 3, 34]\n"
          ]
        }
      ]
    },
    {
      "cell_type": "code",
      "source": [
        "#24. Create a program that generates a list of all palindromic numbers up to a specified limit using a list comprehension.\n",
        "def palin_numbers(n):\n",
        "  result = [int(i) for i in range(1,n+1) if str(i)==str(i)[::-1]]\n",
        "  return result\n",
        "print(palin_numbers(int(input())))"
      ],
      "metadata": {
        "colab": {
          "base_uri": "https://localhost:8080/"
        },
        "id": "oa-1K0NlYtOm",
        "outputId": "eccf25fb-e3cc-43b4-d8aa-f9021345c133"
      },
      "id": "oa-1K0NlYtOm",
      "execution_count": null,
      "outputs": [
        {
          "output_type": "stream",
          "name": "stdout",
          "text": [
            "11\n",
            "[1, 2, 3, 4, 5, 6, 7, 8, 9, 11]\n"
          ]
        }
      ]
    },
    {
      "cell_type": "code",
      "source": [
        "#25. Write a program to flatten a nested list using list comprehension.\n",
        "original_list = [1,2,3,[34,24],[10,34,[23,44,[10,20]],10]]\n",
        "flattened_list = [num for sublist in original_list for num in (sublist if isinstance(sublist,list) else [sublist])]\n",
        "print(f\"original_list : {original_list} \\nflattened_list : {flattened_list}\")"
      ],
      "metadata": {
        "colab": {
          "base_uri": "https://localhost:8080/"
        },
        "id": "_sluwzefiUF1",
        "outputId": "b075ab13-300b-4f3a-b086-365b6b973927"
      },
      "id": "_sluwzefiUF1",
      "execution_count": null,
      "outputs": [
        {
          "output_type": "stream",
          "name": "stdout",
          "text": [
            "original_list : [1, 2, 3, [34, 24], [10, 34, [23, 44, [10, 20]], 10]] \n",
            "flattened_list : [1, 2, 3, 34, 24, 10, 34, [23, 44, [10, 20]], 10]\n"
          ]
        }
      ]
    },
    {
      "cell_type": "code",
      "source": [
        "#26. Develop a program that computes the sum of even and odd numbers in a list separately using list comprehension.\n",
        "lst = [1,2,3,2,4,5,4,7,8,9,11,13,14]\n",
        "even = sum([num for num in lst if num % 2== 0])\n",
        "odd = sum([num for num in lst if num%2!=0])\n",
        "print(f\"sum of even's:{even} \\nsum of odd's:{odd}\" )"
      ],
      "metadata": {
        "colab": {
          "base_uri": "https://localhost:8080/"
        },
        "id": "XHXnWTH0iUCc",
        "outputId": "c71dd730-13da-41a7-e5f2-e30589f53c34"
      },
      "id": "XHXnWTH0iUCc",
      "execution_count": null,
      "outputs": [
        {
          "output_type": "stream",
          "name": "stdout",
          "text": [
            "sum of even's:34 \n",
            "sum of odd's:49\n"
          ]
        }
      ]
    },
    {
      "cell_type": "code",
      "source": [
        "#27. Create a program that generates a list of squares of odd numbers between 1 and 10 using list comprehension.\n",
        "\n",
        "num = [num**2 for num in range(1,10) if num%2!=0]\n",
        "num"
      ],
      "metadata": {
        "colab": {
          "base_uri": "https://localhost:8080/"
        },
        "id": "AZcjvUxAiT9n",
        "outputId": "36363c7e-676d-4e8a-b026-b4bfe5f76039"
      },
      "id": "AZcjvUxAiT9n",
      "execution_count": null,
      "outputs": [
        {
          "output_type": "execute_result",
          "data": {
            "text/plain": [
              "[1, 9, 25, 49, 81]"
            ]
          },
          "metadata": {},
          "execution_count": 62
        }
      ]
    },
    {
      "cell_type": "code",
      "source": [
        "#28. Write a program that combines two lists into a dictionary using list comprehension\n",
        "lst1 = ['jogi','naidu','gate']\n",
        "lst = [10,20,30,44]\n",
        "dict1 ={lst1[num]:lst[num] for num in range(min(len(lst),len(lst1)))}\n",
        "print(dict1)"
      ],
      "metadata": {
        "colab": {
          "base_uri": "https://localhost:8080/"
        },
        "id": "qNlfbP6miT7U",
        "outputId": "11b546cc-679f-4a50-e8a1-c99a74eb85ae"
      },
      "id": "qNlfbP6miT7U",
      "execution_count": null,
      "outputs": [
        {
          "output_type": "stream",
          "name": "stdout",
          "text": [
            "{'jogi': 10, 'naidu': 20, 'gate': 30}\n"
          ]
        }
      ]
    },
    {
      "cell_type": "code",
      "source": [
        "#29. Develop a program that extracts the vowels from a string and stores them in a list using list comprehension.\n",
        "string = \"joginaidu surla exam\"\n",
        "vowels = [C for C in string if C in \"aeiouAEIOU\"]\n",
        "print(vowels)"
      ],
      "metadata": {
        "colab": {
          "base_uri": "https://localhost:8080/"
        },
        "id": "EK7vEOZqwKAc",
        "outputId": "7720a307-1e12-48af-d2f4-8b24d1e3dd99"
      },
      "id": "EK7vEOZqwKAc",
      "execution_count": null,
      "outputs": [
        {
          "output_type": "stream",
          "name": "stdout",
          "text": [
            "['o', 'i', 'a', 'i', 'u', 'u', 'a', 'e', 'a']\n",
            "{'a', 'o', 'i', 'u', 'e'}\n"
          ]
        }
      ]
    },
    {
      "cell_type": "code",
      "source": [
        "#30. Create a program that removes all non-numeric characters from a list of strings using list comprehension.\n",
        "lst = ['aee123','13fe3','we54d']\n",
        "num =[''.join(i for i in string if i.isdigit()) for string in lst]\n",
        "print(num)"
      ],
      "metadata": {
        "colab": {
          "base_uri": "https://localhost:8080/"
        },
        "id": "ZGVRHhGHwJ58",
        "outputId": "2ffea4e2-86e1-4747-a9d4-f2ae1e63824d"
      },
      "id": "ZGVRHhGHwJ58",
      "execution_count": null,
      "outputs": [
        {
          "output_type": "stream",
          "name": "stdout",
          "text": [
            "['123', '133', '54']\n"
          ]
        }
      ]
    },
    {
      "cell_type": "markdown",
      "source": [
        "# **Challenge Level:**"
      ],
      "metadata": {
        "id": "mFDbZmBG25UL"
      },
      "id": "mFDbZmBG25UL"
    },
    {
      "cell_type": "code",
      "source": [
        "def sieve_of_eratosthenes(limit):\n",
        "    is_prime = [True] * (limit + 1)\n",
        "    is_prime[0] = is_prime[1] = False  # 0 and 1 are not primes\n",
        "\n",
        "    primes = [number for number in range(2, int(limit**0.5) + 1) if is_prime[number]]\n",
        "\n",
        "    for prime in primes:\n",
        "        for multiple in range(prime * prime, limit + 1, prime):\n",
        "            is_prime[multiple] = False\n",
        "\n",
        "    return [number for number in range(2, limit + 1) if is_prime[number]]\n",
        "\n",
        "# Example usage:\n",
        "limit = int(input(\"enter tne limit:\"))\n",
        "result = sieve_of_eratosthenes(limit)\n",
        "print(\"Prime numbers up to\", limit, \"are:\", result)\n"
      ],
      "metadata": {
        "colab": {
          "base_uri": "https://localhost:8080/"
        },
        "id": "zj_ZRknutb-Y",
        "outputId": "8a98ec13-33e6-417b-9c3b-aff5e99cf058"
      },
      "id": "zj_ZRknutb-Y",
      "execution_count": null,
      "outputs": [
        {
          "output_type": "stream",
          "name": "stdout",
          "text": [
            "enter tne limit:50\n",
            "Prime numbers up to 50 are: [2, 3, 5, 7, 11, 13, 17, 19, 23, 29, 31, 37, 41, 43, 47]\n"
          ]
        }
      ]
    },
    {
      "cell_type": "code",
      "source": [
        "#32. Create a program that generates a list of all Pythagorean triplets up to a specified limit using list comprehension.\n",
        "num = int(input(\"enter the number\"))\n",
        "\n",
        "triplets = [(a,b,c) for a in range(1,num+1) for b in range(a,num+1) for c in range(b,num+1) if a**2 + b**2 ==c**2]\n",
        "print(f\"the pythogorean triplets up to the limit {num} is \\n{triplets}\")"
      ],
      "metadata": {
        "id": "l3wkHYsC0btC",
        "colab": {
          "base_uri": "https://localhost:8080/"
        },
        "outputId": "829638e0-36e8-4505-d33f-6863db65679f"
      },
      "id": "l3wkHYsC0btC",
      "execution_count": null,
      "outputs": [
        {
          "output_type": "stream",
          "name": "stdout",
          "text": [
            "enter the number10\n",
            "the pythogorean triplets up to the limit 10 is \n",
            "[(3, 4, 5), (6, 8, 10)]\n"
          ]
        }
      ]
    },
    {
      "cell_type": "code",
      "source": [
        "#33. Develop a program that generates a list of all possible combinations of two lists using list comprehension.\n",
        "\n",
        "lst1 = ['q','b','r','f']\n",
        "lst2 = [2,7,3]\n",
        "combination = [(a,b) for a in lst1 for b in lst2]\n",
        "print(combination)"
      ],
      "metadata": {
        "colab": {
          "base_uri": "https://localhost:8080/"
        },
        "id": "CEKdUep9FZnl",
        "outputId": "e7ba2307-8fa8-42e8-bb0b-6c6924eabed9"
      },
      "id": "CEKdUep9FZnl",
      "execution_count": null,
      "outputs": [
        {
          "output_type": "stream",
          "name": "stdout",
          "text": [
            "[('q', 2), ('q', 7), ('q', 3), ('b', 2), ('b', 7), ('b', 3), ('r', 2), ('r', 7), ('r', 3), ('f', 2), ('f', 7), ('f', 3)]\n"
          ]
        }
      ]
    },
    {
      "cell_type": "code",
      "source": [
        "#34. Write a program that calculates the mean, median, and mode of a list of numbers using list comprehension.\n",
        "\n",
        "a = [10,3,53,2,20,1]\n",
        "mean = sum(a)/len(a)\n",
        "sorted_num = sorted(a)\n",
        "if len(a)%2 == 0:\n",
        "  median = (sorted_num[len(a)//2 - 1]+sorted_num[len(a)//2])/2\n",
        "else:\n",
        "  median = sorted_num[len(a)//2]\n",
        "mode = max(set(a),key = a.count)\n",
        "print(f\"mean is {mean} \\nmedian id {median} \\nmode is {mode}\")"
      ],
      "metadata": {
        "colab": {
          "base_uri": "https://localhost:8080/"
        },
        "id": "BifKimfeNNA6",
        "outputId": "961bae74-dada-4a16-c80e-f644f784f9a0"
      },
      "id": "BifKimfeNNA6",
      "execution_count": null,
      "outputs": [
        {
          "output_type": "stream",
          "name": "stdout",
          "text": [
            "mean is 14.833333333333334 \n",
            "median id 6.5 \n",
            "mode is 1\n"
          ]
        }
      ]
    },
    {
      "source": [
        "#35. Create a program that generates Pascal's triangle up to a specified number of rows using list comprehension.\n",
        "def pascals_triangle(rows):\n",
        "  triangle = []\n",
        "  for i in range(rows):\n",
        "    if i==0:\n",
        "      triangle.append([1])\n",
        "    else:\n",
        "      prev_row = triangle[i-1]\n",
        "      new_row = [1]+[prev_row[j]+prev_row[j-1] for j in range(1,i)]+[1]\n",
        "      triangle.append(new_row)\n",
        "  return triangle\n",
        "\n",
        "rows =5\n",
        "triangle = pascals_triangle(rows)\n",
        "print()\n",
        "for row in triangle:\n",
        "  print(row)"
      ],
      "cell_type": "code",
      "metadata": {
        "colab": {
          "base_uri": "https://localhost:8080/"
        },
        "id": "ITcVqUI-y2pG",
        "outputId": "ec6cc01e-d52f-4377-d706-124c33ac4a32"
      },
      "id": "ITcVqUI-y2pG",
      "execution_count": null,
      "outputs": [
        {
          "output_type": "stream",
          "name": "stdout",
          "text": [
            "\n",
            "[1]\n",
            "[1, 1]\n",
            "[1, 2, 1]\n",
            "[1, 3, 3, 1]\n",
            "[1, 4, 6, 4, 1]\n"
          ]
        }
      ]
    },
    {
      "cell_type": "code",
      "source": [
        "#36. Develop a program that calculates the sum of the digits of a factorial of numbers from 1 to 5 using list comprehension.\n",
        "from math import factorial\n",
        "def factorial_digit_sum(m):\n",
        "  return sum(int(digit) for digit in str(math.factorial(m)))\n",
        "\n",
        "for i in range(1,6):\n",
        "  result = factorial_digit_sum(i)\n",
        "  print(f\"Sum of digit of {i}! : {result}\")\n",
        "\n"
      ],
      "metadata": {
        "id": "kEWJZ1hKc7BQ",
        "colab": {
          "base_uri": "https://localhost:8080/"
        },
        "outputId": "6e94e8fa-7359-4fe8-df5d-766c07a45d6d"
      },
      "id": "kEWJZ1hKc7BQ",
      "execution_count": null,
      "outputs": [
        {
          "output_type": "stream",
          "name": "stdout",
          "text": [
            "Sum of digit of 1! : 1\n",
            "Sum of digit of 2! : 2\n",
            "Sum of digit of 3! : 6\n",
            "Sum of digit of 4! : 6\n",
            "Sum of digit of 5! : 3\n"
          ]
        }
      ]
    },
    {
      "cell_type": "code",
      "source": [
        "#37. Write a program that finds the longest word in a sentence using list comprehension.\n",
        "lst='the longest sentence in the para.'\n",
        "jj = max((i.strip(\".,?!\") for i in lst.split()), key=len)\n",
        "print(jj)"
      ],
      "metadata": {
        "colab": {
          "base_uri": "https://localhost:8080/"
        },
        "id": "CR7y3dUCfGCA",
        "outputId": "e5c28619-85c2-4141-eefe-2a52de4c79bd"
      },
      "id": "CR7y3dUCfGCA",
      "execution_count": null,
      "outputs": [
        {
          "output_type": "stream",
          "name": "stdout",
          "text": [
            "sentence\n"
          ]
        }
      ]
    },
    {
      "cell_type": "code",
      "source": [
        "#38. Create a program that filters a list of strings to include only those with more than three vowels using list comprehension.\n",
        "words = ['joginaidu', 'prasad', 'pavan', 'nareniidra']\n",
        "filtered = [word for word in words if sum(1 for char in word if char.lower( )in 'aeiou')>3]\n",
        "print(filtered)\n"
      ],
      "metadata": {
        "id": "tfqh0xJofF-r"
      },
      "id": "tfqh0xJofF-r",
      "execution_count": null,
      "outputs": []
    },
    {
      "cell_type": "code",
      "source": [
        "#39. Develop a program that calculates the sum of the digits of numbers from 1 to 1000 using list comprehension.\n",
        "lsum = [sum(int(digit) for digit in str(number)) for number in range(1,1001)]\n",
        "total = sum(lsum)\n",
        "print(\"the sum of digits of numbers is \",total)\n",
        "print(lsum)"
      ],
      "metadata": {
        "colab": {
          "base_uri": "https://localhost:8080/"
        },
        "id": "euAr3AWVoFwP",
        "outputId": "a3d20071-3c0d-4eea-fc6d-d32a8ad87f60"
      },
      "id": "euAr3AWVoFwP",
      "execution_count": null,
      "outputs": [
        {
          "output_type": "stream",
          "name": "stdout",
          "text": [
            "the sum of digits of numbers is  13501\n",
            "[1, 2, 3, 4, 5, 6, 7, 8, 9, 1, 2, 3, 4, 5, 6, 7, 8, 9, 10, 2, 3, 4, 5, 6, 7, 8, 9, 10, 11, 3, 4, 5, 6, 7, 8, 9, 10, 11, 12, 4, 5, 6, 7, 8, 9, 10, 11, 12, 13, 5, 6, 7, 8, 9, 10, 11, 12, 13, 14, 6, 7, 8, 9, 10, 11, 12, 13, 14, 15, 7, 8, 9, 10, 11, 12, 13, 14, 15, 16, 8, 9, 10, 11, 12, 13, 14, 15, 16, 17, 9, 10, 11, 12, 13, 14, 15, 16, 17, 18, 1, 2, 3, 4, 5, 6, 7, 8, 9, 10, 2, 3, 4, 5, 6, 7, 8, 9, 10, 11, 3, 4, 5, 6, 7, 8, 9, 10, 11, 12, 4, 5, 6, 7, 8, 9, 10, 11, 12, 13, 5, 6, 7, 8, 9, 10, 11, 12, 13, 14, 6, 7, 8, 9, 10, 11, 12, 13, 14, 15, 7, 8, 9, 10, 11, 12, 13, 14, 15, 16, 8, 9, 10, 11, 12, 13, 14, 15, 16, 17, 9, 10, 11, 12, 13, 14, 15, 16, 17, 18, 10, 11, 12, 13, 14, 15, 16, 17, 18, 19, 2, 3, 4, 5, 6, 7, 8, 9, 10, 11, 3, 4, 5, 6, 7, 8, 9, 10, 11, 12, 4, 5, 6, 7, 8, 9, 10, 11, 12, 13, 5, 6, 7, 8, 9, 10, 11, 12, 13, 14, 6, 7, 8, 9, 10, 11, 12, 13, 14, 15, 7, 8, 9, 10, 11, 12, 13, 14, 15, 16, 8, 9, 10, 11, 12, 13, 14, 15, 16, 17, 9, 10, 11, 12, 13, 14, 15, 16, 17, 18, 10, 11, 12, 13, 14, 15, 16, 17, 18, 19, 11, 12, 13, 14, 15, 16, 17, 18, 19, 20, 3, 4, 5, 6, 7, 8, 9, 10, 11, 12, 4, 5, 6, 7, 8, 9, 10, 11, 12, 13, 5, 6, 7, 8, 9, 10, 11, 12, 13, 14, 6, 7, 8, 9, 10, 11, 12, 13, 14, 15, 7, 8, 9, 10, 11, 12, 13, 14, 15, 16, 8, 9, 10, 11, 12, 13, 14, 15, 16, 17, 9, 10, 11, 12, 13, 14, 15, 16, 17, 18, 10, 11, 12, 13, 14, 15, 16, 17, 18, 19, 11, 12, 13, 14, 15, 16, 17, 18, 19, 20, 12, 13, 14, 15, 16, 17, 18, 19, 20, 21, 4, 5, 6, 7, 8, 9, 10, 11, 12, 13, 5, 6, 7, 8, 9, 10, 11, 12, 13, 14, 6, 7, 8, 9, 10, 11, 12, 13, 14, 15, 7, 8, 9, 10, 11, 12, 13, 14, 15, 16, 8, 9, 10, 11, 12, 13, 14, 15, 16, 17, 9, 10, 11, 12, 13, 14, 15, 16, 17, 18, 10, 11, 12, 13, 14, 15, 16, 17, 18, 19, 11, 12, 13, 14, 15, 16, 17, 18, 19, 20, 12, 13, 14, 15, 16, 17, 18, 19, 20, 21, 13, 14, 15, 16, 17, 18, 19, 20, 21, 22, 5, 6, 7, 8, 9, 10, 11, 12, 13, 14, 6, 7, 8, 9, 10, 11, 12, 13, 14, 15, 7, 8, 9, 10, 11, 12, 13, 14, 15, 16, 8, 9, 10, 11, 12, 13, 14, 15, 16, 17, 9, 10, 11, 12, 13, 14, 15, 16, 17, 18, 10, 11, 12, 13, 14, 15, 16, 17, 18, 19, 11, 12, 13, 14, 15, 16, 17, 18, 19, 20, 12, 13, 14, 15, 16, 17, 18, 19, 20, 21, 13, 14, 15, 16, 17, 18, 19, 20, 21, 22, 14, 15, 16, 17, 18, 19, 20, 21, 22, 23, 6, 7, 8, 9, 10, 11, 12, 13, 14, 15, 7, 8, 9, 10, 11, 12, 13, 14, 15, 16, 8, 9, 10, 11, 12, 13, 14, 15, 16, 17, 9, 10, 11, 12, 13, 14, 15, 16, 17, 18, 10, 11, 12, 13, 14, 15, 16, 17, 18, 19, 11, 12, 13, 14, 15, 16, 17, 18, 19, 20, 12, 13, 14, 15, 16, 17, 18, 19, 20, 21, 13, 14, 15, 16, 17, 18, 19, 20, 21, 22, 14, 15, 16, 17, 18, 19, 20, 21, 22, 23, 15, 16, 17, 18, 19, 20, 21, 22, 23, 24, 7, 8, 9, 10, 11, 12, 13, 14, 15, 16, 8, 9, 10, 11, 12, 13, 14, 15, 16, 17, 9, 10, 11, 12, 13, 14, 15, 16, 17, 18, 10, 11, 12, 13, 14, 15, 16, 17, 18, 19, 11, 12, 13, 14, 15, 16, 17, 18, 19, 20, 12, 13, 14, 15, 16, 17, 18, 19, 20, 21, 13, 14, 15, 16, 17, 18, 19, 20, 21, 22, 14, 15, 16, 17, 18, 19, 20, 21, 22, 23, 15, 16, 17, 18, 19, 20, 21, 22, 23, 24, 16, 17, 18, 19, 20, 21, 22, 23, 24, 25, 8, 9, 10, 11, 12, 13, 14, 15, 16, 17, 9, 10, 11, 12, 13, 14, 15, 16, 17, 18, 10, 11, 12, 13, 14, 15, 16, 17, 18, 19, 11, 12, 13, 14, 15, 16, 17, 18, 19, 20, 12, 13, 14, 15, 16, 17, 18, 19, 20, 21, 13, 14, 15, 16, 17, 18, 19, 20, 21, 22, 14, 15, 16, 17, 18, 19, 20, 21, 22, 23, 15, 16, 17, 18, 19, 20, 21, 22, 23, 24, 16, 17, 18, 19, 20, 21, 22, 23, 24, 25, 17, 18, 19, 20, 21, 22, 23, 24, 25, 26, 9, 10, 11, 12, 13, 14, 15, 16, 17, 18, 10, 11, 12, 13, 14, 15, 16, 17, 18, 19, 11, 12, 13, 14, 15, 16, 17, 18, 19, 20, 12, 13, 14, 15, 16, 17, 18, 19, 20, 21, 13, 14, 15, 16, 17, 18, 19, 20, 21, 22, 14, 15, 16, 17, 18, 19, 20, 21, 22, 23, 15, 16, 17, 18, 19, 20, 21, 22, 23, 24, 16, 17, 18, 19, 20, 21, 22, 23, 24, 25, 17, 18, 19, 20, 21, 22, 23, 24, 25, 26, 18, 19, 20, 21, 22, 23, 24, 25, 26, 27, 1]\n"
          ]
        }
      ]
    },
    {
      "cell_type": "code",
      "source": [
        "#40. Write a program that generates a list of prime palindromic numbers using list comprehension.\n",
        "def prime_palindromic(n):\n",
        "    primes = [i for i in range(2, n) if all(i % j != 0 for j in range(2, int(i**0.5) + 1))]\n",
        "    jogi = [p for p in primes if str(p)==str(p)[::-1]]\n",
        "\n",
        "    return jogi\n",
        "\n",
        "print(f\"the prime palindomic numbers :\\n{prime_palindromic(1)}\")\n",
        "\n"
      ],
      "metadata": {
        "colab": {
          "base_uri": "https://localhost:8080/"
        },
        "id": "p_JO1kSdwFsc",
        "outputId": "2deb1987-868e-4f86-e9e5-8678ec7c4f47"
      },
      "id": "p_JO1kSdwFsc",
      "execution_count": null,
      "outputs": [
        {
          "output_type": "stream",
          "name": "stdout",
          "text": [
            "the prime palindomic numbers :\n",
            "[2, 3, 5, 7, 11, 101]\n"
          ]
        }
      ]
    },
    {
      "cell_type": "code",
      "source": [],
      "metadata": {
        "id": "pC_pQzwhx6ME"
      },
      "id": "pC_pQzwhx6ME",
      "execution_count": null,
      "outputs": []
    }
  ],
  "metadata": {
    "kernelspec": {
      "display_name": "Python 3 (ipykernel)",
      "language": "python",
      "name": "python3"
    },
    "language_info": {
      "codemirror_mode": {
        "name": "ipython",
        "version": 3
      },
      "file_extension": ".py",
      "mimetype": "text/x-python",
      "name": "python",
      "nbconvert_exporter": "python",
      "pygments_lexer": "ipython3",
      "version": "3.10.9"
    },
    "colab": {
      "provenance": [],
      "include_colab_link": true
    }
  },
  "nbformat": 4,
  "nbformat_minor": 5
}