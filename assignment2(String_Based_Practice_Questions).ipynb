{
  "cells": [
    {
      "cell_type": "markdown",
      "metadata": {
        "id": "view-in-github",
        "colab_type": "text"
      },
      "source": [
        "<a href=\"https://colab.research.google.com/github/Jo9gi/PW-SKILLS-ASSIGNMENTS/blob/main/assignment2(String_Based_Practice_Questions).ipynb\" target=\"_parent\"><img src=\"https://colab.research.google.com/assets/colab-badge.svg\" alt=\"Open In Colab\"/></a>"
      ]
    },
    {
      "cell_type": "markdown",
      "metadata": {
        "id": "OBc6A1n91hsl"
      },
      "source": [
        "# **TOPIC: String Based Assignment Problem**"
      ]
    },
    {
      "cell_type": "markdown",
      "metadata": {
        "id": "mhUWg42H1sA1"
      },
      "source": [
        "1. Write a program to reverse a string."
      ]
    },
    {
      "cell_type": "code",
      "execution_count": null,
      "metadata": {
        "id": "o96J0qpcx2O6"
      },
      "outputs": [],
      "source": [
        "string =input()\n",
        "string1=string[::-1]\n",
        "print(\"reversed string is \",string1)"
      ]
    },
    {
      "cell_type": "markdown",
      "metadata": {
        "id": "thkY-pU32jJL"
      },
      "source": [
        "2. Check if a string is a palindrome."
      ]
    },
    {
      "cell_type": "code",
      "execution_count": null,
      "metadata": {
        "id": "prcCHBZc1_dG"
      },
      "outputs": [],
      "source": [
        "string = input(\"input_string: \")\n",
        "if string==string[::-1] :\n",
        "  print(\"it is a palindrome\")\n",
        "else :\n",
        "  print(\"not a palindrome\")"
      ]
    },
    {
      "cell_type": "markdown",
      "metadata": {
        "id": "bHKi6iZK3ImA"
      },
      "source": [
        "3. Convert a string to uppercase."
      ]
    },
    {
      "cell_type": "code",
      "execution_count": null,
      "metadata": {
        "id": "JbCpJNFX3Err"
      },
      "outputs": [],
      "source": [
        "string = input(\"input_string: \")\n",
        "string = string.upper()\n",
        "print(\"The uppercase is\",string)"
      ]
    },
    {
      "cell_type": "markdown",
      "metadata": {
        "id": "Deh9zjRK4eo2"
      },
      "source": [
        "4. Convert a string to lowercase."
      ]
    },
    {
      "cell_type": "code",
      "execution_count": null,
      "metadata": {
        "id": "M7ITlriq31HY"
      },
      "outputs": [],
      "source": [
        "string = input(\"input_string: \")\n",
        "string = string.lower()\n",
        "print(\"The lowercase is\",string)"
      ]
    },
    {
      "cell_type": "markdown",
      "metadata": {
        "id": "R4IBf2PH4jgY"
      },
      "source": [
        "5. Count the number of vowels in a string."
      ]
    },
    {
      "cell_type": "code",
      "execution_count": null,
      "metadata": {
        "id": "UTj5jAN44oq5"
      },
      "outputs": [],
      "source": [
        "string = input(\"input_string: \").lower()\n",
        "vowel_count = 0\n",
        "vowels = \"aeiou\"\n",
        "for i in string :\n",
        "  if i in vowels:\n",
        "    vowel_count += 1\n",
        "print(\"Total number of vowels in the string: \",vowel_count)"
      ]
    },
    {
      "cell_type": "markdown",
      "metadata": {
        "id": "f1N_XSjY8RnL"
      },
      "source": [
        "6. Count the number of consonants in a string."
      ]
    },
    {
      "cell_type": "code",
      "execution_count": null,
      "metadata": {
        "id": "7cGUndvx4ozV"
      },
      "outputs": [],
      "source": [
        "string = input(\"input_string: \").lower()\n",
        "consonant_count = 0\n",
        "vowels = \"aeiou\"\n",
        "for i in string :\n",
        "  if i not in vowels:\n",
        "    consonant_count += 1\n",
        "print(\"Total number of consonants in the string: \",consonant_count)"
      ]
    },
    {
      "cell_type": "markdown",
      "metadata": {
        "id": "JR_-F2it9HYE"
      },
      "source": [
        "7. Remove all whitespaces from a string."
      ]
    },
    {
      "cell_type": "code",
      "execution_count": null,
      "metadata": {
        "id": "NtyzQECY4ovy"
      },
      "outputs": [],
      "source": [
        "string = input(\"input-string: \")\n",
        "string = string.replace(\" \",\"\")\n",
        "print(\"The removable white spaced string is\",string)"
      ]
    },
    {
      "cell_type": "markdown",
      "metadata": {
        "id": "AGwh6ugoAFE9"
      },
      "source": [
        "8. Find the length of a string without using the `len()` function.\n"
      ]
    },
    {
      "cell_type": "code",
      "execution_count": null,
      "metadata": {
        "id": "Ww9ex_F29hve"
      },
      "outputs": [],
      "source": [
        "string = input(\"given_string: \")\n",
        "count = 0\n",
        "for i in string :\n",
        "  count+=1\n",
        "print(\"The lenth of the string with out using len() is\",count)"
      ]
    },
    {
      "cell_type": "markdown",
      "metadata": {
        "id": "CgsWRb6oCN8r"
      },
      "source": [
        "9. Check if a string contains a specific word."
      ]
    },
    {
      "cell_type": "code",
      "execution_count": null,
      "metadata": {
        "id": "fZPAe0O2A0Dn"
      },
      "outputs": [],
      "source": [
        "string = input(\"input_string: \").lower()\n",
        "specified_word = input(\"specified_word: \").lower()\n",
        "if specified_word in string :\n",
        "  print(\"Available\")\n",
        "else :\n",
        "  print(\"Not Available\")"
      ]
    },
    {
      "cell_type": "markdown",
      "metadata": {
        "id": "CJLfC0iTIjnb"
      },
      "source": [
        "10. Replace a word in a string with another word."
      ]
    },
    {
      "cell_type": "code",
      "execution_count": null,
      "metadata": {
        "id": "35jM21vwDZ6E"
      },
      "outputs": [],
      "source": [
        "string = input(\"input_string: \")\n",
        "string = string.replace(input('word_to_replace: '),input(\"replacement_word: \"))\n",
        "print(\"The repalceable word is -->\",string)"
      ]
    },
    {
      "cell_type": "markdown",
      "metadata": {
        "id": "A8T4EuvZKs5F"
      },
      "source": [
        "11. Count the occurrences of a word in a string."
      ]
    },
    {
      "cell_type": "code",
      "execution_count": null,
      "metadata": {
        "id": "YA52dEHCJRRs"
      },
      "outputs": [],
      "source": [
        "string = input(\"Given-sentence: \")\n",
        "string = string.count(input())\n",
        "print(\"Count the occurrences of a word in a string is --. \",string)"
      ]
    },
    {
      "cell_type": "markdown",
      "metadata": {
        "id": "xhR-q7hdNHmH"
      },
      "source": [
        "12. Find the first occurrence of a word in a string\n"
      ]
    },
    {
      "cell_type": "code",
      "execution_count": null,
      "metadata": {
        "id": "4uPxVVnXMRev"
      },
      "outputs": [],
      "source": [
        "string = input(\"Given_sentence: \")\n",
        "string = string.find(input())\n",
        "print(\"the first occurrence of a word in a string is\",string)"
      ]
    },
    {
      "cell_type": "markdown",
      "metadata": {
        "id": "SpA0bF8yQefQ"
      },
      "source": [
        "13. Find the last occurrence of a word in a string.\n",
        "\n"
      ]
    },
    {
      "cell_type": "code",
      "execution_count": null,
      "metadata": {
        "id": "S2zUkqSyQ1uD"
      },
      "outputs": [],
      "source": [
        "text = \"This is a simple example, and this is the last example.\"\n",
        "word_to_find = \"and\"\n",
        "\n",
        "last_index = text.rfind(word_to_find)\n",
        "\n",
        "if last_index != -1:\n",
        "    print(f\"The last occurrence of '{word_to_find}' is at index {last_index}\")\n",
        "else:\n",
        "    print(f\"'{word_to_find}' not found in the string.\")\n"
      ]
    },
    {
      "cell_type": "markdown",
      "metadata": {
        "id": "l_nHQ3JiTlnU"
      },
      "source": [
        "14. Split a string into a list of words"
      ]
    },
    {
      "cell_type": "code",
      "execution_count": null,
      "metadata": {
        "id": "fwptNXVBTLnB"
      },
      "outputs": [],
      "source": [
        "text = input(\"given_sentence: \")\n",
        "text = text.split()\n",
        "print(text)"
      ]
    },
    {
      "cell_type": "markdown",
      "metadata": {
        "id": "JYZ819LAWirv"
      },
      "source": [
        "15. Join a list of words into a string."
      ]
    },
    {
      "cell_type": "code",
      "execution_count": null,
      "metadata": {
        "id": "9n9rbUqzUNZW"
      },
      "outputs": [],
      "source": [
        "text = input(\"given_sentence: \")\n",
        "text = text.split()\n",
        "result_string = ' '.join(text)\n",
        "print(result_string)"
      ]
    },
    {
      "cell_type": "markdown",
      "metadata": {
        "id": "mgxq5XT7Ggxw"
      },
      "source": [
        "16. Convert a string where words are separated by spaces to one where words\n",
        "are separated by underscores."
      ]
    },
    {
      "cell_type": "code",
      "execution_count": null,
      "metadata": {
        "id": "Y0vGL3-kX-Rs"
      },
      "outputs": [],
      "source": [
        "string = input(\"enter_the_text: \")\n",
        "string = string.replace(\" \",\"_\")\n",
        "print(string)"
      ]
    },
    {
      "cell_type": "markdown",
      "metadata": {
        "id": "uKtbDBYlKfMp"
      },
      "source": [
        "17. Check if a string starts with a specific word or phrase."
      ]
    },
    {
      "cell_type": "code",
      "execution_count": null,
      "metadata": {
        "id": "4S6WznMuKHHp"
      },
      "outputs": [],
      "source": [
        "string = input(\"enter_the_text: \")\n",
        "phrase = input(\"Enter_the_specifiedword: \")\n",
        "\n",
        "if string.startswith(phrase):\n",
        "  print(\"string starts with a specific word\")\n",
        "else :\n",
        "  print(\"string not starts with a specific word\")"
      ]
    },
    {
      "cell_type": "markdown",
      "metadata": {
        "id": "hOCiUxMeMNBk"
      },
      "source": [
        "18. Check if a string ends with a specific word or phrase"
      ]
    },
    {
      "cell_type": "code",
      "execution_count": null,
      "metadata": {
        "id": "hbnM7nSwLueB"
      },
      "outputs": [],
      "source": [
        "string = input(\"enter_the_text: \")\n",
        "phrase = input(\"Enter_the_specifiedword: \")\n",
        "\n",
        "if string.endswith(phrase):\n",
        "  print(\"string ends with a specific word\")\n",
        "else :\n",
        "  print(\"string not ends with a specific word\")"
      ]
    },
    {
      "cell_type": "markdown",
      "metadata": {
        "id": "urgQezW3NFdo"
      },
      "source": [
        "19. Convert a string to title case (e.g., \"hello world\" to \"Hello World\")."
      ]
    },
    {
      "cell_type": "code",
      "execution_count": null,
      "metadata": {
        "id": "sBM_ed9aM9SK"
      },
      "outputs": [],
      "source": [
        "string = input(\"enter_the_text: \")\n",
        "string = string.title()\n",
        "print(string)"
      ]
    },
    {
      "cell_type": "markdown",
      "metadata": {
        "id": "t0OM-AxoNedp"
      },
      "source": [
        "20. Find the longest word in a string.\n"
      ]
    },
    {
      "cell_type": "code",
      "execution_count": null,
      "metadata": {
        "id": "lfJQOgETNYSz"
      },
      "outputs": [],
      "source": [
        "sentence = input(\"enter the sentence: \")\n",
        "Split = sentence.split()\n",
        "longest_word = \"\"\n",
        "\n",
        "for word in Split :\n",
        "  word = word.strip(\".,!?;\")\n",
        "  if len(word) > len(longest_word):\n",
        "    longest_word = word\n",
        "print(\"The longest word is-->\",longest_word)"
      ]
    },
    {
      "cell_type": "markdown",
      "metadata": {
        "id": "a2czfXd5Xtym"
      },
      "source": [
        "21. Find the shortest word in a string."
      ]
    },
    {
      "cell_type": "code",
      "execution_count": null,
      "metadata": {
        "id": "1b1YbcBNT-84"
      },
      "outputs": [],
      "source": [
        "sentence = input(\"enter the sentence: \")\n",
        "Split = sentence.split()\n",
        "shortest_word = None\n",
        "\n",
        "for word in Split :\n",
        "  word = word.strip(\".,!?;\")\n",
        "  if shortest_word is None or len(word) < len(shortest_word):\n",
        "    shortest_word = word\n",
        "print(\"The shortest word is-->\",shortest_word)"
      ]
    },
    {
      "cell_type": "markdown",
      "metadata": {
        "id": "9Yg0wV45Zezu"
      },
      "source": [
        "22. Reverse the order of words in a string."
      ]
    },
    {
      "cell_type": "code",
      "execution_count": null,
      "metadata": {
        "id": "_BzpzzGLZmUE"
      },
      "outputs": [],
      "source": [
        "sentance = input(\"enter_the_sentance: \")\n",
        "sentance = sentance.split()\n",
        "reversed = ' '.join(sentance[::-1])\n",
        "print('The reversed sentance is ->',reversed)"
      ]
    },
    {
      "cell_type": "markdown",
      "metadata": {
        "id": "4twRtwKIbvhh"
      },
      "source": [
        "23. Check if a string is alphanumeric.\n",
        "\n",
        "\n"
      ]
    },
    {
      "cell_type": "code",
      "execution_count": null,
      "metadata": {
        "id": "ikGn0ic6Zm4Q"
      },
      "outputs": [],
      "source": [
        "sentance = input(\"enter_the_sentance: \")\n",
        "if sentance.isalnum():\n",
        "  print(\"The string is alphanumeric.\")\n",
        "else :\n",
        "  print(\"The string is not alphanumeric.\")"
      ]
    },
    {
      "cell_type": "markdown",
      "metadata": {
        "id": "-r7kA_uXemN_"
      },
      "source": [
        "24. Extract all digits from a string"
      ]
    },
    {
      "cell_type": "code",
      "execution_count": null,
      "metadata": {
        "id": "JQhDbIMkZmwS"
      },
      "outputs": [],
      "source": [
        "string = input('enter the string: ')\n",
        "result = ''\n",
        "for char in string :\n",
        "  if char.isdigit():\n",
        "    result += char\n",
        "print(\"extracted digits:\",result)"
      ]
    },
    {
      "cell_type": "markdown",
      "metadata": {
        "id": "VPgTeyU0QiCG"
      },
      "source": [
        "25. Extract all alphabets from a string.\n"
      ]
    },
    {
      "cell_type": "code",
      "execution_count": null,
      "metadata": {
        "id": "iL_idCXiZmoE"
      },
      "outputs": [],
      "source": [
        "string = input('enter the string: ')\n",
        "result = ''\n",
        "for char in string :\n",
        "  if char.isalpha():\n",
        "    result += char\n",
        "print(\"extracted alphabets:\",result)"
      ]
    },
    {
      "cell_type": "markdown",
      "metadata": {
        "id": "GHAaiJYRRDgb"
      },
      "source": [
        "26. Count the number of uppercase letters in a string.\n"
      ]
    },
    {
      "cell_type": "code",
      "execution_count": null,
      "metadata": {
        "id": "9iP1SBw3RDJR"
      },
      "outputs": [],
      "source": [
        "input = input(\"ENTER_THE_STRING: \")\n",
        "result = 0\n",
        "for char  in input :\n",
        "  if char.isupper() :\n",
        "    result += 1\n",
        "print(\"count of upper case letters : \",result)\n"
      ]
    },
    {
      "cell_type": "markdown",
      "metadata": {
        "id": "SPLWXQOFVCmd"
      },
      "source": [
        "27. Count the number of lowercase letters in a string.\n"
      ]
    },
    {
      "cell_type": "code",
      "execution_count": null,
      "metadata": {
        "id": "GbCUS2fFRDF0"
      },
      "outputs": [],
      "source": [
        "input = input(\"ENTER_THE_STRING: \")\n",
        "result = 0\n",
        "for char  in input :\n",
        "  if char.islower() :\n",
        "    result += 1\n",
        "print(\"count of upper case letters : \",result)\n"
      ]
    },
    {
      "cell_type": "markdown",
      "metadata": {
        "id": "VIYNLC4G_mct"
      },
      "source": [
        "28. Swap the case of each character in a string"
      ]
    },
    {
      "cell_type": "code",
      "execution_count": null,
      "metadata": {
        "id": "eNtTWTwNUzpb"
      },
      "outputs": [],
      "source": [
        "def swap_case(input_string):\n",
        "  string = input_string.swapcase()\n",
        "  return string\n",
        "original_string = \"joGi NaIdU\"\n",
        "result = swap_case(original_string)\n",
        "print(result)"
      ]
    },
    {
      "cell_type": "markdown",
      "metadata": {
        "id": "moMFT9rTEPpc"
      },
      "source": [
        "29. Remove a specific word from a string.\n"
      ]
    },
    {
      "cell_type": "code",
      "execution_count": null,
      "metadata": {
        "id": "3Ih8UAXnDm_J"
      },
      "outputs": [],
      "source": [
        "def input_1(input_string,target_word):\n",
        "  words = input_string.split()\n",
        "\n",
        "  words = [word for word in words if word != target_word]\n",
        "  result_string = ''.join(words)\n",
        "  return result_string\n",
        "original_string = \"Hello everyone, say Hello with me\"\n",
        "remove_word = \"Hello\"\n",
        "result = input_1(original_string,remove_word)\n",
        "print(result)"
      ]
    },
    {
      "cell_type": "markdown",
      "metadata": {
        "id": "37F0OYvYJ5n1"
      },
      "source": [
        "30. Check if a string is a valid email address"
      ]
    },
    {
      "cell_type": "code",
      "execution_count": null,
      "metadata": {
        "id": "ryE3MxePFEk_"
      },
      "outputs": [],
      "source": [
        "import re\n",
        "def is_valid_email(email):\n",
        "    pattern = r'^\\S+@\\S+\\.\\S+$'\n",
        "    return bool(re.match(pattern, email))\n",
        "\n",
        "email_to_check = \"example@email.com\"\n",
        "if is_valid_email(email_to_check):\n",
        "    print(f\"{email_to_check} is a valid email address.\")\n",
        "else:\n",
        "    print(f\"{email_to_check} is not a valid email address.\")"
      ]
    },
    {
      "cell_type": "markdown",
      "metadata": {
        "id": "EZaBndaHOXJ4"
      },
      "source": [
        "31. Extract the username from an email address string."
      ]
    },
    {
      "cell_type": "code",
      "execution_count": null,
      "metadata": {
        "id": "sICOIYTDOPv6"
      },
      "outputs": [],
      "source": [
        "import re\n",
        "\n",
        "def extract_username(email_address):\n",
        "    pattern = r\"^(.+?)@\"\n",
        "    match = re.search(pattern, email_address)\n",
        "    if match:\n",
        "        return match.group(1)\n",
        "    else:\n",
        "        return None\n",
        "\n",
        "email_address = \"joginaidu1025@gmail.com\"\n",
        "username = extract_username(email_address)\n",
        "print(username)  # Output: johndoe\n"
      ]
    },
    {
      "cell_type": "markdown",
      "source": [
        "32. Extract the domain name from an email address string.\n"
      ],
      "metadata": {
        "id": "vg9xkggV5y7j"
      }
    },
    {
      "cell_type": "code",
      "source": [
        "import re\n",
        "\n",
        "def extract_domainname(email_address):\n",
        "  pattern = r\"@(.*)$\"\n",
        "  match = re.search(pattern,email_address)\n",
        "  if match :\n",
        "    return match.group(1)\n",
        "  else:\n",
        "    return None\n",
        "email_address = \"joginaidu1025@gmial$com\"\n",
        "domain = extract_domainname(email_address)\n",
        "print(domain)"
      ],
      "metadata": {
        "id": "0v3nceo15zzZ",
        "colab": {
          "base_uri": "https://localhost:8080/"
        },
        "outputId": "daa5892c-6e4f-4357-f51a-8b91b3dc96ac"
      },
      "execution_count": null,
      "outputs": [
        {
          "output_type": "stream",
          "name": "stdout",
          "text": [
            "gmial$com\n"
          ]
        }
      ]
    },
    {
      "cell_type": "markdown",
      "source": [
        "33. Replace multiple spaces in a string with a single space.\n"
      ],
      "metadata": {
        "id": "pO1bgQAZ7yD7"
      }
    },
    {
      "cell_type": "code",
      "source": [
        "def remove_extra_spaces(string):\n",
        "    return ' '.join(string.split())\n",
        "\n",
        "input_string = \"This    is a    sample                       string. It has multiple spaces.\"\n",
        "output_string = remove_extra_spaces(input_string)\n",
        "\n",
        "print(\"Original String:\")\n",
        "print(input_string)\n",
        "print(\"\\nString after removing extra spaces:\")\n",
        "print(output_string)"
      ],
      "metadata": {
        "id": "Me_tPjVu7tDs"
      },
      "execution_count": null,
      "outputs": []
    },
    {
      "cell_type": "markdown",
      "source": [
        "34. Check if a string is a valid URL"
      ],
      "metadata": {
        "id": "RmlSX5U3Tznv"
      }
    },
    {
      "cell_type": "code",
      "source": [
        "from urllib.parse import urlparse\n",
        "\n",
        "def valid_url(url):\n",
        "    try:\n",
        "        result = urlparse(url)\n",
        "        return all([result.scheme, result.netloc])\n",
        "    except:\n",
        "        return False\n",
        "\n",
        "# Example URLs\n",
        "url1 = \"https://www.example.com\"\n",
        "url2 = \"invalid-url\"\n",
        "res_1 = valid_url(url1)\n",
        "res_2 = valid_url(url2)\n",
        "print(res_1)\n",
        "print(res_2)\n"
      ],
      "metadata": {
        "colab": {
          "base_uri": "https://localhost:8080/"
        },
        "id": "a-TYN3HUTyeR",
        "outputId": "d86eeb19-1239-402b-ff2f-2e02f96087ad"
      },
      "execution_count": null,
      "outputs": [
        {
          "output_type": "stream",
          "name": "stdout",
          "text": [
            "True\n",
            "False\n"
          ]
        }
      ]
    },
    {
      "cell_type": "markdown",
      "source": [
        "35. Extract the protocol (http or https) from a URL string."
      ],
      "metadata": {
        "id": "la_gh1mkT_MG"
      }
    },
    {
      "cell_type": "code",
      "source": [
        "def extract_protocol(url):\n",
        "  protocol_end = url.find(\"://\")\n",
        "\n",
        "  if protocol_end != -1:\n",
        "    protocol = url[:protocol_end]\n",
        "    return protocol\n",
        "  else :\n",
        "    return None\n",
        "# Example URL strings\n",
        "url1 = \"https://www.example.com\"\n",
        "url2 = \"http://google.com\"\n",
        "url3 = \"ftp://ftp.example.com\"\n",
        "\n",
        "# Extract protocols\n",
        "protocol1 = extract_protocol(url1)\n",
        "protocol2 = extract_protocol(url2)\n",
        "protocol3 = extract_protocol(url3)\n",
        "\n",
        "# Print extracted protocols\n",
        "print(\"Protocol 1:\", protocol1)\n",
        "print(\"Protocol 2:\", protocol2)\n",
        "print(\"Protocol 3:\", protocol3)\n"
      ],
      "metadata": {
        "colab": {
          "base_uri": "https://localhost:8080/"
        },
        "id": "JyVANM8QTya2",
        "outputId": "a530355e-d636-4fb8-93d8-8c83087dbc89"
      },
      "execution_count": null,
      "outputs": [
        {
          "output_type": "stream",
          "name": "stdout",
          "text": [
            "Protocol 1: https\n",
            "Protocol 2: http\n",
            "Protocol 3: ftp\n"
          ]
        }
      ]
    },
    {
      "cell_type": "code",
      "source": [
        "#36. Find the frequency of each character in a string.\n",
        "string = 'joginaidu'\n",
        "frequency_dict = {}\n",
        "\n",
        "for char in string:\n",
        "    if char in frequency_dict:\n",
        "        frequency_dict[char] += 1\n",
        "    else:\n",
        "        frequency_dict[char] = 1\n",
        "\n",
        "# Print the frequencies\n",
        "for char, count in frequency_dict.items():\n",
        "    print(f\"The frequency of '{char}' is {count}\")\n",
        "\n",
        "print(frequency_dict)\n",
        "\n",
        "\n",
        "\n",
        "\n",
        "\n",
        "\n",
        "\n",
        "\n"
      ],
      "metadata": {
        "id": "Kfu46iyDTyYQ",
        "colab": {
          "base_uri": "https://localhost:8080/"
        },
        "outputId": "fc950cb7-867f-43bd-b4cf-c8783a3cd122"
      },
      "execution_count": null,
      "outputs": [
        {
          "output_type": "stream",
          "name": "stdout",
          "text": [
            "The frequency of 'j' is 1\n",
            "The frequency of 'o' is 1\n",
            "The frequency of 'g' is 1\n",
            "The frequency of 'i' is 2\n",
            "The frequency of 'n' is 1\n",
            "The frequency of 'a' is 1\n",
            "The frequency of 'd' is 1\n",
            "The frequency of 'u' is 1\n",
            "{'j': 1, 'o': 1, 'g': 1, 'i': 2, 'n': 1, 'a': 1, 'd': 1, 'u': 1}\n"
          ]
        }
      ]
    },
    {
      "cell_type": "code",
      "source": [
        "#37. Remove all punctuation from a string.\n",
        "string = \"jogi!na?du, can you pleas'e me for t@hat.\"\n",
        "pun = \"!?%$@',.\"\n",
        "result_string = \"\".join(num for num in string if num not in pun)\n",
        "print(result_string)\n",
        "\n"
      ],
      "metadata": {
        "id": "YCnmlIdoTyUS",
        "colab": {
          "base_uri": "https://localhost:8080/"
        },
        "outputId": "481c8529-26ab-4e86-9c0f-b05236aa31ce"
      },
      "execution_count": null,
      "outputs": [
        {
          "output_type": "stream",
          "name": "stdout",
          "text": [
            "joginadu can you please me for that\n"
          ]
        }
      ]
    },
    {
      "cell_type": "code",
      "source": [
        "#38. Check if a string contains only digits.\n",
        "string = input(\"enter the digit\")\n",
        "if string.isdigit()==True :\n",
        "  print(\"contain only digits\")\n",
        "else:\n",
        "  print(\"include alphabets\")"
      ],
      "metadata": {
        "id": "eNkHyKYOTyQ4",
        "colab": {
          "base_uri": "https://localhost:8080/"
        },
        "outputId": "b45f5ee2-1dbf-449c-d131-e70dd9d98b44"
      },
      "execution_count": null,
      "outputs": [
        {
          "output_type": "stream",
          "name": "stdout",
          "text": [
            "enter the digit1234\n",
            "contain only digits\n"
          ]
        }
      ]
    },
    {
      "cell_type": "code",
      "source": [
        "#39. Check if a string contains only alphabets.\n",
        "string = input(\"enter the digit\")\n",
        "if string.isalpha()==True :\n",
        "  print(\"contain only alphabets\")\n",
        "else:\n",
        "  print(\"contains not only alphabets\")"
      ],
      "metadata": {
        "id": "68CT_pT6TyOI",
        "colab": {
          "base_uri": "https://localhost:8080/"
        },
        "outputId": "c1ca35ed-5c27-42d0-b045-a7c2208d50fc"
      },
      "execution_count": null,
      "outputs": [
        {
          "output_type": "stream",
          "name": "stdout",
          "text": [
            "enter the digitjogi!\n",
            "contains not only alphabets\n"
          ]
        }
      ]
    },
    {
      "cell_type": "code",
      "source": [
        "#40. Convert a string to a list of characters.\n",
        "input_string = \"HelloWorld\"\n",
        "char_list = list(input_string)\n",
        "\n",
        "print(\"String:\", input_string)\n",
        "print(\"List of characters:\", char_list)\n",
        "\n"
      ],
      "metadata": {
        "id": "8lZZj51UTyL2",
        "colab": {
          "base_uri": "https://localhost:8080/"
        },
        "outputId": "877365f8-8418-4751-ec4c-54a7bf691d8b"
      },
      "execution_count": null,
      "outputs": [
        {
          "output_type": "stream",
          "name": "stdout",
          "text": [
            "String: HelloWorld\n",
            "List of characters: ['H', 'e', 'l', 'l', 'o', 'W', 'o', 'r', 'l', 'd']\n"
          ]
        }
      ]
    },
    {
      "cell_type": "code",
      "source": [
        "#41. Check if two strings are anagrams.\n",
        "def are_anagrams(str1, str2):\n",
        "    str1 = str1.replace(\" \", \"\").lower()\n",
        "    str2 = str2.replace(\" \", \"\").lower()\n",
        "\n",
        "    return sorted(str1) == sorted(str2)\n",
        "\n",
        "\n",
        "string1 = \"Listen\"\n",
        "string2 = \"Silent\"\n",
        "\n",
        "if are_anagrams(string1, string2):\n",
        "    print(f\"{string1} and {string2} are anagrams.\")\n",
        "else:\n",
        "    print(f\"{string1} and {string2} are not anagrams.\")\n"
      ],
      "metadata": {
        "id": "GDeoNExLTyJK",
        "colab": {
          "base_uri": "https://localhost:8080/"
        },
        "outputId": "6d3fb1a2-7b8b-4da7-bea7-c631185b5f5c"
      },
      "execution_count": null,
      "outputs": [
        {
          "output_type": "stream",
          "name": "stdout",
          "text": [
            "Listen and Silent are anagrams.\n"
          ]
        }
      ]
    },
    {
      "cell_type": "code",
      "source": [
        "#42. Encode a string using a Caesar cipher.\n",
        "\n",
        "def caesar_encode(text, shift):\n",
        "    encoded_text = \"\"\n",
        "    for char in text:\n",
        "        if char.isalpha():\n",
        "            is_upper = char.isupper()\n",
        "            char_code = ord(char)\n",
        "            if is_upper:\n",
        "                encoded_char_code = (char_code - ord('A') + shift) % 26 + ord('A')\n",
        "            else:\n",
        "                encoded_char_code = (char_code - ord('a') + shift) % 26 + ord('a')\n",
        "            encoded_text += chr(encoded_char_code)\n",
        "        else:\n",
        "            encoded_text += char\n",
        "    return encoded_text\n",
        "\n",
        "# Example usage\n",
        "text = \"Hello, world!\"\n",
        "shift = 3\n",
        "encoded_text = caesar_encode(text, shift)\n",
        "print(encoded_text)\n"
      ],
      "metadata": {
        "colab": {
          "base_uri": "https://localhost:8080/"
        },
        "id": "nciackXToTDo",
        "outputId": "2e32e1b4-689a-4293-a11a-3990f9da6072"
      },
      "execution_count": null,
      "outputs": [
        {
          "output_type": "stream",
          "name": "stdout",
          "text": [
            "Khoor, zruog!\n"
          ]
        }
      ]
    },
    {
      "cell_type": "code",
      "source": [
        "#  43. Decode a Caesar cipher encoded string.\n",
        "\n",
        "def decode_caesar_cipher(encoded_text, shift):\n",
        "    decoded_text = \"\"\n",
        "    for char in encoded_text:\n",
        "        if char.isalpha():\n",
        "            is_upper = char.isupper()\n",
        "            char_code = ord(char)\n",
        "            if is_upper:\n",
        "                decoded_char_code = (char_code - ord('A') - shift) % 26 + ord('A')\n",
        "            else:\n",
        "                decoded_char_code = (char_code - ord('a') - shift) % 26 + ord('a')\n",
        "            decoded_text += chr(decoded_char_code)\n",
        "        else:\n",
        "            decoded_text += char\n",
        "    return decoded_text\n",
        "\n",
        "# Example usage\n",
        "encoded_text = \"Khoor, zruog!\"\n",
        "shift = 3\n",
        "decoded_text = decode_caesar_cipher(encoded_text, shift)\n",
        "print(decoded_text)\n"
      ],
      "metadata": {
        "id": "OU36KzKWoTAP",
        "colab": {
          "base_uri": "https://localhost:8080/"
        },
        "outputId": "5753cdb2-6f40-4de3-b2a7-b4e75f96ac58"
      },
      "execution_count": null,
      "outputs": [
        {
          "output_type": "stream",
          "name": "stdout",
          "text": [
            "Hello, world!\n"
          ]
        }
      ]
    },
    {
      "cell_type": "code",
      "source": [
        "#44. Find the most frequent word in a string.\n",
        "jogi = \"This is a string with some repeated words. This is another repeated word.\"\n",
        "hin = jogi.split(\" \")\n",
        "lite = {}\n",
        "\n",
        "for i in hin:\n",
        "  if i in lite:\n",
        "    lite[i]+=1\n",
        "  else:\n",
        "    lite[i]=1\n",
        "frequent_word = None\n",
        "highest_count=0\n",
        "for word,count in lite.items():\n",
        "  if count > highest_count:\n",
        "    highest_count = count\n",
        "    frequent_word = word\n",
        "print(f\"the most frequent word is'{frequent_word}'\")\n"
      ],
      "metadata": {
        "id": "LJroqT-yoS-H",
        "colab": {
          "base_uri": "https://localhost:8080/"
        },
        "outputId": "cd3818f0-4fd5-44a4-c6a8-3003c1ec9aa2"
      },
      "execution_count": null,
      "outputs": [
        {
          "output_type": "stream",
          "name": "stdout",
          "text": [
            "the most frequent word is'This'\n"
          ]
        }
      ]
    },
    {
      "cell_type": "code",
      "source": [
        "#45. Find all unique words in a string.\n",
        "string = \"This is an example sentence. This sentence contains some words, and some words may repeat.\"\n",
        "split = string.split()\n",
        "unique_words = set(split)\n",
        "print(unique_words)"
      ],
      "metadata": {
        "id": "6DvrPHLPoS1j"
      },
      "execution_count": null,
      "outputs": []
    },
    {
      "cell_type": "code",
      "source": [
        "#46. Count the number of syllables in a string.\n",
        "\n",
        "def count_syllables(word):\n",
        "  count = 0\n",
        "  vowels = \"aeiouy\"\n",
        "  word = word.lower()\n",
        "  if word:\n",
        "    if word[0] in vowels:\n",
        "      count += 1\n",
        "    for i in range(1, len(word)):\n",
        "      if word[i] in vowels and word[i-1] not in vowels:\n",
        "        count += 1\n",
        "  if word.endswith(\"e\"):\n",
        "    count -= 1\n",
        "  if word.endswith(\"le\"):\n",
        "    count += 1\n",
        "  return count\n",
        "\n",
        "sentence = \"This is an example sentence.\"\n",
        "words = sentence.split()\n",
        "total_syllables = 0\n",
        "for word in words:\n",
        "  total_syllables += count_syllables(word)\n",
        "\n",
        "print(f\"The sentence '{sentence}' has {total_syllables} syllables.\")\n"
      ],
      "metadata": {
        "id": "oGxorYNxbP2F",
        "colab": {
          "base_uri": "https://localhost:8080/"
        },
        "outputId": "663f85ad-5f66-43a3-934d-054642a82ea2"
      },
      "execution_count": null,
      "outputs": [
        {
          "output_type": "stream",
          "name": "stdout",
          "text": [
            "The sentence 'This is an example sentence.' has 9 syllables.\n"
          ]
        }
      ]
    },
    {
      "cell_type": "code",
      "source": [
        "#47. Check if a string contains any special characters.\n",
        "def special_char(string):\n",
        "  special_ones = set(\"!@#$%&*'?./\\|\")\n",
        "  for i in string:\n",
        "    if i in special_ones:\n",
        "      return True\n",
        "  return False\n",
        "string = \"Check if a string contains any special characters\"\n",
        "contains_special = special_char(string)\n",
        "if contains_special:\n",
        "    print(\"The string contains special characters.\")\n",
        "else:\n",
        "    print(\"The string does not contain special characters.\")\n"
      ],
      "metadata": {
        "id": "Xx-aWhc1bPyp",
        "colab": {
          "base_uri": "https://localhost:8080/"
        },
        "outputId": "8e933d24-bba3-4556-b734-d451f2817011"
      },
      "execution_count": null,
      "outputs": [
        {
          "output_type": "stream",
          "name": "stdout",
          "text": [
            "The string does not contain special characters.\n"
          ]
        }
      ]
    },
    {
      "cell_type": "code",
      "source": [
        "#48. Remove the nth word from a string.\n",
        "string = \"joginaidu pen is mine\"\n",
        "string = string.split()\n",
        "n = int(input(f\"enter the number less than {len(string)} is : \"))\n",
        "string.pop(n-1)\n",
        "print(\" \".join(string))"
      ],
      "metadata": {
        "id": "9MAIgGQabPql",
        "colab": {
          "base_uri": "https://localhost:8080/"
        },
        "outputId": "5ed63fe0-60be-45d4-8855-ea34ad309d1b"
      },
      "execution_count": null,
      "outputs": [
        {
          "output_type": "stream",
          "name": "stdout",
          "text": [
            "enter the number less than 4 is : 3\n",
            "joginaidu pen mine\n"
          ]
        }
      ]
    },
    {
      "cell_type": "code",
      "source": [
        "#49. Insert a word at the nth position in a string.\n",
        "string = \"joginaidu pen is mine\"\n",
        "string = string.split()\n",
        "n = int(input(f\"enter the number less than {len(string)} is : \"))\n",
        "word = input(\"enter the word\")\n",
        "string.insert(n,word)\n",
        "print(\" \".join(string))"
      ],
      "metadata": {
        "id": "K-BivgHbbPkN",
        "colab": {
          "base_uri": "https://localhost:8080/"
        },
        "outputId": "d0f7cc03-79a4-4c6a-c0e9-24d162ba5648"
      },
      "execution_count": null,
      "outputs": [
        {
          "output_type": "stream",
          "name": "stdout",
          "text": [
            "enter the number less than 4 is : 3\n",
            "enter the wordworddd\n",
            "joginaidu pen is worddd mine\n"
          ]
        }
      ]
    },
    {
      "cell_type": "code",
      "source": [
        "#50. Convert a CSV string to a list of lists.\n",
        "import csv\n",
        "jogi =\"\"\"name,age,city\n",
        "John,25,New York\n",
        "Alice,30,San Francisco\n",
        "Bob,22,Los Angeles\"\"\"\n",
        "csv_reader=csv.reader(jogi.splitlines())\n",
        "csv_list = list(csv_reader)\n",
        "print(csv_list)"
      ],
      "metadata": {
        "id": "6b6YPru4bPim",
        "colab": {
          "base_uri": "https://localhost:8080/"
        },
        "outputId": "7d5fa2ea-48cd-4fff-9fd4-6b6087301dc0"
      },
      "execution_count": null,
      "outputs": [
        {
          "output_type": "stream",
          "name": "stdout",
          "text": [
            "[['name', 'age', 'city'], ['John', '25', 'New York'], ['Alice', '30', 'San Francisco'], ['Bob', '22', 'Los Angeles']]\n"
          ]
        }
      ]
    },
    {
      "cell_type": "markdown",
      "source": [
        "# **List Based Practice Problem :**"
      ],
      "metadata": {
        "id": "fcXb3go53z0t"
      }
    },
    {
      "cell_type": "code",
      "source": [
        "#1. Create a list with integers from 1 to 10.\n",
        "lst = []\n",
        "for i in range(1,11):\n",
        "  lst.append(i)\n",
        "print(lst)"
      ],
      "metadata": {
        "id": "NQqtiTCnOaTc",
        "colab": {
          "base_uri": "https://localhost:8080/"
        },
        "outputId": "5a075deb-4a02-4b69-8720-b8decd035207"
      },
      "execution_count": null,
      "outputs": [
        {
          "output_type": "stream",
          "name": "stdout",
          "text": [
            "[1, 2, 3, 4, 5, 6, 7, 8, 9, 10]\n"
          ]
        }
      ]
    },
    {
      "cell_type": "code",
      "source": [
        "#2. Find the length of a list without using the `len()` function.\n",
        "lst = [1,2,3,4,323,654,'123']\n",
        "count =0\n",
        "for i in lst:\n",
        "  count+=1\n",
        "print(count)\n"
      ],
      "metadata": {
        "id": "Z9wEOiCAOaQA",
        "colab": {
          "base_uri": "https://localhost:8080/"
        },
        "outputId": "68d1f72b-18d2-474f-f060-7edd9f76bc97"
      },
      "execution_count": null,
      "outputs": [
        {
          "output_type": "stream",
          "name": "stdout",
          "text": [
            "7\n"
          ]
        }
      ]
    },
    {
      "cell_type": "code",
      "source": [
        "#3. Append an element to the end of a list.\n",
        "lst = [1,2,3,4,323,654]\n",
        "kind = 33\n",
        "lst.append(kind)\n",
        "print(lst)"
      ],
      "metadata": {
        "id": "Y7tTWaNbOaNn",
        "colab": {
          "base_uri": "https://localhost:8080/"
        },
        "outputId": "3a165a27-4fb3-4670-a30d-c209d0e09ddd"
      },
      "execution_count": null,
      "outputs": [
        {
          "output_type": "stream",
          "name": "stdout",
          "text": [
            "[1, 2, 3, 4, 323, 654, 33]\n"
          ]
        }
      ]
    },
    {
      "cell_type": "code",
      "source": [
        "#4. Insert an element at a specific index in a list.\n",
        "lst = [1,2,3,4,323,654,'jogi',3.6]\n",
        "lst.insert(3,23456)\n",
        "print(lst)"
      ],
      "metadata": {
        "id": "PdpaAskKOaFH",
        "colab": {
          "base_uri": "https://localhost:8080/"
        },
        "outputId": "16929949-cffc-4896-a5f4-84394e2a9c2e"
      },
      "execution_count": null,
      "outputs": [
        {
          "output_type": "stream",
          "name": "stdout",
          "text": [
            "[1, 2, 3, 23456, 4, 323, 654, 'jogi', 3.6]\n"
          ]
        }
      ]
    },
    {
      "cell_type": "code",
      "source": [
        "#5. Remove an element from a list by its value.\n",
        "lst = [1,2,3,4,323,654,'jogi',3.6]\n",
        "lst.remove(3)\n",
        "print(lst)"
      ],
      "metadata": {
        "id": "ppGaq-zeOZ_0",
        "colab": {
          "base_uri": "https://localhost:8080/"
        },
        "outputId": "3b0972c7-e106-46bc-a74c-f464d53e8393"
      },
      "execution_count": null,
      "outputs": [
        {
          "output_type": "stream",
          "name": "stdout",
          "text": [
            "[1, 2, 4, 323, 654, 'jogi', 3.6]\n"
          ]
        }
      ]
    },
    {
      "cell_type": "code",
      "source": [
        "#6. Remove an element from a list by its index.\n",
        "lst = [1,2,3,4,323,654,'jogi',3.6]\n",
        "lst.pop(5)\n",
        "print(f\"updaated_list:{lst}\")"
      ],
      "metadata": {
        "id": "PQcvdlCFOZ9i",
        "colab": {
          "base_uri": "https://localhost:8080/"
        },
        "outputId": "a95d0ed4-952e-4300-9f37-c66c16116f99"
      },
      "execution_count": null,
      "outputs": [
        {
          "output_type": "stream",
          "name": "stdout",
          "text": [
            "updaated_list:[1, 2, 3, 4, 323, 'jogi', 3.6]\n"
          ]
        }
      ]
    },
    {
      "cell_type": "code",
      "source": [
        "#7. Check if an element exists in a list.\n",
        "lst = [1,2,3,4,323,654,'jogi',3.6]\n",
        "exists = 1\n",
        "if exists in lst:\n",
        "  print(f\"{exists} is exists in {lst}\")\n",
        "else:\n",
        "  print(f\"{exists} not exists in {lst}\")"
      ],
      "metadata": {
        "id": "v2m3liw-OZ7F",
        "colab": {
          "base_uri": "https://localhost:8080/"
        },
        "outputId": "c54b4c17-7f36-4d9d-f6e2-4650a98803b7"
      },
      "execution_count": null,
      "outputs": [
        {
          "output_type": "stream",
          "name": "stdout",
          "text": [
            "1 is exists in [1, 2, 3, 4, 323, 654, 'jogi', 3.6]\n"
          ]
        }
      ]
    },
    {
      "cell_type": "code",
      "source": [
        "#8. Find the index of the first occurrence of an element in a list.\n",
        "lst = [1,2,3,4,3,323,1,654,'jogi',3.6]\n",
        "element = 3\n",
        "index = lst.index(element)\n",
        "print(f\"The index of {element} is {index}\")\n"
      ],
      "metadata": {
        "colab": {
          "base_uri": "https://localhost:8080/"
        },
        "id": "fsHzKtbT8Ntj",
        "outputId": "0c5364e1-1f65-4f68-ad35-1551ad1a0c17"
      },
      "execution_count": null,
      "outputs": [
        {
          "output_type": "stream",
          "name": "stdout",
          "text": [
            "The index of 3 is 2\n"
          ]
        }
      ]
    },
    {
      "cell_type": "code",
      "source": [
        "#9. Count the occurrences of an element in a list.\n",
        "lst = [1,2,3,4,3,323,1,654,'jogi',3.6]\n",
        "element = 3\n",
        "index_count = lst.count(element)\n",
        "print(f\"the count of {element} is {index_count}\")"
      ],
      "metadata": {
        "colab": {
          "base_uri": "https://localhost:8080/"
        },
        "id": "Nc94Hg0h8NqK",
        "outputId": "601af012-7c80-4c2d-e2e4-f9fbd73b53ab"
      },
      "execution_count": null,
      "outputs": [
        {
          "output_type": "stream",
          "name": "stdout",
          "text": [
            "the count of 3 is 2\n"
          ]
        }
      ]
    },
    {
      "cell_type": "code",
      "source": [
        "#10. Reverse the order of elements in a list.\n",
        "lst = [1,2,3,4,3,323,1,654,'jogi',3.6]\n",
        "lst.reverse()\n",
        "print(\"the reversed list is\",lst)"
      ],
      "metadata": {
        "colab": {
          "base_uri": "https://localhost:8080/"
        },
        "id": "QN1OVmJY8Nkz",
        "outputId": "88cb8f9b-0e92-4313-8aec-793d93639faa"
      },
      "execution_count": null,
      "outputs": [
        {
          "output_type": "stream",
          "name": "stdout",
          "text": [
            "the reversed list is [3.6, 'jogi', 654, 1, 323, 3, 4, 3, 2, 1]\n"
          ]
        }
      ]
    },
    {
      "cell_type": "code",
      "source": [
        "#11. Sort a list in ascending order.\n",
        "lst = [1,2,3,4,3,323,1,654,3.6]\n",
        "lst.sort()\n",
        "print(\"the sorted list :\\n\",lst)"
      ],
      "metadata": {
        "colab": {
          "base_uri": "https://localhost:8080/"
        },
        "id": "wSxbhfAb8Nhd",
        "outputId": "e130e96b-279a-4d8c-bf69-e9e713374618"
      },
      "execution_count": null,
      "outputs": [
        {
          "output_type": "stream",
          "name": "stdout",
          "text": [
            "the sorted list :\n",
            " [1, 1, 2, 3, 3, 3.6, 4, 323, 654]\n"
          ]
        }
      ]
    },
    {
      "cell_type": "code",
      "source": [
        "#12. Sort a list in descending order.\n",
        "lst = [1,2,3,4,3,323,1,654,3.6]\n",
        "lst.sort(reverse = True)\n",
        "print(\"the sorted list in descending order :\\n\",lst)"
      ],
      "metadata": {
        "colab": {
          "base_uri": "https://localhost:8080/"
        },
        "id": "P0lrmGBT8NfI",
        "outputId": "96a39448-91ba-434a-b42a-873de54f523b"
      },
      "execution_count": null,
      "outputs": [
        {
          "output_type": "stream",
          "name": "stdout",
          "text": [
            "the sorted list in descending order :\n",
            " [654, 323, 4, 3.6, 3, 3, 2, 1, 1]\n"
          ]
        }
      ]
    },
    {
      "cell_type": "code",
      "source": [
        "#13. Create a list of even numbers from 1 to 20.\n",
        "print([i for i in range(1,21) if i%2==0])"
      ],
      "metadata": {
        "colab": {
          "base_uri": "https://localhost:8080/"
        },
        "id": "wVbJnBzQ8Ndk",
        "outputId": "371089fd-4c29-440b-fb79-934e1e40d60b"
      },
      "execution_count": null,
      "outputs": [
        {
          "output_type": "stream",
          "name": "stdout",
          "text": [
            "[2, 4, 6, 8, 10, 12, 14, 16, 18, 20]\n"
          ]
        }
      ]
    },
    {
      "cell_type": "code",
      "source": [
        "#14. Create a list of odd numbers from 1 to 20.\n",
        "print([i for i in range(1,21) if i%2!=0])"
      ],
      "metadata": {
        "colab": {
          "base_uri": "https://localhost:8080/"
        },
        "id": "TxIuMVZO8Nbq",
        "outputId": "c5549423-4285-4bf5-9895-3abd4bda8b1c"
      },
      "execution_count": null,
      "outputs": [
        {
          "output_type": "stream",
          "name": "stdout",
          "text": [
            "[1, 3, 5, 7, 9, 11, 13, 15, 17, 19]\n"
          ]
        }
      ]
    },
    {
      "cell_type": "code",
      "source": [
        "#15. Find the sum of all elements in a list.\n",
        "lst = [1,2,3,4,3,323,1,654,36]\n",
        "sum = 0\n",
        "for i in lst:\n",
        "  sum+=i\n",
        "print(sum)"
      ],
      "metadata": {
        "colab": {
          "base_uri": "https://localhost:8080/"
        },
        "id": "2xDHfOVADZ6A",
        "outputId": "a78fb0d3-5e88-44d1-8a1e-061ff0dc2200"
      },
      "execution_count": null,
      "outputs": [
        {
          "output_type": "stream",
          "name": "stdout",
          "text": [
            "1027\n"
          ]
        }
      ]
    },
    {
      "cell_type": "code",
      "source": [
        "#16. Find the maximum value in a list.\n",
        "lst = [1,2,3,4,3,323,1,654,36]\n",
        "print(max(lst))"
      ],
      "metadata": {
        "id": "2I8d7PVpDZ2v",
        "colab": {
          "base_uri": "https://localhost:8080/"
        },
        "outputId": "72af435a-73e0-41a3-ee87-87e90d603d68"
      },
      "execution_count": null,
      "outputs": [
        {
          "output_type": "stream",
          "name": "stdout",
          "text": [
            "654\n"
          ]
        }
      ]
    },
    {
      "cell_type": "code",
      "source": [
        "#17. Find the minimum value in a list.\n",
        "lst = [1,2,3,4,3,323,1,654,36]\n",
        "print(min(lst))\n"
      ],
      "metadata": {
        "id": "w3RZP7AQDZ1L",
        "colab": {
          "base_uri": "https://localhost:8080/"
        },
        "outputId": "3dd1a5cf-5ba1-46cb-e836-1137314c1881"
      },
      "execution_count": null,
      "outputs": [
        {
          "output_type": "stream",
          "name": "stdout",
          "text": [
            "1\n"
          ]
        }
      ]
    },
    {
      "cell_type": "code",
      "source": [
        "#18. Create a list of squares of numbers from 1 to 10.\n",
        "print([i**2 for i in range(1,11)])"
      ],
      "metadata": {
        "id": "O-FrC_5cDZzE",
        "colab": {
          "base_uri": "https://localhost:8080/"
        },
        "outputId": "2bf394e5-e9cd-471e-852d-2c3a7024e235"
      },
      "execution_count": null,
      "outputs": [
        {
          "output_type": "stream",
          "name": "stdout",
          "text": [
            "[1, 4, 9, 16, 25, 36, 49, 64, 81, 100]\n"
          ]
        }
      ]
    },
    {
      "cell_type": "code",
      "source": [
        "#19. Create a list of random numbers.\n",
        "import random\n",
        "rand_num = [random.randint(1,100) for _ in range(10)]\n",
        "print(rand_num)"
      ],
      "metadata": {
        "id": "bZt2P0FzDZw6",
        "colab": {
          "base_uri": "https://localhost:8080/"
        },
        "outputId": "b21e8921-ea0d-4220-a984-f91fa3a8504d"
      },
      "execution_count": null,
      "outputs": [
        {
          "output_type": "stream",
          "name": "stdout",
          "text": [
            "[33, 37, 35, 14, 36, 31, 46, 2, 39, 91]\n"
          ]
        }
      ]
    },
    {
      "cell_type": "code",
      "source": [
        "#20. Remove duplicates from a list.\n",
        "lst = [1,2,3,4,3,323,1,654,36]\n",
        "unique_list = list(set(lst))\n",
        "print(unique_list)"
      ],
      "metadata": {
        "id": "2dYxKdVjDZvE",
        "colab": {
          "base_uri": "https://localhost:8080/"
        },
        "outputId": "5d1e0d89-41a7-4188-a5a6-c67c63c64936"
      },
      "execution_count": null,
      "outputs": [
        {
          "output_type": "stream",
          "name": "stdout",
          "text": [
            "[1, 2, 323, 3, 4, 36, 654]\n"
          ]
        }
      ]
    },
    {
      "cell_type": "code",
      "source": [
        "#21. Find the common elements between two lists.\n",
        "lst = [1,2,3,4,3,323,1,654,36]\n",
        "lst1 = [2,4,23,43,3,1]\n",
        "print([i for i in lst if i in lst1 ])"
      ],
      "metadata": {
        "colab": {
          "base_uri": "https://localhost:8080/"
        },
        "id": "P-KssrZNHHpi",
        "outputId": "8a2c4322-f428-47f5-ba5c-332346daf0da"
      },
      "execution_count": null,
      "outputs": [
        {
          "output_type": "stream",
          "name": "stdout",
          "text": [
            "[1, 2, 3, 4, 3, 1]\n"
          ]
        }
      ]
    },
    {
      "cell_type": "code",
      "source": [
        "#22. Find the difference between two lists.\n",
        "lst = [1,2,3,4,3,323,1,654,36]\n",
        "lst1 = [2,4,23,43,3,1]\n",
        "#print([i for i in lst if i not in lst1 ])\n",
        "difference = list(set(lst).difference(lst1))\n",
        "print(difference)"
      ],
      "metadata": {
        "colab": {
          "base_uri": "https://localhost:8080/"
        },
        "id": "hGPAtWgeHHmH",
        "outputId": "433b6935-a079-473a-c821-d5b97513922b"
      },
      "execution_count": null,
      "outputs": [
        {
          "output_type": "stream",
          "name": "stdout",
          "text": [
            "[323, 36, 654]\n"
          ]
        }
      ]
    },
    {
      "cell_type": "code",
      "source": [
        "#Merge two lists\n",
        "lst = [1,2,3,4,3,323,1,654,36]\n",
        "lst1 = [2,4,23,43,3,1]\n",
        "merge = lst+lst1\n",
        "print(merge)"
      ],
      "metadata": {
        "colab": {
          "base_uri": "https://localhost:8080/"
        },
        "id": "PjU9tWXOHHkY",
        "outputId": "42f38d2c-8357-46bb-aa14-8e317bc30f65"
      },
      "execution_count": null,
      "outputs": [
        {
          "output_type": "stream",
          "name": "stdout",
          "text": [
            "[1, 2, 3, 4, 3, 323, 1, 654, 36, 2, 4, 23, 43, 3, 1]\n"
          ]
        }
      ]
    },
    {
      "cell_type": "code",
      "source": [
        "#24. Multiply all elements in a list by 2.\n",
        "lst = [1,2,3,4,3,323,1,654,36]\n",
        "print([i*2 for i in lst])\n"
      ],
      "metadata": {
        "colab": {
          "base_uri": "https://localhost:8080/"
        },
        "id": "0fos4ZiDHHic",
        "outputId": "3c33f32c-0e25-4398-ec6a-65cc3e71e045"
      },
      "execution_count": null,
      "outputs": [
        {
          "output_type": "stream",
          "name": "stdout",
          "text": [
            "[2, 4, 6, 8, 6, 646, 2, 1308, 72]\n"
          ]
        }
      ]
    },
    {
      "cell_type": "code",
      "source": [
        "#25. Filter out all even numbers from a list.\n",
        "lst = [1,2,3,4,3,323,1,654,36]\n",
        "print(\"the odd numbers is \",[i for i in lst if i%2!=0])"
      ],
      "metadata": {
        "colab": {
          "base_uri": "https://localhost:8080/"
        },
        "id": "Wf08hwkMOKnW",
        "outputId": "16414efa-b5f1-4bf3-8cef-f4a2739a15c6"
      },
      "execution_count": null,
      "outputs": [
        {
          "output_type": "stream",
          "name": "stdout",
          "text": [
            "the odd numbers is  [1, 3, 3, 323, 1]\n"
          ]
        }
      ]
    },
    {
      "cell_type": "code",
      "source": [
        "#26. Convert a list of strings to a list of integers.\n",
        "\n",
        "   #the list which has integer strings only\n",
        "lst = ['12','23','5','12','57']\n",
        "print([int(i) for i in lst])"
      ],
      "metadata": {
        "colab": {
          "base_uri": "https://localhost:8080/"
        },
        "id": "dBwvGKnvOKju",
        "outputId": "9406f6ce-3eb6-4f77-c85b-533a9a985380"
      },
      "execution_count": null,
      "outputs": [
        {
          "output_type": "stream",
          "name": "stdout",
          "text": [
            "[12, 23, 5, 12, 57]\n"
          ]
        }
      ]
    },
    {
      "cell_type": "code",
      "source": [
        "#27. Convert a list of integers to a list of strings.\n",
        "lst = [1,2,3,4,3,323,1,654,36]\n",
        "print([str(i) for i in lst])"
      ],
      "metadata": {
        "colab": {
          "base_uri": "https://localhost:8080/"
        },
        "id": "nLt7x0kYOKhp",
        "outputId": "833f8f04-0f3b-460f-b19d-cb8329a02419"
      },
      "execution_count": null,
      "outputs": [
        {
          "output_type": "stream",
          "name": "stdout",
          "text": [
            "['1', '2', '3', '4', '3', '323', '1', '654', '36']\n"
          ]
        }
      ]
    },
    {
      "cell_type": "code",
      "source": [
        "#28. Flatten a nested list.\n",
        "nested_list = [[1, 2, 3], [4, 5], [6, 7, 8]]\n",
        "\n",
        "flattened_list = [item for sublist in nested_list for item in sublist]\n",
        "\n",
        "print(\"Nested List:\", nested_list)\n",
        "print(\"Flattened List:\", flattened_list)\n"
      ],
      "metadata": {
        "colab": {
          "base_uri": "https://localhost:8080/"
        },
        "id": "bxWkYTzROKZ1",
        "outputId": "40b298be-0930-400a-9ef9-432ed1c70150"
      },
      "execution_count": null,
      "outputs": [
        {
          "output_type": "stream",
          "name": "stdout",
          "text": [
            "Nested List: [[1, 2, 3], [4, 5], [6, 7, 8]]\n",
            "Flattened List: [1, 2, 3, 4, 5, 6, 7, 8]\n"
          ]
        }
      ]
    },
    {
      "cell_type": "code",
      "source": [
        "#29. Create a list of the first 10 Fibonacci numbers.\n",
        "def fibnonacci_numbers(n):\n",
        "  fib_list = [0,1]\n",
        "  for i in range(2,n):\n",
        "    next_fib = fib_list[i-1]+fib_list[i-2]\n",
        "    fib_list.append(next_fib)\n",
        "  return fib_list\n",
        "print(fibnonacci_numbers(10))"
      ],
      "metadata": {
        "colab": {
          "base_uri": "https://localhost:8080/"
        },
        "id": "HnWq9HV9OKWb",
        "outputId": "50db0170-782a-44e8-fa73-369153e371de"
      },
      "execution_count": null,
      "outputs": [
        {
          "output_type": "stream",
          "name": "stdout",
          "text": [
            "[0, 1, 1, 2, 3, 5, 8, 13, 21, 34]\n"
          ]
        }
      ]
    },
    {
      "cell_type": "code",
      "source": [
        "#30. Check if a list is sorted.\n",
        "def is_sorted_ascending(lst):\n",
        "    for i in range(1, len(lst)):\n",
        "        if lst[i] < lst[i - 1]:\n",
        "            return False\n",
        "    return True\n",
        "\n",
        "ascending_list = [1,2,3,4,3,323,1,654,36]\n",
        "if is_sorted_ascending(ascending_list):\n",
        "    print(\"The list is sorted in ascending order.\")\n",
        "else:\n",
        "    print(\"The list is not sorted in ascending order.\")\n"
      ],
      "metadata": {
        "colab": {
          "base_uri": "https://localhost:8080/"
        },
        "id": "erDlGc92OKUH",
        "outputId": "32dc361a-54bf-4d15-e1b6-4bed7fe462f8"
      },
      "execution_count": null,
      "outputs": [
        {
          "output_type": "stream",
          "name": "stdout",
          "text": [
            "The list is not sorted in ascending order.\n"
          ]
        }
      ]
    },
    {
      "cell_type": "code",
      "source": [
        "#31. Rotate a list to the left by `n` positions.\n",
        "def rotation_list(lst,n):\n",
        "  n = n % len(lst) #normalize\n",
        "  rotated = lst[n:]+lst[:n]\n",
        "  return rotated\n",
        "lst = [1,3,6,5,4,3]\n",
        "n=2\n",
        "rotated_list = rotation_list(lst,n)\n",
        "print(\"Rotated list:\", rotated_list)"
      ],
      "metadata": {
        "colab": {
          "base_uri": "https://localhost:8080/"
        },
        "id": "gnzAgo8POKRf",
        "outputId": "3f2cb9d5-ba9d-440c-ecf9-7a59725a3fa5"
      },
      "execution_count": null,
      "outputs": [
        {
          "output_type": "stream",
          "name": "stdout",
          "text": [
            "Rotated list: [6, 5, 4, 3, 1, 3]\n"
          ]
        }
      ]
    },
    {
      "cell_type": "code",
      "source": [
        "#32. Rotate a list to the right by `n` positions.\n",
        "def rotation_list(lst,n):\n",
        "  n = n % len(lst) #normalize\n",
        "  rotated = lst[-n:]+lst[:-n]\n",
        "  return rotated\n",
        "lst = [1,3,6,5,3]\n",
        "n=2\n",
        "rotated_list = rotation_list(lst,n)\n",
        "print(\"Rotated list:\", rotated_list)"
      ],
      "metadata": {
        "colab": {
          "base_uri": "https://localhost:8080/"
        },
        "id": "CPyThyZeOKNz",
        "outputId": "a0b271ff-de21-48b9-9898-0590114adbfe"
      },
      "execution_count": null,
      "outputs": [
        {
          "output_type": "stream",
          "name": "stdout",
          "text": [
            "Rotated list: [5, 3, 1, 3, 6]\n"
          ]
        }
      ]
    },
    {
      "cell_type": "code",
      "source": [
        "#33. Create a list of prime numbers up to 50.\n",
        "def is_prime(num):\n",
        "    if num < 2:\n",
        "        return False\n",
        "    for i in range(2, int(num**0.5) + 1):\n",
        "        if num % i == 0:\n",
        "            return False\n",
        "    return True\n",
        "\n",
        "    # Create a list of prime numbers up to 50\n",
        "primes_up_to_50 = [num for num in range(2, 51) if is_prime(num)]\n",
        "\n",
        "print(\"Prime Numbers up to 50:\", primes_up_to_50)"
      ],
      "metadata": {
        "colab": {
          "base_uri": "https://localhost:8080/"
        },
        "id": "_SZ6HtVZbUu6",
        "outputId": "446cdbed-6080-493a-c33d-eb4c50925d40"
      },
      "execution_count": null,
      "outputs": [
        {
          "output_type": "stream",
          "name": "stdout",
          "text": [
            "Prime Numbers up to 50: [2, 3, 5, 7, 11, 13, 17, 19, 23, 29, 31, 37, 41, 43, 47]\n"
          ]
        }
      ]
    },
    {
      "cell_type": "code",
      "source": [
        "#34. Split a list into chunks of size 'n'.\n",
        "def split(lst,n):\n",
        "  chunks=[]\n",
        "  for i in range(0,len(lst),n):\n",
        "    chunk = lst[i:i+n]\n",
        "    chunks.append(chunk)\n",
        "  return chunks\n",
        "\n",
        "List = [1,2,3,4,5,4,5,4,3,2,6,34,7,3]\n",
        "n = 5\n",
        "result = split(List,n)\n",
        "print(result)\n",
        "\n"
      ],
      "metadata": {
        "id": "Xp5HK6UYBxJC"
      },
      "execution_count": null,
      "outputs": []
    },
    {
      "cell_type": "code",
      "source": [
        "#35.Find the second largest number in a list.\n",
        "def largest(listed):\n",
        "  if len(listed) < 2 :\n",
        "    return \"List should have at least two numbers\"\n",
        "\n",
        "  sorted_list = sorted(listed,reverse=True)\n",
        "  second_largest = sorted_list[1]\n",
        "  return second_largest\n",
        "\n",
        "my_list = [12,3,266,84,234,52,67,52]\n",
        "result = largest(my_list)\n",
        "print(result)"
      ],
      "metadata": {
        "id": "lHZXvAcBX3cI"
      },
      "execution_count": null,
      "outputs": []
    },
    {
      "cell_type": "code",
      "source": [
        "#36.Replace every element in a list with its square.\n",
        "def squar(listed):\n",
        "  for i in range(len(listed)):\n",
        "     listed[i] = listed[i] ** 2\n",
        "listed1 = [1,3,4,6,8,2]\n",
        "squar(listed1)\n",
        "print(listed1)"
      ],
      "metadata": {
        "id": "kuxj-HY1VxyC"
      },
      "execution_count": null,
      "outputs": []
    },
    {
      "cell_type": "code",
      "source": [
        "#37. Convert a list to a dictionary where list elements become keys and their indices become values.\n",
        "my_list = ['apple', 'banana', 'orange']\n",
        "\n",
        "for index, value in enumerate(my_list):\n",
        "    print(f\"Index: {index}, Value: {value}\")\n"
      ],
      "metadata": {
        "id": "ypnb5OrHcslU"
      },
      "execution_count": null,
      "outputs": []
    },
    {
      "cell_type": "code",
      "source": [
        "#38. Shuffle the elements of a list randomly.\n",
        "\n",
        "import random\n",
        "\n",
        "def shuffle_list(input_list):\n",
        "    random.shuffle(input_list)\n",
        "\n",
        "my_list = [1, 2, 3, 4, 5]\n",
        "print(\"Original List:\", my_list)\n",
        "\n",
        "shuffle_list(my_list)\n",
        "print(\"Shuffled List:\", my_list)\n"
      ],
      "metadata": {
        "id": "Y-FU7-PmeQ6p",
        "colab": {
          "base_uri": "https://localhost:8080/"
        },
        "outputId": "46e9a4fa-66a4-4d6a-d8de-726339df3b38"
      },
      "execution_count": null,
      "outputs": [
        {
          "output_type": "stream",
          "name": "stdout",
          "text": [
            "Original List: [1, 2, 3, 4, 5]\n",
            "Shuffled List: [5, 4, 1, 2, 3]\n"
          ]
        }
      ]
    },
    {
      "cell_type": "code",
      "source": [
        "#39.Create a list of the first 10 factorial numbers.\n",
        "def factorial(n):\n",
        "    if n==0:\n",
        "        return 1\n",
        "    else:\n",
        "        return n * factorial(n - 1)\n",
        "factorials = []\n",
        "for i in range(10):\n",
        "    factorials.append(factorial(i))\n",
        "print(factorials)"
      ],
      "metadata": {
        "colab": {
          "base_uri": "https://localhost:8080/"
        },
        "id": "WGolhH-WS4qU",
        "outputId": "54dceab6-f965-4abe-d0cc-6b891c9dd3ee"
      },
      "execution_count": null,
      "outputs": [
        {
          "output_type": "stream",
          "name": "stdout",
          "text": [
            "[1, 1, 2, 6, 24, 120, 720, 5040, 40320, 362880]\n"
          ]
        }
      ]
    },
    {
      "cell_type": "code",
      "source": [
        "#40. Check if two lists have at least one element in common.\n",
        "def common_element(lst1,lst2):\n",
        "  for i in lst1 :\n",
        "    if i in lst2 :\n",
        "      return True\n",
        "    else:\n",
        "      return False\n",
        "lst1=[1,5,3,6,2]\n",
        "lst2=[11,43,66,43]\n",
        "if common_element(lst1,lst2):\n",
        "  print(\"two lists have a common element\")\n",
        "else:\n",
        "  print(\"two lists doesn't have a common element\")"
      ],
      "metadata": {
        "colab": {
          "base_uri": "https://localhost:8080/"
        },
        "id": "sW8ROaAebHKI",
        "outputId": "d822eab8-fbd1-4415-f79e-021d63d81a95"
      },
      "execution_count": null,
      "outputs": [
        {
          "output_type": "stream",
          "name": "stdout",
          "text": [
            "two lists doesn't have a common element\n"
          ]
        }
      ]
    },
    {
      "cell_type": "code",
      "source": [
        "#41. Remove all elements from a list.\n",
        "lst =[1,3,4,5,6,7]\n",
        "lst1 = lst.clear()\n",
        "print(\"cleared list:\",lst1)"
      ],
      "metadata": {
        "colab": {
          "base_uri": "https://localhost:8080/"
        },
        "id": "amDTSRS8bHGt",
        "outputId": "f8e0fbfd-5c59-43a9-b13f-bcf802b6ca0e"
      },
      "execution_count": null,
      "outputs": [
        {
          "output_type": "stream",
          "name": "stdout",
          "text": [
            "cleared list: None\n"
          ]
        }
      ]
    },
    {
      "cell_type": "code",
      "source": [
        "#42. Replace negative numbers in a list with 0.\n",
        "lst = [1,-2,34,-6,1]\n",
        "for i in range(len(lst)):\n",
        "  if lst[i]<0:\n",
        "    lst[i]=0\n",
        "print(\"after replacing negative numbers with 0 in a list :\\n\",lst)"
      ],
      "metadata": {
        "colab": {
          "base_uri": "https://localhost:8080/"
        },
        "id": "_wOJuivubHEU",
        "outputId": "a51fb81c-b441-41f5-c414-12ec0e563928"
      },
      "execution_count": null,
      "outputs": [
        {
          "output_type": "stream",
          "name": "stdout",
          "text": [
            "after replacing negative numbers with 0 in a list :\n",
            " [1, 0, 34, 0, 1]\n"
          ]
        }
      ]
    },
    {
      "cell_type": "code",
      "source": [
        "#43. Convert a string into a list of words.\n",
        "\n",
        "string = \"Convert a string into a list of words.\"\n",
        "print(\"List of words:\",string.split())"
      ],
      "metadata": {
        "colab": {
          "base_uri": "https://localhost:8080/"
        },
        "id": "CQomH2YPbHBf",
        "outputId": "c9686e1f-9a3c-4a72-cc71-315885cd8ec9"
      },
      "execution_count": null,
      "outputs": [
        {
          "output_type": "stream",
          "name": "stdout",
          "text": [
            "List of words: ['Convert', 'a', 'string', 'into', 'a', 'list', 'of', 'words.']\n"
          ]
        }
      ]
    },
    {
      "cell_type": "code",
      "source": [
        "#44. Convert a list of words into a string.\n",
        "lst = ['Convert', 'a', 'string', 'into', 'a', 'list', 'of', 'words.']\n",
        "print(\"convered string :\",' '.join(lst))"
      ],
      "metadata": {
        "colab": {
          "base_uri": "https://localhost:8080/"
        },
        "id": "4itGgX7lbG-P",
        "outputId": "9d294aa1-8084-4e11-93a7-4c25842156a0"
      },
      "execution_count": null,
      "outputs": [
        {
          "output_type": "stream",
          "name": "stdout",
          "text": [
            "convered string : Convert a string into a list of words.\n"
          ]
        }
      ]
    },
    {
      "cell_type": "code",
      "source": [
        "#45. Create a list of the first `n` powers of 2.\n",
        "n=int(input(\"enter the number:\"))\n",
        "print([2**i for i in range(n)])"
      ],
      "metadata": {
        "colab": {
          "base_uri": "https://localhost:8080/"
        },
        "id": "eH3N_ncmbG8L",
        "outputId": "035038c1-cb9e-43b5-bf4f-6e7da8866ba4"
      },
      "execution_count": null,
      "outputs": [
        {
          "output_type": "stream",
          "name": "stdout",
          "text": [
            "enter the number:5\n",
            "[1, 2, 4, 8, 16]\n"
          ]
        }
      ]
    },
    {
      "cell_type": "code",
      "source": [
        "#46. Find the longest string in a list of strings.\n",
        "lst = ['Conv', 'a', 'string', 'into', 'a', 'list', 'of', 'words.']\n",
        "longest_one = ''\n",
        "for i in lst :\n",
        "  if len(i)>len(longest_one):\n",
        "    longest_one = i\n",
        "print(longest_one)\n"
      ],
      "metadata": {
        "colab": {
          "base_uri": "https://localhost:8080/"
        },
        "id": "q0yA-c6DbG55",
        "outputId": "67d061d4-b221-419d-f7ee-7640ef667b39"
      },
      "execution_count": null,
      "outputs": [
        {
          "output_type": "stream",
          "name": "stdout",
          "text": [
            "string\n"
          ]
        }
      ]
    },
    {
      "cell_type": "code",
      "source": [
        "#47. Find the shortest string in a list of strings.\n",
        "lst = ['Conv', 'b','a', 'string', 'into', 'a', 'list', 'of', 'words.']\n",
        "shortest_one = lst[0]\n",
        "for i in lst :\n",
        "  if len(i)<len(shortest_one):\n",
        "    shortest_one = i\n",
        "print(shortest_one)"
      ],
      "metadata": {
        "colab": {
          "base_uri": "https://localhost:8080/"
        },
        "id": "rnfkKH4Cl9_O",
        "outputId": "6ac5b8c9-9779-4fff-e5d3-85376695901f"
      },
      "execution_count": null,
      "outputs": [
        {
          "output_type": "stream",
          "name": "stdout",
          "text": [
            "b\n"
          ]
        }
      ]
    },
    {
      "cell_type": "code",
      "source": [
        "#48. Create a list of the first `n` triangular numbers.\n",
        "n = int(input(\"enter the number:\"))\n",
        "print(\"the triangular numbers :\",[(i*(i+1)//2) for i in range(n)])"
      ],
      "metadata": {
        "colab": {
          "base_uri": "https://localhost:8080/"
        },
        "id": "zaJAK95tncYS",
        "outputId": "8314e45c-7d04-449f-c3d2-05a0fb5a3a26"
      },
      "execution_count": null,
      "outputs": [
        {
          "output_type": "stream",
          "name": "stdout",
          "text": [
            "enter the number:5\n",
            "the triangular numbers : [0, 1, 3, 6, 10]\n"
          ]
        }
      ]
    },
    {
      "cell_type": "code",
      "source": [
        "#49. Check if a list contains another list as a subsequence.\n",
        "lst = [1,3,5,[43,55,3]]\n",
        "flag = False\n",
        "for i in lst:\n",
        "  if type(i) == list:\n",
        "    flag = True\n",
        "    break\n",
        "\n",
        "if flag:\n",
        "  print(\"contains subsequence\")\n",
        "else:\n",
        "  print(\"not contains subsequence\")"
      ],
      "metadata": {
        "colab": {
          "base_uri": "https://localhost:8080/"
        },
        "id": "APlBITqYsWNT",
        "outputId": "ed89d2c8-3606-4b78-a824-6f5c3002ff21"
      },
      "execution_count": null,
      "outputs": [
        {
          "output_type": "stream",
          "name": "stdout",
          "text": [
            "contains subsequence\n"
          ]
        }
      ]
    },
    {
      "cell_type": "code",
      "source": [
        "#50. Swap two elements in a list by their indices.\n",
        "lst = [10,20,30,50,60]\n",
        "ind1=0\n",
        "ind2=3\n",
        "temp =lst[ind1]\n",
        "lst[ind1]=lst[ind2]\n",
        "lst[ind2]=temp\n",
        "print(lst)"
      ],
      "metadata": {
        "colab": {
          "base_uri": "https://localhost:8080/"
        },
        "id": "6cte0fK6s7Bw",
        "outputId": "5f05461e-f0cd-4e42-aeae-1ad6d005f005"
      },
      "execution_count": null,
      "outputs": [
        {
          "output_type": "stream",
          "name": "stdout",
          "text": [
            "[50, 20, 30, 10, 60]\n"
          ]
        }
      ]
    },
    {
      "cell_type": "markdown",
      "source": [
        "# **Tuple Based Practice Problem :**"
      ],
      "metadata": {
        "id": "xB5uQN8OOXjL"
      }
    },
    {
      "cell_type": "code",
      "source": [
        "#1. Create a tuple with integers from 1 to 5.\n",
        "print(\"tuple with integers from 1 to 5 is :\",tuple([i for i in range(1,6)]))"
      ],
      "metadata": {
        "colab": {
          "base_uri": "https://localhost:8080/"
        },
        "id": "3JVPz6OYs6_U",
        "outputId": "c94af943-8052-4468-b612-dd90b668f672"
      },
      "execution_count": null,
      "outputs": [
        {
          "output_type": "stream",
          "name": "stdout",
          "text": [
            "tuple with integers from 1 to 5 is : (1, 2, 3, 4, 5)\n"
          ]
        }
      ]
    },
    {
      "cell_type": "code",
      "source": [
        "#2. Access the third element of a tuple.\n",
        "a = tuple([i for i in range(1,7)])\n",
        "print(\"original_list:\",a)\n",
        "print(\"the third element of a tuple is \",a[2])"
      ],
      "metadata": {
        "colab": {
          "base_uri": "https://localhost:8080/"
        },
        "id": "XsaIKYgps67b",
        "outputId": "903d5ccb-f912-4ec9-a72e-400a4bfdac36"
      },
      "execution_count": null,
      "outputs": [
        {
          "output_type": "stream",
          "name": "stdout",
          "text": [
            "original_list: (1, 2, 3, 4, 5, 6)\n",
            "the third element of a tuple is  3\n"
          ]
        }
      ]
    },
    {
      "cell_type": "code",
      "source": [
        "#3. Find the length of a tuple without using the `len()` function.\n",
        "a = (1,2,3,4,577,43)\n",
        "count = 0\n",
        "for i in a:\n",
        "  count+=1\n",
        "print(\"the length of the tuple is \",count)"
      ],
      "metadata": {
        "colab": {
          "base_uri": "https://localhost:8080/"
        },
        "id": "ZDcia41bs65P",
        "outputId": "22d3c50b-e620-4e71-f3c0-9fd95890bd7a"
      },
      "execution_count": null,
      "outputs": [
        {
          "output_type": "stream",
          "name": "stdout",
          "text": [
            "the length of the tuple is  6\n"
          ]
        }
      ]
    },
    {
      "cell_type": "code",
      "source": [
        "#4. Count the occurrences of an element in a tuple.\n",
        "tup = (1,4,3,6,2,5,7,3,7,2,1)\n",
        "element = 3\n",
        "print(f\"the occurrence of an {element} is \",tup.count(element))"
      ],
      "metadata": {
        "colab": {
          "base_uri": "https://localhost:8080/"
        },
        "id": "cseyuyA6s6zT",
        "outputId": "7619246a-2a0c-4d00-ed62-0a0ebd08cacf"
      },
      "execution_count": null,
      "outputs": [
        {
          "output_type": "stream",
          "name": "stdout",
          "text": [
            "the occurrence of an 3 is  2\n"
          ]
        }
      ]
    },
    {
      "cell_type": "code",
      "source": [
        "#5. Find the index of the first occurrence of an element in a tuple.\n",
        "tup = (1,4,3,6,2,5,7,3,7,2,1)\n",
        "element = 2\n",
        "print(f\"the index of the first occurrence of an {element} is \",tup.index(element))"
      ],
      "metadata": {
        "colab": {
          "base_uri": "https://localhost:8080/"
        },
        "id": "fNcDNyEEs6vB",
        "outputId": "d94b9fbe-d8e0-4da0-9210-312e28408299"
      },
      "execution_count": null,
      "outputs": [
        {
          "output_type": "stream",
          "name": "stdout",
          "text": [
            "the index of the first occurrence of an 2 is  4\n"
          ]
        }
      ]
    },
    {
      "cell_type": "code",
      "source": [
        "#6. Check if an element exists in a tuple.\n",
        "def exists(tup,n):\n",
        "  if n in tup:\n",
        "    return True\n",
        "  else:\n",
        "    return False\n",
        "tup = (1,3,6,8,2,56,2)\n",
        "n = 56\n",
        "if exists(tup,n):\n",
        "  print(\"element exists in a tuple\")\n",
        "else:\n",
        "  print(\"element not exists\")"
      ],
      "metadata": {
        "colab": {
          "base_uri": "https://localhost:8080/"
        },
        "id": "tX8QvAD8s6sZ",
        "outputId": "38ea5136-f9ed-49c8-eec2-0669bbaba40d"
      },
      "execution_count": null,
      "outputs": [
        {
          "output_type": "stream",
          "name": "stdout",
          "text": [
            "element exists in a tuple\n"
          ]
        }
      ]
    },
    {
      "cell_type": "code",
      "source": [
        "#7. Convert a tuple to a list.\n",
        "tup=(1,2,3,4,5,6,32)\n",
        "print(\"tuple : \",tup)\n",
        "print(\"set : \",list(tup))"
      ],
      "metadata": {
        "colab": {
          "base_uri": "https://localhost:8080/"
        },
        "id": "KO7IkjpDWRvA",
        "outputId": "a65fe50e-8752-4e82-a2eb-f105a1923f02"
      },
      "execution_count": null,
      "outputs": [
        {
          "output_type": "stream",
          "name": "stdout",
          "text": [
            "tuple :  (1, 2, 3, 4, 5, 6, 32)\n",
            "set :  [1, 2, 3, 4, 5, 6, 32]\n"
          ]
        }
      ]
    },
    {
      "cell_type": "code",
      "source": [
        "#8. Convert a list to a tuple.\n",
        "lst = [1,2,3,5,245,85]\n",
        "tup = tuple(lst)\n",
        "print(\"the list is \",lst)\n",
        "print(\"the tuple is \",tup)"
      ],
      "metadata": {
        "colab": {
          "base_uri": "https://localhost:8080/"
        },
        "id": "4XTEudFVcAbZ",
        "outputId": "4bc1c52b-4876-4d52-c985-5db9505e4bfd"
      },
      "execution_count": null,
      "outputs": [
        {
          "output_type": "stream",
          "name": "stdout",
          "text": [
            "the list is  [1, 2, 3, 5, 245, 85]\n",
            "the tuple is  (1, 2, 3, 5, 245, 85)\n"
          ]
        }
      ]
    },
    {
      "cell_type": "code",
      "source": [
        "#9. Unpack the elements of a tuple into variables.\n",
        "tup = (1,2,3)\n",
        "a,b,c = tup\n",
        "print(f\"a : {a}\\nb : {b}\\nc : {c}\")"
      ],
      "metadata": {
        "colab": {
          "base_uri": "https://localhost:8080/"
        },
        "id": "5_UkIh41dkv5",
        "outputId": "b10fff1b-80dd-4aa5-d246-0d0650a127e9"
      },
      "execution_count": null,
      "outputs": [
        {
          "output_type": "stream",
          "name": "stdout",
          "text": [
            "a : 1\n",
            "b : 2\n",
            "c : 3\n"
          ]
        }
      ]
    },
    {
      "cell_type": "code",
      "source": [
        "#10. Create a tuple of even numbers from 1 to 10.\n",
        "print(\"tuple of even numbers from 1 to 10 is \",tuple([i for i in range(1,11) if i%2==0 ]))"
      ],
      "metadata": {
        "colab": {
          "base_uri": "https://localhost:8080/"
        },
        "id": "pBsGbj1HeD-L",
        "outputId": "bb604667-8c35-4867-85d9-3d6d4e9b85df"
      },
      "execution_count": null,
      "outputs": [
        {
          "output_type": "stream",
          "name": "stdout",
          "text": [
            "tuple of even numbers from 1 to 10 is  (2, 4, 6, 8, 10)\n"
          ]
        }
      ]
    },
    {
      "cell_type": "code",
      "source": [
        "#11. Create a tuple of odd numbers from 1 to 10.\n",
        "print(\"tuple of odd numbers from 1 to 10 is \",tuple([i for i in range(1,11) if i%2!=0 ]))"
      ],
      "metadata": {
        "colab": {
          "base_uri": "https://localhost:8080/"
        },
        "id": "jvo-s2Spfhbx",
        "outputId": "a23e4094-55c9-4298-aa61-69c76f6e58f6"
      },
      "execution_count": null,
      "outputs": [
        {
          "output_type": "stream",
          "name": "stdout",
          "text": [
            "tuple of odd numbers from 1 to 10 is  (1, 3, 5, 7, 9)\n"
          ]
        }
      ]
    },
    {
      "cell_type": "code",
      "source": [
        "#12. Concatenate two tuples.\n",
        "tup1 = (1,2,3)\n",
        "tup2 = (4,5,6)\n",
        "print(\"the concatination of tup1 and tup2 is \",tup1+tup2)"
      ],
      "metadata": {
        "colab": {
          "base_uri": "https://localhost:8080/"
        },
        "id": "5KJ56aHqf1Gl",
        "outputId": "644795e2-e06e-4d87-bba3-4572ec781cb5"
      },
      "execution_count": null,
      "outputs": [
        {
          "output_type": "stream",
          "name": "stdout",
          "text": [
            "the concatination of tup1 and tup2 is  (1, 2, 3, 4, 5, 6)\n"
          ]
        }
      ]
    },
    {
      "cell_type": "code",
      "source": [
        "#13. Repeat a tuple three times.\n",
        "tup = (1,2,3,4)\n",
        "print(\"repeated tuple is \",tup*3)"
      ],
      "metadata": {
        "colab": {
          "base_uri": "https://localhost:8080/"
        },
        "id": "0X_Q4DxQgQMp",
        "outputId": "d3fc9901-9e2a-492a-b847-404421ce3190"
      },
      "execution_count": null,
      "outputs": [
        {
          "output_type": "stream",
          "name": "stdout",
          "text": [
            "repeated tuple is  (1, 2, 3, 4, 1, 2, 3, 4, 1, 2, 3, 4)\n"
          ]
        }
      ]
    },
    {
      "cell_type": "code",
      "source": [
        "#14. Check if a tuple is empty.\n",
        "tup = (1,2,3,4)\n",
        "\n",
        "if not tup :\n",
        "  print(\"tuple is  empty\")\n",
        "else:\n",
        "  print(\"tuple is not empty\")"
      ],
      "metadata": {
        "colab": {
          "base_uri": "https://localhost:8080/"
        },
        "id": "PpYR4wTqggCq",
        "outputId": "d1abc551-121b-46c7-f740-c9302b05cfb2"
      },
      "execution_count": null,
      "outputs": [
        {
          "output_type": "stream",
          "name": "stdout",
          "text": [
            "tuple is not empty\n"
          ]
        }
      ]
    },
    {
      "cell_type": "code",
      "source": [
        "#15. Create a nested tuple.\n",
        "tup = (1,2,3,(2,7,10),(442,2))\n",
        "print(\"the nested tuple is \",tup)"
      ],
      "metadata": {
        "colab": {
          "base_uri": "https://localhost:8080/"
        },
        "id": "4kHGD4QghXHQ",
        "outputId": "f5d34e45-a888-43cd-e9e6-547109e81036"
      },
      "execution_count": null,
      "outputs": [
        {
          "output_type": "stream",
          "name": "stdout",
          "text": [
            "the nested tuple is  (1, 2, 3, (2, 7, 10), (442, 2))\n"
          ]
        }
      ]
    },
    {
      "cell_type": "code",
      "source": [
        "#16. Access the first element of a nested tuple.\n",
        "tup = ((1,2),3,(2,7,10),(442,2))\n",
        "print(\"the first element in tup is \",tup[0])"
      ],
      "metadata": {
        "colab": {
          "base_uri": "https://localhost:8080/"
        },
        "id": "-t8jlTPxiEUU",
        "outputId": "4a4dbb1f-605b-48ea-927c-6250f7be42aa"
      },
      "execution_count": null,
      "outputs": [
        {
          "output_type": "stream",
          "name": "stdout",
          "text": [
            "the first element in tup is  (1, 2)\n"
          ]
        }
      ]
    },
    {
      "cell_type": "code",
      "source": [
        "#17. Create a tuple with a single element.\n",
        "tup = (1,)\n",
        "print(\"Single element tuple:\",tup)"
      ],
      "metadata": {
        "colab": {
          "base_uri": "https://localhost:8080/"
        },
        "id": "E-tYduTxiERB",
        "outputId": "a628d569-9ecb-4f3b-e00e-4db40992d51e"
      },
      "execution_count": null,
      "outputs": [
        {
          "output_type": "stream",
          "name": "stdout",
          "text": [
            "Single element tuple: (1,)\n"
          ]
        }
      ]
    },
    {
      "cell_type": "code",
      "source": [
        "#18. Compare two tuples.\n",
        "\n",
        "tuple1 = (1,34,2.4,23)\n",
        "tuple2 = (54,2.4,11,54)\n",
        "if tuple1 == tuple2:\n",
        "    print(\"The tuples are equal.\")\n",
        "else:\n",
        "    print(\"The tuples are not equal.\")\n",
        "\n",
        "if tuple1 < tuple2:\n",
        "    print(\"tuple1 less than tuple2.\")\n",
        "else:\n",
        "    print(\"tuple1 greater than tuple2.\")"
      ],
      "metadata": {
        "colab": {
          "base_uri": "https://localhost:8080/"
        },
        "id": "gswoTvOxiENr",
        "outputId": "fc4b9663-cb9d-4249-ac6c-a580397a9bcc"
      },
      "execution_count": null,
      "outputs": [
        {
          "output_type": "stream",
          "name": "stdout",
          "text": [
            "The tuples are not equal.\n",
            "tuple1 less than tuple2.\n"
          ]
        }
      ]
    },
    {
      "cell_type": "code",
      "source": [
        "#19. Delete a tuple.\n",
        "tuple_to_delete = (1, 34, 2.4, 23)\n",
        "\n",
        "try:\n",
        "    print(\"Tuple before deletion:\", tuple_to_delete) # Output the tuple before deletion\n",
        "\n",
        "    # Delete the tuple\n",
        "    del tuple_to_delete\n",
        "\n",
        "    # Attempting to print the tuple after deletion will raise an error\n",
        "    print(\"Tuple after deletion:\", tuple_to_delete)\n",
        "\n",
        "except NameError:\n",
        "    print(\"Tuple has been deleted and cannot be accessed.\")\n",
        "\n"
      ],
      "metadata": {
        "colab": {
          "base_uri": "https://localhost:8080/"
        },
        "id": "KFCzAPywkmWp",
        "outputId": "364f1522-6fe8-4203-bf62-c6eabae91ab9"
      },
      "execution_count": null,
      "outputs": [
        {
          "output_type": "stream",
          "name": "stdout",
          "text": [
            "Tuple before deletion: (1, 34, 2.4, 23)\n",
            "Tuple has been deleted and cannot be accessed.\n"
          ]
        }
      ]
    },
    {
      "cell_type": "code",
      "source": [
        "#20. Slice a tuple.\n",
        "tup = (1,3,5,2,6,34,4.5)\n",
        "print(\"the slice is:\",tup[:-1:2])"
      ],
      "metadata": {
        "colab": {
          "base_uri": "https://localhost:8080/"
        },
        "id": "0cruwJg7mRLL",
        "outputId": "d6726dae-047b-44bf-915d-973523542744"
      },
      "execution_count": null,
      "outputs": [
        {
          "output_type": "stream",
          "name": "stdout",
          "text": [
            "the slice is: (1, 5, 6)\n"
          ]
        }
      ]
    },
    {
      "cell_type": "code",
      "source": [
        "#21. Find the maximum value in a tuple.\n",
        "lst = (1,2,53,35)\n",
        "print(max(lst))"
      ],
      "metadata": {
        "colab": {
          "base_uri": "https://localhost:8080/"
        },
        "id": "W5CG6moNmRGu",
        "outputId": "b825af72-5408-4188-afcc-65e186beb8f7"
      },
      "execution_count": null,
      "outputs": [
        {
          "output_type": "stream",
          "name": "stdout",
          "text": [
            "53\n"
          ]
        }
      ]
    },
    {
      "cell_type": "code",
      "source": [
        "#22. Find the minimum value in a tuple.\n",
        "lst = (1,2,53,35)\n",
        "print(min(lst))"
      ],
      "metadata": {
        "colab": {
          "base_uri": "https://localhost:8080/"
        },
        "id": "4-sikqKmmRDt",
        "outputId": "fd279ccd-e742-471d-9d5c-6366d1b8f335"
      },
      "execution_count": null,
      "outputs": [
        {
          "output_type": "stream",
          "name": "stdout",
          "text": [
            "1\n"
          ]
        }
      ]
    },
    {
      "cell_type": "code",
      "source": [
        "#23. Convert a string to a tuple of characters.\n",
        "string = \"joginaidu\"\n",
        "tup =tuple([i for i in string])\n",
        "print(tup)"
      ],
      "metadata": {
        "colab": {
          "base_uri": "https://localhost:8080/"
        },
        "id": "Pb3d-gFRmQ-6",
        "outputId": "f85ae31b-c463-4943-fc17-17c3d688e2ec"
      },
      "execution_count": null,
      "outputs": [
        {
          "output_type": "stream",
          "name": "stdout",
          "text": [
            "('j', 'o', 'g', 'i', 'n', 'a', 'i', 'd', 'u')\n"
          ]
        }
      ]
    },
    {
      "cell_type": "code",
      "source": [
        "#24. Convert a tuple of characters to a string.\n",
        "tup = ('j', 'o', 'g', 'i', 'n', 'a', 'i', 'd', 'u')\n",
        "string = (''.join(list(tup)))\n",
        "print(string)"
      ],
      "metadata": {
        "colab": {
          "base_uri": "https://localhost:8080/"
        },
        "id": "G5x22I3HmQ8E",
        "outputId": "9b3c26c7-4e91-4e9b-e751-903269d33872"
      },
      "execution_count": null,
      "outputs": [
        {
          "output_type": "stream",
          "name": "stdout",
          "text": [
            "joginaidu\n"
          ]
        }
      ]
    },
    {
      "cell_type": "code",
      "source": [
        "#25. Create a tuple from multiple data types.\n",
        "tup = (1,2.4,\"jogi\",[1,24],(\"man\",\"cat\"))\n",
        "print(tup)"
      ],
      "metadata": {
        "colab": {
          "base_uri": "https://localhost:8080/"
        },
        "id": "J-af_yi3mQ6b",
        "outputId": "c48031df-fe64-4683-ecf1-d2e9d173504e"
      },
      "execution_count": null,
      "outputs": [
        {
          "output_type": "stream",
          "name": "stdout",
          "text": [
            "(1, 2.4, 'jogi', [1, 24], ('man', 'cat'))\n"
          ]
        }
      ]
    },
    {
      "cell_type": "code",
      "source": [
        "#26. Check if two tuples are identical.\n",
        "tup1 = (4,2,1)\n",
        "tup2 = (4,2,1)\n",
        "if tup1 == tup2 :\n",
        "  print(\"two tuples are identical\")\n",
        "else:\n",
        "  print(\"not identical\")"
      ],
      "metadata": {
        "colab": {
          "base_uri": "https://localhost:8080/"
        },
        "id": "xCstr5wmmQ36",
        "outputId": "1da87894-fffd-4319-87a5-70b0b29f866a"
      },
      "execution_count": null,
      "outputs": [
        {
          "output_type": "stream",
          "name": "stdout",
          "text": [
            "two tuples are identical\n"
          ]
        }
      ]
    },
    {
      "cell_type": "code",
      "source": [
        "#27. Sort the elements of a tuple.\n",
        "tup = (1,3,64,23,2,56,3.3)\n",
        "lst = list(tup)\n",
        "lst.sort()\n",
        "print(tuple(lst))"
      ],
      "metadata": {
        "colab": {
          "base_uri": "https://localhost:8080/"
        },
        "id": "OGoMVPwsmQ0x",
        "outputId": "90b9884d-81aa-4e27-f97d-3bd642c7b548"
      },
      "execution_count": null,
      "outputs": [
        {
          "output_type": "stream",
          "name": "stdout",
          "text": [
            "(1, 2, 3, 3.3, 23, 56, 64)\n"
          ]
        }
      ]
    },
    {
      "cell_type": "code",
      "source": [
        "#28. Convert a tuple of integers to a tuple of strings.\n",
        "tup = (1,2,3,4,5,6)\n",
        "lst = []\n",
        "for i in tup:\n",
        "  lst.append(str(i))\n",
        "print(tuple(lst))"
      ],
      "metadata": {
        "colab": {
          "base_uri": "https://localhost:8080/"
        },
        "id": "MKtNfF28mQxz",
        "outputId": "709aec38-a320-4014-ff6c-5badd3f7bba7"
      },
      "execution_count": null,
      "outputs": [
        {
          "output_type": "stream",
          "name": "stdout",
          "text": [
            "('1', '2', '3', '4', '5', '6')\n"
          ]
        }
      ]
    },
    {
      "cell_type": "code",
      "source": [
        "#29. Convert a tuple of strings to a tuple of integers.\n",
        "tup = ('1', '2', '3', '4', '5', '6')\n",
        "lst = []\n",
        "for i in tup:\n",
        "  lst.append(int(i))\n",
        "print(tuple(lst))"
      ],
      "metadata": {
        "colab": {
          "base_uri": "https://localhost:8080/"
        },
        "id": "2Am8X9fnr5Ie",
        "outputId": "ab96ac06-7df9-4009-97ae-80648504a6e0"
      },
      "execution_count": null,
      "outputs": [
        {
          "output_type": "stream",
          "name": "stdout",
          "text": [
            "(1, 2, 3, 4, 5, 6)\n"
          ]
        }
      ]
    },
    {
      "cell_type": "code",
      "source": [
        "#30. Merge two tuples.\n",
        "tup1 = (1,2,3)\n",
        "tup2 = (4,5,6)\n",
        "print(\"merge tup1 and tup2 is \",tup1+tup2)"
      ],
      "metadata": {
        "colab": {
          "base_uri": "https://localhost:8080/"
        },
        "id": "pxVgRFMEt12r",
        "outputId": "2e81b896-5a0b-4990-9434-e5dc69563a68"
      },
      "execution_count": null,
      "outputs": [
        {
          "output_type": "stream",
          "name": "stdout",
          "text": [
            "merge tup1 and tup2 is  (1, 2, 3, 4, 5, 6)\n"
          ]
        }
      ]
    },
    {
      "cell_type": "code",
      "source": [
        "#31. Flatten a nested tuple.\n",
        "tup = (1,9,(23,43,6),203,(20,4))\n",
        "lst = []\n",
        "for ele in tup:\n",
        "  if isinstance(ele,tuple):\n",
        "    for obj in ele:\n",
        "      if isinstance(obj,tuple):\n",
        "        lst.extend(obj)\n",
        "      else:\n",
        "        lst.append(obj)\n",
        "  else:\n",
        "    lst.append(ele)\n",
        "result = tuple(lst)\n",
        "print(result)"
      ],
      "metadata": {
        "colab": {
          "base_uri": "https://localhost:8080/"
        },
        "id": "VMLSkeXvt10j",
        "outputId": "839d0cc4-40d8-4bda-f94e-9e92cde97164"
      },
      "execution_count": null,
      "outputs": [
        {
          "output_type": "stream",
          "name": "stdout",
          "text": [
            "(1, 9, 23, 43, 6, 203, 20, 4)\n"
          ]
        }
      ]
    },
    {
      "cell_type": "code",
      "source": [
        "#32. Create a tuple of the first 5 prime numbers.\n",
        "def is_prime(num):\n",
        "    if num <= 1:\n",
        "        return False\n",
        "    for i in range(2, int(num ** 0.5) + 1):\n",
        "        if num % i == 0:\n",
        "            return False\n",
        "    return True\n",
        "\n",
        "# Generate the first 5 prime numbers\n",
        "prime_numbers_list = [num for num in range(2, 100) if is_prime(num)][:5]\n",
        "\n",
        "# Convert the list to a tuple\n",
        "prime_numbers_tuple = tuple(prime_numbers_list)\n",
        "\n",
        "# Print the tuple of prime numbers\n",
        "print(\"Tuple of the first 5 prime numbers:\", prime_numbers_tuple)"
      ],
      "metadata": {
        "id": "N62QUAh9t1x9",
        "colab": {
          "base_uri": "https://localhost:8080/"
        },
        "outputId": "0895bec7-8592-4caf-aa29-81d8cb46c098"
      },
      "execution_count": null,
      "outputs": [
        {
          "output_type": "stream",
          "name": "stdout",
          "text": [
            "Tuple of the first 5 prime numbers: (2, 3, 5, 7, 11)\n"
          ]
        }
      ]
    },
    {
      "cell_type": "code",
      "source": [
        "#33. Check if a tuple is a palindrome.\n",
        "def palindrome(tup):\n",
        "  return tup == tup[::-1]\n",
        "tup1 = [1,2,3,1,2]\n",
        "tup2 = [1,2,3,4,5]\n",
        "\n",
        "pal1 = palindrome(tup1)\n",
        "pal2 = palindrome(tup2)\n",
        "print(\"pal1 is a palindrome\",pal1)\n",
        "print(\"pal2 is a palindrome\",pal2)"
      ],
      "metadata": {
        "id": "HbvXClUft1uA",
        "colab": {
          "base_uri": "https://localhost:8080/"
        },
        "outputId": "8fe5a44b-99f0-46c7-a792-a4bcd6c07fd2"
      },
      "execution_count": null,
      "outputs": [
        {
          "output_type": "stream",
          "name": "stdout",
          "text": [
            "pal1 is a palindrome False\n",
            "pal2 is a palindrome False\n"
          ]
        }
      ]
    },
    {
      "cell_type": "code",
      "source": [
        "#34. Create a tuple of squares of numbers from 1 to 5.\n",
        "print(tuple([i**2 for i in range(1,6)]))"
      ],
      "metadata": {
        "id": "3oHs0wDWt1sL",
        "colab": {
          "base_uri": "https://localhost:8080/"
        },
        "outputId": "c6c5b790-5c0b-4645-d1f3-5a0d810113be"
      },
      "execution_count": null,
      "outputs": [
        {
          "output_type": "stream",
          "name": "stdout",
          "text": [
            "(1, 4, 9, 16, 25)\n"
          ]
        }
      ]
    },
    {
      "cell_type": "code",
      "source": [
        "#35. Filter out all even numbers from a tuple.\n",
        "tup = (1,2,3,4,5,6)\n",
        "tup1 = tup\n",
        "lst = [i for i in tup1 if i%2==0]\n",
        "print(tuple(lst))"
      ],
      "metadata": {
        "id": "gBowaPnQt1p1",
        "colab": {
          "base_uri": "https://localhost:8080/"
        },
        "outputId": "77362f51-54ea-498d-8068-95d06bfbc1a4"
      },
      "execution_count": null,
      "outputs": [
        {
          "output_type": "stream",
          "name": "stdout",
          "text": [
            "(2, 4, 6)\n"
          ]
        }
      ]
    },
    {
      "cell_type": "code",
      "source": [
        "#36. Multiply all elements in a tuple by 2.\n",
        "\n",
        "tup = (2,3,5,24,6)\n",
        "tup = list(tup)\n",
        "print(tuple([i*2 for i in tup]))"
      ],
      "metadata": {
        "id": "teJfTRCmt1ls",
        "colab": {
          "base_uri": "https://localhost:8080/"
        },
        "outputId": "e6ba9e3d-ab65-4f72-cb90-1e1a6fed760a"
      },
      "execution_count": null,
      "outputs": [
        {
          "output_type": "stream",
          "name": "stdout",
          "text": [
            "(4, 6, 10, 48, 12)\n"
          ]
        }
      ]
    },
    {
      "cell_type": "code",
      "source": [
        "#37. Create a tuple of random numbers.\n",
        "import random\n",
        "tup = tuple([random.randint(1,100) for _ in range(10)])\n",
        "print(tup)"
      ],
      "metadata": {
        "id": "EHyRvAhMt1ej",
        "colab": {
          "base_uri": "https://localhost:8080/"
        },
        "outputId": "5e05ba6a-dc7d-4e68-8a84-a084c00e3ad8"
      },
      "execution_count": null,
      "outputs": [
        {
          "output_type": "stream",
          "name": "stdout",
          "text": [
            "(84, 24, 84, 1, 2, 52, 47, 37, 29, 7)\n"
          ]
        }
      ]
    },
    {
      "cell_type": "code",
      "source": [
        "#38. Check if a tuple is sorted.\n",
        "\n",
        "tup = (1,2,4,63,12,97,323)\n",
        "lst = list(tup)\n",
        "lst.sort()\n",
        "if tuple(lst) == tup:\n",
        "  print(\"tuple is sorted\")\n",
        "else:\n",
        "  print(\"tuple is not sorted\")"
      ],
      "metadata": {
        "colab": {
          "base_uri": "https://localhost:8080/"
        },
        "id": "OHKnrQEM0Cw0",
        "outputId": "7df36810-c80a-4b98-b28e-470ed9f25034"
      },
      "execution_count": null,
      "outputs": [
        {
          "output_type": "stream",
          "name": "stdout",
          "text": [
            "tuple is not sorted\n"
          ]
        }
      ]
    },
    {
      "cell_type": "code",
      "source": [
        "#39. Rotate a tuple to the left by `n` positions.\n",
        "def rotation(tup,n):\n",
        "  n = n%len(tup)\n",
        "  rotated = tup[n:]+tup[:n]\n",
        "  return tuple(rotated)\n",
        "\n",
        "n = int(input(\"enter the input:\"))\n",
        "tup = list((1,2,4,36,55))\n",
        "print(rotation(tup,n))"
      ],
      "metadata": {
        "colab": {
          "base_uri": "https://localhost:8080/"
        },
        "id": "RXjYohgM1svl",
        "outputId": "275689b0-6195-49ed-b4a6-a3922c3beaec"
      },
      "execution_count": null,
      "outputs": [
        {
          "output_type": "stream",
          "name": "stdout",
          "text": [
            "enter the input:2\n",
            "(4, 36, 55, 1, 2)\n"
          ]
        }
      ]
    },
    {
      "cell_type": "code",
      "source": [
        "#40. Rotate a tuple to the right by `n` positions.\n",
        "def rotation_right(tup,n):\n",
        "  n = n%len(tup) #normalzaion\n",
        "  rotated = tup[-n:]+tup[:-n]\n",
        "  return tuple(rotated)\n",
        "\n",
        "tup = list((2,66,3,2,78))\n",
        "n = 2\n",
        "print(rotation_right(tup,n))"
      ],
      "metadata": {
        "colab": {
          "base_uri": "https://localhost:8080/"
        },
        "id": "gsgK7iJS8XMB",
        "outputId": "506962df-b875-4c6b-b970-a393b6d95e06"
      },
      "execution_count": null,
      "outputs": [
        {
          "output_type": "stream",
          "name": "stdout",
          "text": [
            "(2, 78, 2, 66, 3)\n"
          ]
        }
      ]
    },
    {
      "cell_type": "code",
      "source": [
        "#41. Create a tuple of the first 5 Fibonacci numbers.\n",
        "\n",
        "def fibnocci_num(n):\n",
        "  fibnocci = [0,1]\n",
        "  for i in fibnocci:\n",
        "    if len(fibnocci) < n:\n",
        "      fibnocci.append(fibnocci[-1]+fibnocci[-2])\n",
        "  return tuple(fibnocci)\n",
        "print(fibnocci_num(5))"
      ],
      "metadata": {
        "colab": {
          "base_uri": "https://localhost:8080/"
        },
        "id": "NTJryIRN_5Ts",
        "outputId": "4915d419-2e92-49e1-bfe5-52fbb6494be3"
      },
      "execution_count": null,
      "outputs": [
        {
          "output_type": "stream",
          "name": "stdout",
          "text": [
            "(0, 1, 1, 2, 3)\n"
          ]
        }
      ]
    },
    {
      "cell_type": "code",
      "source": [
        "#42. Create a tuple from user input.\n",
        "lst = input(\"enter the values\")\n",
        "print(tuple([i for i in lst.split()]))\n"
      ],
      "metadata": {
        "colab": {
          "base_uri": "https://localhost:8080/"
        },
        "id": "oOC2Gpo2CuiJ",
        "outputId": "4ba8888b-3920-4893-e725-394d590aac05"
      },
      "execution_count": null,
      "outputs": [
        {
          "output_type": "stream",
          "name": "stdout",
          "text": [
            "enter the valuescreate a tuple from user input\n",
            "('create', 'a', 'tuple', 'from', 'user', 'input')\n"
          ]
        }
      ]
    },
    {
      "cell_type": "code",
      "source": [
        "#43. Swap two elements in a tuple.\n",
        "\n",
        "tup = (2,35,64,23,56)\n",
        "lst = list(tup)\n",
        "lst[2],lst[4] = lst[4],lst[2]\n",
        "print(tuple(lst))"
      ],
      "metadata": {
        "colab": {
          "base_uri": "https://localhost:8080/"
        },
        "id": "HH4yEQalEghT",
        "outputId": "d46564a7-9e21-40ed-a72e-61168cee0c3a"
      },
      "execution_count": null,
      "outputs": [
        {
          "output_type": "stream",
          "name": "stdout",
          "text": [
            "(2, 35, 56, 23, 64)\n"
          ]
        }
      ]
    },
    {
      "cell_type": "code",
      "source": [
        "#44. Reverse the elements of a tuple.\n",
        "tup=(2,45,34,64,27)\n",
        "lst = list(tup)\n",
        "print(tuple(lst[::-1]))"
      ],
      "metadata": {
        "colab": {
          "base_uri": "https://localhost:8080/"
        },
        "id": "fj9Saz18F1Ye",
        "outputId": "62f2537d-49fd-470e-f47b-71abf554c4a1"
      },
      "execution_count": null,
      "outputs": [
        {
          "output_type": "stream",
          "name": "stdout",
          "text": [
            "(27, 64, 34, 45, 2)\n"
          ]
        }
      ]
    },
    {
      "cell_type": "code",
      "source": [
        "#45. Create a tuple of the first `n` powers of 2.\n",
        "n= int(input(\"enter the value\"))\n",
        "print(tuple([2**i for i in range(n)]))"
      ],
      "metadata": {
        "colab": {
          "base_uri": "https://localhost:8080/"
        },
        "id": "LkMDFTlHGdcf",
        "outputId": "5ad2368e-6985-4b02-e1ca-833202061bed"
      },
      "execution_count": null,
      "outputs": [
        {
          "output_type": "stream",
          "name": "stdout",
          "text": [
            "enter the value10\n",
            "(1, 2, 4, 8, 16, 32, 64, 128, 256, 512)\n"
          ]
        }
      ]
    },
    {
      "cell_type": "code",
      "source": [
        "#46. Find the longest string in a tuple of strings.\n",
        "\n",
        "tupl = \"Find the longest string in a tuple of strings\"\n",
        "tup = tuple([i for i in tupl.split()])\n",
        "string = \"\"\n",
        "for i in tup:\n",
        "  if isinstance(i,tuple):\n",
        "    for j in i :\n",
        "      if len(j) > len(string) :\n",
        "        string = j\n",
        "      else:\n",
        "        pass\n",
        "  else:\n",
        "    if len(i)>len(string):\n",
        "      string = i\n",
        "print(\"the longest string in tupl is :\",string)\n",
        "print(tup)"
      ],
      "metadata": {
        "id": "3B8YO2nQG-j3",
        "colab": {
          "base_uri": "https://localhost:8080/"
        },
        "outputId": "def8ae69-7e37-4750-9771-80e501693290"
      },
      "execution_count": null,
      "outputs": [
        {
          "output_type": "stream",
          "name": "stdout",
          "text": [
            "the longest string in tupl is : longest\n",
            "('Find', 'the', 'longest', 'string', 'in', 'a', 'tuple', 'of', 'strings')\n"
          ]
        }
      ]
    },
    {
      "cell_type": "code",
      "source": [
        "#47. Find the shortest string in a tuple of strings.\n",
        "tupl = \"Find the longest string in a tuple of strings\"\n",
        "tup = tuple([i for i in tupl.split()])\n",
        "string = tup[0]\n",
        "if isinstance(tup[0],tuple):\n",
        "  string = tup[0][0]\n",
        "\n",
        "else:\n",
        "  string = tup [0]\n",
        "\n",
        "\n",
        "for i in tup:\n",
        "  if isinstance(i,tuple):\n",
        "    for j in i:\n",
        "      if len(j)<len(string):\n",
        "        string = j\n",
        "      else:\n",
        "        pass\n",
        "  else:\n",
        "    if len(i)<len(string):\n",
        "      string = i\n",
        "print(f\"the longest string is : {string}\")"
      ],
      "metadata": {
        "colab": {
          "base_uri": "https://localhost:8080/"
        },
        "id": "b07D85Bekzq5",
        "outputId": "1b4769b7-6396-4966-a955-ec6a6b47e4fe"
      },
      "execution_count": null,
      "outputs": [
        {
          "output_type": "stream",
          "name": "stdout",
          "text": [
            "the longest string is : a\n"
          ]
        }
      ]
    },
    {
      "cell_type": "code",
      "source": [
        "#48. Create a tuple of the first `n` triangular numbers.\n",
        "n = int(input(\"enter the number:\"))\n",
        "print(\"the triangular numbers is :\",tuple([i*(i+1)//2 for i in range(n)]))\n"
      ],
      "metadata": {
        "id": "_AqrriUYn-gx",
        "colab": {
          "base_uri": "https://localhost:8080/"
        },
        "outputId": "aca582c1-3a5c-48e3-bb64-b05269a8c958"
      },
      "execution_count": null,
      "outputs": [
        {
          "output_type": "stream",
          "name": "stdout",
          "text": [
            "enter the number:5\n",
            "the triangular numbers is : (0, 1, 3, 6, 10)\n"
          ]
        }
      ]
    },
    {
      "cell_type": "code",
      "source": [
        "#49. Check if a tuple contains another tuple as a subsequence.\n",
        "\n",
        "tup = (1,2,4,6,3,(20,4,35),23,(24,56))\n",
        "flag = True\n",
        "for i in tup:\n",
        "  if type(i)==tuple:\n",
        "    flag = False\n",
        "    break\n",
        "if flag == False:\n",
        "  print(\"contains another tuple as a subsequence\")\n",
        "else:\n",
        "  print(\"not contains subsequence\")\n",
        "\n"
      ],
      "metadata": {
        "colab": {
          "base_uri": "https://localhost:8080/"
        },
        "id": "xtjJiIaKsff_",
        "outputId": "72ba7389-077f-4ba3-f2ad-5e76f55e9db3"
      },
      "execution_count": null,
      "outputs": [
        {
          "output_type": "stream",
          "name": "stdout",
          "text": [
            "contains another tuple as a subsequence\n"
          ]
        }
      ]
    },
    {
      "cell_type": "code",
      "source": [
        "#50. Create a tuple of alternating 1s and 0s of length `n`.\n",
        "n = int(input(\"enter the integer:\"))\n",
        "num = tuple([i%2 for i in range(1,n+1)])\n",
        "print(num)"
      ],
      "metadata": {
        "colab": {
          "base_uri": "https://localhost:8080/"
        },
        "id": "rg0OTaU9lwIY",
        "outputId": "32e50ade-7368-4459-a46d-fb29b1007725"
      },
      "execution_count": null,
      "outputs": [
        {
          "output_type": "stream",
          "name": "stdout",
          "text": [
            "enter the integer:10\n",
            "(1, 0, 1, 0, 1, 0, 1, 0, 1, 0)\n"
          ]
        }
      ]
    },
    {
      "cell_type": "markdown",
      "source": [
        "# **Set Based Practice Problem :**"
      ],
      "metadata": {
        "id": "ZGg9QchNntWv"
      }
    },
    {
      "cell_type": "code",
      "source": [
        "#1. Create a set with integers from 1 to 5.\n",
        "print(set([i for i in range(1,6)]))"
      ],
      "metadata": {
        "colab": {
          "base_uri": "https://localhost:8080/"
        },
        "id": "xGYqyrX4nfdV",
        "outputId": "35c270e6-314f-4c73-b08e-087f23909803"
      },
      "execution_count": null,
      "outputs": [
        {
          "output_type": "stream",
          "name": "stdout",
          "text": [
            "{1, 2, 3, 4, 5}\n"
          ]
        }
      ]
    },
    {
      "cell_type": "code",
      "source": [
        "#2. Add an element to a set.\n",
        "set1 = {1,2,4,5,7,6}\n",
        "set1.add(3)\n",
        "print(set1)"
      ],
      "metadata": {
        "colab": {
          "base_uri": "https://localhost:8080/"
        },
        "id": "na1EtpEKn3jy",
        "outputId": "4265f145-aa22-4115-d4f6-e3247d4a0aed"
      },
      "execution_count": null,
      "outputs": [
        {
          "output_type": "stream",
          "name": "stdout",
          "text": [
            "{1, 2, 3, 4, 5, 6, 7}\n"
          ]
        }
      ]
    },
    {
      "cell_type": "code",
      "source": [
        "#3. Remove an element from a set.\n",
        "set1 = {1,53,78,24,4}\n",
        "set1.remove(53)\n",
        "print(set1)"
      ],
      "metadata": {
        "colab": {
          "base_uri": "https://localhost:8080/"
        },
        "id": "IpvK3mryn3gR",
        "outputId": "05173032-f0e7-4427-9e42-e92f29f83d7a"
      },
      "execution_count": null,
      "outputs": [
        {
          "output_type": "stream",
          "name": "stdout",
          "text": [
            "{1, 4, 24, 78}\n"
          ]
        }
      ]
    },
    {
      "cell_type": "code",
      "source": [
        "#4. Check if an element exists in a set.\n",
        "set1 = {2,5,2,7,94,3}\n",
        "i = 5\n",
        "if i in set1:\n",
        "  print(\"element is exists\")\n",
        "else:\n",
        "  print(\"not exists\")"
      ],
      "metadata": {
        "colab": {
          "base_uri": "https://localhost:8080/"
        },
        "id": "Hp8DzDY3n3dj",
        "outputId": "8eadeba4-1e49-44f7-b433-21cde1a11efe"
      },
      "execution_count": null,
      "outputs": [
        {
          "output_type": "stream",
          "name": "stdout",
          "text": [
            "element is exists\n"
          ]
        }
      ]
    },
    {
      "cell_type": "code",
      "source": [
        "#5. Find the length of a set without using the `len()` function.\n",
        "set1 = {1.3,5,2,2,20}\n",
        "count = 0\n",
        "for i in set1:\n",
        "  count+=1\n",
        "print(\"Length of the set:\",count)"
      ],
      "metadata": {
        "colab": {
          "base_uri": "https://localhost:8080/"
        },
        "id": "_VFLdX4xn3bB",
        "outputId": "76695b12-6022-4f8b-8ddb-0904fba7985c"
      },
      "execution_count": null,
      "outputs": [
        {
          "output_type": "stream",
          "name": "stdout",
          "text": [
            "Length of the set: 4\n"
          ]
        }
      ]
    },
    {
      "cell_type": "code",
      "source": [
        "#6. Clear all elements from a set.\n",
        "set1 = {1,3,6,3,24}\n",
        "set1.clear()\n",
        "print(f\"the original_set : {set1}\")\n",
        "print(set1)"
      ],
      "metadata": {
        "colab": {
          "base_uri": "https://localhost:8080/"
        },
        "id": "LPE60GBun3Xp",
        "outputId": "2ec08f9d-0182-43a9-997a-671cfd5f27cf"
      },
      "execution_count": null,
      "outputs": [
        {
          "output_type": "stream",
          "name": "stdout",
          "text": [
            "the original_set : set()\n",
            "set()\n"
          ]
        }
      ]
    },
    {
      "cell_type": "code",
      "source": [
        "#7. Create a set of even numbers from 1 to 10.\n",
        "print(\"the set of even numbers :\",set([i for i in range(1,11) if i %2==0]))"
      ],
      "metadata": {
        "colab": {
          "base_uri": "https://localhost:8080/"
        },
        "id": "89juROMzn3R1",
        "outputId": "67592c98-421d-4bf9-f8f5-8f21c27f0072"
      },
      "execution_count": null,
      "outputs": [
        {
          "output_type": "stream",
          "name": "stdout",
          "text": [
            "the set of even numbers : {2, 4, 6, 8, 10}\n"
          ]
        }
      ]
    },
    {
      "cell_type": "code",
      "source": [
        "#7. Create a set of odd numbers from 1 to 10.\n",
        "print(\"the set of odd numbers :\",set([i for i in range(1,11) if i %2!=0]))"
      ],
      "metadata": {
        "colab": {
          "base_uri": "https://localhost:8080/"
        },
        "id": "inFodgH5szoQ",
        "outputId": "40dd827c-7f83-4a6b-9350-da68c7c25261"
      },
      "execution_count": null,
      "outputs": [
        {
          "output_type": "stream",
          "name": "stdout",
          "text": [
            "the set of odd numbers : {1, 3, 5, 7, 9}\n"
          ]
        }
      ]
    },
    {
      "cell_type": "code",
      "source": [
        "#9. Find the union of two sets.\n",
        "set1 = {1,2,3,4}\n",
        "set2 = {2,5,4,7}\n",
        "print(\"the union of two sets is :\",set1.union(set2))"
      ],
      "metadata": {
        "colab": {
          "base_uri": "https://localhost:8080/"
        },
        "id": "C99327Q9tU4h",
        "outputId": "ebf025a8-321a-4c7b-a98d-70492cabc138"
      },
      "execution_count": null,
      "outputs": [
        {
          "output_type": "stream",
          "name": "stdout",
          "text": [
            "the union of two sets is : {1, 2, 3, 4, 5, 7}\n"
          ]
        }
      ]
    },
    {
      "cell_type": "code",
      "source": [
        "#10. Find the intersection of two sets.\n",
        "set1 = {1,2,3,4}\n",
        "set2 = {2,5,4,7}\n",
        "print(\"the intersection of two sets is :\",set1.intersection(set2))"
      ],
      "metadata": {
        "colab": {
          "base_uri": "https://localhost:8080/"
        },
        "id": "1fDkHkN-tpY5",
        "outputId": "dea6e653-9518-4c64-e5ba-58105bc53f92"
      },
      "execution_count": null,
      "outputs": [
        {
          "output_type": "stream",
          "name": "stdout",
          "text": [
            "the union of two sets is : {2, 4}\n"
          ]
        }
      ]
    },
    {
      "cell_type": "code",
      "source": [
        "#11. Find the difference between two sets.\n",
        "set1 = {1,2,3,4}\n",
        "set2 = {2,5,4,7}\n",
        "print(\"the difference of two sets is :\",set1.difference(set2))"
      ],
      "metadata": {
        "colab": {
          "base_uri": "https://localhost:8080/"
        },
        "id": "kqxpDIESuvil",
        "outputId": "7e37e9e0-3380-4855-856f-bfd53cfd2065"
      },
      "execution_count": null,
      "outputs": [
        {
          "output_type": "stream",
          "name": "stdout",
          "text": [
            "the difference of two sets is : {1, 3}\n"
          ]
        }
      ]
    },
    {
      "cell_type": "code",
      "source": [
        "#12. Check if a set is a subset of another set.\n",
        "set1 = {1, 2, 3}\n",
        "set2 = {1, 2, 3, 4, 5}\n",
        "is_subset = set1.issubset(set2)\n",
        "print(\"Is set1 a subset of set2:\", is_subset)\n"
      ],
      "metadata": {
        "id": "QWCzO8rJvGjN",
        "colab": {
          "base_uri": "https://localhost:8080/"
        },
        "outputId": "00b91c1a-1b5a-490f-849a-361052aaa98e"
      },
      "execution_count": null,
      "outputs": [
        {
          "output_type": "stream",
          "name": "stdout",
          "text": [
            "Is set1 a subset of set2: True\n"
          ]
        }
      ]
    },
    {
      "cell_type": "code",
      "source": [
        "#13. Check if a set is a superset of another set.\n",
        "set1 = {1, 2, 3}\n",
        "set2 = {1, 2, 3, 4, 5}\n",
        "is_subset = set2.issuperset(set1)\n",
        "print(\"Is set2 a superset of set1:\", is_subset)\n"
      ],
      "metadata": {
        "colab": {
          "base_uri": "https://localhost:8080/"
        },
        "id": "K0IJXgTzF7Gk",
        "outputId": "b6a9b277-c3dc-4013-9d5d-351f2daa4b0e"
      },
      "execution_count": null,
      "outputs": [
        {
          "output_type": "stream",
          "name": "stdout",
          "text": [
            "Is set2 a superset of set1: True\n"
          ]
        }
      ]
    },
    {
      "cell_type": "code",
      "source": [
        "#14. Create a set from a list.\n",
        "lst = [1,2,3,4,5,6]\n",
        "set1 = set(lst)\n",
        "print(set1)"
      ],
      "metadata": {
        "colab": {
          "base_uri": "https://localhost:8080/"
        },
        "id": "rhfInq4JGu8P",
        "outputId": "0f68d7b0-c2a2-4804-cb8f-e01b1eb4a703"
      },
      "execution_count": null,
      "outputs": [
        {
          "output_type": "stream",
          "name": "stdout",
          "text": [
            "{1, 2, 3, 4, 5, 6}\n"
          ]
        }
      ]
    },
    {
      "cell_type": "code",
      "source": [
        "#15. Convert a set to a list.\n",
        "set1 = {1, 2, 3, 4, 5, 6}\n",
        "lst = list(set1)\n",
        "print(lst)"
      ],
      "metadata": {
        "colab": {
          "base_uri": "https://localhost:8080/"
        },
        "id": "46yr-CIYHFM3",
        "outputId": "bf8af730-df31-4704-c778-3068e08550c6"
      },
      "execution_count": null,
      "outputs": [
        {
          "output_type": "stream",
          "name": "stdout",
          "text": [
            "[1, 2, 3, 4, 5, 6]\n"
          ]
        }
      ]
    },
    {
      "cell_type": "code",
      "source": [
        "#16. Remove a random element from a set.\n",
        "import random\n",
        "set1 = {1,2,3,4,5,7}\n",
        "random1 = random.choice(list(set1))\n",
        "set1.remove(random1)\n",
        "print(f\"Updated set after removing {random1}:\", set1)"
      ],
      "metadata": {
        "colab": {
          "base_uri": "https://localhost:8080/"
        },
        "id": "FhiTo1lfHIvB",
        "outputId": "67cde823-cdc4-49d1-e47c-72d23a50a868"
      },
      "execution_count": null,
      "outputs": [
        {
          "output_type": "stream",
          "name": "stdout",
          "text": [
            "Updated set after removing 5: {1, 2, 3, 4, 7}\n"
          ]
        }
      ]
    },
    {
      "cell_type": "code",
      "source": [
        "#17. Pop an element from a set.\n",
        "set1 = {111,22,363,55,76}\n",
        "set2 = set1.pop()\n",
        "print(set2)"
      ],
      "metadata": {
        "colab": {
          "base_uri": "https://localhost:8080/"
        },
        "id": "4K0FZL5HHIrl",
        "outputId": "cb79a267-81c2-4da1-ad0c-bb74d88d5dba"
      },
      "execution_count": null,
      "outputs": [
        {
          "output_type": "stream",
          "name": "stdout",
          "text": [
            "22\n"
          ]
        }
      ]
    },
    {
      "cell_type": "code",
      "source": [
        "#18. Check if two sets have no elements in common.\n",
        "set1 = {12,35,22,56}\n",
        "set2 = {2,34,122,36}\n",
        "if set1.intersection(set2):\n",
        "    print(\"common\")\n",
        "else:\n",
        "    print(\"no common\")"
      ],
      "metadata": {
        "colab": {
          "base_uri": "https://localhost:8080/"
        },
        "id": "hrBOWWh4HIog",
        "outputId": "82c928e7-2d85-4d7d-f43e-07f690d3ba0c"
      },
      "execution_count": null,
      "outputs": [
        {
          "output_type": "stream",
          "name": "stdout",
          "text": [
            "no common\n"
          ]
        }
      ]
    },
    {
      "cell_type": "code",
      "source": [
        "#19. Find the symmetric difference between two sets.\n",
        "set1 = {1, 2, 3, 4, 5}\n",
        "set2 = {4, 5, 6, 7, 8}\n",
        "symmetric_difference = set1 ^ set2\n",
        "print(symmetric_difference)"
      ],
      "metadata": {
        "colab": {
          "base_uri": "https://localhost:8080/"
        },
        "id": "E2rdKyLaHIll",
        "outputId": "48dc864d-5125-4329-d3c8-7af286a4782a"
      },
      "execution_count": null,
      "outputs": [
        {
          "output_type": "stream",
          "name": "stdout",
          "text": [
            "{1, 2, 3, 6, 7, 8}\n"
          ]
        }
      ]
    },
    {
      "cell_type": "code",
      "source": [
        "#20. Update a set with elements from another set.\n",
        "set1 = {1,4,1,24,55}\n",
        "set2 = {3,43,4,23}\n",
        "set1.update(set2)\n",
        "print(set1)"
      ],
      "metadata": {
        "colab": {
          "base_uri": "https://localhost:8080/"
        },
        "id": "7w70YsgtHIio",
        "outputId": "3729c53d-95f1-4f3b-d052-8e8080083891"
      },
      "execution_count": null,
      "outputs": [
        {
          "output_type": "stream",
          "name": "stdout",
          "text": [
            "{1, 3, 4, 43, 23, 55, 24}\n"
          ]
        }
      ]
    },
    {
      "cell_type": "code",
      "source": [
        "#21. Create a set of the first 5 prime numbers.\n",
        "\n",
        "def primes(n):\n",
        "  if n<=1:\n",
        "    return False\n",
        "  for i in range(2,int(n**0.5)+1):\n",
        "    if n%i==0:\n",
        "      return False\n",
        "  return True\n",
        "set1 = set()\n",
        "n=2\n",
        "while len(set1)<5:\n",
        "  if primes(n):\n",
        "    set1.add(n)\n",
        "  n+=1\n",
        "print(set1)\n"
      ],
      "metadata": {
        "colab": {
          "base_uri": "https://localhost:8080/"
        },
        "id": "yk7UZEzZNbY0",
        "outputId": "4153b0ae-1b8f-4466-9df3-515b94b78d42"
      },
      "execution_count": null,
      "outputs": [
        {
          "output_type": "stream",
          "name": "stdout",
          "text": [
            "{2, 3, 5, 7, 11}\n"
          ]
        }
      ]
    },
    {
      "cell_type": "code",
      "source": [
        "#22. Check if two sets are identical.\n",
        "set1 = {1,4,1,24,55}\n",
        "set2 = {3,43,4,23}\n",
        "if set1 == set2 :\n",
        "  print(\"identical\")\n",
        "else:\n",
        "  print(\"not identical\")"
      ],
      "metadata": {
        "colab": {
          "base_uri": "https://localhost:8080/"
        },
        "id": "ox4fkVFdU4Fo",
        "outputId": "88bea593-36fe-4878-cabc-c901bf0e29c9"
      },
      "execution_count": null,
      "outputs": [
        {
          "output_type": "stream",
          "name": "stdout",
          "text": [
            "not identical\n"
          ]
        }
      ]
    },
    {
      "cell_type": "code",
      "source": [
        "#23. Create a frozen set.\n",
        "set1 = {1,2,5,6,2}\n",
        "print(frozenset(set1))"
      ],
      "metadata": {
        "colab": {
          "base_uri": "https://localhost:8080/"
        },
        "id": "Hbmcr7SKU3_y",
        "outputId": "115548aa-220e-4568-c3a0-03f0de7d5d07"
      },
      "execution_count": null,
      "outputs": [
        {
          "output_type": "stream",
          "name": "stdout",
          "text": [
            "frozenset({1, 2, 5, 6})\n"
          ]
        }
      ]
    },
    {
      "cell_type": "code",
      "source": [
        "#24. Check if a set is disjoint with another set.\n",
        "set1 = {1,4,1,24,55}\n",
        "set2 = {3,43,4,23}\n",
        "dis_joint=set1.isdisjoint(set2)\n",
        "print(dis_joint)"
      ],
      "metadata": {
        "colab": {
          "base_uri": "https://localhost:8080/"
        },
        "id": "Tw67aCyIWZQb",
        "outputId": "ee060994-f03f-42c0-ede1-804e87d036cd"
      },
      "execution_count": null,
      "outputs": [
        {
          "output_type": "stream",
          "name": "stdout",
          "text": [
            "False\n"
          ]
        }
      ]
    },
    {
      "cell_type": "code",
      "source": [
        "#25. Create a set of squares of numbers from 1 to 5.\n",
        "print(set([i**2 for i in range(1,6)]))"
      ],
      "metadata": {
        "colab": {
          "base_uri": "https://localhost:8080/"
        },
        "id": "elXqz-4xW1mk",
        "outputId": "d3bd0a52-3bc0-44d8-d661-81ef9b04dfa2"
      },
      "execution_count": null,
      "outputs": [
        {
          "output_type": "stream",
          "name": "stdout",
          "text": [
            "{1, 4, 9, 16, 25}\n"
          ]
        }
      ]
    },
    {
      "cell_type": "code",
      "source": [
        "#26. Filter out all even numbers from a set.\n",
        "set1 = {1,2,56,3,7,8}\n",
        "print({i for i in set1 if i%2 ==0})"
      ],
      "metadata": {
        "colab": {
          "base_uri": "https://localhost:8080/"
        },
        "id": "ZL46ThsGXfLW",
        "outputId": "15d3f181-0adc-41c9-9175-a12ec08e4801"
      },
      "execution_count": null,
      "outputs": [
        {
          "output_type": "stream",
          "name": "stdout",
          "text": [
            "{8, 2, 56}\n"
          ]
        }
      ]
    },
    {
      "cell_type": "code",
      "source": [
        "#27. Multiply all elements in a set by 2.\n",
        "set1 = {1,2,56,3,7,8}\n",
        "print({i*2 for i in set1})"
      ],
      "metadata": {
        "colab": {
          "base_uri": "https://localhost:8080/"
        },
        "id": "3KqGGi7bX_GA",
        "outputId": "feeecb53-59ac-4976-c8c1-a10011e36a2d"
      },
      "execution_count": null,
      "outputs": [
        {
          "output_type": "stream",
          "name": "stdout",
          "text": [
            "{2, 4, 6, 14, 16, 112}\n"
          ]
        }
      ]
    },
    {
      "cell_type": "code",
      "source": [
        "#28. Create a set of random numbers.\n",
        "import random\n",
        "set1 = {random.randint(1,100) for _ in range(10)}\n",
        "print(set1)"
      ],
      "metadata": {
        "colab": {
          "base_uri": "https://localhost:8080/"
        },
        "id": "5qTB4wASYPAF",
        "outputId": "f5a3809b-be64-4ba4-8af1-a3fbd832378f"
      },
      "execution_count": null,
      "outputs": [
        {
          "output_type": "stream",
          "name": "stdout",
          "text": [
            "{67, 35, 8, 47, 49, 82, 50, 57, 92, 31}\n"
          ]
        }
      ]
    },
    {
      "cell_type": "code",
      "source": [
        "#29. Check if a set is empty.\n",
        "set1 = {12,4,5}\n",
        "if len(set1)==0:\n",
        "  print(\"set is is empty\")\n",
        "else:\n",
        "  print(\"set is not empty\")"
      ],
      "metadata": {
        "colab": {
          "base_uri": "https://localhost:8080/"
        },
        "id": "ArRqSrCaZUi4",
        "outputId": "b686d7b4-7626-4039-c204-dde25b298436"
      },
      "execution_count": null,
      "outputs": [
        {
          "output_type": "stream",
          "name": "stdout",
          "text": [
            "set is not empty\n"
          ]
        }
      ]
    },
    {
      "cell_type": "code",
      "source": [
        "#30. Create a nested set (hint: use frozenset).\n",
        "nested_set = {frozenset({1, 2, 3}), frozenset({4, 5, 6}), frozenset({7, 8, 9})}\n",
        "\n",
        "print(nested_set)"
      ],
      "metadata": {
        "colab": {
          "base_uri": "https://localhost:8080/"
        },
        "id": "AijQaJlZasCF",
        "outputId": "ad6b8916-c862-4b4d-ec59-350b40fda58c"
      },
      "execution_count": null,
      "outputs": [
        {
          "output_type": "stream",
          "name": "stdout",
          "text": [
            "{frozenset({1, 2, 3}), frozenset({4, 5, 6}), frozenset({8, 9, 7})}\n"
          ]
        }
      ]
    },
    {
      "cell_type": "code",
      "source": [
        "#31. Remove an element from a set using the discard method.\n",
        "set1 = {1,2,4,6,3,4}\n",
        "set1.discard(6)\n",
        "print(set1)"
      ],
      "metadata": {
        "id": "vyCOJ47Wb3sy",
        "colab": {
          "base_uri": "https://localhost:8080/"
        },
        "outputId": "52a2ec7e-bda1-4a93-dbb5-a07f3dc727f9"
      },
      "execution_count": 1,
      "outputs": [
        {
          "output_type": "stream",
          "name": "stdout",
          "text": [
            "{1, 2, 3, 4}\n"
          ]
        }
      ]
    },
    {
      "cell_type": "code",
      "source": [
        "#32. Compare two sets.\n",
        "set1 = {1,2,4,6}\n",
        "set2 = {4,6,7,3}\n",
        "union=set1.union(set2)\n",
        "intersection = set1.intersection(set2)\n",
        "is_subset = set1.issubset(set2)\n",
        "is_superset = set1.issuperset(set2)\n",
        "difference = set1.difference(set2)\n",
        "print(f\"union :{union}\\nintersection :{intersection}\\nis_subset :{is_subset}\\nis_superset :{is_superset}\\ndifference :{difference}\")"
      ],
      "metadata": {
        "colab": {
          "base_uri": "https://localhost:8080/"
        },
        "id": "sZXY3CL8eFt-",
        "outputId": "94d09fdd-a438-4c33-fe6a-d78018af080d"
      },
      "execution_count": 4,
      "outputs": [
        {
          "output_type": "stream",
          "name": "stdout",
          "text": [
            "union :{1, 2, 3, 4, 6, 7}\n",
            "intersection :{4, 6}\n",
            "is_subset :False\n",
            "is_superset :False\n",
            "difference :{1, 2}\n"
          ]
        }
      ]
    },
    {
      "cell_type": "code",
      "source": [
        "#33. Create a set from a string.\n",
        "string = \"joginaidu\"\n",
        "list1 = set(list(string))\n",
        "print(list1)"
      ],
      "metadata": {
        "colab": {
          "base_uri": "https://localhost:8080/"
        },
        "id": "zTeWYwkGeg8E",
        "outputId": "f7b674e8-ef7a-4a77-c60a-26c5d8e23380"
      },
      "execution_count": 7,
      "outputs": [
        {
          "output_type": "stream",
          "name": "stdout",
          "text": [
            "{'o', 'u', 'g', 'a', 'd', 'j', 'i', 'n'}\n"
          ]
        }
      ]
    },
    {
      "cell_type": "code",
      "source": [
        "#34. Convert a set of strings to a set of integers.\n",
        "set1 = {'1','2','3','6','7'}\n",
        "set2 = list(set1)\n",
        "lst = []\n",
        "for i in set2:\n",
        "  a = int(i)\n",
        "  lst.append(a)\n",
        "print(set(lst))"
      ],
      "metadata": {
        "colab": {
          "base_uri": "https://localhost:8080/"
        },
        "id": "JzTVE19Zg2Q8",
        "outputId": "91e6a470-2c1d-4d2d-ef6f-8d9bd9998931"
      },
      "execution_count": 16,
      "outputs": [
        {
          "output_type": "stream",
          "name": "stdout",
          "text": [
            "{1, 2, 3, 6, 7}\n"
          ]
        }
      ]
    },
    {
      "cell_type": "code",
      "source": [
        "#35. Convert a set of integers to a set of strings.\n",
        "set1 = {1, 2, 3, 6, 7}\n",
        "set2 = list(set1)\n",
        "lst = []\n",
        "for i in set2:\n",
        "  a = str(i)\n",
        "  lst.append(a)\n",
        "print(set(lst))"
      ],
      "metadata": {
        "colab": {
          "base_uri": "https://localhost:8080/"
        },
        "id": "TFRz1N4Witpe",
        "outputId": "3c096ac2-b467-4bce-f20c-681790035160"
      },
      "execution_count": 17,
      "outputs": [
        {
          "output_type": "stream",
          "name": "stdout",
          "text": [
            "{'6', '3', '2', '7', '1'}\n"
          ]
        }
      ]
    },
    {
      "cell_type": "code",
      "source": [
        "#36. Create a set from a tuple.\n",
        "tup = (1,2,3,4,6)\n",
        "print(set(tup))"
      ],
      "metadata": {
        "colab": {
          "base_uri": "https://localhost:8080/"
        },
        "id": "ZTyzvgrrk5-X",
        "outputId": "41d9cd95-b1ee-4a91-f9bf-b70450d1d8aa"
      },
      "execution_count": 18,
      "outputs": [
        {
          "output_type": "stream",
          "name": "stdout",
          "text": [
            "{1, 2, 3, 4, 6}\n"
          ]
        }
      ]
    },
    {
      "cell_type": "code",
      "source": [
        "#37. Convert a set to a tuple.\n",
        "set1 = {1,2,3,5,6}\n",
        "print(tuple(set1))"
      ],
      "metadata": {
        "colab": {
          "base_uri": "https://localhost:8080/"
        },
        "id": "MSYQo0RhlIxB",
        "outputId": "be86b516-9284-462b-eb1d-583302950751"
      },
      "execution_count": 19,
      "outputs": [
        {
          "output_type": "stream",
          "name": "stdout",
          "text": [
            "(1, 2, 3, 5, 6)\n"
          ]
        }
      ]
    },
    {
      "cell_type": "code",
      "source": [
        "#38. Find the maximum value in a set.\n",
        "set1 = {1,2,3,55,4,7}\n",
        "print(max(set1))"
      ],
      "metadata": {
        "colab": {
          "base_uri": "https://localhost:8080/"
        },
        "id": "MWKdJb4IlsWh",
        "outputId": "b04e9703-8ea5-45a5-d3f3-6386d4e9e477"
      },
      "execution_count": 21,
      "outputs": [
        {
          "output_type": "stream",
          "name": "stdout",
          "text": [
            "55\n"
          ]
        }
      ]
    },
    {
      "cell_type": "code",
      "source": [
        "#39. Find the minimum value in a set.\n",
        "set1 = {1,2,3,55,4,7}\n",
        "print(min(set1))"
      ],
      "metadata": {
        "colab": {
          "base_uri": "https://localhost:8080/"
        },
        "id": "kRra29mtmJG6",
        "outputId": "2db0ece6-4052-40f0-d943-930456f4ebac"
      },
      "execution_count": 22,
      "outputs": [
        {
          "output_type": "stream",
          "name": "stdout",
          "text": [
            "1\n"
          ]
        }
      ]
    },
    {
      "cell_type": "code",
      "source": [
        "#40. Create a set from user input.\n",
        "n = input(\"enter the elements:\")\n",
        "lst = list(n.split())\n",
        "print(set(lst))"
      ],
      "metadata": {
        "colab": {
          "base_uri": "https://localhost:8080/"
        },
        "id": "SDpXIBSnmVeR",
        "outputId": "a88c1ce9-84a9-4b6b-b0d2-93be9a3dff1d"
      },
      "execution_count": 27,
      "outputs": [
        {
          "output_type": "stream",
          "name": "stdout",
          "text": [
            "enter the elements:1 23  67\n",
            "{'23', '67', '1'}\n"
          ]
        }
      ]
    },
    {
      "cell_type": "code",
      "source": [
        "#41. Check if the intersection of two sets is empty.\n",
        "set1 = {1,2,3,4,5}\n",
        "set2 = {2,4,1,4,1}\n",
        "if set1.intersection(set2):\n",
        "  print(\"the intersection of two sets not empty\")\n",
        "else:\n",
        "  print(\"the intersection of two sets is empty\")"
      ],
      "metadata": {
        "colab": {
          "base_uri": "https://localhost:8080/"
        },
        "id": "u4bvy5rBnGbI",
        "outputId": "dadd975f-baca-4c86-bbb2-6e7ffd9cd8b0"
      },
      "execution_count": 29,
      "outputs": [
        {
          "output_type": "stream",
          "name": "stdout",
          "text": [
            "the intersection of two sets not empty\n"
          ]
        }
      ]
    },
    {
      "cell_type": "code",
      "source": [
        "#42. Create a set of the first 5 Fibonacci numbers.\n",
        "n = int(input(\"enter the number:\"))\n",
        "set1 = set()\n",
        "a,b = 0,1\n",
        "for _ in range(0,n+1):\n",
        "  set1.add(a)\n",
        "  a,b = b,a+b\n",
        "print(set1)"
      ],
      "metadata": {
        "colab": {
          "base_uri": "https://localhost:8080/"
        },
        "id": "4aBlX1xTuXI4",
        "outputId": "30eb8760-d5b0-4ab3-9b6f-4826dd281963"
      },
      "execution_count": 35,
      "outputs": [
        {
          "output_type": "stream",
          "name": "stdout",
          "text": [
            "enter the number:5\n",
            "{0, 1, 2, 3, 5}\n"
          ]
        }
      ]
    },
    {
      "cell_type": "code",
      "source": [
        "#43. Remove duplicates from a list using sets.\n",
        "lst1 = [1,3,5,2,1,66,3,5]\n",
        "print(list(set(lst1)))"
      ],
      "metadata": {
        "colab": {
          "base_uri": "https://localhost:8080/"
        },
        "id": "sAjon9f-xHJp",
        "outputId": "04082517-6279-4b58-ff3d-a4fdf95c57b3"
      },
      "execution_count": 31,
      "outputs": [
        {
          "output_type": "stream",
          "name": "stdout",
          "text": [
            "[1, 66, 2, 3, 5]\n"
          ]
        }
      ]
    },
    {
      "cell_type": "code",
      "source": [
        "#44. Check if two sets have the same elements, regardless of their count.\n",
        "def same_elements(set1,set2):\n",
        "  x = sorted(list(set1))\n",
        "  y = sorted(list(set2))\n",
        "  return x == y\n",
        "set1 = {1, 2, 3, 2, 1}\n",
        "set2 = {3, 1, 2}\n",
        "flag = same_elements(set1,set2)\n",
        "\n",
        "if flag:\n",
        "  print(\"two sets have the same elements\")\n",
        "else:\n",
        "  print(\"two sets have no same elements\")"
      ],
      "metadata": {
        "colab": {
          "base_uri": "https://localhost:8080/"
        },
        "id": "w6uEQmdVxdYK",
        "outputId": "54a3557a-3b50-4017-f378-5f5342f28304"
      },
      "execution_count": 41,
      "outputs": [
        {
          "output_type": "stream",
          "name": "stdout",
          "text": [
            "two sets have the same elements\n"
          ]
        }
      ]
    },
    {
      "cell_type": "code",
      "source": [
        "#45. Create a set of the first `n` powers of 2.\n",
        "s1 = set()\n",
        "n = int(input(\"enter the value of n  : \"))\n",
        "\n",
        "for i in range(n):\n",
        "  s1.add(2**i)\n",
        "\n",
        "print(s1)"
      ],
      "metadata": {
        "colab": {
          "base_uri": "https://localhost:8080/"
        },
        "id": "G5yJ0oA15aym",
        "outputId": "488feebb-87eb-419a-c50a-e74b81b2fc35"
      },
      "execution_count": 46,
      "outputs": [
        {
          "output_type": "stream",
          "name": "stdout",
          "text": [
            "enter the value of n  : 5\n",
            "{1, 2, 4, 8, 16}\n"
          ]
        }
      ]
    },
    {
      "cell_type": "code",
      "source": [
        "#46. Find the common elements between a set and a list.\n",
        "set1 = {1,2,4,6}\n",
        "lst1 = [5,8,4,2]\n",
        "result = []\n",
        "for i in set1:\n",
        "  if i in lst1 :\n",
        "    result.append(i)\n",
        "print(set(result))"
      ],
      "metadata": {
        "colab": {
          "base_uri": "https://localhost:8080/"
        },
        "id": "tOLEKthX5avf",
        "outputId": "90de6b22-2678-4a74-931a-bedf3e30f5a5"
      },
      "execution_count": 47,
      "outputs": [
        {
          "output_type": "stream",
          "name": "stdout",
          "text": [
            "{2, 4}\n"
          ]
        }
      ]
    },
    {
      "cell_type": "code",
      "source": [
        "#47. Create a set of the first `n` triangular numbers.\n",
        "n= int(input(\"enter the numbers:\"))\n",
        "triangular = set()\n",
        "for i in range(0,n+1):\n",
        "  trianglur1 = i*(i+1)//2\n",
        "  triangular.add(trianglur1)\n",
        "print(triangular)"
      ],
      "metadata": {
        "colab": {
          "base_uri": "https://localhost:8080/"
        },
        "id": "oSMgkc-_5atY",
        "outputId": "60065e75-8c8b-40fb-ab65-32e0cd59f2cb"
      },
      "execution_count": 49,
      "outputs": [
        {
          "output_type": "stream",
          "name": "stdout",
          "text": [
            "enter the numbers:10\n",
            "{0, 1, 3, 36, 6, 10, 45, 15, 21, 55, 28}\n"
          ]
        }
      ]
    },
    {
      "cell_type": "code",
      "source": [
        "#48. Check if a set contains another set as a subset.\n",
        "set1 = {1,3}\n",
        "set2 = {3,4,1,77,3}\n",
        "jogi = set1.issubset(set2)\n",
        "if jogi:\n",
        "  print(\"set contains another set as a subset\")\n",
        "else:\n",
        "  print(\"set doesn't contains another set as a subset\")"
      ],
      "metadata": {
        "colab": {
          "base_uri": "https://localhost:8080/"
        },
        "id": "uQHa0Wu99_Dq",
        "outputId": "dbf5cbb6-0a33-4db8-a0a0-554a2bd01e27"
      },
      "execution_count": 51,
      "outputs": [
        {
          "output_type": "stream",
          "name": "stdout",
          "text": [
            "set contains another set as a subset\n"
          ]
        }
      ]
    },
    {
      "cell_type": "code",
      "source": [
        "#49. Create a set of alternating 1s and 0s of length `n`.\n",
        "lst = []\n",
        "n = int(input(\"enter the value\"))\n",
        "for i in range(0,n):\n",
        "\n",
        "  if i %2 == 0:\n",
        "    lst.append(1)\n",
        "  else:\n",
        "    lst.append(0)\n",
        "print(\"the duplicate list\",lst)\n",
        "print(set(lst))"
      ],
      "metadata": {
        "colab": {
          "base_uri": "https://localhost:8080/"
        },
        "id": "ffDLHELdAA-X",
        "outputId": "6272ef2d-1a9f-4cdd-9ca9-f361aea3101e"
      },
      "execution_count": 55,
      "outputs": [
        {
          "output_type": "stream",
          "name": "stdout",
          "text": [
            "enter the value5\n",
            "the duplicate list [1, 0, 1, 0, 1]\n",
            "{0, 1}\n"
          ]
        }
      ]
    },
    {
      "cell_type": "code",
      "source": [
        "#50. Merge multiple sets into one.\n",
        "set1 = {1,2,3,4}\n",
        "sert2 = {3,4,78,42}\n",
        "set3 = {5,23,11,22}\n",
        "merge = set1 | set2 | set3\n",
        "print(merge)"
      ],
      "metadata": {
        "colab": {
          "base_uri": "https://localhost:8080/"
        },
        "id": "GJiGxwC6ByRz",
        "outputId": "f766f474-a3c6-4265-ff3b-78786183d2cb"
      },
      "execution_count": 57,
      "outputs": [
        {
          "output_type": "stream",
          "name": "stdout",
          "text": [
            "{1, 2, 3, 4, 5, 11, 77, 22, 23}\n"
          ]
        }
      ]
    },
    {
      "cell_type": "code",
      "source": [],
      "metadata": {
        "id": "Azlho2ikCtAF"
      },
      "execution_count": null,
      "outputs": []
    }
  ],
  "metadata": {
    "colab": {
      "provenance": [],
      "authorship_tag": "ABX9TyOTDG7icmxb+9asLzsBaIXu",
      "include_colab_link": true
    },
    "kernelspec": {
      "display_name": "Python 3",
      "name": "python3"
    },
    "language_info": {
      "name": "python"
    }
  },
  "nbformat": 4,
  "nbformat_minor": 0
}