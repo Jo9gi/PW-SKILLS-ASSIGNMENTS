{
 "cells": [
  {
   "cell_type": "markdown",
   "id": "e0be8755",
   "metadata": {},
   "source": [
    "### 1.Define a doubly linked list \n"
   ]
  },
  {
   "cell_type": "code",
   "execution_count": 1,
   "id": "6c450184",
   "metadata": {},
   "outputs": [],
   "source": [
    "class Node:\n",
    "    def __init__(self, data):\n",
    "        self.data = data\n",
    "        self.prev = None\n",
    "        self.next = None\n",
    "\n",
    "class DoublyLinkedList:\n",
    "    def __init__(self):\n",
    "        self.head = None\n"
   ]
  },
  {
   "cell_type": "markdown",
   "id": "39962f91",
   "metadata": {},
   "source": [
    "This defines:\n",
    "\n",
    "Node with data, prev (previous node), and next (next node).\n",
    "\n",
    "DoublyLinkedList with a head pointing to the start of the list."
   ]
  },
  {
   "cell_type": "markdown",
   "id": "d25d67bc",
   "metadata": {},
   "source": [
    "### 2. Write a function to reverse a linked list in-place"
   ]
  },
  {
   "cell_type": "code",
   "execution_count": 4,
   "id": "a944882c",
   "metadata": {},
   "outputs": [],
   "source": [
    "def reverse_linked_list(head):\n",
    "    prev = None\n",
    "    current = head\n",
    "    while current:\n",
    "        next_node = current.next\n",
    "        current.next = prev\n",
    "        prev = current\n",
    "        current = next_node\n",
    "    return prev\n",
    "\n"
   ]
  },
  {
   "cell_type": "markdown",
   "id": "b1033880",
   "metadata": {},
   "source": [
    "### 3. Detect Cycle in a Linked List\n"
   ]
  },
  {
   "cell_type": "code",
   "execution_count": 7,
   "id": "8c0d0c9f",
   "metadata": {},
   "outputs": [],
   "source": [
    "def has_cycle(head):\n",
    "    slow = fast = head\n",
    "    while fast and fast.next:\n",
    "        slow = slow.next\n",
    "        fast = fast.next.next\n",
    "        if slow == fast:\n",
    "            return True\n",
    "    return False\n"
   ]
  },
  {
   "cell_type": "markdown",
   "id": "9c3fc17f",
   "metadata": {},
   "source": [
    "### 4. Merge Two Sorted Linked Lists\n",
    " 1->3->5->6->null and 2->4->6->8->null should be merged to make\n",
    " 1->2->3->4->5->6->7->8"
   ]
  },
  {
   "cell_type": "code",
   "execution_count": 14,
   "id": "636a9e44",
   "metadata": {},
   "outputs": [
    {
     "name": "stdout",
     "output_type": "stream",
     "text": [
      "1 -> 2 -> 3 -> 4 -> 5 -> 6 -> 6 -> 8 -> null\n"
     ]
    }
   ],
   "source": [
    "class Node:\n",
    "    def __init__(self, data):\n",
    "        self.data = data\n",
    "        self.next = None\n",
    "\n",
    "def merge_sorted_lists(l1, l2):\n",
    "    dummy = tail = Node(0)\n",
    "    while l1 and l2:\n",
    "        if l1.data < l2.data:\n",
    "            tail.next = l1\n",
    "            l1 = l1.next\n",
    "        else:\n",
    "            tail.next = l2\n",
    "            l2 = l2.next\n",
    "        tail = tail.next\n",
    "    tail.next = l1 or l2\n",
    "    return dummy.next\n",
    "\n",
    "# Helper function to print the linked list\n",
    "def print_list(node):\n",
    "    while node:\n",
    "        print(node.data, end=\" -> \")\n",
    "        node = node.next\n",
    "    print(\"null\")\n",
    "\n",
    "# Creating the first linked list: 1->3->5->6->null\n",
    "l1 = Node(1)\n",
    "l1.next = Node(3)\n",
    "l1.next.next = Node(5)\n",
    "l1.next.next.next = Node(6)\n",
    "\n",
    "# Creating the second linked list: 2->4->6->8->null\n",
    "l2 = Node(2)\n",
    "l2.next = Node(4)\n",
    "l2.next.next = Node(6)\n",
    "l2.next.next.next = Node(8)\n",
    "\n",
    "# Merging the two lists\n",
    "merged_list = merge_sorted_lists(l1, l2)\n",
    "\n",
    "# Printing the merged list\n",
    "print_list(merged_list)\n"
   ]
  },
  {
   "cell_type": "markdown",
   "id": "e387d2a4",
   "metadata": {},
   "source": [
    "### 5. Remove Nth Node from End\n",
    " 1->2->3->4->5->6, removing 2nd node from end will return 1->2->3->4->6"
   ]
  },
  {
   "cell_type": "code",
   "execution_count": 17,
   "id": "d4a7d01b",
   "metadata": {},
   "outputs": [
    {
     "name": "stdout",
     "output_type": "stream",
     "text": [
      "1 -> 2 -> 3 -> 4 -> 6 -> null\n"
     ]
    }
   ],
   "source": [
    "class Node:\n",
    "    def __init__(self, data):\n",
    "        self.data = data\n",
    "        self.next = None\n",
    "\n",
    "def remove_nth_from_end(head, n):\n",
    "    dummy = Node(0)\n",
    "    dummy.next = head\n",
    "    slow = fast = dummy\n",
    "    for _ in range(n):\n",
    "        fast = fast.next\n",
    "    while fast.next:\n",
    "        fast = fast.next\n",
    "        slow = slow.next\n",
    "    slow.next = slow.next.next\n",
    "    return dummy.next\n",
    "\n",
    "# Helper function to print the linked list\n",
    "def print_list(node):\n",
    "    while node:\n",
    "        print(node.data, end=\" -> \")\n",
    "        node = node.next\n",
    "    print(\"null\")\n",
    "\n",
    "# Creating the linked list: 1->2->3->4->5->6\n",
    "head = Node(1)\n",
    "head.next = Node(2)\n",
    "head.next.next = Node(3)\n",
    "head.next.next.next = Node(4)\n",
    "head.next.next.next.next = Node(5)\n",
    "head.next.next.next.next.next = Node(6)\n",
    "\n",
    "# Removing the 2nd node from the end\n",
    "new_head = remove_nth_from_end(head, 2)\n",
    "\n",
    "# Printing the modified list\n",
    "print_list(new_head)\n"
   ]
  },
  {
   "cell_type": "markdown",
   "id": "30f1b637",
   "metadata": {},
   "source": [
    "###  6. Remove Duplicates from Sorted Linked List\n",
    "\n",
    " 1->2->3->3->4->4->4->5  should be changed to 1->2->3->4->5"
   ]
  },
  {
   "cell_type": "code",
   "execution_count": 19,
   "id": "87b050c1",
   "metadata": {},
   "outputs": [
    {
     "name": "stdout",
     "output_type": "stream",
     "text": [
      "1 -> 2 -> 3 -> 4 -> 5 -> null\n"
     ]
    }
   ],
   "source": [
    "class Node:\n",
    "    def __init__(self, data):\n",
    "        self.data = data\n",
    "        self.next = None\n",
    "\n",
    "def remove_duplicates(head):\n",
    "    current = head\n",
    "    while current and current.next:\n",
    "        if current.data == current.next.data:\n",
    "            current.next = current.next.next\n",
    "        else:\n",
    "            current = current.next\n",
    "    return head\n",
    "\n",
    "# Helper function to print the linked list\n",
    "def print_list(node):\n",
    "    while node:\n",
    "        print(node.data, end=\" -> \")\n",
    "        node = node.next\n",
    "    print(\"null\")\n",
    "\n",
    "# Creating the linked list: 1->2->3->3->4->4->4->5\n",
    "head = Node(1)\n",
    "head.next = Node(2)\n",
    "head.next.next = Node(3)\n",
    "head.next.next.next = Node(3)\n",
    "head.next.next.next.next = Node(4)\n",
    "head.next.next.next.next.next = Node(4)\n",
    "head.next.next.next.next.next.next = Node(4)\n",
    "head.next.next.next.next.next.next.next = Node(5)\n",
    "\n",
    "# Removing duplicates\n",
    "new_head = remove_duplicates(head)\n",
    "\n",
    "# Printing the modified list\n",
    "print_list(new_head)\n"
   ]
  },
  {
   "cell_type": "markdown",
   "id": "8a679851",
   "metadata": {},
   "source": [
    "### 7. Find Intersection of Two Linked Lists \n",
    " 1->2->3->4->8->6->9  5->1->6->7  , intersection 1->6"
   ]
  },
  {
   "cell_type": "code",
   "execution_count": 20,
   "id": "52705fcc",
   "metadata": {},
   "outputs": [
    {
     "name": "stdout",
     "output_type": "stream",
     "text": [
      "Intersection at node with value: 8\n"
     ]
    }
   ],
   "source": [
    "class Node:\n",
    "    def __init__(self, data):\n",
    "        self.data = data\n",
    "        self.next = None\n",
    "\n",
    "def get_intersection_node(headA, headB):\n",
    "    nodes = set()\n",
    "    while headA:\n",
    "        nodes.add(headA)\n",
    "        headA = headA.next\n",
    "    while headB:\n",
    "        if headB in nodes:\n",
    "            return headB\n",
    "        headB = headB.next\n",
    "    return None\n",
    "\n",
    "# Helper function to print the intersection node\n",
    "def print_intersection(node):\n",
    "    if node:\n",
    "        print(f\"Intersection at node with value: {node.data}\")\n",
    "    else:\n",
    "        print(\"No intersection\")\n",
    "\n",
    "# Creating the first linked list: 1->2->3->4->8->6->9\n",
    "headA = Node(1)\n",
    "headA.next = Node(2)\n",
    "headA.next.next = Node(3)\n",
    "headA.next.next.next = Node(4)\n",
    "headA.next.next.next.next = Node(8)\n",
    "headA.next.next.next.next.next = Node(6)\n",
    "headA.next.next.next.next.next.next = Node(9)\n",
    "\n",
    "# Creating the second linked list: 5->1->6->7\n",
    "headB = Node(5)\n",
    "headB.next = Node(1)\n",
    "headB.next.next = headA.next.next.next.next  # Pointing to node with value 6 (intersection)\n",
    "\n",
    "# Finding the intersection node\n",
    "intersection_node = get_intersection_node(headA, headB)\n",
    "\n",
    "# Printing the intersection node\n",
    "print_intersection(intersection_node)\n"
   ]
  },
  {
   "cell_type": "markdown",
   "id": "3420a580",
   "metadata": {},
   "source": [
    "###  8. Rotate Linked List by K Positions to Right\n",
    " 1->2->3->4->8->6->9 , after rotating for 2 times becomes , 3->4->8->6->9->1->2"
   ]
  },
  {
   "cell_type": "code",
   "execution_count": 25,
   "id": "6eb8437c",
   "metadata": {},
   "outputs": [
    {
     "name": "stdout",
     "output_type": "stream",
     "text": [
      "6 -> 9 -> 1 -> 2 -> 3 -> 4 -> 8 -> null\n"
     ]
    }
   ],
   "source": [
    "class Node:\n",
    "    def __init__(self, data):\n",
    "        self.data = data\n",
    "        self.next = None\n",
    "\n",
    "def rotate_right(head, k):\n",
    "    # If the list is empty or contains a single node, no rotation is needed\n",
    "    if not head or not head.next:\n",
    "        return head\n",
    "    \n",
    "    # Step 1: Calculate the length of the linked list and get the tail\n",
    "    length = 1\n",
    "    tail = head\n",
    "    while tail.next:\n",
    "        tail = tail.next\n",
    "        length += 1\n",
    "    \n",
    "    # Step 2: Normalize k to prevent unnecessary rotations\n",
    "    k %= length\n",
    "    if k == 0:\n",
    "        return head\n",
    "\n",
    "    # Step 3: Find the new tail (length - k - 1 steps) and the new head\n",
    "    slow = head\n",
    "    for _ in range(length - k - 1):\n",
    "        slow = slow.next\n",
    "    \n",
    "    # The new head is the next node of the slow pointer\n",
    "    new_head = slow.next\n",
    "    slow.next = None\n",
    "    \n",
    "    # Attach the old tail to the original head\n",
    "    tail.next = head\n",
    "\n",
    "    return new_head\n",
    "\n",
    "# Helper function to print the linked list\n",
    "def print_list(node):\n",
    "    while node:\n",
    "        print(node.data, end=\" -> \")\n",
    "        node = node.next\n",
    "    print(\"null\")\n",
    "\n",
    "# Creating the linked list: 1 -> 2 -> 3 -> 4 -> 8 -> 6 -> 9\n",
    "head = Node(1)\n",
    "head.next = Node(2)\n",
    "head.next.next = Node(3)\n",
    "head.next.next.next = Node(4)\n",
    "head.next.next.next.next = Node(8)\n",
    "head.next.next.next.next.next = Node(6)\n",
    "head.next.next.next.next.next.next = Node(9)\n",
    "\n",
    "# Rotating the list by 2 positions to the right\n",
    "new_head = rotate_right(head, 2)\n",
    "\n",
    "# Printing the rotated list\n",
    "print_list(new_head)\n"
   ]
  },
  {
   "cell_type": "markdown",
   "id": "f3a8974e",
   "metadata": {},
   "source": [
    "### 9. Add Two Numbers Represented by Linked Lists \n",
    " Given two non-empty linked lists representing two non-negative integers, where the digits are stored in \n",
    "reverse order, add the two numbers and return it as a linked list."
   ]
  },
  {
   "cell_type": "code",
   "execution_count": 26,
   "id": "6e6bd3da",
   "metadata": {},
   "outputs": [
    {
     "name": "stdout",
     "output_type": "stream",
     "text": [
      "7 -> 0 -> 8 -> null\n"
     ]
    }
   ],
   "source": [
    "class Node:\n",
    "    def __init__(self, data):\n",
    "        self.data = data\n",
    "        self.next = None\n",
    "\n",
    "def add_two_numbers(l1, l2):\n",
    "    # Create a dummy node to simplify edge cases\n",
    "    dummy_head = Node(0)\n",
    "    current = dummy_head\n",
    "    carry = 0\n",
    "    \n",
    "    # Traverse both lists\n",
    "    while l1 or l2 or carry:\n",
    "        # Get the values of the nodes, if any\n",
    "        val1 = l1.data if l1 else 0\n",
    "        val2 = l2.data if l2 else 0\n",
    "        \n",
    "        # Calculate sum and carry\n",
    "        total = val1 + val2 + carry\n",
    "        carry = total // 10\n",
    "        current.next = Node(total % 10)  # Create new node with the sum's last digit\n",
    "        current = current.next\n",
    "        \n",
    "        # Move to the next nodes in the lists\n",
    "        if l1:\n",
    "            l1 = l1.next\n",
    "        if l2:\n",
    "            l2 = l2.next\n",
    "    \n",
    "    return dummy_head.next\n",
    "\n",
    "# Helper function to print the linked list\n",
    "def print_list(node):\n",
    "    while node:\n",
    "        print(node.data, end=\" -> \")\n",
    "        node = node.next\n",
    "    print(\"null\")\n",
    "\n",
    "# Helper function to create a linked list from a list of numbers\n",
    "def create_linked_list(lst):\n",
    "    head = Node(lst[0])\n",
    "    current = head\n",
    "    for num in lst[1:]:\n",
    "        current.next = Node(num)\n",
    "        current = current.next\n",
    "    return head\n",
    "\n",
    "# Test case 1: 342 + 465\n",
    "l1 = create_linked_list([2, 4, 3])  # Represents 342\n",
    "l2 = create_linked_list([5, 6, 4])  # Represents 465\n",
    "\n",
    "# Adding the numbers\n",
    "result = add_two_numbers(l1, l2)\n",
    "\n",
    "# Printing the result\n",
    "print_list(result)  # Expected output: 7 -> 0 -> 8 (807)\n",
    "\n"
   ]
  },
  {
   "attachments": {
    "Screenshot%202025-05-07%20073215.png": {
     "image/png": "[encoded data removed]"
    }
   },
   "cell_type": "markdown",
   "id": "391dc58d",
   "metadata": {},
   "source": [
    "###  10.Clone a Linked List with next and Random Pointer \n",
    " Given a linked list of size N where each node has two links: one pointer points to the next node and the \n",
    "second pointer points to any node in the list. The task is to create a clone of this linked list in O(N) time. \n",
    "\n",
    "Note: The pointer pointing to the next node is ‘next‘ pointer and the one pointing to an arbitrary node is \n",
    "called ‘arbit’ pointer as it can point to any arbitrary node in the linked list. \n",
    "![Screenshot%202025-05-07%20073215.png](attachment:Screenshot%202025-05-07%20073215.png)"
   ]
  },
  {
   "cell_type": "code",
   "execution_count": 28,
   "id": "7075d628",
   "metadata": {},
   "outputs": [
    {
     "name": "stdout",
     "output_type": "stream",
     "text": [
      "Original List:\n",
      "Data: 1, Arbit: 3\n",
      "Data: 2, Arbit: 1\n",
      "Data: 3, Arbit: 4\n",
      "Data: 4, Arbit: None\n",
      "\n",
      "Cloned List:\n",
      "Data: 1, Arbit: 3\n",
      "Data: 2, Arbit: 1\n",
      "Data: 3, Arbit: 4\n",
      "Data: 4, Arbit: None\n"
     ]
    }
   ],
   "source": [
    "class Node:\n",
    "    def __init__(self, data=None):\n",
    "        self.data = data\n",
    "        self.next = None\n",
    "        self.arbit = None  # Random pointer to any node in the list\n",
    "\n",
    "def clone_linked_list(head):\n",
    "    if not head:\n",
    "        return None\n",
    "    \n",
    "    # Step 1: Insert cloned nodes between original nodes\n",
    "    curr = head\n",
    "    while curr:\n",
    "        clone_node = Node(curr.data)\n",
    "        clone_node.next = curr.next\n",
    "        curr.next = clone_node\n",
    "        curr = clone_node.next\n",
    "    \n",
    "    # Step 2: Set the arbit pointers for the cloned nodes\n",
    "    curr = head\n",
    "    while curr:\n",
    "        if curr.arbit:\n",
    "            curr.next.arbit = curr.arbit.next\n",
    "        curr = curr.next.next\n",
    "    \n",
    "    # Step 3: Separate the original and cloned lists\n",
    "    curr = head\n",
    "    cloned_head = head.next\n",
    "    while curr:\n",
    "        clone_node = curr.next\n",
    "        curr.next = clone_node.next\n",
    "        if clone_node.next:\n",
    "            clone_node.next = clone_node.next.next\n",
    "        curr = curr.next\n",
    "    \n",
    "    return cloned_head\n",
    "\n",
    "# Function to print the linked list (for testing)\n",
    "def print_list(head):\n",
    "    curr = head\n",
    "    while curr:\n",
    "        arbit_data = curr.arbit.data if curr.arbit else None\n",
    "        print(f\"Data: {curr.data}, Arbit: {arbit_data}\")\n",
    "        curr = curr.next\n",
    "\n",
    "# Example usage:\n",
    "if __name__ == \"__main__\":\n",
    "    # Creating a sample linked list\n",
    "    head = Node(1)\n",
    "    head.next = Node(2)\n",
    "    head.next.next = Node(3)\n",
    "    head.next.next.next = Node(4)\n",
    "    \n",
    "    head.arbit = head.next.next  # Arbitrary pointer of first node points to third node\n",
    "    head.next.arbit = head      # Arbitrary pointer of second node points to first node\n",
    "    head.next.next.arbit = head.next.next.next  # Arbitrary pointer of third node points to fourth node\n",
    "    \n",
    "    print(\"Original List:\")\n",
    "    print_list(head)\n",
    "    \n",
    "    # Cloning the linked list\n",
    "    cloned_head = clone_linked_list(head)\n",
    "    \n",
    "    print(\"\\nCloned List:\")\n",
    "    print_list(cloned_head)\n"
   ]
  },
  {
   "cell_type": "code",
   "execution_count": null,
   "id": "802dc961",
   "metadata": {},
   "outputs": [],
   "source": []
  }
 ],
 "metadata": {
  "kernelspec": {
   "display_name": "Python 3 (ipykernel)",
   "language": "python",
   "name": "python3"
  },
  "language_info": {
   "codemirror_mode": {
    "name": "ipython",
    "version": 3
   },
   "file_extension": ".py",
   "mimetype": "text/x-python",
   "name": "python",
   "nbconvert_exporter": "python",
   "pygments_lexer": "ipython3",
   "version": "3.11.5"
  }
 },
 "nbformat": 4,
 "nbformat_minor": 5
}
