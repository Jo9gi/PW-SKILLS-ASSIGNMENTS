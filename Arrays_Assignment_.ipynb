{
  "cells": [
    {
      "cell_type": "markdown",
      "metadata": {
        "id": "view-in-github",
        "colab_type": "text"
      },
      "source": [
        "<a href=\"https://colab.research.google.com/github/Jo9gi/PW-SKILLS-ASSIGNMENTS/blob/main/Arrays_Assignment_.ipynb\" target=\"_parent\"><img src=\"https://colab.research.google.com/assets/colab-badge.svg\" alt=\"Open In Colab\"/></a>"
      ]
    },
    {
      "cell_type": "markdown",
      "id": "61fef56a",
      "metadata": {
        "id": "61fef56a"
      },
      "source": [
        "1. Given an array, check if it contains any duplicates or not.\n",
        "\n",
        "arr = [1, 2, 4, 2, 5, 9]\n",
        "\n",
        "Output = True"
      ]
    },
    {
      "cell_type": "code",
      "execution_count": 1,
      "id": "846d57cd",
      "metadata": {
        "colab": {
          "base_uri": "https://localhost:8080/"
        },
        "id": "846d57cd",
        "outputId": "83ec3335-f980-4fac-a38a-5e4531fede60"
      },
      "outputs": [
        {
          "output_type": "stream",
          "name": "stdout",
          "text": [
            "Output = True\n"
          ]
        }
      ],
      "source": [
        "def check_duplicates(arr):\n",
        "    temp=[]\n",
        "    for i in arr:\n",
        "        if i not in temp:\n",
        "            temp.append(i)\n",
        "        else:\n",
        "            return f\"Output = {True}\"\n",
        "    else:\n",
        "        return f\"Output = {False}\"\n",
        "\n",
        "arr = [1, 2, 4, 2, 5, 9]\n",
        "print(check_duplicates(arr))\n",
        "\n",
        "#time complexity is O(n)\n",
        "#space complexity is O(n)"
      ]
    },
    {
      "cell_type": "markdown",
      "id": "74a91c66",
      "metadata": {
        "id": "74a91c66"
      },
      "source": [
        "2. Given an array and an integer k, rotate the array to the right by k steps.\n",
        "\n",
        "arr = [1, 2, 3, 4, 5, 6, 7] k = 3\n",
        "\n",
        "Output = [5, 6, 7, 1, 2, 3, 4]"
      ]
    },
    {
      "cell_type": "code",
      "execution_count": 2,
      "id": "8c456b34",
      "metadata": {
        "colab": {
          "base_uri": "https://localhost:8080/"
        },
        "id": "8c456b34",
        "outputId": "a5ba3245-2987-45b3-da01-6927870c7199"
      },
      "outputs": [
        {
          "output_type": "stream",
          "name": "stdout",
          "text": [
            "Output= [5, 6, 7, 1, 2, 3, 4]\n"
          ]
        }
      ],
      "source": [
        "def rotation(arr,k):\n",
        "\n",
        " #   for i in range(k):\n",
        "#         if arr[i]==k:\n",
        "    arr = arr[k+1:]+arr[:k+1]\n",
        "    print('Output=',arr)\n",
        "\n",
        "\n",
        "arr = [1, 2, 3, 4, 5, 6, 7]\n",
        "k=3\n",
        "rotation(arr,k)\n",
        "\n",
        "#time complexity is O(n)\n",
        "#space complexity is O(1)"
      ]
    },
    {
      "cell_type": "markdown",
      "id": "e4a0ba54",
      "metadata": {
        "id": "e4a0ba54"
      },
      "source": [
        "\n",
        "3. Reverse the given array in-place, means without using any extra data structure.\n",
        "\n",
        "arr = [2, 4, 5, 7, 9, 12]\n",
        "\n",
        "Output = [12, 9, 7, 5, 4, 2]"
      ]
    },
    {
      "cell_type": "code",
      "execution_count": 3,
      "id": "39093908",
      "metadata": {
        "colab": {
          "base_uri": "https://localhost:8080/"
        },
        "id": "39093908",
        "outputId": "dcb3e37f-9a5f-4143-c5f0-287163237815"
      },
      "outputs": [
        {
          "output_type": "stream",
          "name": "stdout",
          "text": [
            "Output= [12, 9, 7, 5, 4, 2]\n"
          ]
        }
      ],
      "source": [
        "def reverse(arr):\n",
        "    n= len(arr)\n",
        "    for i in range(n//2):\n",
        "\n",
        "        arr[i],arr[n-i-1]=arr[n-i-1],arr[i]\n",
        "\n",
        "arr=[2, 4, 5, 7, 9, 12]\n",
        "reverse(arr)\n",
        "print(\"Output=\",arr)\n",
        "#time complexity is O(n)\n",
        "#Space complexity is O(1)"
      ]
    },
    {
      "cell_type": "markdown",
      "id": "e8efd334",
      "metadata": {
        "id": "e8efd334"
      },
      "source": [
        "4. Given an array of integers, find the maximum element in an array\n",
        "\n",
        " arr = [10, 5, 20, 8, 15]\n",
        "\n",
        " Output = 20"
      ]
    },
    {
      "cell_type": "code",
      "execution_count": 4,
      "id": "015fd36c",
      "metadata": {
        "colab": {
          "base_uri": "https://localhost:8080/",
          "height": 35
        },
        "id": "015fd36c",
        "outputId": "cc955d21-1d99-47fd-e23e-40e6142ec62c"
      },
      "outputs": [
        {
          "output_type": "execute_result",
          "data": {
            "text/plain": [
              "'Output = 20'"
            ],
            "application/vnd.google.colaboratory.intrinsic+json": {
              "type": "string"
            }
          },
          "metadata": {},
          "execution_count": 4
        }
      ],
      "source": [
        "def maximum(arr):\n",
        "    high = 0\n",
        "    for i in arr:\n",
        "        if i>high:\n",
        "            high = i\n",
        "    return f\"Output = {high}\"\n",
        "arr = [10, 5, 20, 8, 15]\n",
        "maximum(arr)\n",
        "\n",
        "#time complexity is O(n)\n",
        "#space complexity is O(n)"
      ]
    },
    {
      "cell_type": "markdown",
      "id": "6dc0a7c6",
      "metadata": {
        "id": "6dc0a7c6"
      },
      "source": [
        "5. Given a sorted array, remove the duplicate element without using any extra data structure.\n",
        "\n",
        "arr = [1, 1, 2, 2, 2, 3, 3, 4, 4, 4, 5, 5]\n",
        "\n",
        "Output = [1, 2, 3, 4, 5]"
      ]
    },
    {
      "cell_type": "code",
      "execution_count": 6,
      "id": "43746eb9",
      "metadata": {
        "colab": {
          "base_uri": "https://localhost:8080/"
        },
        "id": "43746eb9",
        "outputId": "63186d58-d1a5-4257-8803-561d36e8c612"
      },
      "outputs": [
        {
          "output_type": "stream",
          "name": "stdout",
          "text": [
            "Output = [1, 2, 3, 4, 5]\n"
          ]
        }
      ],
      "source": [
        "def duplicates(arr):\n",
        "    s=1\n",
        "    while s<len(arr):\n",
        "        if arr[s]==arr[s-1]:\n",
        "            arr.pop(s)\n",
        "        else:\n",
        "            s+=1\n",
        "    return arr\n",
        "arr = [1, 1, 2, 2, 2, 3, 3, 4, 4, 4, 5, 5]\n",
        "print(f\"Output = {duplicates(arr)}\")\n",
        "#time complexity is O(n)\n",
        "#space complexity is O(1)"
      ]
    },
    {
      "cell_type": "code",
      "execution_count": 8,
      "id": "de2f2a22",
      "metadata": {
        "colab": {
          "base_uri": "https://localhost:8080/"
        },
        "id": "de2f2a22",
        "outputId": "5cf68abc-bc4c-450b-b3e6-e3390939528d"
      },
      "outputs": [
        {
          "output_type": "stream",
          "name": "stdout",
          "text": [
            "Output= [1, 2, 3, 4, 5]\n"
          ]
        }
      ],
      "source": [
        "#another way\n",
        "def sort(arr):\n",
        "    lst = []\n",
        "    high = 0\n",
        "    for i in arr:\n",
        "        if i != lst and i>high:\n",
        "                high=i\n",
        "                lst.append(i)\n",
        "    return lst\n",
        "arr = [1,1, 2, 2, 2, 3, 3, 4, 4, 4, 5, 5]\n",
        "nn=sort(arr)\n",
        "print(\"Output=\",nn)\n",
        "#time complexity is O(n)\n",
        "#space complexity is O(1)"
      ]
    },
    {
      "cell_type": "code",
      "execution_count": null,
      "id": "1fa53317",
      "metadata": {
        "id": "1fa53317"
      },
      "outputs": [],
      "source": []
    }
  ],
  "metadata": {
    "kernelspec": {
      "display_name": "Python 3 (ipykernel)",
      "language": "python",
      "name": "python3"
    },
    "language_info": {
      "codemirror_mode": {
        "name": "ipython",
        "version": 3
      },
      "file_extension": ".py",
      "mimetype": "text/x-python",
      "name": "python",
      "nbconvert_exporter": "python",
      "pygments_lexer": "ipython3",
      "version": "3.11.5"
    },
    "colab": {
      "provenance": [],
      "include_colab_link": true
    }
  },
  "nbformat": 4,
  "nbformat_minor": 5
}