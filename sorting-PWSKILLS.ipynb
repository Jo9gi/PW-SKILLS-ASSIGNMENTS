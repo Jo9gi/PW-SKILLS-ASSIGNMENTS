{
 "cells": [
  {
   "cell_type": "markdown",
   "id": "ee22a89f",
   "metadata": {},
   "source": [
    "# Problem 1.Given an array of n numbers, give an algorithm which gives the element appearing maximum number of times?"
   ]
  },
  {
   "cell_type": "code",
   "execution_count": 8,
   "id": "a7049e30",
   "metadata": {},
   "outputs": [
    {
     "data": {
      "text/plain": [
       "1"
      ]
     },
     "execution_count": 8,
     "metadata": {},
     "output_type": "execute_result"
    }
   ],
   "source": [
    "#hash based approch\n",
    "def max_appear(arr):\n",
    "    dic={}\n",
    "    for i in arr:              \n",
    "        if i in dic:             \n",
    "            dic[i]+=1\n",
    "        else:\n",
    "            dic[i]=1\n",
    "    max_freq = 0\n",
    "    max_element = None\n",
    "    for i,freq in dic.items():\n",
    "        if freq > max_freq:\n",
    "            max_freq = freq\n",
    "            max_element = i\n",
    "    return max_element\n",
    "arr=[1,2,2,3,1,1,4,5]\n",
    "max_appear(arr)"
   ]
  },
  {
   "cell_type": "markdown",
   "id": "c6d5efa1",
   "metadata": {},
   "source": [
    "# Problem 2 : We are given a list of n-1 integers and these integers are in the range of 1 to n . There are no duplicates in the list. One of the integers is missing in the list. Give an algorithm to find that element Ex: [1,2,4,6,3,7,8] 5 is the missing num."
   ]
  },
  {
   "cell_type": "code",
   "execution_count": 9,
   "id": "97a8b875",
   "metadata": {},
   "outputs": [
    {
     "data": {
      "text/plain": [
       "5"
      ]
     },
     "execution_count": 9,
     "metadata": {},
     "output_type": "execute_result"
    }
   ],
   "source": [
    "def bubble_sorting(arr):\n",
    "    for i in range(len(arr)-1,0,-1):\n",
    "        for j in range(i):\n",
    "            if arr[j]>arr[j+1]:\n",
    "                arr[j],arr[j+1]=arr[j+1],arr[j]\n",
    "\n",
    "def missing_term(arr):\n",
    "    bubble_sorting(arr)\n",
    "    num = len(arr)+1\n",
    "    expected_sum = num*(num+1)//2\n",
    "    actual_sum=sum(arr)\n",
    "    missing_num = expected_sum-actual_sum\n",
    "    return missing_num\n",
    "arr=[1,2,4,6,3,7,8]                \n",
    "missing_term(arr)"
   ]
  },
  {
   "cell_type": "markdown",
   "id": "716fc810",
   "metadata": {},
   "source": [
    "# Problem 3 : Given an array of n positive numbers. All numbers occurs even number of times except 1 which occurs odd number of times. Find that number in O(n) time and O(1) space. Ex: [1,2,3,2,3,1,3]. 3 is repeats odd times. "
   ]
  },
  {
   "cell_type": "code",
   "execution_count": 10,
   "id": "2e69106f",
   "metadata": {},
   "outputs": [
    {
     "name": "stdout",
     "output_type": "stream",
     "text": [
      "The number that occurs odd times is: [3]\n"
     ]
    }
   ],
   "source": [
    "def odd_occurance(arr):\n",
    "    dic = {}\n",
    "    for i in arr:\n",
    "        if i in dic:\n",
    "            dic[i]+=1\n",
    "        else:\n",
    "            dic[i]=1\n",
    "    odd = []\n",
    "    for i ,value in dic.items():\n",
    "        if value%2!=0:\n",
    "            odd.append(i)\n",
    "    return odd\n",
    "\n",
    "arr=[1,2,3,2,3,1,3]\n",
    "print(f\"The number that occurs odd times is: {odd_occurance(arr)}\")\n"
   ]
  },
  {
   "cell_type": "markdown",
   "id": "34e489b2",
   "metadata": {},
   "source": [
    "# Problem 4 : Given an array of n elements. Find two elements in the array such that their sum is equal to given element K."
   ]
  },
  {
   "cell_type": "code",
   "execution_count": 11,
   "id": "fac6dd96",
   "metadata": {},
   "outputs": [
    {
     "name": "stdout",
     "output_type": "stream",
     "text": [
      "Pairs with sum equal to K are: [[1, 6], [3, 4], [4, 3]]\n"
     ]
    }
   ],
   "source": [
    "def equal_sum(arr,K):\n",
    "    seen = set()\n",
    "    result = set()\n",
    "    for num in arr:\n",
    "        target = K-num\n",
    "        if target in seen:\n",
    "            result.add((target,num))\n",
    "        seen.add(num)\n",
    "    return [list(pair) for pair in result]\n",
    "results = equal_sum([1,2,3,4,7,6,2,3],7)\n",
    "print(\"Pairs with sum equal to K are:\", results)"
   ]
  },
  {
   "cell_type": "markdown",
   "id": "fd3c2832",
   "metadata": {},
   "source": [
    "# Problem 5 : Given an array of both positive and negative numbers, find two numbers such that their sum is closest to 0. Ex: [ 1 ,60 ,-10, 70, -80,85]. Ans : -80,85."
   ]
  },
  {
   "cell_type": "code",
   "execution_count": 12,
   "id": "1f33fb84",
   "metadata": {},
   "outputs": [
    {
     "name": "stdout",
     "output_type": "stream",
     "text": [
      "the closest pair is  (-80, 85)\n"
     ]
    }
   ],
   "source": [
    "def Sort(arr):\n",
    "    n = len(arr)\n",
    "    ### sorting using selection sort\n",
    "    for i in range(n):\n",
    "        min_ind = i\n",
    "        for j in range(i+1,n):\n",
    "            if arr[j] < arr[min_ind]:\n",
    "                min_ind = j\n",
    "                \n",
    "        arr[i],arr[min_ind] = arr[min_ind],arr[i]\n",
    "    \n",
    "def closest_to_zero(arr):\n",
    "    Sort(arr)\n",
    "    left = 0\n",
    "    right = len(arr)-1\n",
    "    closest_pair = (arr[left],arr[right])\n",
    "    min_sum = float('inf')\n",
    "    while left<right:\n",
    "        current_sum = arr[left]+arr[right]\n",
    "        if abs(current_sum) < min_sum:\n",
    "            min_sum=abs(current_sum)\n",
    "            closest_pair = (arr[left],arr[right])\n",
    "        if current_sum <0:\n",
    "            left+=1\n",
    "        else:\n",
    "            right-=1\n",
    "    return closest_pair\n",
    "arr = [1, 60, -10, 70, -80, 85]\n",
    "print(\"the closest pair is \",closest_to_zero(arr))            "
   ]
  },
  {
   "cell_type": "markdown",
   "id": "5aa31a9e",
   "metadata": {},
   "source": [
    "# Problem 6 : Given an array of n elements . Find three elements such that their sum is equal to the given number."
   ]
  },
  {
   "cell_type": "code",
   "execution_count": 13,
   "id": "88199f66",
   "metadata": {},
   "outputs": [
    {
     "name": "stdout",
     "output_type": "stream",
     "text": [
      "[[1, 2, 7], [1, 3, 6], [1, 4, 5], [2, 3, 5]]\n"
     ]
    }
   ],
   "source": [
    "def Sort(arr):\n",
    "    n = len(arr)\n",
    "    ### sorting using selection sort\n",
    "    for i in range(n):\n",
    "        min_ind = i\n",
    "        for j in range(i+1,n):\n",
    "            if arr[j] < arr[min_ind]:\n",
    "                min_ind = j\n",
    "                \n",
    "        arr[i],arr[min_ind] = arr[min_ind],arr[i]\n",
    "def equal_sum(arr,k):\n",
    "    Sort(arr)\n",
    "    result = []\n",
    "    for i in range(len(arr)-2):\n",
    "        if i>0 and arr[i]==arr[i-1]:\n",
    "            continue\n",
    "        left,right=i+1,len(arr)-1\n",
    "        while left<right:\n",
    "            current_sum = arr[i]+arr[left]+arr[right]\n",
    "            if current_sum==k:\n",
    "                result.append([arr[i],arr[left],arr[right]])\n",
    "                left +=1\n",
    "                right -=1\n",
    "            elif current_sum < k:\n",
    "                left+=1\n",
    "            else:\n",
    "                right-=1\n",
    "    return result\n",
    "arr=[1,3,2,7,6,5,4]\n",
    "k=10\n",
    "print(equal_sum(arr,k))"
   ]
  },
  {
   "cell_type": "markdown",
   "id": "fdc1ca29",
   "metadata": {},
   "source": [
    "# Problem 7 : Given an array of n elements . Find three elements i, j, k in the array such that   i * i + j * j = k*k."
   ]
  },
  {
   "cell_type": "code",
   "execution_count": 16,
   "id": "608d2017",
   "metadata": {},
   "outputs": [
    {
     "name": "stdout",
     "output_type": "stream",
     "text": [
      "Triplet found: (3, 4, 5)\n"
     ]
    }
   ],
   "source": [
    "def array(arr):\n",
    "    Sort(arr) #sorting array ,where it is already done by before\n",
    "    for i in range(len(arr)-2):\n",
    "        left,right = i+1,len(arr)-1\n",
    "        while left<right:\n",
    "            a,b,c =arr[i],arr[left],arr[right]\n",
    "            if a*a + b*b == c*c:\n",
    "                return (a,b,c)\n",
    "            elif a*a + b*b < c*c:\n",
    "                left+=1 #move the left ti right\n",
    "            else:\n",
    "                right-=1 #right to left\n",
    "    return None #no triplets found\n",
    "            \n",
    "arr=[1,3,4,5,2]\n",
    "triplet = array(arr)\n",
    "if triplet:\n",
    "    print(\"Triplet found:\",triplet)\n",
    "else:\n",
    "    print(\"No triplet found\")"
   ]
  },
  {
   "cell_type": "markdown",
   "id": "289de073",
   "metadata": {},
   "source": [
    "# Problem 8 : An element is a majority if it appears more than n/2 times. Give an algorithm takes an array of n element as argument and identifies a majority (if it exists)."
   ]
  },
  {
   "cell_type": "code",
   "execution_count": 25,
   "id": "72f1c142",
   "metadata": {},
   "outputs": [
    {
     "data": {
      "text/plain": [
       "'more than n/2 times are repeated'"
      ]
     },
     "execution_count": 25,
     "metadata": {},
     "output_type": "execute_result"
    }
   ],
   "source": [
    "def majority(arr,ele):\n",
    "    Sort(arr)\n",
    "    s = {}\n",
    "    n = len(arr)\n",
    "    for i in arr:\n",
    "        if i in s:\n",
    "            s[i]+=1\n",
    "        else:\n",
    "            s[i]=1\n",
    "    if ele in arr:\n",
    "        if s[ele]>= n//2:\n",
    "            return \"more than n/2 times are repeated\"\n",
    "        else:\n",
    "            return \"less than n/2 times\"\n",
    "    return \"not in array\"\n",
    "arr = [1,3,5,1,2,1,1]\n",
    "majority(arr,1)"
   ]
  },
  {
   "cell_type": "markdown",
   "id": "a1def058",
   "metadata": {},
   "source": [
    "# Problem 9 : Given n × n matrix, and in each row all 1’s are followed by 0’s. Find the row with the maximum number of 0’s."
   ]
  },
  {
   "cell_type": "code",
   "execution_count": 1,
   "id": "bc16b4f5",
   "metadata": {},
   "outputs": [
    {
     "name": "stdout",
     "output_type": "stream",
     "text": [
      "The row index is : 2, array is: [0, 0, 1]\n"
     ]
    }
   ],
   "source": [
    "def findMaximumNoOf_0_s(arr):\n",
    "    n = len(arr)\n",
    "    max_count = 0\n",
    "    max_row = 0\n",
    "    for i in range(n):\n",
    "        pre_count = 0\n",
    "        for j in range(n):\n",
    "            if arr[i][j] == 0:\n",
    "                pre_count+=1\n",
    "        if pre_count > max_count:\n",
    "            max_count = pre_count\n",
    "            max_row = i\n",
    "        \n",
    "    return f\"The row index is : {max_row}, array is: {arr[max_row]}\"\n",
    "\n",
    "print(findMaximumNoOf_0_s([\n",
    "    [1,1,1],\n",
    "    [1,1,0],\n",
    "    [0,0,1]\n",
    "]))\n",
    "        \n",
    "                "
   ]
  },
  {
   "cell_type": "markdown",
   "id": "ca3fe642",
   "metadata": {},
   "source": [
    "# Problem 10 : Sort an array of 0’s, 1’s and 2’s [or R’s, G’s and B’s]: Given an array A[] consisting of 0’s, 1’s and 2’s, give an algorithm for sorting A[].The algorithm should put all 0’s first, then all 1’s and finally all 2’s at the end. Example Input = {0,1,1,0,1,2,1,2,0,0,0,1}, Output = {0,0,0,0,0,1,1,1,1,1,2,2}"
   ]
  },
  {
   "cell_type": "code",
   "execution_count": 2,
   "id": "7cdc4852",
   "metadata": {},
   "outputs": [
    {
     "name": "stdout",
     "output_type": "stream",
     "text": [
      "Sorted array: [0, 0, 0, 0, 0, 1, 1, 1, 1, 1, 2, 2]\n"
     ]
    }
   ],
   "source": [
    "def sortColors(nums):\n",
    "    low = 0\n",
    "    mid = 0\n",
    "    high = len(nums) - 1\n",
    "    \n",
    "    while mid <= high:\n",
    "        if nums[mid] == 0:\n",
    "            nums[low], nums[mid] = nums[mid], nums[low]\n",
    "            low += 1\n",
    "            mid += 1\n",
    "        elif nums[mid] == 1:\n",
    "            mid += 1\n",
    "        else:  # nums[mid] == 2\n",
    "            nums[mid], nums[high] = nums[high], nums[mid]\n",
    "            high -= 1\n",
    "    \n",
    "    return nums\n",
    "\n",
    "nums = [0, 1, 1, 0, 1, 2, 1, 2, 0, 0, 0, 1]\n",
    "sorted_nums = sortColors(nums)\n",
    "print(\"Sorted array:\", sorted_nums)\n"
   ]
  },
  {
   "cell_type": "code",
   "execution_count": null,
   "id": "8f003448",
   "metadata": {},
   "outputs": [],
   "source": []
  },
  {
   "cell_type": "code",
   "execution_count": null,
   "id": "b5849eba",
   "metadata": {},
   "outputs": [],
   "source": [
    "\n"
   ]
  },
  {
   "cell_type": "code",
   "execution_count": null,
   "id": "7f2f17bb",
   "metadata": {},
   "outputs": [],
   "source": []
  },
  {
   "cell_type": "code",
   "execution_count": null,
   "id": "0bd62755",
   "metadata": {},
   "outputs": [],
   "source": []
  }
 ],
 "metadata": {
  "kernelspec": {
   "display_name": "Python 3 (ipykernel)",
   "language": "python",
   "name": "python3"
  },
  "language_info": {
   "codemirror_mode": {
    "name": "ipython",
    "version": 3
   },
   "file_extension": ".py",
   "mimetype": "text/x-python",
   "name": "python",
   "nbconvert_exporter": "python",
   "pygments_lexer": "ipython3",
   "version": "3.11.5"
  }
 },
 "nbformat": 4,
 "nbformat_minor": 5
}
