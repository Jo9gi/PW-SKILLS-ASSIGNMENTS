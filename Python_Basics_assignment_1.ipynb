{
  "nbformat": 4,
  "nbformat_minor": 0,
  "metadata": {
    "colab": {
      "provenance": [],
      "authorship_tag": "ABX9TyMzex4U4fuGTvBPtgB4STA5",
      "include_colab_link": true
    },
    "kernelspec": {
      "name": "python3",
      "display_name": "Python 3"
    },
    "language_info": {
      "name": "python"
    }
  },
  "cells": [
    {
      "cell_type": "markdown",
      "metadata": {
        "id": "view-in-github",
        "colab_type": "text"
      },
      "source": [
        "<a href=\"https://colab.research.google.com/github/Jo9gi/PW-SKILLS-ASSIGNMENTS/blob/main/Python_Basics_assignment_1.ipynb\" target=\"_parent\"><img src=\"https://colab.research.google.com/assets/colab-badge.svg\" alt=\"Open In Colab\"/></a>"
      ]
    },
    {
      "cell_type": "markdown",
      "source": [
        "# **TOPIC: Python Basics Variable**"
      ],
      "metadata": {
        "id": "Y4N0PGvhhSVN"
      }
    },
    {
      "cell_type": "markdown",
      "source": [
        "1. Declare two variables, `x` and `y`, and assign them integer values. Swap the\n",
        "values of these variables without using any temporary variable."
      ],
      "metadata": {
        "id": "FXaZWqUZhdcs"
      }
    },
    {
      "cell_type": "code",
      "execution_count": 35,
      "metadata": {
        "id": "hsg25SKgFiHu",
        "colab": {
          "base_uri": "https://localhost:8080/"
        },
        "outputId": "9f6354f1-58fc-4745-eaa1-837ca04f6242"
      },
      "outputs": [
        {
          "output_type": "stream",
          "name": "stdout",
          "text": [
            "x: 10\n",
            "y: 20\n",
            "x =  20\n",
            "y =  10\n"
          ]
        }
      ],
      "source": [
        "x,y=int(input(\"x: \")),int(input(\"y: \"))\n",
        "x,y=y,x\n",
        "print(\"x = \",x)\n",
        "print(\"y = \",y)"
      ]
    },
    {
      "cell_type": "markdown",
      "source": [
        "2. Create a program that calculates the area of a rectangle. Take the length and\n",
        "width as inputs from the user and store them in variables. Calculate and\n",
        "display the area."
      ],
      "metadata": {
        "id": "G2tUI9qyifRg"
      }
    },
    {
      "cell_type": "code",
      "source": [
        "length = int(input('length : '))\n",
        "width = int(input('width : '))\n",
        "area = length * width\n",
        "print(\"the area of rectangle is \",area)"
      ],
      "metadata": {
        "colab": {
          "base_uri": "https://localhost:8080/"
        },
        "id": "UAGbDTsAh3Iz",
        "outputId": "57f5b4d2-9f22-4572-9c79-239c4c0344d6"
      },
      "execution_count": 18,
      "outputs": [
        {
          "output_type": "stream",
          "name": "stdout",
          "text": [
            "length : 10\n",
            "width : 20\n",
            "the area of rectangle is  200\n"
          ]
        }
      ]
    },
    {
      "cell_type": "markdown",
      "source": [
        "3. Write a Python program that converts temperatures from Celsius to\n",
        "Fahrenheit. Take the temperature in Celsius as input, store it in a variable,\n",
        "convert it to Fahrenheit, and display the result."
      ],
      "metadata": {
        "id": "DQ-z5aPrj8WW"
      }
    },
    {
      "cell_type": "code",
      "source": [
        "Celsius = int(input(\"Celsius : \"))\n",
        "Fahrenheit = (Celsius * 9/5) + 32\n",
        "print(\"The Fahrenheit is \",Fahrenheit,\"°C\")"
      ],
      "metadata": {
        "colab": {
          "base_uri": "https://localhost:8080/"
        },
        "id": "AmRJLm_yjmNZ",
        "outputId": "766c3c19-8f6b-4099-f7a1-2c8363e1289b"
      },
      "execution_count": 21,
      "outputs": [
        {
          "output_type": "stream",
          "name": "stdout",
          "text": [
            "Celsius : 25\n",
            "The Fahrenheit is  77.0 °C\n"
          ]
        }
      ]
    },
    {
      "cell_type": "markdown",
      "source": [
        "# **TOPIC: String Based Questions**"
      ],
      "metadata": {
        "id": "9WtMUE2cl40e"
      }
    },
    {
      "cell_type": "markdown",
      "source": [
        "1. Write a Python program that takes a string as input and prints the length of\n",
        "the string."
      ],
      "metadata": {
        "id": "wIeN-T8PmAMu"
      }
    },
    {
      "cell_type": "code",
      "source": [
        "string = input(\"string : \")\n",
        "print(\"The length of String is \",len(string))"
      ],
      "metadata": {
        "colab": {
          "base_uri": "https://localhost:8080/"
        },
        "id": "qvAOFQxnlqiX",
        "outputId": "8732211d-c839-492b-ff67-83f5e012347e"
      },
      "execution_count": 28,
      "outputs": [
        {
          "output_type": "stream",
          "name": "stdout",
          "text": [
            "string : www\n",
            "The length of String is  3 .\n"
          ]
        }
      ]
    },
    {
      "cell_type": "markdown",
      "source": [
        "2. Create a program that takes a sentence from the user and counts the number\n",
        "of vowels (a, e, i, o, u) in the string."
      ],
      "metadata": {
        "id": "7IjUvrpMnT1c"
      }
    },
    {
      "cell_type": "code",
      "source": [
        "Sentence = input(\"Given Sentence : \")\n",
        "Sentence = Sentence.lower()\n",
        "vowel_count = 0\n",
        "vowels = 'aeiou'\n",
        "for i in Sentence :\n",
        "  if i in vowels :\n",
        "    vowel_count += 1\n",
        "print(\"Total number of vowels in the sentence:\", vowel_count)"
      ],
      "metadata": {
        "colab": {
          "base_uri": "https://localhost:8080/"
        },
        "id": "EJkSp4elmUWf",
        "outputId": "b52f3036-f695-4815-cc9f-705d6c58cde1"
      },
      "execution_count": 30,
      "outputs": [
        {
          "output_type": "stream",
          "name": "stdout",
          "text": [
            "Given Sentence : joginaidu\n",
            "Total number of vowels in the sentence: 5\n"
          ]
        }
      ]
    },
    {
      "cell_type": "markdown",
      "source": [
        "3. Given a string, reverse the order of characters using string slicing and print\n",
        "the reversed string."
      ],
      "metadata": {
        "id": "NYDHIZiqrWX2"
      }
    },
    {
      "cell_type": "code",
      "source": [
        "string = input(\"Given String: \")\n",
        "reverse_string = string[::-1]\n",
        "print(\"The reversed string is \",reverse_string)"
      ],
      "metadata": {
        "colab": {
          "base_uri": "https://localhost:8080/"
        },
        "id": "cVqn6bMEqQ7U",
        "outputId": "e7686b99-2c0e-42a8-9338-1e0f26e51cde"
      },
      "execution_count": 42,
      "outputs": [
        {
          "output_type": "stream",
          "name": "stdout",
          "text": [
            "Given String: lkjhgfd\n",
            "The reversed string is  dfghjkl\n"
          ]
        }
      ]
    },
    {
      "cell_type": "markdown",
      "source": [
        "4. Write a program that takes a string as input and checks if it is a palindrome\n",
        "(reads the same forwards and backwards)."
      ],
      "metadata": {
        "id": "B1klNX7UteOX"
      }
    },
    {
      "cell_type": "code",
      "source": [
        "String = input(\"Given_String: \")\n",
        "String = String.lower()\n",
        "if String == String[::-1] :\n",
        "  print(\"it is a palindrome\")\n",
        "else:\n",
        "  print(\"not a palindrome\")"
      ],
      "metadata": {
        "colab": {
          "base_uri": "https://localhost:8080/"
        },
        "id": "ABfhpVkhr8w3",
        "outputId": "023b3187-0dee-4234-a7ae-e41c9c315b00"
      },
      "execution_count": 47,
      "outputs": [
        {
          "output_type": "stream",
          "name": "stdout",
          "text": [
            "Given_String: pump\n",
            "not a palindrome\n"
          ]
        }
      ]
    },
    {
      "cell_type": "markdown",
      "source": [
        "5. Create a program that takes a string as input and removes all the spaces from\n",
        "it. Print the modified string without spaces."
      ],
      "metadata": {
        "id": "GvM8FcgEwhVS"
      }
    },
    {
      "cell_type": "code",
      "source": [
        "String = input(\"Given_String: \")\n",
        "space_removed_str = String.replace(\" \",\"\")\n",
        "print(\"the removed space string is \",space_removed_str)"
      ],
      "metadata": {
        "colab": {
          "base_uri": "https://localhost:8080/"
        },
        "id": "Ol3YY7H7vC6k",
        "outputId": "432dd05e-d11d-47be-c5f3-4276e26d86ba"
      },
      "execution_count": 52,
      "outputs": [
        {
          "output_type": "stream",
          "name": "stdout",
          "text": [
            "Given_String: joginaidu is a good person\n",
            "the removed space string is  joginaiduisagoodperson\n"
          ]
        }
      ]
    }
  ]
}