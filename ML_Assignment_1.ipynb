{
  "cells": [
    {
      "cell_type": "markdown",
      "metadata": {
        "id": "view-in-github",
        "colab_type": "text"
      },
      "source": [
        "<a href=\"https://colab.research.google.com/github/Jo9gi/PW-SKILLS-ASSIGNMENTS/blob/main/ML_Assignment_1.ipynb\" target=\"_parent\"><img src=\"https://colab.research.google.com/assets/colab-badge.svg\" alt=\"Open In Colab\"/></a>"
      ]
    },
    {
      "cell_type": "markdown",
      "id": "41552683",
      "metadata": {
        "id": "41552683"
      },
      "source": [
        "### Q1. Define Artificial Intelligence (AI)\n",
        "\n",
        "**Answer:** Artificial Intelligence (AI) is a branch of computer science focused on creating systems capable of performing tasks that typically require human intelligence, such as decision-making, language understanding, and visual perception."
      ]
    },
    {
      "cell_type": "markdown",
      "id": "d491c0ad",
      "metadata": {
        "id": "d491c0ad"
      },
      "source": [
        "### Q2. Explain the differences between Artificial Intelligence (AI), Machine Learning (ML), Deep Learning (DL), and Data Science (DS)\n",
        "\n",
        "**Answer:** AI is the overarching field. Machine Learning (ML) is a subset of AI where machines learn from data. Deep Learning (DL) is a subset of ML using neural networks. Data Science (DS) is an interdisciplinary field using scientific methods, processes, and systems to extract knowledge from data."
      ]
    },
    {
      "cell_type": "markdown",
      "id": "96e86450",
      "metadata": {
        "id": "96e86450"
      },
      "source": [
        "### Q3. How does AI differ from traditional software development\n",
        "\n",
        "**Answer:** Traditional software development involves explicitly programming logic. AI, in contrast, allows systems to learn from data and adapt without explicit instructions."
      ]
    },
    {
      "cell_type": "markdown",
      "id": "8019c48d",
      "metadata": {
        "id": "8019c48d"
      },
      "source": [
        "### Q4. Provide examples of AI, ML, DL, and DS applications\n",
        "\n",
        "**Answer:** Examples: AI – Chatbots, autonomous vehicles; ML – Spam detection, recommendation systems; DL – Image recognition, speech-to-text; DS – Business analytics, fraud detection."
      ]
    },
    {
      "cell_type": "markdown",
      "id": "d289b1a0",
      "metadata": {
        "id": "d289b1a0"
      },
      "source": [
        "### Q5. Discuss the importance of AI, ML, DL, and DS in today's world\n",
        "\n",
        "**Answer:** They automate processes, improve decision-making, personalize user experiences, and enable breakthroughs in fields like healthcare, finance, and transportation."
      ]
    },
    {
      "cell_type": "markdown",
      "id": "a8a99309",
      "metadata": {
        "id": "a8a99309"
      },
      "source": [
        "### Q6. What is Supervised Learning\n",
        "\n",
        "**Answer:** Supervised Learning is a type of ML where the model is trained on labeled data."
      ]
    },
    {
      "cell_type": "markdown",
      "id": "0d58d7b6",
      "metadata": {
        "id": "0d58d7b6"
      },
      "source": [
        "### Q7. Provide examples of Supervised Learning algorithms\n",
        "\n",
        "**Answer:** Examples: Linear Regression, Logistic Regression, Decision Trees, SVM, k-NN."
      ]
    },
    {
      "cell_type": "markdown",
      "id": "40628ee0",
      "metadata": {
        "id": "40628ee0"
      },
      "source": [
        "### Q8. Explain the process of Supervised Learning\n",
        "\n",
        "**Answer:** Steps: Collect labeled data → Split into train/test sets → Train model → Evaluate performance."
      ]
    },
    {
      "cell_type": "markdown",
      "id": "e9421084",
      "metadata": {
        "id": "e9421084"
      },
      "source": [
        "### Q9. What are the characteristics of Unsupervised Learning\n",
        "\n",
        "**Answer:** It works with unlabeled data to find patterns or groupings."
      ]
    },
    {
      "cell_type": "markdown",
      "id": "a50c63d7",
      "metadata": {
        "id": "a50c63d7"
      },
      "source": [
        "### Q10. Give examples of Unsupervised Learning algorithms\n",
        "\n",
        "**Answer:** Examples: K-Means Clustering, Hierarchical Clustering, DBSCAN."
      ]
    },
    {
      "cell_type": "markdown",
      "id": "9447608c",
      "metadata": {
        "id": "9447608c"
      },
      "source": [
        "### Q11. Describe Semi-Supervised Learning and its significance\n",
        "\n",
        "**Answer:** Semi-Supervised Learning uses a small amount of labeled data with a large amount of unlabeled data. It improves learning accuracy while reducing the cost of labeling."
      ]
    },
    {
      "cell_type": "markdown",
      "id": "1a25779c",
      "metadata": {
        "id": "1a25779c"
      },
      "source": [
        "### Q12. Explain Reinforcement Learning and its applications\n",
        "\n",
        "**Answer:** Reinforcement Learning involves agents taking actions in an environment to maximize rewards. Applications include robotics, gaming, and self-driving cars."
      ]
    },
    {
      "cell_type": "markdown",
      "id": "6b28c770",
      "metadata": {
        "id": "6b28c770"
      },
      "source": [
        "### Q13. How does Reinforcement Learning differ from Supervised and Unsupervised Learning\n",
        "\n",
        "**Answer:** Unlike Supervised Learning (with labels) and Unsupervised Learning (no labels), Reinforcement Learning focuses on learning via rewards and penalties."
      ]
    },
    {
      "cell_type": "markdown",
      "id": "e732277b",
      "metadata": {
        "id": "e732277b"
      },
      "source": [
        "### Q14. What is the purpose of the Train-Test-Validation split in machine learning\n",
        "\n",
        "**Answer:** It helps evaluate and validate model performance while avoiding overfitting."
      ]
    },
    {
      "cell_type": "markdown",
      "id": "67e13bd3",
      "metadata": {
        "id": "67e13bd3"
      },
      "source": [
        "### Q15. Explain the significance of the training set\n",
        "\n",
        "**Answer:** The training set is used to fit the machine learning model."
      ]
    },
    {
      "cell_type": "markdown",
      "id": "984c3a68",
      "metadata": {
        "id": "984c3a68"
      },
      "source": [
        "### Q16. How do you determine the size of the training, testing, and validation sets\n",
        "\n",
        "**Answer:** Typical ratios: 70% training, 15% validation, 15% testing. Depends on dataset size."
      ]
    },
    {
      "cell_type": "markdown",
      "id": "80d1e0b2",
      "metadata": {
        "id": "80d1e0b2"
      },
      "source": [
        "### Q17. What are the consequences of improper Train-Test-Validation splits\n",
        "\n",
        "**Answer:** Overfitting, poor generalization, and misleading evaluation results."
      ]
    },
    {
      "cell_type": "markdown",
      "id": "bc14a5aa",
      "metadata": {
        "id": "bc14a5aa"
      },
      "source": [
        "### Q18. Discuss the trade-offs in selecting appropriate split ratios\n",
        "\n",
        "**Answer:** Too much training data may lead to under-evaluation; too little causes overfitting."
      ]
    },
    {
      "cell_type": "markdown",
      "id": "cc897cae",
      "metadata": {
        "id": "cc897cae"
      },
      "source": [
        "### Q19. Define model performance in machine learning\n",
        "\n",
        "**Answer:** Model performance indicates how well a model makes predictions."
      ]
    },
    {
      "cell_type": "markdown",
      "id": "80a0abf9",
      "metadata": {
        "id": "80a0abf9"
      },
      "source": [
        "### Q20. How do you measure the performance of a machine learning model\n",
        "\n",
        "**Answer:** Using metrics like Accuracy, Precision, Recall, F1 Score, AUC-ROC, etc."
      ]
    },
    {
      "cell_type": "markdown",
      "id": "0add9797",
      "metadata": {
        "id": "0add9797"
      },
      "source": [
        "### Q21. What is overfitting and why is it problematic\n",
        "\n",
        "**Answer:** Overfitting is when a model performs well on training data but poorly on unseen data."
      ]
    },
    {
      "cell_type": "markdown",
      "id": "ba2c6ba4",
      "metadata": {
        "id": "ba2c6ba4"
      },
      "source": [
        "### Q22. Provide techniques to address overfitting\n",
        "\n",
        "**Answer:** Techniques: Cross-validation, Regularization, Pruning, Dropout, Early Stopping."
      ]
    },
    {
      "cell_type": "markdown",
      "id": "cf122caf",
      "metadata": {
        "id": "cf122caf"
      },
      "source": [
        "### Q23. Explain underfitting and its implications\n",
        "\n",
        "**Answer:** Underfitting occurs when the model is too simple to learn from the data."
      ]
    },
    {
      "cell_type": "markdown",
      "id": "6db1e1b8",
      "metadata": {
        "id": "6db1e1b8"
      },
      "source": [
        "### Q24. How can you prevent underfitting in machine learning models\n",
        "\n",
        "**Answer:** Use more features, increase model complexity, reduce regularization."
      ]
    },
    {
      "cell_type": "markdown",
      "id": "f8683dcf",
      "metadata": {
        "id": "f8683dcf"
      },
      "source": [
        "### Q25. Discuss the balance between bias and variance in model performance\n",
        "\n",
        "**Answer:** Bias-variance tradeoff aims to balance model complexity to ensure generalization."
      ]
    },
    {
      "cell_type": "markdown",
      "id": "30eee2bb",
      "metadata": {
        "id": "30eee2bb"
      },
      "source": [
        "### Q26. What are the common techniques to handle missing data\n",
        "\n",
        "**Answer:** Imputation, deletion, using algorithms that handle missing data (e.g., XGBoost)."
      ]
    },
    {
      "cell_type": "markdown",
      "id": "29ca0765",
      "metadata": {
        "id": "29ca0765"
      },
      "source": [
        "### Q27. Explain the implications of ignoring missing data\n",
        "\n",
        "**Answer:** Ignoring missing data may result in biased models or loss of information."
      ]
    },
    {
      "cell_type": "markdown",
      "id": "63378813",
      "metadata": {
        "id": "63378813"
      },
      "source": [
        "### Q28. Discuss the pros and cons of imputation methods\n",
        "\n",
        "**Answer:** Imputation pros: preserves data; cons: may introduce bias. Deletion pros: simplicity; cons: data loss."
      ]
    },
    {
      "cell_type": "markdown",
      "id": "0efc2c1f",
      "metadata": {
        "id": "0efc2c1f"
      },
      "source": [
        "### Q29. How does missing data affect model performance\n",
        "\n",
        "**Answer:** Missing data can distort patterns, reduce accuracy, and impair learning."
      ]
    },
    {
      "cell_type": "markdown",
      "id": "d6af044e",
      "metadata": {
        "id": "d6af044e"
      },
      "source": [
        "### Q30. Define imbalanced data in the context of machine learning\n",
        "\n",
        "**Answer:** Imbalanced data refers to unequal class distribution in classification problems."
      ]
    },
    {
      "cell_type": "markdown",
      "id": "8aba2b85",
      "metadata": {
        "id": "8aba2b85"
      },
      "source": [
        "### Q31. Discuss the challenges posed by imbalanced data\n",
        "\n",
        "**Answer:** It causes models to favor the majority class, leading to poor minority class prediction."
      ]
    },
    {
      "cell_type": "markdown",
      "id": "467b79db",
      "metadata": {
        "id": "467b79db"
      },
      "source": [
        "### Q32. What techniques can be used to address imbalanced data\n",
        "\n",
        "**Answer:** Resampling (over/under-sampling), synthetic data generation, cost-sensitive learning."
      ]
    },
    {
      "cell_type": "markdown",
      "id": "baf3d735",
      "metadata": {
        "id": "baf3d735"
      },
      "source": [
        "### Q33. Explain the process of up-sampling and down-sampling\n",
        "\n",
        "**Answer:** Up-sampling increases minority class samples; down-sampling reduces majority class."
      ]
    },
    {
      "cell_type": "markdown",
      "id": "7c487e46",
      "metadata": {
        "id": "7c487e46"
      },
      "source": [
        "### Q34. When would you use up-sampling versus down-sampling\n",
        "\n",
        "**Answer:** Use up-sampling when you need more minority class data; down-sampling to reduce over-represented class."
      ]
    },
    {
      "cell_type": "markdown",
      "id": "9be5a321",
      "metadata": {
        "id": "9be5a321"
      },
      "source": [
        "### Q35. What is SMOTE and how does it work\n",
        "\n",
        "**Answer:** SMOTE (Synthetic Minority Over-sampling Technique) creates synthetic samples by interpolating between minority instances."
      ]
    },
    {
      "cell_type": "markdown",
      "id": "1c1de8f4",
      "metadata": {
        "id": "1c1de8f4"
      },
      "source": [
        "### Q36. Explain the role of SMOTE in handling imbalanced data\n",
        "\n",
        "**Answer:** SMOTE balances datasets to improve model training and generalization."
      ]
    },
    {
      "cell_type": "markdown",
      "id": "65db9fde",
      "metadata": {
        "id": "65db9fde"
      },
      "source": [
        "### Q37. Discuss the advantages and limitations of SMOTE\n",
        "\n",
        "**Answer:** Advantages: better balance; Limitations: may cause overfitting, not suitable for all datasets."
      ]
    },
    {
      "cell_type": "markdown",
      "id": "e0b15382",
      "metadata": {
        "id": "e0b15382"
      },
      "source": [
        "### Q38. Provide examples of scenarios where SMOTE is beneficial\n",
        "\n",
        "**Answer:** Useful in fraud detection, medical diagnosis, and rare event prediction."
      ]
    },
    {
      "cell_type": "markdown",
      "id": "7c741552",
      "metadata": {
        "id": "7c741552"
      },
      "source": [
        "### Q39. Define data interpolation and its purpose\n",
        "\n",
        "**Answer:** Interpolation estimates missing values within a range of known data points."
      ]
    },
    {
      "cell_type": "markdown",
      "id": "23a489e4",
      "metadata": {
        "id": "23a489e4"
      },
      "source": [
        "### Q40. What are the common methods of data interpolation\n",
        "\n",
        "**Answer:** Linear interpolation, polynomial interpolation, spline interpolation."
      ]
    },
    {
      "cell_type": "markdown",
      "id": "79308912",
      "metadata": {
        "id": "79308912"
      },
      "source": [
        "### Q41. Discuss the implications of using data interpolation in machine learning\n",
        "\n",
        "**Answer:** It can improve data completeness but may introduce artificial patterns."
      ]
    },
    {
      "cell_type": "markdown",
      "id": "c896e700",
      "metadata": {
        "id": "c896e700"
      },
      "source": [
        "### Q42. What are outliers in a dataset\n",
        "\n",
        "**Answer:** Outliers are data points that differ significantly from others."
      ]
    },
    {
      "cell_type": "markdown",
      "id": "63628a8f",
      "metadata": {
        "id": "63628a8f"
      },
      "source": [
        "### Q43. Explain the impact of outliers on machine learning models\n",
        "\n",
        "**Answer:** Outliers can skew model predictions and reduce performance."
      ]
    },
    {
      "cell_type": "markdown",
      "id": "a6877df8",
      "metadata": {
        "id": "a6877df8"
      },
      "source": [
        "### Q44. Discuss techniques for identifying outliers\n",
        "\n",
        "**Answer:** Techniques: IQR method, Z-score, box plots, clustering methods."
      ]
    },
    {
      "cell_type": "markdown",
      "id": "b97e9f46",
      "metadata": {
        "id": "b97e9f46"
      },
      "source": [
        "### Q45. How can outliers be handled in a dataset\n",
        "\n",
        "**Answer:** Handling: removal, transformation, capping, or isolation-based detection."
      ]
    },
    {
      "cell_type": "markdown",
      "id": "ceedced7",
      "metadata": {
        "id": "ceedced7"
      },
      "source": [
        "### Q46. Compare and contrast Filter, Wrapper, and Embedded methods for feature selection\n",
        "\n",
        "**Answer:** Filter: based on statistical measures; Wrapper: evaluates combinations using models; Embedded: feature selection during model training."
      ]
    },
    {
      "cell_type": "markdown",
      "id": "e6387dda",
      "metadata": {
        "id": "e6387dda"
      },
      "source": [
        "### Q47. Provide examples of algorithms associated with each method\n",
        "\n",
        "**Answer:** Filter – Chi-Square; Wrapper – RFE; Embedded – Lasso Regression."
      ]
    },
    {
      "cell_type": "markdown",
      "id": "b1d43f68",
      "metadata": {
        "id": "b1d43f68"
      },
      "source": [
        "### Q48. Discuss the advantages and disadvantages of each feature selection method\n",
        "\n",
        "**Answer:** Filter: fast, less accurate; Wrapper: accurate, computationally expensive; Embedded: balanced."
      ]
    },
    {
      "cell_type": "markdown",
      "id": "51cc8529",
      "metadata": {
        "id": "51cc8529"
      },
      "source": [
        "### Q49. Explain the concept of feature scaling\n",
        "\n",
        "**Answer:** Feature scaling brings all features to a similar scale to improve model performance."
      ]
    },
    {
      "cell_type": "markdown",
      "id": "35a306b1",
      "metadata": {
        "id": "35a306b1"
      },
      "source": [
        "### Q50. Describe the process of standardization\n",
        "\n",
        "**Answer:** Standardization rescales data to zero mean and unit variance."
      ]
    },
    {
      "cell_type": "markdown",
      "id": "adf37427",
      "metadata": {
        "id": "adf37427"
      },
      "source": [
        "### Q51. How does mean normalization differ from standardization\n",
        "\n",
        "**Answer:** Mean normalization centers data around zero using mean and range instead of standard deviation."
      ]
    },
    {
      "cell_type": "markdown",
      "id": "18167c30",
      "metadata": {
        "id": "18167c30"
      },
      "source": [
        "### Q52. Discuss the advantages and disadvantages of Min-Max scaling\n",
        "\n",
        "**Answer:** Min-Max scaling rescales features to a fixed range (usually 0-1). Pros: interpretable; Cons: sensitive to outliers."
      ]
    },
    {
      "cell_type": "markdown",
      "id": "632a9444",
      "metadata": {
        "id": "632a9444"
      },
      "source": [
        "### Q53. What is the purpose of unit vector scaling\n",
        "\n",
        "**Answer:** Unit vector scaling transforms data to a unit norm. Useful for similarity measures."
      ]
    },
    {
      "cell_type": "markdown",
      "id": "322576c0",
      "metadata": {
        "id": "322576c0"
      },
      "source": [
        "### Q54. Define Principle Component Analysis (PCA)\n",
        "\n",
        "**Answer:** PCA reduces dimensionality by projecting data onto components that maximize variance."
      ]
    },
    {
      "cell_type": "markdown",
      "id": "54ef757a",
      "metadata": {
        "id": "54ef757a"
      },
      "source": [
        "### Q55. Explain the steps involved in PCA\n",
        "\n",
        "**Answer:** Steps: Standardize → Compute covariance matrix → Compute eigenvalues/vectors → Select components → Transform data."
      ]
    },
    {
      "cell_type": "markdown",
      "id": "67ad021a",
      "metadata": {
        "id": "67ad021a"
      },
      "source": [
        "### Q56. Discuss the significance of eigenvalues and eigenvectors in PCA\n",
        "\n",
        "**Answer:** Eigenvalues represent variance; eigenvectors determine direction."
      ]
    },
    {
      "cell_type": "markdown",
      "id": "16ccdc94",
      "metadata": {
        "id": "16ccdc94"
      },
      "source": [
        "### Q57. How does PCA help in dimensionality reduction\n",
        "\n",
        "**Answer:** PCA reduces redundant features while retaining variance."
      ]
    },
    {
      "cell_type": "markdown",
      "id": "ea44e886",
      "metadata": {
        "id": "ea44e886"
      },
      "source": [
        "### Q58. Define data encoding and its importance in machine learning\n",
        "\n",
        "**Answer:** Encoding converts categorical data into numeric format for ML models."
      ]
    },
    {
      "cell_type": "markdown",
      "id": "63e96739",
      "metadata": {
        "id": "63e96739"
      },
      "source": [
        "### Q59. Explain Nominal Encoding and provide an example\n",
        "\n",
        "**Answer:** Nominal encoding assigns integers arbitrarily to categories. E.g., Red=0, Blue=1."
      ]
    },
    {
      "cell_type": "markdown",
      "id": "9a43c85c",
      "metadata": {
        "id": "9a43c85c"
      },
      "source": [
        "### Q60. Discuss the process of One Hot Encoding\n",
        "\n",
        "**Answer:** One Hot Encoding creates binary columns for each category."
      ]
    },
    {
      "cell_type": "markdown",
      "id": "93338e5a",
      "metadata": {
        "id": "93338e5a"
      },
      "source": [
        "### Q61. How do you handle multiple categories in One Hot Encoding\n",
        "\n",
        "**Answer:** By creating a binary vector for each unique category. Use sparse matrices for efficiency."
      ]
    },
    {
      "cell_type": "markdown",
      "id": "23a8f173",
      "metadata": {
        "id": "23a8f173"
      },
      "source": [
        "### Q62. Explain Mean Encoding and its advantages\n",
        "\n",
        "**Answer:** Mean Encoding replaces category with the mean of target variable. Helps capture trends."
      ]
    },
    {
      "cell_type": "markdown",
      "id": "bf4b8d79",
      "metadata": {
        "id": "bf4b8d79"
      },
      "source": [
        "### Q63. Provide examples of Ordinal Encoding and Label Encoding\n",
        "\n",
        "**Answer:** Ordinal Encoding – Small=0, Medium=1, Large=2; Label Encoding – Red=0, Blue=1."
      ]
    },
    {
      "cell_type": "markdown",
      "id": "5a17802b",
      "metadata": {
        "id": "5a17802b"
      },
      "source": [
        "### Q64. What is Target Guided Ordinal Encoding and how is it used\n",
        "\n",
        "**Answer:** Target Guided Ordinal Encoding ranks categories based on target variable mean."
      ]
    },
    {
      "cell_type": "markdown",
      "id": "82a2282f",
      "metadata": {
        "id": "82a2282f"
      },
      "source": [
        "### Q65. Define covariance and its significance in statistics\n",
        "\n",
        "**Answer:** Covariance measures how two variables change together. Positive means same direction."
      ]
    },
    {
      "cell_type": "markdown",
      "id": "04d3a6a4",
      "metadata": {
        "id": "04d3a6a4"
      },
      "source": [
        "### Q66. Explain the process of correlation check\n",
        "\n",
        "**Answer:** Check linear or monotonic relationship between features using correlation coefficients."
      ]
    },
    {
      "cell_type": "markdown",
      "id": "39beb122",
      "metadata": {
        "id": "39beb122"
      },
      "source": [
        "### Q67. What is the Pearson Correlation Coefficient\n",
        "\n",
        "**Answer:** Pearson measures linear correlation (range -1 to 1)."
      ]
    },
    {
      "cell_type": "markdown",
      "id": "44d21bb0",
      "metadata": {
        "id": "44d21bb0"
      },
      "source": [
        "### Q68. How does Spearman's Rank Correlation differ from Pearson's Correlation\n",
        "\n",
        "**Answer:** Spearman uses rank correlation, captures monotonic relationships."
      ]
    },
    {
      "cell_type": "markdown",
      "id": "4152e1fc",
      "metadata": {
        "id": "4152e1fc"
      },
      "source": [
        "### Q69. Discuss the importance of Variance Inflation Factor (VIF) in feature selection\n",
        "\n",
        "**Answer:** VIF quantifies multicollinearity. High VIF indicates redundant features."
      ]
    },
    {
      "cell_type": "markdown",
      "id": "5075e067",
      "metadata": {
        "id": "5075e067"
      },
      "source": [
        "### Q70. Define feature selection and its purpose\n",
        "\n",
        "**Answer:** Feature selection selects relevant variables to improve model accuracy and reduce complexity."
      ]
    },
    {
      "cell_type": "markdown",
      "id": "e1910321",
      "metadata": {
        "id": "e1910321"
      },
      "source": [
        "### Q71. Explain the process of Recursive Feature Elimination\n",
        "\n",
        "**Answer:** RFE recursively removes least important features using model performance."
      ]
    },
    {
      "cell_type": "markdown",
      "id": "d11e49a9",
      "metadata": {
        "id": "d11e49a9"
      },
      "source": [
        "### Q72. How does Backward Elimination work\n",
        "\n",
        "**Answer:** Backward Elimination removes features one by one based on p-values."
      ]
    },
    {
      "cell_type": "markdown",
      "id": "6fea9333",
      "metadata": {
        "id": "6fea9333"
      },
      "source": [
        "### Q73. Discuss the advantages and limitations of Forward Elimination\n",
        "\n",
        "**Answer:** Forward Elimination adds features incrementally. Limitation: may miss optimal subset."
      ]
    },
    {
      "cell_type": "markdown",
      "id": "ff5f77a3",
      "metadata": {
        "id": "ff5f77a3"
      },
      "source": [
        "### Q74. What is feature engineering and why is it important\n",
        "\n",
        "**Answer:** Feature engineering transforms raw data into informative features."
      ]
    },
    {
      "cell_type": "markdown",
      "id": "5beb1576",
      "metadata": {
        "id": "5beb1576"
      },
      "source": [
        "### Q75. Discuss the steps involved in feature engineering\n",
        "\n",
        "**Answer:** Steps: understand data → create new features → encode and scale → test impact."
      ]
    },
    {
      "cell_type": "markdown",
      "id": "85d777e3",
      "metadata": {
        "id": "85d777e3"
      },
      "source": [
        "### Q76. Provide examples of feature engineering techniques\n",
        "\n",
        "**Answer:** Examples: datetime extraction, polynomial features, log transforms, binning."
      ]
    },
    {
      "cell_type": "markdown",
      "id": "51f15fbc",
      "metadata": {
        "id": "51f15fbc"
      },
      "source": [
        "### Q77. How does feature selection differ from feature engineering\n",
        "\n",
        "**Answer:** Feature selection picks from existing features; engineering creates new ones."
      ]
    },
    {
      "cell_type": "markdown",
      "id": "5dab3d11",
      "metadata": {
        "id": "5dab3d11"
      },
      "source": [
        "### Q78. Explain the importance of feature selection in machine learning pipelines\n",
        "\n",
        "**Answer:** Improves accuracy, reduces overfitting, and enhances generalization."
      ]
    },
    {
      "cell_type": "markdown",
      "id": "63e14442",
      "metadata": {
        "id": "63e14442"
      },
      "source": [
        "### Q79. Discuss the impact of feature selection on model performance\n",
        "\n",
        "**Answer:** Removes irrelevant data, improves speed and accuracy."
      ]
    },
    {
      "cell_type": "markdown",
      "id": "61bd7a8e",
      "metadata": {
        "id": "61bd7a8e"
      },
      "source": [
        "### Q80. How do you determine which features to include in a machine-learning model?\n",
        "\n",
        "**Answer:** Based on domain knowledge, feature importance, and model interpretability."
      ]
    }
  ],
  "metadata": {
    "colab": {
      "provenance": [],
      "include_colab_link": true
    }
  },
  "nbformat": 4,
  "nbformat_minor": 5
}