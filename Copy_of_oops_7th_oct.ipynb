{
  "cells": [
    {
      "cell_type": "markdown",
      "metadata": {
        "id": "view-in-github",
        "colab_type": "text"
      },
      "source": [
        "<a href=\"https://colab.research.google.com/github/Jo9gi/PW-SKILLS-ASSIGNMENTS/blob/main/Copy_of_oops_7th_oct.ipynb\" target=\"_parent\"><img src=\"https://colab.research.google.com/assets/colab-badge.svg\" alt=\"Open In Colab\"/></a>"
      ]
    },
    {
      "cell_type": "code",
      "execution_count": null,
      "id": "8b6a7b1a-3ff5-4b22-be3e-d3b2d7aa7e3a",
      "metadata": {
        "id": "8b6a7b1a-3ff5-4b22-be3e-d3b2d7aa7e3a"
      },
      "outputs": [],
      "source": [
        "class a :\n",
        "\n",
        "    def test(self):\n",
        "        print(\"this test method is a part of class a\")\n",
        "\n",
        "    def test1(self):\n",
        "        print(\"this is test1 from class a \")"
      ]
    },
    {
      "cell_type": "code",
      "execution_count": null,
      "id": "8e4d306f-fdb4-47a0-a93d-597f5b21d30b",
      "metadata": {
        "id": "8e4d306f-fdb4-47a0-a93d-597f5b21d30b"
      },
      "outputs": [],
      "source": [
        "obj_a = a()"
      ]
    },
    {
      "cell_type": "code",
      "execution_count": null,
      "id": "81ef5597-cf96-4ed9-a4f6-21e2e93aca70",
      "metadata": {
        "id": "81ef5597-cf96-4ed9-a4f6-21e2e93aca70",
        "outputId": "79369a94-74fd-4e46-e15e-35d9b88fb79e",
        "colab": {
          "base_uri": "https://localhost:8080/"
        }
      },
      "outputs": [
        {
          "output_type": "stream",
          "name": "stdout",
          "text": [
            "this test method is a part of class a\n"
          ]
        }
      ],
      "source": [
        "obj_a.test()"
      ]
    },
    {
      "cell_type": "code",
      "execution_count": null,
      "id": "11ee63d6-433d-48dc-ada0-5dd6771310ba",
      "metadata": {
        "id": "11ee63d6-433d-48dc-ada0-5dd6771310ba"
      },
      "outputs": [],
      "source": [
        "class b(a) :\n",
        "    def test1b(self):\n",
        "        print(\"this is a part of class b \")"
      ]
    },
    {
      "cell_type": "code",
      "execution_count": null,
      "id": "badaedfe-57d1-43c6-9193-e5afb0f31dbc",
      "metadata": {
        "id": "badaedfe-57d1-43c6-9193-e5afb0f31dbc"
      },
      "outputs": [],
      "source": [
        "obj_b = b()"
      ]
    },
    {
      "cell_type": "code",
      "execution_count": null,
      "id": "3ce19f61-ba8e-4050-9d4d-614adfd964c5",
      "metadata": {
        "id": "3ce19f61-ba8e-4050-9d4d-614adfd964c5",
        "outputId": "54796cf3-8910-4a5d-a088-51e64ca4fea5",
        "colab": {
          "base_uri": "https://localhost:8080/"
        }
      },
      "outputs": [
        {
          "output_type": "stream",
          "name": "stdout",
          "text": [
            "this test method is a part of class a\n"
          ]
        }
      ],
      "source": [
        "obj_b.test()"
      ]
    },
    {
      "cell_type": "code",
      "execution_count": null,
      "id": "5e473fae-e094-4407-99df-16a04ab4c80a",
      "metadata": {
        "id": "5e473fae-e094-4407-99df-16a04ab4c80a",
        "outputId": "43531b90-ad76-4b60-bdc4-f81bef5506b7",
        "colab": {
          "base_uri": "https://localhost:8080/"
        }
      },
      "outputs": [
        {
          "output_type": "stream",
          "name": "stdout",
          "text": [
            "this is test1 from class a \n"
          ]
        }
      ],
      "source": [
        "obj_b.test1()"
      ]
    },
    {
      "cell_type": "code",
      "execution_count": null,
      "id": "02a8f055-535f-4bc2-adc1-575445f82570",
      "metadata": {
        "id": "02a8f055-535f-4bc2-adc1-575445f82570",
        "outputId": "5dc7e263-de7a-45c3-f620-09ec7d94a2ea",
        "colab": {
          "base_uri": "https://localhost:8080/"
        }
      },
      "outputs": [
        {
          "output_type": "stream",
          "name": "stdout",
          "text": [
            "this is a part of class b \n"
          ]
        }
      ],
      "source": [
        "obj_b.test1b()"
      ]
    },
    {
      "cell_type": "code",
      "execution_count": null,
      "id": "59361cd3-c0c4-4ddd-abac-cbe3275ade5f",
      "metadata": {
        "id": "59361cd3-c0c4-4ddd-abac-cbe3275ade5f"
      },
      "outputs": [],
      "source": [
        "class lecture:\n",
        "\n",
        "    def topic(self):\n",
        "        print(\"todays class we are discussing about inheritance condept in oops\")\n",
        "\n",
        "    def timing(self):\n",
        "        print(\"timing for todays class is 9 AM IST\")\n",
        "\n",
        "    def end_time(self):\n",
        "        print(\"today i will try to end class bit early\")"
      ]
    },
    {
      "cell_type": "code",
      "execution_count": null,
      "id": "6e3dd2de-883e-4e9e-98a0-4a7089af1627",
      "metadata": {
        "id": "6e3dd2de-883e-4e9e-98a0-4a7089af1627"
      },
      "outputs": [],
      "source": [
        "class student(lecture):\n",
        "\n",
        "    def student_details(self):\n",
        "        print(\"this class will give you a student details\")"
      ]
    },
    {
      "cell_type": "code",
      "execution_count": null,
      "id": "c2ad2a89-0f29-4410-86c4-e33f47b4186d",
      "metadata": {
        "id": "c2ad2a89-0f29-4410-86c4-e33f47b4186d"
      },
      "outputs": [],
      "source": [
        "naval = student()"
      ]
    },
    {
      "cell_type": "code",
      "execution_count": null,
      "id": "38c86e7f-5560-464a-b597-c88a74819f1a",
      "metadata": {
        "id": "38c86e7f-5560-464a-b597-c88a74819f1a",
        "outputId": "0699bd10-35c9-48cd-f4b8-3268d03ff160",
        "colab": {
          "base_uri": "https://localhost:8080/"
        }
      },
      "outputs": [
        {
          "output_type": "stream",
          "name": "stdout",
          "text": [
            "todays class we are discussing about inheritance condept in oops\n"
          ]
        }
      ],
      "source": [
        "naval.topic()"
      ]
    },
    {
      "cell_type": "code",
      "execution_count": null,
      "id": "02efc8a4-f995-4f85-87d2-620ccc0f61fa",
      "metadata": {
        "id": "02efc8a4-f995-4f85-87d2-620ccc0f61fa",
        "outputId": "7225b762-0842-4289-c885-f0d76231c18c",
        "colab": {
          "base_uri": "https://localhost:8080/"
        }
      },
      "outputs": [
        {
          "output_type": "stream",
          "name": "stdout",
          "text": [
            "timing for todays class is 9 AM IST\n"
          ]
        }
      ],
      "source": [
        "satish = student()\n",
        "satish.timing()"
      ]
    },
    {
      "cell_type": "code",
      "execution_count": null,
      "id": "03932972-a58b-46e5-a3f8-ffc43c84ce53",
      "metadata": {
        "id": "03932972-a58b-46e5-a3f8-ffc43c84ce53"
      },
      "outputs": [],
      "source": [
        "class teacher(student):\n",
        "    def details(self):\n",
        "        print(\"this will give you a details about teacher\")"
      ]
    },
    {
      "cell_type": "code",
      "execution_count": null,
      "id": "fff36c1b-f1e9-467e-b29f-c304aa9feec9",
      "metadata": {
        "id": "fff36c1b-f1e9-467e-b29f-c304aa9feec9",
        "outputId": "5b930b13-134a-4895-801a-6be21b3f4641",
        "colab": {
          "base_uri": "https://localhost:8080/"
        }
      },
      "outputs": [
        {
          "output_type": "stream",
          "name": "stdout",
          "text": [
            "timing for todays class is 9 AM IST\n"
          ]
        }
      ],
      "source": [
        "sudh = teacher()\n",
        "sudh.timing()"
      ]
    },
    {
      "cell_type": "code",
      "execution_count": null,
      "id": "a5e8c94b-de62-4ef5-8eba-81259d83dd3d",
      "metadata": {
        "id": "a5e8c94b-de62-4ef5-8eba-81259d83dd3d"
      },
      "outputs": [],
      "source": [
        "class lecture:\n",
        "    def topic(self):\n",
        "        print(\"todays class we are discussing about inheritance condept in oops\")\n",
        "\n",
        "    def timing(self):\n",
        "        print(\"timing for todays class is 9 AM IST\")\n",
        "\n",
        "    def end_time(self):\n",
        "        print(\"today i will try to end class bit early\")"
      ]
    },
    {
      "cell_type": "code",
      "execution_count": null,
      "id": "2007141c-1b71-4cd4-9bed-a3cd8d851baa",
      "metadata": {
        "id": "2007141c-1b71-4cd4-9bed-a3cd8d851baa"
      },
      "outputs": [],
      "source": [
        "class student:\n",
        "\n",
        "    def student_details(self):\n",
        "        print(\"this class will give you a student details\")\n",
        "\n",
        "    def timing(self):\n",
        "        print(\"this is a timing fun from student class\")\n"
      ]
    },
    {
      "cell_type": "code",
      "execution_count": null,
      "id": "272860d3-1fac-475b-8c09-0490069224bc",
      "metadata": {
        "id": "272860d3-1fac-475b-8c09-0490069224bc"
      },
      "outputs": [],
      "source": [
        "class teacher(lecture,student):\n",
        "    def details(self):\n",
        "        print(\"this will give you a details about teacher\")"
      ]
    },
    {
      "cell_type": "code",
      "execution_count": null,
      "id": "f4a9ae16-f0e3-4a4a-a003-38773611cd2a",
      "metadata": {
        "id": "f4a9ae16-f0e3-4a4a-a003-38773611cd2a"
      },
      "outputs": [],
      "source": [
        "krish = teacher()"
      ]
    },
    {
      "cell_type": "code",
      "execution_count": null,
      "id": "6dc85f37-219e-4c72-927c-9aebb550fea9",
      "metadata": {
        "id": "6dc85f37-219e-4c72-927c-9aebb550fea9",
        "outputId": "bf7be36a-2424-4c34-ea77-707d396377ee",
        "colab": {
          "base_uri": "https://localhost:8080/"
        }
      },
      "outputs": [
        {
          "output_type": "stream",
          "name": "stdout",
          "text": [
            "timing for todays class is 9 AM IST\n"
          ]
        }
      ],
      "source": [
        "krish.timing()"
      ]
    },
    {
      "cell_type": "code",
      "execution_count": null,
      "id": "8bcbac88-9172-4a31-a191-9c4b9a1c6eac",
      "metadata": {
        "id": "8bcbac88-9172-4a31-a191-9c4b9a1c6eac",
        "outputId": "8013dd2c-0244-4668-8bb5-3df57becdac6",
        "colab": {
          "base_uri": "https://localhost:8080/"
        }
      },
      "outputs": [
        {
          "output_type": "stream",
          "name": "stdout",
          "text": [
            "this class will give you a student details\n"
          ]
        }
      ],
      "source": [
        "krish.student_details()"
      ]
    },
    {
      "cell_type": "markdown",
      "id": "86b47d4f-860e-4702-83a0-0145887ab41a",
      "metadata": {
        "id": "86b47d4f-860e-4702-83a0-0145887ab41a"
      },
      "source": [
        "Problem 1: Bank Account Create a class representing a bank account with attributes like account number, account holder name, and balance. Implement methods to deposit and withdraw money from the account.\n",
        "\n",
        "Problem 2: Employee Management Create a class representing an employee with attributes like employee ID, name, and salary. Implement methods to calculate the yearly bonus and display employee details.\n",
        "\n",
        "Problem 3: Vehicle Rental Create a class representing a vehicle rental system. Implement methods to rent a vehicle, return a vehicle, and display available vehicles.\n",
        "\n",
        "Problem 4: Library Catalog Create classes representing a library and a book. Implement methods to add books to the library, borrow books, and display available books.\n",
        "\n",
        "Problem 5: Product Inventory Create classes representing a product and an inventory system. Implement methods to add products to the inventory, update product quantity, and display available products.\n",
        "\n",
        "Problem 6: Shape Calculation Create a class representing a shape with attributes like length, width, and height. Implement methods to calculate the area and perimeter of the shape.\n",
        "\n",
        "Problem 7: Student Management Create a class representing a student with attributes like student ID, name, and grades. Implement methods to calculate the average grade and display student details.\n",
        "\n",
        "Problem 8: Email Management Create a class representing an email with attributes like sender, recipient, and subject. Implement methods to send an email and display email details.\n",
        "\n",
        "Problem 9: Social Media Profile Create a class representing a social media profile with attributes like username and posts. Implement methods to add posts, display posts, and search for posts by keyword.\n",
        "\n",
        "Problem 10: ToDo List Create a class representing a ToDo list with attributes like tasks and due dates. Implement methods to add tasks, mark tasks as completed, and display pending tasks."
      ]
    },
    {
      "cell_type": "markdown",
      "source": [
        "# Problem 1: Bank Account Create a class representing a bank account with attributes like account number, account holder name, and balance. Implement methods to deposit and withdraw money from the account."
      ],
      "metadata": {
        "id": "Q-x4LJMl9x7J"
      },
      "id": "Q-x4LJMl9x7J"
    },
    {
      "cell_type": "code",
      "execution_count": null,
      "id": "fef1683a-faa4-4d27-a0a6-7a742e512e9b",
      "metadata": {
        "id": "fef1683a-faa4-4d27-a0a6-7a742e512e9b"
      },
      "outputs": [],
      "source": [
        "class bankaccount:\n",
        "  account_number = 12345\n",
        "  def __init__(self,account_number,account_holder_name,balance=0.0):\n",
        "    self.account_number = account_number\n",
        "    self.account_holder_name = account_holder_name\n",
        "    self.balance = balance\n",
        "  def deposite(self,amount):\n",
        "    if amount>0:\n",
        "      self.balance +=amount\n",
        "      return f\"the present account balance is {self.balance} rs\"\n",
        "    else:\n",
        "      return \"enter the correct value\"\n",
        "  def withdrawl(self,amt):\n",
        "    if amt > 0 and amt <= self.balance:\n",
        "      self.balance-=amt\n",
        "      return f\"the present account balance is {self.balance} rs\"\n",
        "    else:\n",
        "      return \"insufficient balance\"\n",
        "  def get_balance(self):\n",
        "    return f\"the present balance is {self.balance}\"\n"
      ]
    },
    {
      "cell_type": "code",
      "source": [
        "account1 = bankaccount(1234,'joo')\n",
        "account2 = bankaccount(2342,'hen',800)\n",
        "account1.deposite(300)\n"
      ],
      "metadata": {
        "id": "MFBCb4_vDQ-d",
        "outputId": "33ed39d3-6155-4614-b72f-6258c075954d",
        "colab": {
          "base_uri": "https://localhost:8080/",
          "height": 35
        }
      },
      "id": "MFBCb4_vDQ-d",
      "execution_count": null,
      "outputs": [
        {
          "output_type": "execute_result",
          "data": {
            "text/plain": [
              "'the present account balance is 300.0 rs'"
            ],
            "application/vnd.google.colaboratory.intrinsic+json": {
              "type": "string"
            }
          },
          "metadata": {},
          "execution_count": 2
        }
      ]
    },
    {
      "cell_type": "code",
      "source": [
        "print(account2.deposite(100))"
      ],
      "metadata": {
        "id": "StzslY7PGjTh",
        "outputId": "8498436f-a6f8-459b-c5f8-7dcfc46476e0",
        "colab": {
          "base_uri": "https://localhost:8080/"
        }
      },
      "id": "StzslY7PGjTh",
      "execution_count": null,
      "outputs": [
        {
          "output_type": "stream",
          "name": "stdout",
          "text": [
            "the present account balance is 900 rs\n"
          ]
        }
      ]
    },
    {
      "cell_type": "code",
      "source": [
        "account1.withdrawl(100)"
      ],
      "metadata": {
        "id": "rY0NJ_SQDehb",
        "outputId": "da25719c-c527-4c2b-9191-98d7993f2de6",
        "colab": {
          "base_uri": "https://localhost:8080/",
          "height": 35
        }
      },
      "id": "rY0NJ_SQDehb",
      "execution_count": null,
      "outputs": [
        {
          "output_type": "execute_result",
          "data": {
            "text/plain": [
              "'the present account balance is 200.0 rs'"
            ],
            "application/vnd.google.colaboratory.intrinsic+json": {
              "type": "string"
            }
          },
          "metadata": {},
          "execution_count": 4
        }
      ]
    },
    {
      "cell_type": "code",
      "source": [
        "account2.account_holder_name"
      ],
      "metadata": {
        "id": "QOD6OFiqGmtp",
        "outputId": "59809b4a-bc75-41cc-e297-d80431b84de9",
        "colab": {
          "base_uri": "https://localhost:8080/",
          "height": 35
        }
      },
      "id": "QOD6OFiqGmtp",
      "execution_count": null,
      "outputs": [
        {
          "output_type": "execute_result",
          "data": {
            "text/plain": [
              "'hen'"
            ],
            "application/vnd.google.colaboratory.intrinsic+json": {
              "type": "string"
            }
          },
          "metadata": {},
          "execution_count": 5
        }
      ]
    },
    {
      "cell_type": "code",
      "source": [
        "account1.get_balance()"
      ],
      "metadata": {
        "id": "OAXeYIaAFUIc",
        "outputId": "685bbff5-035b-4819-fa29-2693c41ecc27",
        "colab": {
          "base_uri": "https://localhost:8080/",
          "height": 35
        }
      },
      "id": "OAXeYIaAFUIc",
      "execution_count": null,
      "outputs": [
        {
          "output_type": "execute_result",
          "data": {
            "text/plain": [
              "'the present balance is 200.0'"
            ],
            "application/vnd.google.colaboratory.intrinsic+json": {
              "type": "string"
            }
          },
          "metadata": {},
          "execution_count": 6
        }
      ]
    },
    {
      "cell_type": "code",
      "source": [
        "account1.withdrawl(300)"
      ],
      "metadata": {
        "id": "h-5J4QipF6PP",
        "outputId": "81f7faef-ed79-4250-e6f0-39d992519e66",
        "colab": {
          "base_uri": "https://localhost:8080/",
          "height": 35
        }
      },
      "id": "h-5J4QipF6PP",
      "execution_count": null,
      "outputs": [
        {
          "output_type": "execute_result",
          "data": {
            "text/plain": [
              "'insufficient balance'"
            ],
            "application/vnd.google.colaboratory.intrinsic+json": {
              "type": "string"
            }
          },
          "metadata": {},
          "execution_count": 7
        }
      ]
    },
    {
      "cell_type": "markdown",
      "source": [
        "# Problem 2: Employee Management Create a class representing an employee with attributes like employee ID, name, and salary. Implement methods to calculate the yearly bonus and display employee details.\n",
        "\n"
      ],
      "metadata": {
        "id": "tXhKPQp9G2qU"
      },
      "id": "tXhKPQp9G2qU"
    },
    {
      "cell_type": "code",
      "source": [
        "class employee:\n",
        "  def __init__(self,employee_ID,name,salary):\n",
        "    self.employee_ID = employee_ID\n",
        "    self.name  = name\n",
        "    self.salary = salary\n",
        "\n",
        "  def salary_bonos(self, bonos):\n",
        "      if bonos >= 0:\n",
        "          amount = (bonos / 100) * self.salary\n",
        "          return f\"The yearly bonus of {bonos} percentage is {amount}\"\n",
        "      else:\n",
        "          return \"Invalid, please enter the correct bonus percentage\"\n",
        "\n",
        "  def employee_details(self):\n",
        "    details = f\"id : {self.employee_ID}\\nname : {self.name}\\nsalary : {self.salary}\"\n",
        "    return details"
      ],
      "metadata": {
        "id": "DKJ7n2U8GFfR"
      },
      "id": "DKJ7n2U8GFfR",
      "execution_count": null,
      "outputs": []
    },
    {
      "cell_type": "code",
      "source": [
        "employee1 = employee(1234,\"joo\",10000)\n",
        "employee2 = employee(4321,\"paw\",20010)"
      ],
      "metadata": {
        "id": "7Hr-WNpelgln"
      },
      "id": "7Hr-WNpelgln",
      "execution_count": null,
      "outputs": []
    },
    {
      "cell_type": "code",
      "source": [
        "print(employee1.employee_details())"
      ],
      "metadata": {
        "colab": {
          "base_uri": "https://localhost:8080/"
        },
        "id": "kU0zdAkRl0Ex",
        "outputId": "afdbbc7b-6e54-4fdf-8121-5d6d8f49e6ca"
      },
      "id": "kU0zdAkRl0Ex",
      "execution_count": null,
      "outputs": [
        {
          "output_type": "stream",
          "name": "stdout",
          "text": [
            "id : 1234\n",
            "name : joo\n",
            "salary : 10000\n"
          ]
        }
      ]
    },
    {
      "cell_type": "code",
      "source": [
        "print(employee2.employee_details())"
      ],
      "metadata": {
        "colab": {
          "base_uri": "https://localhost:8080/"
        },
        "id": "s_4TNgAPm1EJ",
        "outputId": "982edbec-bd3a-493e-ddf5-69661450287f"
      },
      "id": "s_4TNgAPm1EJ",
      "execution_count": null,
      "outputs": [
        {
          "output_type": "stream",
          "name": "stdout",
          "text": [
            "id : 4321\n",
            "name : paw\n",
            "salary : 20010\n"
          ]
        }
      ]
    },
    {
      "cell_type": "code",
      "source": [
        "print(employee1.salary_bonos(10))"
      ],
      "metadata": {
        "colab": {
          "base_uri": "https://localhost:8080/"
        },
        "id": "NsHQjyZsmJXT",
        "outputId": "ba0dd20b-e902-4256-b348-f0f3657a0582"
      },
      "id": "NsHQjyZsmJXT",
      "execution_count": null,
      "outputs": [
        {
          "output_type": "stream",
          "name": "stdout",
          "text": [
            "The yearly bonus of 10 percentage is 1000.0\n"
          ]
        }
      ]
    },
    {
      "cell_type": "markdown",
      "source": [
        "# Problem 3: Vehicle Rental Create a class representing a vehicle rental system. Implement methods to rent a vehicle, return a vehicle, and display available vehicles"
      ],
      "metadata": {
        "id": "ZIOJY8yJElsC"
      },
      "id": "ZIOJY8yJElsC"
    },
    {
      "cell_type": "code",
      "source": [
        "class Vehicle:\n",
        "    def __init__(self, vehicle_id, model):\n",
        "        self.vehicle_id = vehicle_id\n",
        "        self.model = model\n",
        "        self.is_available = True\n",
        "\n",
        "    def rent(self):\n",
        "        if self.is_available:\n",
        "            self.is_available = False\n",
        "            return f\"Vehicle {self.vehicle_id} ({self.model}) rented successfully.\"\n",
        "        else:\n",
        "            return f\"Vehicle {self.vehicle_id} ({self.model}) is not available for rent.\"\n",
        "\n",
        "    def return_vehicle(self):\n",
        "        if not self.is_available:\n",
        "            self.is_available = True\n",
        "            return f\"Vehicle {self.vehicle_id} ({self.model}) returned successfully.\"\n",
        "        else:\n",
        "            return f\"Vehicle {self.vehicle_id} ({self.model}) is already available.\"\n",
        "\n",
        "class VehicleRentalSystem:\n",
        "    def __init__(self):\n",
        "        self.vehicles = []\n",
        "\n",
        "    def add_vehicle(self, vehicle):\n",
        "        self.vehicles.append(vehicle)\n",
        "\n",
        "    def rent_vehicle(self, vehicle_id):\n",
        "        for vehicle in self.vehicles:\n",
        "            if vehicle.vehicle_id == vehicle_id:\n",
        "                return vehicle.rent()\n",
        "        return f\"Vehicle with ID {vehicle_id} not found.\"\n",
        "\n",
        "    def return_vehicle(self, vehicle_id):\n",
        "        for vehicle in self.vehicles:\n",
        "            if vehicle.vehicle_id == vehicle_id:\n",
        "                return vehicle.return_vehicle()\n",
        "        return f\"Vehicle with ID {vehicle_id} not found.\"\n",
        "\n",
        "    def display_available_vehicles(self):\n",
        "        available_vehicles = [vehicle for vehicle in self.vehicles if vehicle.is_available]\n",
        "        return \"\\n\".join([f\"{vehicle.vehicle_id} ({vehicle.model})\" for vehicle in available_vehicles])\n",
        "\n",
        "# Example usage:\n",
        "vehicle1 = Vehicle(vehicle_id=\"V001\", model=\"Sedan\")\n",
        "vehicle2 = Vehicle(vehicle_id=\"V002\", model=\"SUV\")\n",
        "vehicle3 = Vehicle(vehicle_id=\"V003\", model=\"Truck\")\n",
        "\n",
        "rental_system = VehicleRentalSystem()\n",
        "rental_system.add_vehicle(vehicle1)\n",
        "rental_system.add_vehicle(vehicle2)\n",
        "rental_system.add_vehicle(vehicle3)\n",
        "\n",
        "print(rental_system.display_available_vehicles())\n",
        "\n",
        "print(rental_system.rent_vehicle(\"V002\"))\n",
        "\n",
        "print(rental_system.display_available_vehicles())\n",
        "\n",
        "print(rental_system.return_vehicle(\"V002\"))\n",
        "\n",
        "print(rental_system.display_available_vehicles())\n"
      ],
      "metadata": {
        "id": "732rv3vYGbY-",
        "colab": {
          "base_uri": "https://localhost:8080/"
        },
        "outputId": "b3c21091-6789-4277-f60e-91ea150c7e00"
      },
      "id": "732rv3vYGbY-",
      "execution_count": null,
      "outputs": [
        {
          "output_type": "stream",
          "name": "stdout",
          "text": [
            "V001 (Sedan)\n",
            "V002 (SUV)\n",
            "V003 (Truck)\n",
            "Vehicle V002 (SUV) rented successfully.\n",
            "V001 (Sedan)\n",
            "V003 (Truck)\n",
            "Vehicle V002 (SUV) returned successfully.\n",
            "V001 (Sedan)\n",
            "V002 (SUV)\n",
            "V003 (Truck)\n"
          ]
        }
      ]
    },
    {
      "cell_type": "markdown",
      "source": [
        "# Problem 4: Library Catalog Create classes representing a library and a book. Implement methods to add books to the library, borrow books, and display available books."
      ],
      "metadata": {
        "id": "_LXD4ernX9M9"
      },
      "id": "_LXD4ernX9M9"
    },
    {
      "cell_type": "code",
      "source": [
        "\n",
        "class Book:\n",
        "    def __init__(self, title, author, isbn):\n",
        "        self.title = title\n",
        "        self.author = author\n",
        "        self.isbn = isbn\n",
        "        self.is_available = True\n",
        "\n",
        "    def borrow(self):\n",
        "        if self.is_available:\n",
        "            self.is_available = False\n",
        "            return f\"Book '{self.title}' by {self.author} borrowed successfully.\"\n",
        "        else:\n",
        "            return f\"Book '{self.title}' by {self.author} is not available for borrowing.\"\n",
        "\n",
        "    def return_book(self):\n",
        "        if not self.is_available:\n",
        "            self.is_available = True\n",
        "            return f\"Book '{self.title}' by {self.author} returned successfully.\"\n",
        "        else:\n",
        "            return f\"Book '{self.title}' by {self.author} is already available.\"\n",
        "\n",
        "class Library(Book):\n",
        "    def __init__(self):\n",
        "        self.books = []\n",
        "\n",
        "    def add_book(self, book):\n",
        "        self.books.append(book)\n",
        "\n",
        "    def borrow_book(self, isbn):\n",
        "        for book in self.books:\n",
        "            if book.isbn == isbn:\n",
        "                return book.borrow()\n",
        "        return f\"Book with ISBN {isbn} not found.\"\n",
        "\n",
        "    def return_book(self, isbn):\n",
        "        for book in self.books:\n",
        "            if book.isbn == isbn:\n",
        "                return book.return_book()\n",
        "        return f\"Book with ISBN {isbn} not found.\"\n",
        "\n",
        "    def display_available_books(self):\n",
        "        available_books = [book for book in self.books if book.is_available]\n",
        "        return \"\\n\".join([f\"{book.title} by {book.author} (ISBN: {book.isbn})\" for book in available_books])\n",
        "\n",
        "\n",
        "book1 = Book(title=\"The Great Gatsby\", author=\"F. Scott Fitzgerald\", isbn=\"9780743273565\")\n",
        "book2 = Book(title=\"To Kill a Mockingbird\", author=\"Harper Lee\", isbn=\"9780062420701\")\n",
        "book3 = Book(title=\"1984\", author=\"George Orwell\", isbn=\"9780451524935\")\n",
        "\n",
        "library = Library()\n",
        "library.add_book(book1)\n",
        "library.add_book(book2)\n",
        "library.add_book(book3)\n",
        "\n",
        "print(library.display_available_books())\n",
        "\n",
        "print(library.borrow_book(\"9780062420701\"))\n",
        "\n",
        "print(library.display_available_books())\n",
        "\n",
        "print(library.return_book(\"9780062420701\"))\n",
        "\n",
        "print(library.display_available_books())\n"
      ],
      "metadata": {
        "id": "9K7QUXhHQ4s2",
        "outputId": "b9743417-b274-46b3-f5dc-fb1df27d9a98",
        "colab": {
          "base_uri": "https://localhost:8080/"
        }
      },
      "id": "9K7QUXhHQ4s2",
      "execution_count": null,
      "outputs": [
        {
          "output_type": "stream",
          "name": "stdout",
          "text": [
            "The Great Gatsby by F. Scott Fitzgerald (ISBN: 9780743273565)\n",
            "To Kill a Mockingbird by Harper Lee (ISBN: 9780062420701)\n",
            "1984 by George Orwell (ISBN: 9780451524935)\n",
            "Book 'To Kill a Mockingbird' by Harper Lee borrowed successfully.\n",
            "The Great Gatsby by F. Scott Fitzgerald (ISBN: 9780743273565)\n",
            "1984 by George Orwell (ISBN: 9780451524935)\n",
            "Book 'To Kill a Mockingbird' by Harper Lee returned successfully.\n",
            "The Great Gatsby by F. Scott Fitzgerald (ISBN: 9780743273565)\n",
            "To Kill a Mockingbird by Harper Lee (ISBN: 9780062420701)\n",
            "1984 by George Orwell (ISBN: 9780451524935)\n"
          ]
        }
      ]
    },
    {
      "cell_type": "markdown",
      "source": [
        "#Problem 5: Product Inventory Create classes representing a product and an inventory system. Implement methods to add products to the inventory, update product quantity, and display available products."
      ],
      "metadata": {
        "id": "L9ewkl8OhXfS"
      },
      "id": "L9ewkl8OhXfS"
    },
    {
      "cell_type": "code",
      "source": [
        "class products:\n",
        "  def __init__(self,product_id,name,price,quantity):\n",
        "    self.product_id=product_id\n",
        "    self.name = name\n",
        "    self.price=price\n",
        "    self.quantity = quantity\n",
        "  def update_quantity(self,new_quantity):\n",
        "    if self.quantity>=0:\n",
        "      self.quantity=new_quantity\n",
        "      return f\"Quantity of {self.name} updated to {new_quantity}.\"\n",
        "    else:\n",
        "      return \"Invalid quantity. Please enter a non-negative value.\"\n",
        "  def __str__(self):\n",
        "    return f\"{self.name} ,(ID : {self.product_id}, price = {self.price}),quantity:{self.quantity}\"\n",
        "class inventary_system(products):\n",
        "  def __init__(self):\n",
        "    self.Product= []\n",
        "\n",
        "  def add_products(self,product):\n",
        "    return self.Product.append(product)\n",
        "  def update_product_Quantity(self,product_id,new_quantity):\n",
        "    for product in self.Product:\n",
        "      if product.product_id == product_id:\n",
        "        return product.update_quantity(new_quantity)\n",
        "    return f\"Product with ID {product_id} not found.\"\n",
        "\n",
        "  def display_products(self):\n",
        "    if self.Product:\n",
        "      return \"\\n\".join([str(product) for product in self.Product])\n",
        "\n",
        "product1 = products(product_id=\"P001\", name=\"Laptop\", price=800, quantity=10)\n",
        "product2 = products(product_id=\"P002\", name=\"Smartphone\", price=500, quantity=20)\n",
        "inventary_system = inventary_system()\n",
        "inventary_system.add_products(product1)\n",
        "inventary_system.add_products(product2)\n",
        "print(inventary_system.display_products())\n",
        "print(inventary_system.update_product_Quantity(\"P001\",7))\n",
        "print(inventary_system.display_products())\n"
      ],
      "metadata": {
        "id": "aVAvbIonuJq8",
        "colab": {
          "base_uri": "https://localhost:8080/"
        },
        "outputId": "b6c281e0-f768-41b5-da6a-0be014fad74c"
      },
      "id": "aVAvbIonuJq8",
      "execution_count": null,
      "outputs": [
        {
          "output_type": "stream",
          "name": "stdout",
          "text": [
            "Laptop ,(ID : P001, price = 800),quantity:10\n",
            "Smartphone ,(ID : P002, price = 500),quantity:20\n",
            "Quantity of Laptop updated to 7.\n",
            "Laptop ,(ID : P001, price = 800),quantity:7\n",
            "Smartphone ,(ID : P002, price = 500),quantity:20\n"
          ]
        }
      ]
    },
    {
      "cell_type": "markdown",
      "source": [
        "#Problem 6: Shape Calculation Create a class representing a shape with attributes like length, width, and height. Implement methods to calculate the area and perimeter of the shape."
      ],
      "metadata": {
        "id": "aKEHmn7Zvfya"
      },
      "id": "aKEHmn7Zvfya"
    },
    {
      "cell_type": "code",
      "source": [
        "class Shape:\n",
        "\n",
        "  def __init__(self,length,width,height):\n",
        "    self.length = length\n",
        "    self.width = width\n",
        "    self.height = height\n",
        "class rectangle(Shape):\n",
        "  def area(self):\n",
        "    return self.length*self.width\n",
        "  def perimeter(self):\n",
        "    return 2*(self.length+self.width)\n",
        "class Cube(Shape):\n",
        "  def area(self):\n",
        "    return 6*(self.length**2)\n",
        "  def perimeter(self):\n",
        "    return 12*self.length\n",
        "\n",
        "obj = rectangle(length = 5,width = 2,height = 3)\n",
        "print(f\"the area of rectangle is : {obj.area()}\")\n",
        "obj1 = Cube(length = 5,width = 2,height = 3)\n",
        "cube_area = obj1.area()\n",
        "cube_perimeter = obj1.perimeter()\n",
        "\n",
        "print(f\"Cube Area: {cube_area}\")\n",
        "print(f\"Cube Perimeter: {cube_perimeter}\")\n"
      ],
      "metadata": {
        "id": "fAazPk7qvaUf",
        "colab": {
          "base_uri": "https://localhost:8080/"
        },
        "outputId": "245515bc-71fc-413f-f128-802c96112c71"
      },
      "id": "fAazPk7qvaUf",
      "execution_count": null,
      "outputs": [
        {
          "output_type": "stream",
          "name": "stdout",
          "text": [
            "the area of rectangle is : 10\n",
            "Cube Area: 150\n",
            "Cube Perimeter: 60\n"
          ]
        }
      ]
    },
    {
      "cell_type": "markdown",
      "source": [
        "#Problem 7: Student Management Create a class representing a student with attributes like student ID, name, and grades. Implement methods to calculate the average grade and display student details."
      ],
      "metadata": {
        "id": "nw8NxWrXDYnx"
      },
      "id": "nw8NxWrXDYnx"
    },
    {
      "cell_type": "code",
      "source": [
        "class student_management:\n",
        "  def __init__(self,stu_id,name,grade):\n",
        "    self.stu_id = stu_id\n",
        "    self.name = name\n",
        "    self.grade= grade\n",
        "  def grading(self):\n",
        "    new_grade = sum(self.grade)//len(self.grade)\n",
        "    return f\"the new grade of student : {self.name} and student_id:{self.stu_id} is {new_grade}\"\n",
        "  def student_details(self):\n",
        "    return f\"student_id:{self.stu_id} , student_name:{self.name} , aver_grades:{self.grading()}\"\n",
        "\n",
        "praveen = student_management(1234,name = \"praveen\",grade=[12,34,22,65,43])\n",
        "print(praveen.grading())\n",
        "print(praveen.student_details())"
      ],
      "metadata": {
        "id": "vPMgcWmWvaJo",
        "colab": {
          "base_uri": "https://localhost:8080/"
        },
        "outputId": "dcfa0378-8da5-46d9-fb4c-ef5872220483"
      },
      "id": "vPMgcWmWvaJo",
      "execution_count": null,
      "outputs": [
        {
          "output_type": "stream",
          "name": "stdout",
          "text": [
            "the new grade of student : praveen and student_id:1234 is 35\n",
            "student_id:1234 , student_name:praveen , aver_grades:the new grade of student : praveen and student_id:1234 is 35\n"
          ]
        }
      ]
    },
    {
      "cell_type": "markdown",
      "source": [
        "#Problem 8: Email Management Create a class representing an email with attributes like sender, recipient, and subject. Implement methods to send an email and display email details."
      ],
      "metadata": {
        "id": "h8OUo69vppYY"
      },
      "id": "h8OUo69vppYY"
    },
    {
      "cell_type": "code",
      "source": [
        "class email_management:\n",
        "  def __init__(self,sender,recipient):\n",
        "    self.sender=sender\n",
        "    self.recipient =recipient\n",
        "\n",
        "  def sending(self):\n",
        "    return \"this is joginaidu ,i want to send message to pavan.\"\n",
        "  def display_details(self):\n",
        "    return f\"sender: {self.sender}\\nrecipient:{self.recipient}\\nsubject:{self.sending()}\""
      ],
      "metadata": {
        "id": "J3a1G0jHpfhw"
      },
      "id": "J3a1G0jHpfhw",
      "execution_count": null,
      "outputs": []
    },
    {
      "cell_type": "code",
      "source": [
        "msg = email_management(\"joginiadu\",\"pavan\")\n",
        "print(msg.display_details())"
      ],
      "metadata": {
        "id": "mV8iVF0ohvXW",
        "colab": {
          "base_uri": "https://localhost:8080/"
        },
        "outputId": "7d0217ae-6444-445e-a4b9-a097ff9d5f9f"
      },
      "id": "mV8iVF0ohvXW",
      "execution_count": null,
      "outputs": [
        {
          "output_type": "stream",
          "name": "stdout",
          "text": [
            "sender: joginiadu\n",
            "recipient:pavan\n",
            "subject:this is joginaidu ,i want to send message to pavan.\n"
          ]
        }
      ]
    },
    {
      "cell_type": "markdown",
      "source": [
        "#Problem 9: Social Media Profile Create a class representing a social media profile with attributes like username and posts. Implement methods to add posts, display posts, and search for posts by keyword."
      ],
      "metadata": {
        "id": "EviQEej6hwrR"
      },
      "id": "EviQEej6hwrR"
    },
    {
      "cell_type": "code",
      "source": [
        "class social_media:\n",
        "  def __init__(self,username):\n",
        "    self.username = username\n",
        "    self.posts = []\n",
        "  def add_posts(self,post):\n",
        "    self.posts.append(post)\n",
        "    print(f\"post will be added successfully to mr.{self.username}\")\n",
        "    print(\"this is your post\")\n",
        "    print(f\"--------{post}--------\")\n",
        "\n",
        "  def display_posts(self):\n",
        "    s=1\n",
        "    for i in self.posts:\n",
        "      print(f\"{s} : {i}\")\n",
        "      s+=1\n",
        "\n",
        "  def search(self,keyword):\n",
        "    for post in self.posts:\n",
        "      if keyword.lower() in post.lower():\n",
        "        print(f\"this is your post based on keyword:\")\n",
        "        print(\"\\n\",post)\n",
        "\n",
        "jogi = social_media('joginaidu')\n",
        "jogi.add_posts(\"east  or west ,friendship is the best\")\n",
        "jogi.add_posts(\"looks very cool\")\n",
        "jogi.add_posts(\"black is heart\")\n",
        "jogi.display_posts()\n",
        "jogi.search(\"heart\")"
      ],
      "metadata": {
        "id": "9TxC1yAMr049",
        "colab": {
          "base_uri": "https://localhost:8080/"
        },
        "outputId": "0238c756-b5d0-4601-dde5-631b102c8b1a"
      },
      "id": "9TxC1yAMr049",
      "execution_count": 10,
      "outputs": [
        {
          "output_type": "stream",
          "name": "stdout",
          "text": [
            "post will be added successfully to mr.joginaidu\n",
            "this is your post\n",
            "--------east  or west ,friendship is the best--------\n",
            "post will be added successfully to mr.joginaidu\n",
            "this is your post\n",
            "--------looks very cool--------\n",
            "post will be added successfully to mr.joginaidu\n",
            "this is your post\n",
            "--------black is heart--------\n",
            "1 : east  or west ,friendship is the best\n",
            "2 : looks very cool\n",
            "3 : black is heart\n",
            "this is your post based on keyword:\n",
            "\n",
            " black is heart\n"
          ]
        }
      ]
    },
    {
      "cell_type": "markdown",
      "source": [
        "#Problem 10: ToDo List Create a class representing a ToDo list with attributes like tasks and due dates. Implement methods to add tasks, mark tasks as completed, and display pending tasks."
      ],
      "metadata": {
        "id": "LyIaLLfSzenn"
      },
      "id": "LyIaLLfSzenn"
    },
    {
      "cell_type": "code",
      "source": [
        "class todo_list:\n",
        "  def __init__(self):\n",
        "    self.tasks = []\n",
        "  def add_task(self,task_name,due_date,complete = False):\n",
        "    self.tasks.append({'task':task_name,'due':due_date,'complete':False})\n",
        "    print(\"tasks are added successfully\")\n",
        "  def mark_task(self,task_name):\n",
        "    found = False\n",
        "    for task in self.tasks:\n",
        "      if task['task'] ==task_name:\n",
        "        task['complete']=True\n",
        "        found=True\n",
        "        print(\"task marked successfully!\")\n",
        "    if not found:\n",
        "      print(\"Task is not found here,please enter the correct one!\")\n",
        "  def pending_tasks(self):\n",
        "    print(\"\\n...these are the pending tasks...\")\n",
        "    for task in self.tasks:\n",
        "      if task['complete']==False:\n",
        "        print(task['task'])\n",
        "\n",
        "jogi = todo_list()\n",
        "jogi.add_task(\"sleeping\",23)\n",
        "jogi.add_task('walking',24)\n",
        "jogi.add_task(\"running\",21)\n",
        "jogi.add_task(\"working\",67)\n",
        "\n",
        "jogi.mark_task('running')\n",
        "jogi.mark_task('walking')\n",
        "jogi.mark_task('eating')\n",
        "jogi.pending_tasks()"
      ],
      "metadata": {
        "colab": {
          "base_uri": "https://localhost:8080/"
        },
        "id": "RmQ3gWsDv9zD",
        "outputId": "37a2cb04-ae5d-45f1-f826-4b5b574f818b"
      },
      "id": "RmQ3gWsDv9zD",
      "execution_count": 14,
      "outputs": [
        {
          "output_type": "stream",
          "name": "stdout",
          "text": [
            "tasks are added successfully\n",
            "tasks are added successfully\n",
            "tasks are added successfully\n",
            "tasks are added successfully\n",
            "task marked successfully!\n",
            "task marked successfully!\n",
            "Task is not found here,please enter the correct one!\n",
            "\n",
            "...these are the pending tasks...\n",
            "sleeping\n",
            "working\n"
          ]
        }
      ]
    },
    {
      "cell_type": "code",
      "source": [],
      "metadata": {
        "id": "krMAvUsw5K7u"
      },
      "id": "krMAvUsw5K7u",
      "execution_count": null,
      "outputs": []
    }
  ],
  "metadata": {
    "kernelspec": {
      "display_name": "Python 3 (ipykernel)",
      "language": "python",
      "name": "python3"
    },
    "language_info": {
      "codemirror_mode": {
        "name": "ipython",
        "version": 3
      },
      "file_extension": ".py",
      "mimetype": "text/x-python",
      "name": "python",
      "nbconvert_exporter": "python",
      "pygments_lexer": "ipython3",
      "version": "3.10.8"
    },
    "colab": {
      "provenance": [],
      "include_colab_link": true
    }
  },
  "nbformat": 4,
  "nbformat_minor": 5
}