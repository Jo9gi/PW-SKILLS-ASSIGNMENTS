{
  "cells": [
    {
      "cell_type": "markdown",
      "metadata": {
        "id": "view-in-github",
        "colab_type": "text"
      },
      "source": [
        "<a href=\"https://colab.research.google.com/github/Jo9gi/PW-SKILLS-ASSIGNMENTS/blob/main/opp's_assignment.ipynb\" target=\"_parent\"><img src=\"https://colab.research.google.com/assets/colab-badge.svg\" alt=\"Open In Colab\"/></a>"
      ]
    },
    {
      "cell_type": "markdown",
      "id": "9ae1854a",
      "metadata": {
        "id": "9ae1854a"
      },
      "source": [
        "# OPP'S ASSIGNIMENT"
      ]
    },
    {
      "cell_type": "markdown",
      "id": "57ebd7f0",
      "metadata": {
        "id": "57ebd7f0"
      },
      "source": [
        "Constructor:"
      ]
    },
    {
      "cell_type": "markdown",
      "id": "8bc11aa5",
      "metadata": {
        "id": "8bc11aa5"
      },
      "source": [
        "1. What is a constructor in Python? Explain its purpose and usage."
      ]
    },
    {
      "cell_type": "markdown",
      "id": "c2a71ffd",
      "metadata": {
        "id": "c2a71ffd"
      },
      "source": [
        "A constructor is a special class method used for creating and initializing an object instance.\n",
        "\n",
        "Purpose of Constructors:\n",
        "\n",
        "*Initialization*: Constructors are responsible for initializing (assigning values to) the data members of a class when an object of that class is created.\n",
        "\n",
        "*Automatic Invocation*: The constructor is automatically called when an object is instantiated.\n",
        "Customization: Constructors allow you to customize the initial state of an object by setting its attributes.\n"
      ]
    },
    {
      "cell_type": "code",
      "execution_count": null,
      "id": "e5341de5",
      "metadata": {
        "id": "e5341de5",
        "outputId": "5dc7bf2b-2f59-46c3-f42c-0b5252d91c22"
      },
      "outputs": [
        {
          "name": "stdout",
          "output_type": "stream",
          "text": [
            "First number = 1000\n",
            "Second number = 2000\n",
            "Addition of two numbers = 3000\n",
            "First number = 10\n",
            "Second number = 20\n",
            "Addition of two numbers = 30\n"
          ]
        }
      ],
      "source": [
        "class Addition:\n",
        "    def __init__(self, f, s):\n",
        "        self.first = f\n",
        "        self.second = s\n",
        "    def display(self):\n",
        "        print(\"First number =\", self.first)\n",
        "        print(\"Second number =\", self.second)\n",
        "        print(\"Addition of two numbers =\", self.answer)\n",
        "    def calculate(self):\n",
        "        self.answer = self.first + self.second\n",
        "\n",
        "obj1 = Addition(1000, 2000)\n",
        "obj2 = Addition(10, 20)\n",
        "obj1.calculate()\n",
        "obj2.calculate()\n",
        "obj1.display()\n",
        "obj2.display()"
      ]
    },
    {
      "cell_type": "markdown",
      "id": "b9049491",
      "metadata": {
        "id": "b9049491"
      },
      "source": [
        "2. Differentiate between a parameterless constructor and a parameterized constructor in Python.\n",
        "\n",
        "\n"
      ]
    },
    {
      "cell_type": "markdown",
      "id": "b3bda638",
      "metadata": {
        "id": "b3bda638"
      },
      "source": [
        "*Parameterless Constructor (Default Constructor):*\n",
        "\n",
        "*Definition:* A parameterless constructor doesn’t accept any arguments.\n",
        "\n",
        "*Initialization:* It initializes the instance being constructed with default values (if any).\n",
        "\n",
        "*Usage:*\n",
        "Automatically called when an object of the class is created without any arguments.\n",
        "Useful when you want to set default values for attributes."
      ]
    },
    {
      "cell_type": "code",
      "execution_count": null,
      "id": "0591cf3c",
      "metadata": {
        "id": "0591cf3c",
        "outputId": "d8df9630-fd4a-4351-a8d7-aa9cb5f3d076"
      },
      "outputs": [
        {
          "name": "stdout",
          "output_type": "stream",
          "text": [
            "Default constructor called\n"
          ]
        }
      ],
      "source": [
        "class MyClass:\n",
        "    def __init__(self):\n",
        "        print(\"Default constructor called\")\n",
        "\n",
        "obj = MyClass()  # Creates an object, calls the default constructor\n"
      ]
    },
    {
      "cell_type": "markdown",
      "id": "1dd6c91d",
      "metadata": {
        "id": "1dd6c91d"
      },
      "source": [
        "*Parameterized Constructor:*\n",
        "\n",
        "*Definition:* A parameterized constructor accepts parameters provided by the programmer.\n",
        "\n",
        "*Initialization:* It initializes the instance with specific values passed during object creation.\n",
        "\n",
        "*Usage:*\n",
        "Allows customization of the initial state of an object.\n",
        "Accepts arguments and assigns them to class attributes."
      ]
    },
    {
      "cell_type": "code",
      "execution_count": null,
      "id": "82be9ae4",
      "metadata": {
        "id": "82be9ae4",
        "outputId": "27e6c391-41db-42fd-fb20-8ae6e7239476"
      },
      "outputs": [
        {
          "name": "stdout",
          "output_type": "stream",
          "text": [
            "Alice\n",
            "30\n"
          ]
        }
      ],
      "source": [
        "class Person:\n",
        "    def __init__(self, name, age):\n",
        "        self.name = name\n",
        "        self.age = age\n",
        "\n",
        "person1 = Person(\"Alice\", 30)  # Creates an object with name=\"Alice\" and age=30\n",
        "person2 = Person(\"Bob\", 25)    # Creates another object with name=\"Bob\" and age=25\n",
        "print(person1.name)\n",
        "print(person1.age)"
      ]
    },
    {
      "cell_type": "markdown",
      "id": "8c2e871f",
      "metadata": {
        "id": "8c2e871f"
      },
      "source": [
        "3. How do you define a constructor in a Python class? Provide an example.\n",
        "\n",
        "\n"
      ]
    },
    {
      "cell_type": "code",
      "execution_count": null,
      "id": "3e4c72d5",
      "metadata": {
        "id": "3e4c72d5"
      },
      "outputs": [],
      "source": [
        "class Person:\n",
        "    def __init__(self): #by using the '__init__' we can create the constructor ,also known as Dunder method.\n",
        "\n",
        "        self.person = person\n",
        "    def __init__(self, name, age):\n",
        "        self.name = name\n",
        "        self.age = age\n",
        "\n",
        "person1 = Person(\"Alice\", 30)  # Creates an object with name=\"Alice\" and age=30\n",
        "person2 = Person(\"Bob\", 25)    # Creates another object with name=\"Bob\" and age=25\n"
      ]
    },
    {
      "cell_type": "markdown",
      "id": "62298587",
      "metadata": {
        "id": "62298587"
      },
      "source": [
        "4. Explain the `__init__` method in Python and its role in constructors.\n",
        "\n",
        "\n"
      ]
    },
    {
      "cell_type": "markdown",
      "id": "07f7a6e1",
      "metadata": {
        "id": "07f7a6e1"
      },
      "source": [
        "->The '__init__' method is a special method defined within a class.\n",
        "\n",
        "->It is automatically called when an object of that class is created.\n",
        "\n",
        "->The name \"__init__\" stands for “initialize.”\n",
        "\n",
        "->It allows you to set initial values for the attributes (data members) of the object.\n",
        "\n",
        "*Syntax of the Constructor:*\n",
        "    \n",
        "The constructor is defined using the def __init__(self, ...) syntax.\n",
        "\n",
        "The self parameter refers to the instance being created.\n",
        "\n",
        "Additional parameters can be added to accept values during object creation."
      ]
    },
    {
      "cell_type": "code",
      "execution_count": null,
      "id": "d763695c",
      "metadata": {
        "id": "d763695c"
      },
      "outputs": [],
      "source": [
        "class Person:\n",
        "    def __init__(self, name, age):\n",
        "        self.name = name\n",
        "        self.age = age\n",
        "\n",
        "# Creating objects and initializing attributes\n",
        "person1 = Person(\"Alice\", 30)\n",
        "person2 = Person(\"Bob\", 25)\n"
      ]
    },
    {
      "cell_type": "markdown",
      "id": "0ce97f06",
      "metadata": {
        "id": "0ce97f06"
      },
      "source": [
        "5. In a class named `Person`, create a constructor that initializes the `name` and `age` attributes. Provide an\n",
        "example of creating an object of this class.\n",
        "\n",
        "\n"
      ]
    },
    {
      "cell_type": "code",
      "execution_count": null,
      "id": "aedfeb9b",
      "metadata": {
        "id": "aedfeb9b",
        "outputId": "2fe52215-0939-4470-d996-f0f673713b68"
      },
      "outputs": [
        {
          "name": "stdout",
          "output_type": "stream",
          "text": [
            "jogi\n",
            "19\n"
          ]
        }
      ],
      "source": [
        "class Person:\n",
        "    def __init__(self,name,age):\n",
        "        self.name = name\n",
        "        self.age = age\n",
        "obj1 = Person('jogi',19)\n",
        "print(obj1.name)\n",
        "print(obj1.age)"
      ]
    },
    {
      "cell_type": "markdown",
      "id": "a7e5f689",
      "metadata": {
        "id": "a7e5f689"
      },
      "source": [
        "6. How can you call a constructor explicitly in Python? Give an example.\n",
        "\n",
        "\n"
      ]
    },
    {
      "cell_type": "code",
      "execution_count": null,
      "id": "37fe42e6",
      "metadata": {
        "id": "37fe42e6",
        "outputId": "312eb313-0c0f-4ffb-91e2-b62da2b224ef"
      },
      "outputs": [
        {
          "name": "stdout",
          "output_type": "stream",
          "text": [
            "Constructor called with value: 10\n",
            "Constructor called with value: 20\n"
          ]
        }
      ],
      "source": [
        "class MyClass:\n",
        "    def __init__(self, value):\n",
        "        self.value = value\n",
        "        print(f\"Constructor called with value: {value}\")\n",
        "\n",
        "# Creating an object without explicitly calling the constructor\n",
        "obj1 = MyClass(10)\n",
        "\n",
        "# Creating an object and explicitly calling the constructor\n",
        "obj2 = MyClass.__init__(obj1, 20)\n"
      ]
    },
    {
      "cell_type": "markdown",
      "id": "8fa109c2",
      "metadata": {
        "id": "8fa109c2"
      },
      "source": [
        "7. What is the significance of the `self` parameter in Python constructors? Explain with an example.\n",
        "\n",
        "\n"
      ]
    },
    {
      "cell_type": "markdown",
      "id": "a096c550",
      "metadata": {
        "id": "a096c550"
      },
      "source": [
        " the \"self\" parameter in constructors (and methods) refers to the instance of the class. It is a convention to name this parameter 'self', although you can technically name it something else. The 'self' parameter allows you to access and modify instance variables within the class."
      ]
    },
    {
      "cell_type": "code",
      "execution_count": null,
      "id": "abf83b57",
      "metadata": {
        "id": "abf83b57",
        "outputId": "ba970e45-79bc-43ba-bf9b-8d32f670c147"
      },
      "outputs": [
        {
          "name": "stdout",
          "output_type": "stream",
          "text": [
            "Alice\n",
            "25\n",
            "Name: Alice, Age: 25\n"
          ]
        }
      ],
      "source": [
        "class MyClass:\n",
        "    def __init__(self, name, age):\n",
        "        self.name = name\n",
        "        self.age = age\n",
        "\n",
        "    def display_info(self):\n",
        "        print(f\"Name: {self.name}, Age: {self.age}\")\n",
        "obj1 = MyClass(\"Alice\", 25)\n",
        "print(obj1.name)\n",
        "print(obj1.age)\n",
        "obj1.display_info()"
      ]
    },
    {
      "cell_type": "markdown",
      "id": "265c8dc5",
      "metadata": {
        "id": "265c8dc5"
      },
      "source": [
        "8. Discuss the concept of default constructors in Python. When are they used?\n",
        "\n",
        "\n"
      ]
    },
    {
      "cell_type": "markdown",
      "id": "d4625e2e",
      "metadata": {
        "id": "d4625e2e"
      },
      "source": [
        " default constructor is a constructor that is automatically provided by the language when a class is defined without explicitly declaring a constructor (i.e.,\" __init__ \"method). If a class does not have an explicitly defined constructor, Python provides a default constructor that takes no arguments."
      ]
    },
    {
      "cell_type": "code",
      "execution_count": null,
      "id": "d86de033",
      "metadata": {
        "id": "d86de033",
        "outputId": "c5d5709a-703b-4738-8754-617569f7eb1d"
      },
      "outputs": [
        {
          "name": "stdout",
          "output_type": "stream",
          "text": [
            "GeekforGeeks\n"
          ]
        }
      ],
      "source": [
        "class GeekforGeeks:\n",
        "    def __init__(self):\n",
        "        self.geek = \"GeekforGeeks\"\n",
        "\n",
        "    def print_Geek(self):\n",
        "        print(self.geek)\n",
        "\n",
        "obj = GeekforGeeks()\n",
        "obj.print_Geek()"
      ]
    },
    {
      "cell_type": "markdown",
      "id": "f32917e8",
      "metadata": {
        "id": "f32917e8"
      },
      "source": [
        "9. Create a Python class called `Rectangle` with a constructor that initializes the `width` and `height`\n",
        "attributes. Provide a method to calculate the area of the rectangle.\n",
        "\n",
        "\n"
      ]
    },
    {
      "cell_type": "code",
      "execution_count": null,
      "id": "0dbe9921",
      "metadata": {
        "id": "0dbe9921",
        "outputId": "0ebc5f86-5f83-4557-d565-2fcae7deb2e5"
      },
      "outputs": [
        {
          "name": "stdout",
          "output_type": "stream",
          "text": [
            "The area of rectangle is 600\n"
          ]
        }
      ],
      "source": [
        "class Rectangle:\n",
        "    def __init__(self,width,height):\n",
        "        self.width = width\n",
        "        self.height = height\n",
        "    def area(self):\n",
        "        print(f\"The area of rectangle is {self.width*self.height}\")\n",
        "rect1 = Rectangle(20,30)\n",
        "rect1.area()"
      ]
    },
    {
      "cell_type": "markdown",
      "id": "1ab37c66",
      "metadata": {
        "id": "1ab37c66"
      },
      "source": [
        "10. How can you have multiple constructors in a Python class? Explain with an example.\n",
        "\n",
        "\n"
      ]
    },
    {
      "cell_type": "markdown",
      "id": "1769a28f",
      "metadata": {
        "id": "1769a28f"
      },
      "source": [
        " We can have multiple constructors in a class by using class methods or default argument values in the __init__ method."
      ]
    },
    {
      "cell_type": "code",
      "execution_count": null,
      "id": "b87fc88e",
      "metadata": {
        "id": "b87fc88e",
        "outputId": "3f6aa0b3-9b9d-4ee4-ba66-fdbd5adb7ade"
      },
      "outputs": [
        {
          "name": "stdout",
          "output_type": "stream",
          "text": [
            "Name: John, Age: 30\n",
            "Name: Alice, Age: 25\n"
          ]
        }
      ],
      "source": [
        "class MyClass:\n",
        "    def __init__(self, name, age):\n",
        "        self.name = name\n",
        "        self.age = age\n",
        "\n",
        "    @classmethod\n",
        "    def create_with_default_age(cls, name):\n",
        "        # You can set a default age value here\n",
        "        default_age = 25\n",
        "        return cls(name, default_age)\n",
        "\n",
        "# Creating an instance using the regular constructor\n",
        "obj1 = MyClass(\"John\", 30)\n",
        "print(f\"Name: {obj1.name}, Age: {obj1.age}\")\n",
        "\n",
        "# Creating an instance using the alternative constructor\n",
        "obj2 = MyClass.create_with_default_age(\"Alice\")\n",
        "print(f\"Name: {obj2.name}, Age: {obj2.age}\")\n"
      ]
    },
    {
      "cell_type": "markdown",
      "id": "fa9803c7",
      "metadata": {
        "id": "fa9803c7"
      },
      "source": [
        "11. What is method overloading, and how is it related to constructors in Python?\n",
        "\n",
        "\n"
      ]
    },
    {
      "cell_type": "markdown",
      "id": "3c1457cc",
      "metadata": {
        "id": "3c1457cc"
      },
      "source": [
        "Method overloading refers to the ability to define multiple methods in a class with the same name but with different parameters or a different number of parameters. Python, however, does not support traditional method overloading as seen in some other programming languages like Java or C++. In Python, if you define multiple methods with the same name in a class, the last one defined will override any previous ones.\n",
        "\n",
        "Despite the lack of traditional method overloading, you can achieve similar functionality in Python through default argument values and variable-length argument lists.\n",
        "\n",
        "Now, relating this to constructors in Python:\n",
        "\n",
        "*Default Argument Values:*\n",
        "\n",
        "Constructors in Python can have default argument values, allowing you to create instances of a class with different sets of parameters. This is a form of method overloading, as the constructor can be called with different numbers of arguments, and the default values handle the cases where certain arguments are not provided.\n",
        "\n"
      ]
    },
    {
      "cell_type": "code",
      "execution_count": null,
      "id": "4e8090ec",
      "metadata": {
        "id": "4e8090ec"
      },
      "outputs": [],
      "source": [
        "class MyClass:\n",
        "    def __init__(self, name, age=25):\n",
        "        self.name = name\n",
        "        self.age = age\n"
      ]
    },
    {
      "cell_type": "markdown",
      "id": "4235edc2",
      "metadata": {
        "id": "4235edc2"
      },
      "source": [
        "Variable-Length Argument Lists:\n",
        "\n",
        "Another way to achieve method overloading-like behavior is by using variable-length argument lists (*args and **kwargs). These allow a method to accept an arbitrary number of positional and keyword arguments."
      ]
    },
    {
      "cell_type": "code",
      "execution_count": null,
      "id": "fc4cd8fe",
      "metadata": {
        "id": "fc4cd8fe"
      },
      "outputs": [],
      "source": [
        "class MyClass:\n",
        "    def __init__(self, *args):\n",
        "        if len(args) == 1:\n",
        "            self.name = args[0]\n",
        "            self.age = 25\n",
        "        elif len(args) == 2:\n",
        "            self.name = args[0]\n",
        "            self.age = args[1]\n"
      ]
    },
    {
      "cell_type": "markdown",
      "id": "704294ea",
      "metadata": {
        "id": "704294ea"
      },
      "source": [
        "12. Explain the use of the `super()` function in Python constructors. Provide an example.\n",
        "\n",
        "\n"
      ]
    },
    {
      "cell_type": "markdown",
      "id": "74140614",
      "metadata": {
        "id": "74140614"
      },
      "source": [
        "In Python, the super() function is used to call a method or access an attribute from the parent class. It is commonly used in the context of constructors to invoke the constructor of the parent class. This is particularly useful in cases of inheritance when you want to initialize the attributes of the base class before customizing them in the derived class.\n",
        "\n",
        "Here's an example to illustrate the use of super() in constructors:"
      ]
    },
    {
      "cell_type": "code",
      "execution_count": null,
      "id": "bdb87020",
      "metadata": {
        "id": "bdb87020",
        "outputId": "b0fd4aea-ff98-4d82-a771-dc28f2a54e1f"
      },
      "outputs": [
        {
          "name": "stdout",
          "output_type": "stream",
          "text": [
            "Initializing an Animal named Buddy\n",
            "Initializing a Dog named Buddy of breed Labrador\n"
          ]
        }
      ],
      "source": [
        "class Animal:\n",
        "    def __init__(self, name):\n",
        "        self.name = name\n",
        "        print(f\"Initializing an Animal named {self.name}\")\n",
        "\n",
        "class Dog(Animal):\n",
        "    def __init__(self, name, breed):\n",
        "        super().__init__(name)  # Call the constructor of the parent class\n",
        "        self.breed = breed\n",
        "        print(f\"Initializing a Dog named {self.name} of breed {self.breed}\")\n",
        "\n",
        "# Create an instance of the derived class\n",
        "my_dog = Dog(\"Buddy\", \"Labrador\")\n"
      ]
    },
    {
      "cell_type": "markdown",
      "id": "51c6741a",
      "metadata": {
        "id": "51c6741a"
      },
      "source": [
        "13. Create a class called `Book` with a constructor that initializes the `title`, `author`, and `published_year`\n",
        "attributes. Provide a method to display book details.\n",
        "\n",
        "\n"
      ]
    },
    {
      "cell_type": "code",
      "execution_count": null,
      "id": "7e224fa5",
      "metadata": {
        "id": "7e224fa5",
        "outputId": "d05eef10-4448-47c5-d423-0bd92a41cff7"
      },
      "outputs": [
        {
          "name": "stdout",
          "output_type": "stream",
          "text": [
            "the title of the book is snakes of the amazon and author is michel tim\n",
            " .So the published year is 1987\n"
          ]
        }
      ],
      "source": [
        "class Book:\n",
        "    def __init__(self,title,author,published_year):\n",
        "        self.title = title\n",
        "        self.author = author\n",
        "        self.published_year = published_year\n",
        "    def display_book(self):\n",
        "        print(f\"the title of the book is {self.title} and author is {self.author}\\n .So the published year is {self.published_year}\")\n",
        "\n",
        "book1 = Book(\"snakes of the amazon\",'michel tim',1987)\n",
        "book1.display_book()"
      ]
    },
    {
      "cell_type": "markdown",
      "id": "fd72a681",
      "metadata": {
        "id": "fd72a681"
      },
      "source": [
        "14. Discuss the differences between constructors and regular methods in Python classes.\n",
        "\n",
        "\n"
      ]
    },
    {
      "cell_type": "markdown",
      "id": "d92eb325",
      "metadata": {
        "id": "d92eb325"
      },
      "source": [
        "*Constructors:*\n",
        "\n",
        "Initialization: Initialize object attributes during object creation.\n",
        "\n",
        "Name: __init__\n",
        "\n",
        "Execution: Automatically called upon object creation.\n",
        "\n",
        "Return value: Implicitly returns None.\n",
        "\n",
        "Usage: Ensure the object is in a valid state after creation.\n",
        "\n",
        "*Regular Methods:*\n",
        "\n",
        "Definition: Perform various operations on object data.\n",
        "\n",
        "Name: Any name (not reserved).\n",
        "\n",
        "Execution: Need to be called explicitly on an object or the class.\n",
        "\n",
        "Return value: Can have a return statement.\n",
        "\n",
        "Usage: Perform operations on object data as needed."
      ]
    },
    {
      "cell_type": "markdown",
      "id": "3f3884a3",
      "metadata": {
        "id": "3f3884a3"
      },
      "source": [
        "15. Explain the role of the `self` parameter in instance variable initialization within a constructor.\n",
        "\n",
        "\n"
      ]
    },
    {
      "cell_type": "markdown",
      "id": "3f4e3bab",
      "metadata": {
        "id": "3f4e3bab"
      },
      "source": [
        "The self parameter in a constructor refers to the instance of the class being created. It allows you to associate instance variables with the object being instantiated. Using self is a convention in Python to reference the instance, and it ensures that instance variables are properly associated with the object, making them accessible throughout the class.\n",
        "\n",
        "\n",
        "\n",
        "\n"
      ]
    },
    {
      "cell_type": "markdown",
      "id": "e39ce1c5",
      "metadata": {
        "id": "e39ce1c5"
      },
      "source": [
        "16. How do you prevent a class from having multiple instances by using constructors in Python? Provide an example"
      ]
    },
    {
      "cell_type": "markdown",
      "id": "9034a15d",
      "metadata": {
        "id": "9034a15d"
      },
      "source": [
        "\n",
        "To prevent a class from having multiple instances, you can use a class variable to track whether an instance has been created. If an instance already exists, the constructor can raise an exception or return the existing instance instead of creating a new one.\n",
        "\n",
        "Here's a simple explanation and example:\n",
        "\n",
        "Explanation:\n",
        "By using a class variable to keep track of whether an instance has been created, you can control the number of instances allowed for that class."
      ]
    },
    {
      "cell_type": "code",
      "execution_count": null,
      "id": "c0544540",
      "metadata": {
        "id": "c0544540",
        "outputId": "9ef123e3-5946-47d4-9dbe-1c6c7030e850"
      },
      "outputs": [
        {
          "name": "stdout",
          "output_type": "stream",
          "text": [
            "True\n"
          ]
        }
      ],
      "source": [
        "class SingletonClass:\n",
        "    _instance = None  # Class variable to store the instance\n",
        "\n",
        "    def __new__(cls):\n",
        "        if not cls._instance:\n",
        "            cls._instance = super(SingletonClass, cls).__new__(cls)\n",
        "        return cls._instance\n",
        "\n",
        "# Creating instances\n",
        "obj1 = SingletonClass()\n",
        "obj2 = SingletonClass()\n",
        "\n",
        "print(obj1 is obj2)  # Output: True (both references point to the same instance)\n"
      ]
    },
    {
      "cell_type": "markdown",
      "id": "71d737ec",
      "metadata": {
        "id": "71d737ec"
      },
      "source": [
        "17. Create a Python class called `Student` with a constructor that takes a list of subjects as a parameter and initializes the `subjects` attribute."
      ]
    },
    {
      "cell_type": "code",
      "execution_count": null,
      "id": "008dae46",
      "metadata": {
        "id": "008dae46",
        "outputId": "fa1aba5b-726a-4698-d9a3-65714eb6f4c3"
      },
      "outputs": [
        {
          "data": {
            "text/plain": [
              "['science', 'maths', 'physics']"
            ]
          },
          "execution_count": 9,
          "metadata": {},
          "output_type": "execute_result"
        }
      ],
      "source": [
        "class student:\n",
        "    def __init__(self,subjects):\n",
        "        self.subjects = subjects\n",
        "    def display(self):\n",
        "        return self.subjects\n",
        "sub = ['science','maths','physics']\n",
        "v = student(sub)\n",
        "v.display()\n",
        ""
      ]
    },
    {
      "cell_type": "markdown",
      "id": "7f17b878",
      "metadata": {
        "id": "7f17b878"
      },
      "source": [
        "18. What is the purpose of the `__del__` method in Python classes, and how does it relate to constructors?\n",
        "\n",
        "\n"
      ]
    },
    {
      "cell_type": "markdown",
      "id": "b37a4ef8",
      "metadata": {
        "id": "b37a4ef8"
      },
      "source": [
        "The __del__ method in Python classes is used for cleanup operations and is called just before an object is destroyed or removed from memory. It serves as a counterpart to the __init__ method, which is used for object initialization. The purpose of __del__ is to define any finalization logic or release resources associated with the object. However, it's generally recommended to use other mechanisms like context managers for resource management instead of relying solely on __del__.\n",
        "\n",
        "\n",
        "\n",
        "\n"
      ]
    },
    {
      "cell_type": "markdown",
      "id": "b2f69df0",
      "metadata": {
        "id": "b2f69df0"
      },
      "source": [
        "19. Explain the use of constructor chaining in Python. Provide a practical example.\n",
        "\n",
        "\n"
      ]
    },
    {
      "cell_type": "markdown",
      "id": "692a19ec",
      "metadata": {
        "id": "692a19ec"
      },
      "source": [
        "Constructor Chaining in Python:\n",
        "\n",
        "Constructor chaining is a technique where a constructor in a class calls another constructor in the same class or in its parent class."
      ]
    },
    {
      "cell_type": "code",
      "execution_count": null,
      "id": "1c13570d",
      "metadata": {
        "id": "1c13570d",
        "outputId": "fe39c3bd-f0b6-42e9-be75-c47b45ef20c3"
      },
      "outputs": [
        {
          "name": "stdout",
          "output_type": "stream",
          "text": [
            "Parent constructor called with name: John\n",
            "Child constructor called with age: 10\n"
          ]
        }
      ],
      "source": [
        "class Parent:\n",
        "    def __init__(self, name):\n",
        "        self.name = name\n",
        "        print(f\"Parent constructor called with name: {self.name}\")\n",
        "\n",
        "class Child(Parent):\n",
        "    def __init__(self, name, age):\n",
        "        super().__init__(name)  # Calling the constructor of the parent class\n",
        "        self.age = age\n",
        "        print(f\"Child constructor called with age: {self.age}\")\n",
        "\n",
        "# Creating an instance of the Child class\n",
        "child_instance = Child(\"John\", 10)\n"
      ]
    },
    {
      "cell_type": "markdown",
      "id": "c8310c88",
      "metadata": {
        "id": "c8310c88"
      },
      "source": [
        "20. Create a Python class called `Car` with a default constructor that initializes the `make` and `model` attributes. Provide a method to display car information."
      ]
    },
    {
      "cell_type": "code",
      "execution_count": null,
      "id": "d3e07635",
      "metadata": {
        "id": "d3e07635",
        "outputId": "26236c4e-2900-4857-e50e-b0f6d6ea6e08"
      },
      "outputs": [
        {
          "name": "stdout",
          "output_type": "stream",
          "text": [
            "make:1999 and model:casul\n",
            "make:2023 and model:honda\n"
          ]
        }
      ],
      "source": [
        "class Car:\n",
        "    def __init__(self,make,model):\n",
        "        self.make=make\n",
        "        self.model=model\n",
        "    def display(self):\n",
        "        return f\"make:{self.make} and model:{self.model}\"\n",
        "car1 = Car(1999,'casul')\n",
        "car2 = Car(2023,\"honda\")\n",
        "print(car1.display())\n",
        "print(car2.display())"
      ]
    },
    {
      "cell_type": "markdown",
      "id": "857b7c15",
      "metadata": {
        "id": "857b7c15"
      },
      "source": [
        "# Inheritance:"
      ]
    },
    {
      "cell_type": "markdown",
      "id": "021151e0",
      "metadata": {
        "id": "021151e0"
      },
      "source": [
        "1. What is inheritance in Python? Explain its significance in object-oriented programming.\n",
        "\n",
        "\n"
      ]
    },
    {
      "cell_type": "markdown",
      "id": "5276dab3",
      "metadata": {
        "id": "5276dab3"
      },
      "source": [
        "Inheritance in Python:\n",
        "\n",
        "Inheritance is a way for one class to reuse and extend the features (attributes and methods) of another class. It allows a new class (subclass) to inherit properties and behaviors from an existing class (superclass), promoting code reuse and making it easier to organize and understand code.\n",
        "\n",
        "Significance in Simple Terms:\n",
        "\n",
        "Reuse Code:\n",
        "\n",
        "Inheritance helps avoid repeating code by letting a new class use features of an existing class.\n",
        "Build on Existing Code:\n",
        "\n",
        "You can create a new class that adds or changes features of an existing class without modifying its code directly.\n",
        "Easy Organization:\n",
        "\n",
        "It helps organize classes into a hierarchy, making the relationships between them clear.\n",
        "Flexible and Polymorphic:\n",
        "\n",
        "Objects of different classes can be treated similarly, making code more flexible and allowing for polymorphism."
      ]
    },
    {
      "cell_type": "code",
      "execution_count": null,
      "id": "e7196fe9",
      "metadata": {
        "id": "e7196fe9",
        "outputId": "95046023-aee5-4398-8775-2f0783c62ce7"
      },
      "outputs": [
        {
          "name": "stdout",
          "output_type": "stream",
          "text": [
            "Buddy says Woof!\n",
            "Whiskers says Meow!\n"
          ]
        }
      ],
      "source": [
        "class Animal:\n",
        "    def __init__(self, name):\n",
        "        self.name = name\n",
        "\n",
        "    def speak(self):\n",
        "        pass  # Placeholder for the speak method\n",
        "\n",
        "class Dog(Animal):\n",
        "    def speak(self):\n",
        "        return f\"{self.name} says Woof!\"\n",
        "\n",
        "class Cat(Animal):\n",
        "    def speak(self):\n",
        "        return f\"{self.name} says Meow!\"\n",
        "\n",
        "# Using inheritance\n",
        "dog_instance = Dog(\"Buddy\")\n",
        "cat_instance = Cat(\"Whiskers\")\n",
        "\n",
        "print(dog_instance.speak())  # Output: Buddy says Woof!\n",
        "print(cat_instance.speak())  # Output: Whiskers says Meow!\n"
      ]
    },
    {
      "cell_type": "markdown",
      "id": "081d4795",
      "metadata": {
        "id": "081d4795"
      },
      "source": [
        "2. Differentiate between single inheritance and multiple inheritance in Python. Provide examples for each.\n",
        "\n",
        "\n"
      ]
    },
    {
      "cell_type": "code",
      "execution_count": null,
      "id": "eb98dd20",
      "metadata": {
        "id": "eb98dd20",
        "outputId": "cfbec122-270f-4462-9319-2cddd4981186"
      },
      "outputs": [
        {
          "name": "stdout",
          "output_type": "stream",
          "text": [
            "Animal speaks\n",
            "Dog barks\n"
          ]
        }
      ],
      "source": [
        "#Single Inheritance:\n",
        "#Definition: A class inherits from only one superclass.\n",
        "\n",
        "class Animal:\n",
        "    def speak(self):\n",
        "        return \"Animal speaks\"\n",
        "\n",
        "class Dog(Animal):\n",
        "    def bark(self):\n",
        "        return \"Dog barks\"\n",
        "\n",
        "# Usage\n",
        "dog_instance = Dog()\n",
        "print(dog_instance.speak())  # Output: Animal speaks\n",
        "print(dog_instance.bark())   # Output: Dog barks\n"
      ]
    },
    {
      "cell_type": "code",
      "execution_count": null,
      "id": "b3c61143",
      "metadata": {
        "id": "b3c61143",
        "outputId": "aaf0914a-028a-4dd9-d2ef-bc6f3509ab45"
      },
      "outputs": [
        {
          "name": "stdout",
          "output_type": "stream",
          "text": [
            "Animal speaks\n",
            "Pet plays\n",
            "Dog barks\n"
          ]
        }
      ],
      "source": [
        "#Multiple Inheritance:\n",
        "#Definition: A class inherits from more than one superclass.\n",
        "\n",
        "class Animal:\n",
        "    def speak(self):\n",
        "        return \"Animal speaks\"\n",
        "\n",
        "class Pet:\n",
        "    def play(self):\n",
        "        return \"Pet plays\"\n",
        "\n",
        "class Dog(Animal, Pet):\n",
        "    def bark(self):\n",
        "        return \"Dog barks\"\n",
        "\n",
        "# Usage\n",
        "dog_instance = Dog()\n",
        "print(dog_instance.speak())\n",
        "print(dog_instance.play())\n",
        "print(dog_instance.bark())"
      ]
    },
    {
      "cell_type": "markdown",
      "id": "3dffdd31",
      "metadata": {
        "id": "3dffdd31"
      },
      "source": [
        "3. Create a Python class called `Vehicle` with attributes `color` and `speed`. Then, create a child class called\n",
        "`Car` that inherits from `Vehicle` and adds a `brand` attribute. Provide an example of creating a `Car` object.\n",
        "\n",
        "\n"
      ]
    },
    {
      "cell_type": "code",
      "execution_count": null,
      "id": "0796fd3f",
      "metadata": {
        "id": "0796fd3f",
        "outputId": "e71037d0-79c4-4475-9d71-1d6711965802"
      },
      "outputs": [
        {
          "name": "stdout",
          "output_type": "stream",
          "text": [
            "car_color:red\n",
            "car_speed:240 and the brand is embasider\n"
          ]
        }
      ],
      "source": [
        "class Vehicle:\n",
        "    def __init__(self,color,speed):\n",
        "        self.color=color\n",
        "        self.speed=speed\n",
        "class Car(Vehicle):\n",
        "    def __init__(self, brand, color, speed):\n",
        "        super().__init__(color, speed)\n",
        "        self.brand = brand\n",
        "    def display_details(self):\n",
        "        return f\"car_color:{self.color}\\ncar_speed:{self.speed} and the brand is {self.brand}\"\n",
        "\n",
        "v = Car(color='red',speed=240,brand='embasider')\n",
        "print(v.display_details())\n"
      ]
    },
    {
      "cell_type": "markdown",
      "id": "d9838f08",
      "metadata": {
        "id": "d9838f08"
      },
      "source": [
        "4. Explain the concept of method overriding in inheritance. Provide a practical example.\n",
        "\n",
        "\n"
      ]
    },
    {
      "cell_type": "markdown",
      "id": "e39fe4ac",
      "metadata": {
        "id": "e39fe4ac"
      },
      "source": [
        "Method overriding occurs when a subclass provides a specific implementation for a method that is already defined in its superclass. The overridden method in the subclass has the same name, return type, and parameters as the method in the superclass. This allows the subclass to provide its own implementation while still maintaining the same method signature."
      ]
    },
    {
      "cell_type": "code",
      "execution_count": null,
      "id": "94b2f2c3",
      "metadata": {
        "id": "94b2f2c3",
        "outputId": "d23c3555-830b-4469-d87d-522b7e226153"
      },
      "outputs": [
        {
          "name": "stdout",
          "output_type": "stream",
          "text": [
            "Dog barks\n"
          ]
        }
      ],
      "source": [
        "class Animal:\n",
        "    def speak(self):\n",
        "        return \"Animal speaks\"\n",
        "\n",
        "class Dog(Animal):\n",
        "    def speak(self):\n",
        "        return \"Dog barks\"\n",
        "\n",
        "# Usage\n",
        "dog_instance = Dog()\n",
        "\n",
        "# Method overriding in action\n",
        "print(dog_instance.speak())  # Output: Dog barks\n"
      ]
    },
    {
      "cell_type": "markdown",
      "id": "88f76d7f",
      "metadata": {
        "id": "88f76d7f"
      },
      "source": [
        "5. How can you access the methods and attributes of a parent class from a child class in Python? Give an example"
      ]
    },
    {
      "cell_type": "code",
      "execution_count": null,
      "id": "fea979b5",
      "metadata": {
        "id": "fea979b5",
        "outputId": "adc68020-ec41-4f17-c455-a7af4b55fa7c"
      },
      "outputs": [
        {
          "name": "stdout",
          "output_type": "stream",
          "text": [
            "Child's name is John, age is 10. Parent's name is John\n"
          ]
        }
      ],
      "source": [
        "class Parent:\n",
        "    def __init__(self, name):\n",
        "        self.name = name\n",
        "\n",
        "    def display_name(self):\n",
        "        return f\"Parent's name is {self.name}\"\n",
        "\n",
        "class Child(Parent):\n",
        "    def __init__(self, name, age):\n",
        "        super().__init__(name)  # Call the constructor of the parent class\n",
        "        self.age = age\n",
        "\n",
        "    def display_info(self):\n",
        "        parent_info = super().display_name()  # Accessing the method of the parent class\n",
        "        return f\"Child's name is {self.name}, age is {self.age}. {parent_info}\"\n",
        "\n",
        "# Creating an instance of the Child class\n",
        "child_instance = Child(name='John', age=10)\n",
        "\n",
        "# Accessing the method and attribute of the parent class\n",
        "print(child_instance.display_info())\n"
      ]
    },
    {
      "cell_type": "markdown",
      "id": "3cfec28b",
      "metadata": {
        "id": "3cfec28b"
      },
      "source": [
        "6. Discuss the use of the `super()` function in Python inheritance. When and why is it used? Provide an\n",
        "example."
      ]
    },
    {
      "cell_type": "code",
      "execution_count": null,
      "id": "42d8e3db",
      "metadata": {
        "id": "42d8e3db",
        "outputId": "83a3e3a3-6e7c-449a-c0e7-cb6948512164"
      },
      "outputs": [
        {
          "name": "stdout",
          "output_type": "stream",
          "text": [
            "Buddy barks! (Some generic sound)\n"
          ]
        }
      ],
      "source": [
        "'''the super() function mainly used in inheritence to access the elements and methods\n",
        "of the parent class.\n",
        "\n",
        "Usage of super():\n",
        "super() is typically used to call the superclass's methods or constructors.\n",
        "It helps maintain a clean and consistent approach to method invocation across the inheritance hierarchy.'''\n",
        "\n",
        "class Animal:\n",
        "    def __init__(self, name):\n",
        "        self.name = name\n",
        "\n",
        "    def make_sound(self):\n",
        "        return \"Some generic sound\"\n",
        "\n",
        "class Dog(Animal):\n",
        "    def __init__(self, name, breed):\n",
        "        super().__init__(name)\n",
        "        self.breed = breed\n",
        "\n",
        "    def make_sound(self):\n",
        "        parent_sound = super().make_sound()\n",
        "        return f\"{self.name} barks! ({parent_sound})\"\n",
        "\n",
        "dog_instance = Dog(name='Buddy', breed='Labrador')\n",
        "\n",
        "print(dog_instance.make_sound())\n"
      ]
    },
    {
      "cell_type": "markdown",
      "id": "f89d0db6",
      "metadata": {
        "id": "f89d0db6"
      },
      "source": [
        "7. Create a Python class called `Animal` with a method `speak()`. Then, create child classes `Dog` and `Cat` that inherit from `Animal` and override the `speak()` method. Provide an example of using these classes.\n",
        "\n",
        "\n"
      ]
    },
    {
      "cell_type": "code",
      "execution_count": null,
      "id": "7967d3ab",
      "metadata": {
        "id": "7967d3ab",
        "outputId": "47817f43-783d-4791-e5da-22610cc1d3b6"
      },
      "outputs": [
        {
          "name": "stdout",
          "output_type": "stream",
          "text": [
            "wuff\n",
            "mewww\n"
          ]
        }
      ],
      "source": [
        "class Animal:\n",
        "    def speak(self):\n",
        "        return \"speak out\"\n",
        "class dog(Animal):\n",
        "    def speak(self):\n",
        "        return \"wuff\"\n",
        "class cat(Animal):\n",
        "    def speak(self):\n",
        "        return \"mewww\"\n",
        "dog_inst = dog()\n",
        "cat_inst = cat()\n",
        "print(dog_inst.speak())\n",
        "print(cat_inst.speak())"
      ]
    },
    {
      "cell_type": "markdown",
      "id": "adc33dc7",
      "metadata": {
        "id": "adc33dc7"
      },
      "source": [
        "8. Explain the role of the `isinstance()` function in Python and how it relates to inheritance.\n",
        "\n",
        "\n"
      ]
    },
    {
      "cell_type": "markdown",
      "id": "a18740db",
      "metadata": {
        "id": "a18740db"
      },
      "source": [
        "The isinstance() function in Python is used to check if an object belongs to a particular class or a tuple of classes. It returns True if the object is an instance of at least one of the specified classes; otherwise, it returns False."
      ]
    },
    {
      "cell_type": "code",
      "execution_count": null,
      "id": "4912159d",
      "metadata": {
        "id": "4912159d",
        "outputId": "54fb4e76-1c31-4a13-df9b-3c799f0b67c2"
      },
      "outputs": [
        {
          "name": "stdout",
          "output_type": "stream",
          "text": [
            "True\n",
            "True\n",
            "False\n"
          ]
        }
      ],
      "source": [
        "class Animal:\n",
        "    pass\n",
        "\n",
        "class Dog(Animal):\n",
        "    pass\n",
        "\n",
        "class Cat(Animal):\n",
        "    pass\n",
        "\n",
        "# Creating instances of the classes\n",
        "animal_instance = Animal()\n",
        "dog_instance = Dog()\n",
        "cat_instance = Cat()\n",
        "\n",
        "# Using isinstance() to check object types\n",
        "print(isinstance(animal_instance, Animal))\n",
        "print(isinstance(dog_instance, Animal))\n",
        "print(isinstance(cat_instance, Dog))\n"
      ]
    },
    {
      "cell_type": "markdown",
      "id": "158995dc",
      "metadata": {
        "id": "158995dc"
      },
      "source": [
        "9. What is the purpose of the `issubclass()` function in Python? Provide an example.\n",
        "\n",
        "\n"
      ]
    },
    {
      "cell_type": "markdown",
      "id": "7fd32c81",
      "metadata": {
        "id": "7fd32c81"
      },
      "source": [
        "The issubclass() function in Python is used to check if a class is a subclass of another class. It returns True if the first class is a subclass of the second class; otherwise, it returns False. This function is useful for checking the relationships between classes in an inheritance hierarchy.\n",
        "\n",
        "Purpose of issubclass():\n",
        "\n",
        "The primary purpose is to determine if one class is derived from another class.\n",
        "It helps in understanding the class hierarchy and relationships."
      ]
    },
    {
      "cell_type": "code",
      "execution_count": null,
      "id": "d923494b",
      "metadata": {
        "id": "d923494b",
        "outputId": "a0d45d80-7009-461d-cfff-61774f6cb26d"
      },
      "outputs": [
        {
          "name": "stdout",
          "output_type": "stream",
          "text": [
            "True\n",
            "True\n",
            "True\n",
            "False\n"
          ]
        }
      ],
      "source": [
        "class Animal:\n",
        "    pass\n",
        "\n",
        "class Mammal(Animal):\n",
        "    pass\n",
        "\n",
        "class Dog(Mammal):\n",
        "    pass\n",
        "\n",
        "# Using issubclass() to check class relationships\n",
        "print(issubclass(Mammal, Animal))   # Output: True (Mammal is a subclass of Animal)\n",
        "print(issubclass(Dog, Mammal))      # Output: True (Dog is a subclass of Mammal)\n",
        "print(issubclass(Dog, Animal))      # Output: True (Dog is a subclass of Animal)\n",
        "print(issubclass(Animal, Dog))      # Output: False (Animal is not a subclass of Dog)\n"
      ]
    },
    {
      "cell_type": "markdown",
      "id": "3abbae76",
      "metadata": {
        "id": "3abbae76"
      },
      "source": [
        "10. Discuss the concept of constructor inheritance in Python. How are constructors inherited in child classes?"
      ]
    },
    {
      "cell_type": "markdown",
      "id": "072fe4e3",
      "metadata": {
        "id": "072fe4e3"
      },
      "source": [
        "In Python, constructor inheritance refers to the process by which child classes inherit the constructors (special methods named __init__) from their parent classes. When a child class is created, it can automatically inherit the constructor of its parent class, allowing it to initialize its own attributes and perform additional setup."
      ]
    },
    {
      "cell_type": "code",
      "execution_count": null,
      "id": "106ba44b",
      "metadata": {
        "id": "106ba44b",
        "outputId": "3c1528bb-ae2a-43ec-8b5a-4fdceb239feb"
      },
      "outputs": [
        {
          "name": "stdout",
          "output_type": "stream",
          "text": [
            "Animal constructor called with species: Dog\n",
            "Dog constructor called with breed: Labrador, color: Golden\n"
          ]
        }
      ],
      "source": [
        "class Animal:\n",
        "    def __init__(self, species):\n",
        "        self.species = species\n",
        "        print(f\"Animal constructor called with species: {self.species}\")\n",
        "\n",
        "class Dog(Animal):\n",
        "    def __init__(self, breed, color):\n",
        "        super().__init__(\"Dog\")  # Call the constructor of the parent class\n",
        "        self.breed = breed\n",
        "        self.color = color\n",
        "        print(f\"Dog constructor called with breed: {self.breed}, color: {self.color}\")\n",
        "\n",
        "# Creating an instance of the Dog class\n",
        "my_dog = Dog(breed='Labrador', color='Golden')\n",
        "\n",
        "# Output:\n",
        "# Animal constructor called with species: Dog\n",
        "# Dog constructor called with breed: Labrador, color: Golden\n"
      ]
    },
    {
      "cell_type": "markdown",
      "id": "a6e35a8b",
      "metadata": {
        "id": "a6e35a8b"
      },
      "source": [
        "11. Create a Python class called `Shape` with a method `area()` that calculates the area of a shape. Then, create child classes `Circle` and `Rectangle` that inherit from `Shape` and implement the `area()` method\n",
        "accordingly. Provide an example."
      ]
    },
    {
      "cell_type": "code",
      "execution_count": null,
      "id": "65140f18",
      "metadata": {
        "id": "65140f18",
        "outputId": "deea75bc-9f42-4c1e-81fd-8d72f75d2e5b"
      },
      "outputs": [
        {
          "name": "stdout",
          "output_type": "stream",
          "text": [
            "314.0\n",
            "200\n"
          ]
        }
      ],
      "source": [
        "class shape:\n",
        "    def __init__(self,area):\n",
        "        self.area = area\n",
        "class Circle(shape):\n",
        "    def __init__(self,radius):\n",
        "        super().__init__(0)\n",
        "        self.radius = radius\n",
        "    def display_circle(self):\n",
        "        self.area=3.14*(self.radius)**2\n",
        "        return self.area\n",
        "class rectangle(shape):\n",
        "    def __init__(self,length,width):\n",
        "        super().__init__(0)\n",
        "        self.length = length\n",
        "        self.width = width\n",
        "    def display_rect(self):\n",
        "        self.area = self.length*self.width\n",
        "        return self.area\n",
        "circle_obj = Circle(10)\n",
        "print(circle_obj.display_circle())\n",
        "\n",
        "rectangle_obj = rectangle(10,20)\n",
        "print(rectangle_obj.display_rect())"
      ]
    },
    {
      "cell_type": "markdown",
      "id": "df51e85c",
      "metadata": {
        "id": "df51e85c"
      },
      "source": [
        "12. Explain the use of abstract base classes (ABCs) in Python and how they relate to inheritance. Provide an\n",
        "example using the `abc` module."
      ]
    },
    {
      "cell_type": "markdown",
      "id": "8b804bbb",
      "metadata": {
        "id": "8b804bbb"
      },
      "source": [
        "*Abstract Base Classes (ABCs)* in Python provide a way to define a common interface for a group of related classes. An abstract base class is a class that cannot be instantiated itself and is meant to be subclassed by other classes. It allows you to define abstract methods that must be implemented by any concrete (non-abstract) subclass.\n",
        "\n",
        "The abc module in Python is used for working with abstract base classes. Here's an example to illustrate the use of abstract base classes and inheritance:"
      ]
    },
    {
      "cell_type": "code",
      "execution_count": null,
      "id": "0d3e8ae6",
      "metadata": {
        "id": "0d3e8ae6",
        "outputId": "a1842f8b-91fb-47cb-be65-b01a0f709278"
      },
      "outputs": [
        {
          "name": "stdout",
          "output_type": "stream",
          "text": [
            "Circle Area: 78.5\n",
            "Rectangle Area: 24\n"
          ]
        }
      ],
      "source": [
        "from abc import ABC, abstractmethod\n",
        "\n",
        "# Define an abstract base class called Shape\n",
        "class Shape(ABC):\n",
        "    @abstractmethod\n",
        "    def area(self):\n",
        "        pass\n",
        "\n",
        "# Concrete subclass Circle that inherits from Shape\n",
        "class Circle(Shape):\n",
        "    def __init__(self, radius):\n",
        "        self.radius = radius\n",
        "\n",
        "    def area(self):\n",
        "        return 3.14 * (self.radius**2)\n",
        "\n",
        "# Concrete subclass Rectangle that inherits from Shape\n",
        "class Rectangle(Shape):\n",
        "    def __init__(self, length, width):\n",
        "        self.length = length\n",
        "        self.width = width\n",
        "\n",
        "    def area(self):\n",
        "        return self.length * self.width\n",
        "\n",
        "# Creating objects of concrete subclasses\n",
        "circle_obj = Circle(5)\n",
        "rectangle_obj = Rectangle(4, 6)\n",
        "\n",
        "# Calling the area method on objects\n",
        "print(\"Circle Area:\", circle_obj.area())\n",
        "print(\"Rectangle Area:\", rectangle_obj.area())\n"
      ]
    },
    {
      "cell_type": "markdown",
      "id": "374ea4ff",
      "metadata": {
        "id": "374ea4ff"
      },
      "source": [
        "13. How can you prevent a child class from modifying certain attributes or methods inherited from a parent\n",
        "class in Python?"
      ]
    },
    {
      "cell_type": "markdown",
      "id": "998f5d76",
      "metadata": {
        "id": "998f5d76"
      },
      "source": [
        "\n",
        "In Python, you can prevent a child class from modifying certain attributes or methods inherited from a parent class by using encapsulation and making those attributes or methods private. This is achieved by adding a double underscore (__) prefix to the attribute or method name.\n",
        "\n",
        "Here's a simple explanation:\n",
        "\n",
        "Private Attributes:\n",
        "\n",
        "If you want to prevent a child class from modifying an attribute, make it private by adding a double underscore prefix to its name in the parent class.\n"
      ]
    },
    {
      "cell_type": "code",
      "execution_count": null,
      "id": "795da342",
      "metadata": {
        "id": "795da342",
        "outputId": "99cd8d1d-9232-40da-ece1-bb3d77bff9f1"
      },
      "outputs": [
        {
          "name": "stdout",
          "output_type": "stream",
          "text": [
            "42\n"
          ]
        }
      ],
      "source": [
        "class Parent:\n",
        "    def __init__(self):\n",
        "        self.__restricted_attribute = 42\n",
        "\n",
        "class Child(Parent):\n",
        "    def modify_attribute(self, new_value):\n",
        "        # Trying to modify the private attribute will result in an error\n",
        "        # Uncommenting the next line will raise an AttributeError\n",
        "        # self.__restricted_attribute = new_value\n",
        "        pass\n",
        "\n",
        "child_obj = Child()\n",
        "# Accessing the private attribute is still possible\n",
        "print(child_obj._Parent__restricted_attribute)  # But this is discouraged\n"
      ]
    },
    {
      "cell_type": "markdown",
      "id": "8d41a776",
      "metadata": {
        "id": "8d41a776"
      },
      "source": [
        "Private Methods:\n",
        "\n",
        "If you want to prevent a child class from modifying a method, make it private as well.\n"
      ]
    },
    {
      "cell_type": "code",
      "execution_count": null,
      "id": "91fa7903",
      "metadata": {
        "id": "91fa7903"
      },
      "outputs": [],
      "source": [
        "class Parent:\n",
        "    def __init__(self):\n",
        "        self.__restricted_attribute = 42\n",
        "\n",
        "    def __restricted_method(self):\n",
        "        print(\"This method is restricted\")\n",
        "\n",
        "class Child(Parent):\n",
        "    def call_restricted_method(self):\n",
        "        # Trying to call the private method will result in an error\n",
        "        # Uncommenting the next line will raise an AttributeError\n",
        "        # self.__restricted_method()\n",
        "        pass\n",
        "\n",
        "child_obj = Child()\n",
        "# Accessing the private method is not possible\n",
        "# Uncommenting the next line will raise an AttributeError\n",
        "# child_obj.__restricted_method()\n"
      ]
    },
    {
      "cell_type": "markdown",
      "id": "b2331cb5",
      "metadata": {
        "id": "b2331cb5"
      },
      "source": [
        "14. Create a Python class called `Employee` with attributes `name` and `salary`. Then, create a child class\n",
        "`Manager` that inherits from `Employee` and adds an attribute `department`. Provide an example.\n",
        "\n",
        "\n"
      ]
    },
    {
      "cell_type": "code",
      "execution_count": null,
      "id": "aa94acef",
      "metadata": {
        "id": "aa94acef",
        "outputId": "a1277883-06af-4137-8453-cb36f06f1007"
      },
      "outputs": [
        {
          "name": "stdout",
          "output_type": "stream",
          "text": [
            "Employee: John Doe Salary: 50000\n",
            "Manager: Alice Smith Salary: 80000 Department: Sales\n"
          ]
        }
      ],
      "source": [
        "class Employee:\n",
        "    def __init__(self,name,salary):\n",
        "        self.name=name\n",
        "        self.salary=salary\n",
        "\n",
        "class Manager(Employee):\n",
        "    def __init__(self,name,salary,department):\n",
        "        super().__init__(name,salary)\n",
        "        self.department = department\n",
        "\n",
        "employee = Employee(\"John Doe\", 50000)\n",
        "manager = Manager(\"Alice Smith\", 80000, \"Sales\")\n",
        "\n",
        "print(\"Employee:\", employee.name, \"Salary:\", employee.salary)\n",
        "\n",
        "print(\"Manager:\", manager.name, \"Salary:\", manager.salary, \"Department:\", manager.department)"
      ]
    },
    {
      "cell_type": "markdown",
      "id": "f9f753b8",
      "metadata": {
        "id": "f9f753b8"
      },
      "source": [
        "15. Discuss the concept of method overloading in Python inheritance. How does it differ from method\n",
        "overriding?"
      ]
    },
    {
      "cell_type": "markdown",
      "id": "b4338926",
      "metadata": {
        "id": "b4338926"
      },
      "source": [
        "Method Overloading:\n",
        "\n",
        "Method overloading refers to the ability of a class to define multiple methods with the same name but with a different number or type of parameters.\n",
        "In Python, method overloading is achieved using default values for function parameters. Python does not support true method overloading where you can have multiple methods with the same name and different parameter types (as in some other languages like Java or C++)."
      ]
    },
    {
      "cell_type": "code",
      "execution_count": null,
      "id": "b9c00535",
      "metadata": {
        "id": "b9c00535",
        "outputId": "fc271b83-c156-4dbe-d06c-8e01c00f0ea9"
      },
      "outputs": [
        {
          "name": "stdout",
          "output_type": "stream",
          "text": [
            "1\n",
            "3\n",
            "6\n"
          ]
        }
      ],
      "source": [
        "class Calculator:\n",
        "    def add(self, a, b=0, c=0):\n",
        "        return a + b + c\n",
        "\n",
        "calc = Calculator()\n",
        "print(calc.add(1))        # Output: 1\n",
        "print(calc.add(1, 2))     # Output: 3\n",
        "print(calc.add(1, 2, 3))  # Output: 6\n"
      ]
    },
    {
      "cell_type": "markdown",
      "id": "88796aba",
      "metadata": {
        "id": "88796aba"
      },
      "source": [
        "Method Overriding:\n",
        "\n",
        "Method overriding occurs when a subclass provides a specific implementation for a method that is already defined in its superclass. The overridden method in the subclass should have the same signature (name and parameters) as the method in the superclass.\n",
        "It allows a subclass to provide a specialized version of a method that is already defined in its superclass.\n",
        "Here's an example of method overriding:"
      ]
    },
    {
      "cell_type": "code",
      "execution_count": null,
      "id": "5581df65",
      "metadata": {
        "id": "5581df65",
        "outputId": "da56a39f-35bd-4759-e374-8db91c65081d"
      },
      "outputs": [
        {
          "name": "stdout",
          "output_type": "stream",
          "text": [
            "Generic animal sound\n",
            "Meow\n"
          ]
        }
      ],
      "source": [
        "class Animal:\n",
        "    def sound(self):\n",
        "        return \"Generic animal sound\"\n",
        "\n",
        "class Cat(Animal):\n",
        "    def sound(self):\n",
        "        return \"Meow\"\n",
        "\n",
        "animal = Animal()\n",
        "cat = Cat()\n",
        "\n",
        "print(animal.sound())\n",
        "print(cat.sound())\n"
      ]
    },
    {
      "cell_type": "markdown",
      "id": "6fec2704",
      "metadata": {
        "id": "6fec2704"
      },
      "source": [
        "16. Explain the purpose of the `__init__()` method in Python inheritance and how it is utilized in child classes.\n",
        "\n",
        "\n"
      ]
    },
    {
      "cell_type": "markdown",
      "id": "acff37d9",
      "metadata": {
        "id": "acff37d9"
      },
      "source": [
        " In Python, the __init__() method is a special method used to set up the initial state of an object when it's created. In the context of inheritance:\n",
        "\n",
        "In the Parent Class:\n",
        "\n",
        "The __init__() method in the parent class initializes attributes common to all instances of that class."
      ]
    },
    {
      "cell_type": "code",
      "execution_count": null,
      "id": "1f3aec0f",
      "metadata": {
        "id": "1f3aec0f"
      },
      "outputs": [],
      "source": [
        "class ParentClass:\n",
        "    def __init__(self, common_attribute):\n",
        "        self.common_attribute = common_attribute\n"
      ]
    },
    {
      "cell_type": "markdown",
      "id": "673bfad2",
      "metadata": {
        "id": "673bfad2"
      },
      "source": [
        "In the Child Class:\n",
        "\n",
        "The child class can have its own __init__() method.\n",
        "It can call the parent class's __init__() using super().__init__(...) to initialize inherited attributes.\n",
        "The child class's __init__() method can introduce new attributes or override inherited ones."
      ]
    },
    {
      "cell_type": "code",
      "execution_count": null,
      "id": "6c9df703",
      "metadata": {
        "id": "6c9df703"
      },
      "outputs": [],
      "source": [
        "class ChildClass(ParentClass):\n",
        "    def __init__(self, common_attribute, additional_attribute):\n",
        "        super().__init__(common_attribute)\n",
        "        self.additional_attribute = additional_attribute\n"
      ]
    },
    {
      "cell_type": "markdown",
      "id": "98ae6072",
      "metadata": {
        "id": "98ae6072"
      },
      "source": [
        "This way, when you create an instance of the child class, both the parent and child class initialization methods are called, ensuring proper setup of attributes inherited from the parent and any additional attributes specific to the child class."
      ]
    },
    {
      "cell_type": "markdown",
      "id": "96ad6945",
      "metadata": {
        "id": "96ad6945"
      },
      "source": [
        "17. Create a Python class called `Bird` with a method `fly()`. Then, create child classes `Eagle` and `Sparrow` that inherit from `Bird` and implement the `fly()` method differently. Provide an example of using these\n",
        "classes."
      ]
    },
    {
      "cell_type": "code",
      "execution_count": null,
      "id": "af8d49de",
      "metadata": {
        "id": "af8d49de",
        "outputId": "18267dc0-d313-4a9d-88f0-135c7540b726"
      },
      "outputs": [
        {
          "name": "stdout",
          "output_type": "stream",
          "text": [
            "the flying bird is eagle\n",
            "this was the highest flying bird\n"
          ]
        }
      ],
      "source": [
        "class Bird:\n",
        "    def fly(self,bird):\n",
        "        return f\"the flying bird is {bird}\"\n",
        "\n",
        "class Eagle(Bird):\n",
        "    def eagle(self,bird):\n",
        "        super().fly(bird)\n",
        "        return \"this was the highest flying bird\"\n",
        "class Sparrow(Bird):\n",
        "    def sparrow(self):\n",
        "        super().fly(bird)\n",
        "        return \"this was the smallest bird\"\n",
        "bird1 = Eagle()\n",
        "print(bird1.fly(\"eagle\"))\n",
        "print(bird1.eagle(\"eagle\"))"
      ]
    },
    {
      "cell_type": "markdown",
      "id": "ddcccd5f",
      "metadata": {
        "id": "ddcccd5f"
      },
      "source": [
        "18. What is the \"diamond problem\" in multiple inheritance, and how does Python address it?"
      ]
    },
    {
      "cell_type": "markdown",
      "id": "55e66b5c",
      "metadata": {
        "id": "55e66b5c"
      },
      "source": [
        "The \"diamond problem\" is a challenge that arises in object-oriented programming languages that support multiple inheritance. It occurs when a class inherits from two classes that have a common ancestor, forming a diamond-shaped inheritance hierarchy. The problem arises when there are conflicting method implementations in the two immediate parent classes, leading to ambiguity about which method should be called in the child class.\n",
        "\n",
        "Consider the following class hierarchy:"
      ]
    },
    {
      "cell_type": "code",
      "execution_count": null,
      "id": "f6dea128",
      "metadata": {
        "id": "f6dea128"
      },
      "outputs": [],
      "source": [
        "    A\n",
        "   / \\\n",
        "  B   C\n",
        "   \\ /\n",
        "    D"
      ]
    },
    {
      "cell_type": "markdown",
      "id": "868ad53b",
      "metadata": {
        "id": "868ad53b"
      },
      "source": [
        "In this example, class D inherits from both classes B and C, which, in turn, inherit from the common ancestor class A. If both B and C override a method from A, the question becomes: which overridden method should be used in class D?\n",
        "\n",
        "Python addresses the diamond problem using a mechanism called Method Resolution Order (MRO). The MRO defines the order in which base classes are considered when looking for a method in a class hierarchy. In Python, the C3 linearization algorithm is used to calculate the MRO.\n",
        "\n",
        "The MRO can be accessed using the \"*_ _mro_ _*\" attribute or the mro() method. For example:"
      ]
    },
    {
      "cell_type": "code",
      "execution_count": null,
      "id": "bf52bdc4",
      "metadata": {
        "id": "bf52bdc4",
        "outputId": "6523344c-c21e-4fa5-de1a-caf95f5afdce"
      },
      "outputs": [
        {
          "name": "stdout",
          "output_type": "stream",
          "text": [
            "(<class '__main__.D'>, <class '__main__.B'>, <class '__main__.C'>, <class '__main__.A'>, <class 'object'>)\n",
            "[<class '__main__.D'>, <class '__main__.B'>, <class '__main__.C'>, <class '__main__.A'>, <class 'object'>]\n"
          ]
        }
      ],
      "source": [
        "class A:\n",
        "    def method(self):\n",
        "        print(\"Method in class A\")\n",
        "\n",
        "class B(A):\n",
        "    def method(self):\n",
        "        print(\"Method in class B\")\n",
        "\n",
        "class C(A):\n",
        "    def method(self):\n",
        "        print(\"Method in class C\")\n",
        "\n",
        "class D(B, C):\n",
        "    pass\n",
        "\n",
        "# Accessing the MRO\n",
        "print(D.__mro__)\n",
        "# or\n",
        "print(D.mro())\n"
      ]
    },
    {
      "cell_type": "markdown",
      "id": "8caca5a5",
      "metadata": {
        "id": "8caca5a5"
      },
      "source": [
        "19. Discuss the concept of \"is-a\" and \"has-a\" relationships in inheritance, and provide examples of each.\n",
        "\n",
        "\n"
      ]
    },
    {
      "cell_type": "markdown",
      "id": "7e34eb19",
      "metadata": {
        "id": "7e34eb19"
      },
      "source": [
        "\"is-a\" Relationship (Inheritance):\n",
        "\n",
        "Think of it as a hierarchy where one class is a specific type or subtype of another class.\n",
        "Example: A Dog is a type of Animal, so Dog inherits from Animal.\n",
        "\n",
        "\"has-a\" Relationship (Composition):\n",
        "\n",
        "Think of it as one class having another class as a part or component.\n",
        "Example: A Car has an Engine, so the Car class contains an instance of the Engine class."
      ]
    },
    {
      "cell_type": "code",
      "execution_count": null,
      "id": "97c4be28",
      "metadata": {
        "id": "97c4be28"
      },
      "outputs": [],
      "source": [
        "# \"is-a\" relationship example\n",
        "class Animal:\n",
        "    def speak(self):\n",
        "        pass\n",
        "\n",
        "class Dog(Animal):  # Dog is a type of Animal\n",
        "    def speak(self):\n",
        "        return \"Woof!\"\n",
        "\n",
        "class Cat(Animal):  # Cat is a type of Animal\n",
        "    def speak(self):\n",
        "        return \"Meow!\"\n"
      ]
    },
    {
      "cell_type": "code",
      "execution_count": null,
      "id": "a2ed2f15",
      "metadata": {
        "id": "a2ed2f15"
      },
      "outputs": [],
      "source": [
        "# \"has-a\" relationship example\n",
        "class Engine:\n",
        "    def start(self):\n",
        "        return \"Engine started\"\n",
        "\n",
        "class Car:\n",
        "    def __init__(self):\n",
        "        self.engine = Engine()  # Car has an Engine\n",
        "\n",
        "    def start(self):\n",
        "        return f\"Car started. {self.engine.start()}\"\n"
      ]
    },
    {
      "cell_type": "markdown",
      "id": "6982e136",
      "metadata": {
        "id": "6982e136"
      },
      "source": [
        "20. Create a Python class hierarchy for a university system. Start with a base class `Person` and create child\n",
        "classes `Student` and `Professor`, each with their own attributes and methods. Provide an example of using\n",
        "these classes in a university context."
      ]
    },
    {
      "cell_type": "code",
      "execution_count": null,
      "id": "020633d2",
      "metadata": {
        "id": "020633d2",
        "outputId": "04294ca5-4e1e-433a-c683-81b61365b0bd"
      },
      "outputs": [
        {
          "name": "stdout",
          "output_type": "stream",
          "text": [
            "student details:\n",
            "Student_Name : joginaidu\n",
            "Student_Id : 1234 \n",
            "Age : 22 \n",
            "Department : CSD\n",
            "\n",
            "\n",
            "Professor details:\n",
            "Professor name: sudh\n",
            "Age : 40 \n",
            "Department: CSD\n"
          ]
        }
      ],
      "source": [
        "class Person:\n",
        "    def __init__(self,name,age,department):\n",
        "        self.name = name\n",
        "        self.age = age\n",
        "        self.department = department\n",
        "\n",
        "\n",
        "class Student(Person):\n",
        "    def __init__(self,name,Id,age,department):\n",
        "        self.Id=Id\n",
        "        super().__init__(name,age,department)\n",
        "    def student_details(self):\n",
        "        print(\"student details:\")\n",
        "        return f\"Student_Name : {self.name}\\nStudent_Id : {self.Id} \\nAge : {self.age} \\nDepartment : {self.department}\"\n",
        "\n",
        "class Professor(Person):\n",
        "    def __init__(self, name, age, department):\n",
        "\n",
        "        super().__init__(name, age, department)\n",
        "\n",
        "    def professor_details(self):\n",
        "\n",
        "        return f\"\\nProfessor details:\\nProfessor name: {self.name}\\nAge : {self.age} \\nDepartment: {self.department}\"\n",
        "\n",
        "\n",
        "stu1 = Student(\"joginaidu\", 1234, 22, \"CSD\")\n",
        "\n",
        "print(stu1.student_details())\n",
        "\n",
        "\n",
        "prof1 = Professor(name=\"sudh\",age=40, department=\"CSD\")\n",
        "print(f\"\\n{prof1.professor_details()}\")"
      ]
    },
    {
      "cell_type": "markdown",
      "id": "8943a031",
      "metadata": {
        "id": "8943a031"
      },
      "source": [
        "# Encapsulation:"
      ]
    },
    {
      "cell_type": "markdown",
      "id": "7a41d276",
      "metadata": {
        "id": "7a41d276"
      },
      "source": [
        "1. Explain the concept of encapsulation in Python. What is its role in object-oriented programming?\n",
        "\n",
        "\n"
      ]
    },
    {
      "cell_type": "markdown",
      "id": "522460cd",
      "metadata": {
        "id": "522460cd"
      },
      "source": [
        "Encapsulation in Python is a fundamental concept in object-oriented programming (OOP) that involves bundling data (attributes) and methods (functions) that operate on the data into a single unit, known as a class. It aims to hide the internal details of the object and restrict direct access to some of its components from outside the class. In simpler terms, encapsulation provides a protective barrier around the object, allowing controlled access to its internal state and behavior. This helps in organizing and structuring code, improves code readability, and reduces potential errors by preventing unintended modifications to the object's data."
      ]
    },
    {
      "cell_type": "code",
      "execution_count": null,
      "id": "0b528c12",
      "metadata": {
        "id": "0b528c12",
        "outputId": "c50ec27d-1f65-4b58-9438-68d9fe75050d"
      },
      "outputs": [
        {
          "name": "stdout",
          "output_type": "stream",
          "text": [
            "Current Balance: 1300\n"
          ]
        }
      ],
      "source": [
        "class BankAccount:\n",
        "    def __init__(self, balance):\n",
        "        self._balance = balance  # Encapsulated attribute\n",
        "\n",
        "    def deposit(self, amount):\n",
        "        if amount > 0:\n",
        "            self._balance += amount\n",
        "\n",
        "    def withdraw(self, amount):\n",
        "        if amount > 0 and amount <= self._balance:\n",
        "            self._balance -= amount\n",
        "\n",
        "    def get_balance(self):\n",
        "        return self._balance\n",
        "\n",
        "# Using encapsulation\n",
        "account = BankAccount(balance=1000)\n",
        "account.deposit(500)\n",
        "account.withdraw(200)\n",
        "print(\"Current Balance:\", account.get_balance())\n"
      ]
    },
    {
      "cell_type": "markdown",
      "id": "9627d8ec",
      "metadata": {
        "id": "9627d8ec"
      },
      "source": [
        "2. Describe the key principles of encapsulation, including access control and data hiding.\n",
        "\n",
        "\n"
      ]
    },
    {
      "cell_type": "markdown",
      "id": "52a5fc29",
      "metadata": {
        "id": "52a5fc29"
      },
      "source": [
        "Encapsulation in Python involves two key principles: access control and data hiding. Access control determines the visibility of a class's attributes and methods to the outside world. In encapsulation, access modifiers like public, private, and protected are used to control how these elements can be accessed. Data hiding, on the other hand, is the practice of restricting direct access to an object's internal data from outside the class. By encapsulating data, a class can expose only what is necessary, reducing the risk of unintended modifications and enhancing code security."
      ]
    },
    {
      "cell_type": "code",
      "execution_count": null,
      "id": "24df6b0e",
      "metadata": {
        "id": "24df6b0e",
        "outputId": "c6c18b17-091d-4397-e816-abedd4faa0d8"
      },
      "outputs": [
        {
          "name": "stdout",
          "output_type": "stream",
          "text": [
            "Name: Alice\n",
            "Age: 20\n"
          ]
        }
      ],
      "source": [
        "class Student:\n",
        "    def __init__(self, name, age):\n",
        "        self._name = name  # Protected attribute\n",
        "        self.__age = age   # Private attribute\n",
        "\n",
        "    def get_name(self):\n",
        "        return self._name\n",
        "\n",
        "    def set_age(self, new_age):\n",
        "        if new_age > 0:\n",
        "            self.__age = new_age\n",
        "\n",
        "    def get_age(self):\n",
        "        return self.__age\n",
        "\n",
        "# Using encapsulation with access control and data hiding\n",
        "student1 = Student(name=\"Alice\", age=20)\n",
        "print(\"Name:\", student1.get_name())\n",
        "print(\"Age:\", student1.get_age())\n",
        "\n",
        "# Attempting to directly access private attribute (will result in an error)\n",
        "# print(student1.__age)\n"
      ]
    },
    {
      "cell_type": "markdown",
      "id": "96392b60",
      "metadata": {
        "id": "96392b60"
      },
      "source": [
        "3. How can you achieve encapsulation in Python classes? Provide an example.\n",
        "\n",
        "\n"
      ]
    },
    {
      "cell_type": "code",
      "execution_count": null,
      "id": "e02f8f2a",
      "metadata": {
        "id": "e02f8f2a",
        "outputId": "32c5f8d4-9c0c-4edf-9b55-a874e92c1c5e"
      },
      "outputs": [
        {
          "data": {
            "text/plain": [
              "'joginaidu'"
            ]
          },
          "execution_count": 5,
          "metadata": {},
          "output_type": "execute_result"
        }
      ],
      "source": [
        "class jogi:\n",
        "    def __init__(self):\n",
        "        self.__jan =\"joginaidu\"\n",
        "op = jogi()\n",
        "op._jogi__jan"
      ]
    },
    {
      "cell_type": "markdown",
      "id": "7132c8d8",
      "metadata": {
        "id": "7132c8d8"
      },
      "source": [
        "4. Discuss the difference between public, private, and protected access modifiers in Python.\n",
        "\n",
        "\n"
      ]
    },
    {
      "cell_type": "markdown",
      "id": "46a91ae8",
      "metadata": {
        "id": "46a91ae8"
      },
      "source": [
        "*Public:*\n",
        "\n",
        "Everyone can see and use these attributes/methods.\n",
        "No special symbol is used.\n",
        "Example: name = \"John\"\n",
        "\n",
        "*Private:*\n",
        "\n",
        "Only the class itself can see and use these attributes/methods.\n",
        "Denoted by a double underscore (__).\n",
        "Example: __password = \"secret\"\n",
        "\n",
        "*Protected:*\n",
        "\n",
        "Accessible within the class and its subclasses (but not from outside).\n",
        "Denoted by a single underscore (_).\n",
        "Example: _salary = 50000\n",
        "\n",
        "In simple terms, public is like an open book (everyone can read it), private is like a secret diary (only the owner can read it), and protected is like sharing something within a trusted group (class and its subclasses). These help in organizing code and prevent unintentional interference from outside the class."
      ]
    },
    {
      "cell_type": "markdown",
      "id": "0b8153c0",
      "metadata": {
        "id": "0b8153c0"
      },
      "source": [
        "5. Create a Python class called `Person` with a private attribute `__name`. Provide methods to get and set the\n",
        "name attribute."
      ]
    },
    {
      "cell_type": "code",
      "execution_count": null,
      "id": "06c734c3",
      "metadata": {
        "id": "06c734c3",
        "outputId": "1f6b1119-4fc7-45ac-fb22-e73f18abf080"
      },
      "outputs": [
        {
          "name": "stdout",
          "output_type": "stream",
          "text": [
            "jogi\n",
            "pavan\n"
          ]
        }
      ],
      "source": [
        "class Person:\n",
        "    def __init__(self,name):\n",
        "        self.__name = name\n",
        "    def show_name(self):\n",
        "        return self.__name\n",
        "    def new_name(self,newname):\n",
        "        if isinstance(newname,str):\n",
        "            self.__name=newname\n",
        "        else:\n",
        "            print(\"invalid one\")\n",
        "per1 = Person(\"jogi\")\n",
        "print(per1.show_name())\n",
        "per1.new_name(\"pavan\")\n",
        "print(per1.show_name())\n"
      ]
    },
    {
      "cell_type": "markdown",
      "id": "6174c114",
      "metadata": {
        "id": "6174c114"
      },
      "source": [
        "6. Explain the purpose of getter and setter methods in encapsulation. Provide examples.\n"
      ]
    },
    {
      "cell_type": "markdown",
      "id": "02e96b72",
      "metadata": {
        "id": "02e96b72"
      },
      "source": [
        "Getter Methods:\n",
        "\n",
        "Purpose: To get or retrieve the value of a private variable inside a class.\n",
        "\n",
        "Example: If you have a Person class with a private variable _age, a getter method like get_age() lets you find out the age of a person from outside the class."
      ]
    },
    {
      "cell_type": "code",
      "execution_count": null,
      "id": "1f99315d",
      "metadata": {
        "id": "1f99315d",
        "outputId": "6d8ca264-9b3a-43e9-e416-547d8611fcd0"
      },
      "outputs": [
        {
          "name": "stdout",
          "output_type": "stream",
          "text": [
            "25\n"
          ]
        }
      ],
      "source": [
        "class Person:\n",
        "    def __init__(self, age):\n",
        "        self.__age = age\n",
        "\n",
        "    def get_age(self):\n",
        "        return self.__age\n",
        "\n",
        "person = Person(25)\n",
        "print(person.get_age())\n"
      ]
    },
    {
      "cell_type": "markdown",
      "id": "901844dc",
      "metadata": {
        "id": "901844dc"
      },
      "source": [
        "Setter Methods:\n",
        "\n",
        "Purpose: To set or change the value of a private variable inside a class.\n",
        "\n",
        "Example: If you want to update the age of a person in the Person class, you can use a setter method like set_age()."
      ]
    },
    {
      "cell_type": "code",
      "execution_count": null,
      "id": "453b9d3a",
      "metadata": {
        "id": "453b9d3a",
        "outputId": "e33131db-6806-47c9-c2a2-5eb6bca4d8c3"
      },
      "outputs": [
        {
          "name": "stdout",
          "output_type": "stream",
          "text": [
            "None\n"
          ]
        }
      ],
      "source": [
        "class Person:\n",
        "    def __init__(self, age):\n",
        "        self.__age = age\n",
        "\n",
        "    def set_age(self, new_age):\n",
        "        self.__age = new_age\n",
        "\n",
        "person = Person(25)\n",
        "person.set_age(30)\n",
        "print(person.get_age())\n"
      ]
    },
    {
      "cell_type": "markdown",
      "id": "48f7eebe",
      "metadata": {
        "id": "48f7eebe"
      },
      "source": [
        "7. What is name mangling in Python, and how does it affect encapsulation?\n",
        "\n",
        "\n"
      ]
    },
    {
      "cell_type": "markdown",
      "id": "52e75c40",
      "metadata": {
        "id": "52e75c40"
      },
      "source": [
        "Name mangling in Python is like a protective measure for the internal parts of a class. If an attribute inside a class starts with a double underscore (like __private_variable), Python changes its name a bit to make it less straightforward to access directly from outside the class. This is not about strict security but more about preventing accidental interference. It encourages good coding practices by nudging developers to use proper methods (like getters and setters) to interact with these attributes rather than accessing them directly. So, name mangling contributes to encapsulation, helping to keep the inside details of a class private and controlled."
      ]
    },
    {
      "cell_type": "markdown",
      "id": "1b89820d",
      "metadata": {
        "id": "1b89820d"
      },
      "source": [
        "8. Create a Python class called `BankAccount` with private attributes for the account balance (`__balance`) and account number (`__account_number`). Provide methods for depositing and withdrawing money.\n",
        "\n",
        "\n"
      ]
    },
    {
      "cell_type": "code",
      "execution_count": null,
      "id": "04987ad9",
      "metadata": {
        "id": "04987ad9",
        "outputId": "868f9273-aea7-48b4-f95a-550e15a89651"
      },
      "outputs": [
        {
          "name": "stdout",
          "output_type": "stream",
          "text": [
            "The present account balance is 5000 rs\n",
            "The present account balance is 3000 rs\n"
          ]
        }
      ],
      "source": [
        "class BankAccount:\n",
        "    def __init__(self, balance, account_id):\n",
        "        self.__balance = balance\n",
        "        self.__account_id = account_id\n",
        "\n",
        "    def show_balance(self, input_account_id):\n",
        "        if input_account_id == 1234:\n",
        "            return f\"The present account balance is {self.__balance} rs\"\n",
        "        else:\n",
        "            return \"Invalid account number\"\n",
        "\n",
        "    def deposit(self, deposit_amount, input_balance, input_account_id):\n",
        "        if input_account_id == 1234:\n",
        "            self.__balance += deposit_amount\n",
        "            return f\"The present account balance is {self.__balance} rs\"\n",
        "        else:\n",
        "            return \"Invalid account number\"\n",
        "\n",
        "    def withdrawal(self, withdrawal_amount, input_balance, input_account_id):\n",
        "        if input_account_id == 1234:\n",
        "            if self.__balance >= withdrawal_amount:\n",
        "                self.__balance -= withdrawal_amount\n",
        "                return f\"The present account balance is {self.__balance} rs\"\n",
        "            else:\n",
        "                return \"Limited balance\"\n",
        "        else:\n",
        "            return \"Invalid account number\"\n",
        "\n",
        "\n",
        "acc1 = BankAccount(5000, 1234)\n",
        "print(acc1.show_balance(1234))\n",
        "print(acc1.withdrawal(withdrawal_amount=2000, input_balance=5000, input_account_id=1234))\n"
      ]
    },
    {
      "cell_type": "markdown",
      "id": "9c87e084",
      "metadata": {
        "id": "9c87e084"
      },
      "source": [
        "9. Discuss the advantages of encapsulation in terms of code maintainability and security.\n",
        "\n",
        "\n"
      ]
    },
    {
      "cell_type": "markdown",
      "id": "d2c825b8",
      "metadata": {
        "id": "d2c825b8"
      },
      "source": [
        "Encapsulation is one of the fundamental principles of object-oriented programming (OOP) that involves bundling the data (attributes) and the methods (functions) that operate on the data into a single unit known as a class. This concept provides several advantages, particularly in terms of code maintainability and security."
      ]
    },
    {
      "cell_type": "markdown",
      "id": "ce259163",
      "metadata": {
        "id": "ce259163"
      },
      "source": [
        "10. How can you access private attributes in Python? Provide an example demonstrating the use of name\n",
        "mangling."
      ]
    },
    {
      "cell_type": "code",
      "execution_count": null,
      "id": "e38ee299",
      "metadata": {
        "id": "e38ee299",
        "outputId": "abeb8504-8b6d-4b12-d4e8-525b419a32cd"
      },
      "outputs": [
        {
          "name": "stdout",
          "output_type": "stream",
          "text": [
            "private\n",
            "the mangling name is : private\n"
          ]
        }
      ],
      "source": [
        "class joo:\n",
        "    def __init__(self):\n",
        "        self.__name = \"private\"\n",
        "    def review(self):\n",
        "        return self.__name\n",
        "jj = joo()\n",
        "print(jj.review())\n",
        "mangled = f\"_joo__name\"\n",
        "print(\"the mangling name is :\",getattr(jj,mangled))"
      ]
    },
    {
      "cell_type": "markdown",
      "id": "8822caea",
      "metadata": {
        "id": "8822caea"
      },
      "source": [
        "11. Create a Python class hierarchy for a school system, including classes for students, teachers, and courses,\n",
        "and implement encapsulation principles to protect sensitive information.\n",
        "\n",
        "\n"
      ]
    },
    {
      "cell_type": "code",
      "execution_count": null,
      "id": "f275888b",
      "metadata": {
        "id": "f275888b"
      },
      "outputs": [],
      "source": [
        "class school:\n",
        "    def __init__(self,name):\n",
        "        self.name = name\n",
        "    def sch_name(self):\n",
        "        return self.name\n",
        "class student(school):\n",
        "    def __init__(self,stu_name,ids,age):\n",
        "        self.__init__(name = \"srichitanya high school\")\n",
        "        self.stu_name = stu_name\n",
        "        self.ids = ids\n",
        "        self.age = age\n",
        "    def stu_details(self):\n",
        "        return f\"student name : {self.stu_name} \\nstudent_id : {self.ids} \\nage : {self.age}\"\n",
        "class teacher(school):\n",
        "    def __init__(self,teacher_name,sub,age):\n",
        "        self.__init__(name = \"srichitanya high school\")\n",
        "        self.teacher_name = teacher_name\n",
        "        self.sub = sub\n",
        "        self.age = age\n",
        "    def teacher_details(self):\n",
        "        return f\"teacher name : {self.teacher_name} \\nsubject : {slf.sub} \\nAge : {self.age}\"\n",
        "class course:\n",
        "    def __init__(self,course):\n",
        ""
      ]
    },
    {
      "cell_type": "code",
      "execution_count": null,
      "id": "c214ef13",
      "metadata": {
        "id": "c214ef13"
      },
      "outputs": [],
      "source": []
    },
    {
      "cell_type": "code",
      "execution_count": null,
      "id": "5343a379",
      "metadata": {
        "id": "5343a379"
      },
      "outputs": [],
      "source": []
    },
    {
      "cell_type": "code",
      "execution_count": null,
      "id": "b5bc3903",
      "metadata": {
        "id": "b5bc3903"
      },
      "outputs": [],
      "source": []
    },
    {
      "cell_type": "code",
      "execution_count": null,
      "id": "dcf1880d",
      "metadata": {
        "id": "dcf1880d"
      },
      "outputs": [],
      "source": []
    },
    {
      "cell_type": "code",
      "execution_count": null,
      "id": "3da347d0",
      "metadata": {
        "id": "3da347d0"
      },
      "outputs": [],
      "source": []
    },
    {
      "cell_type": "code",
      "execution_count": null,
      "id": "314e1303",
      "metadata": {
        "id": "314e1303"
      },
      "outputs": [],
      "source": []
    },
    {
      "cell_type": "code",
      "execution_count": null,
      "id": "35c7206a",
      "metadata": {
        "id": "35c7206a"
      },
      "outputs": [],
      "source": []
    }
  ],
  "metadata": {
    "kernelspec": {
      "display_name": "Python 3 (ipykernel)",
      "language": "python",
      "name": "python3"
    },
    "language_info": {
      "codemirror_mode": {
        "name": "ipython",
        "version": 3
      },
      "file_extension": ".py",
      "mimetype": "text/x-python",
      "name": "python",
      "nbconvert_exporter": "python",
      "pygments_lexer": "ipython3",
      "version": "3.10.9"
    },
    "colab": {
      "provenance": [],
      "include_colab_link": true
    }
  },
  "nbformat": 4,
  "nbformat_minor": 5
}