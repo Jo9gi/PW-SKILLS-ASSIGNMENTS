{
  "cells": [
    {
      "cell_type": "markdown",
      "metadata": {
        "id": "view-in-github",
        "colab_type": "text"
      },
      "source": [
        "<a href=\"https://colab.research.google.com/github/Jo9gi/PW-SKILLS-ASSIGNMENTS/blob/main/ml_assignment_4_answers.ipynb\" target=\"_parent\"><img src=\"https://colab.research.google.com/assets/colab-badge.svg\" alt=\"Open In Colab\"/></a>"
      ]
    },
    {
      "cell_type": "markdown",
      "metadata": {
        "id": "d0RAtBkAODDE"
      },
      "source": [
        "# Machine Learning Assignment 5 Answers\n",
        "\n",
        "This notebook contains comprehensive answers to the questions from the assignment_4.pdf."
      ],
      "id": "d0RAtBkAODDE"
    },
    {
      "cell_type": "markdown",
      "metadata": {
        "id": "8MFaMfFNODDG"
      },
      "source": [
        "### 1. What is clustering in machine learning?\n",
        "Clustering is an unsupervised learning technique that groups similar data points into clusters based on their features."
      ],
      "id": "8MFaMfFNODDG"
    },
    {
      "cell_type": "markdown",
      "metadata": {
        "id": "6PlufFZGODDG"
      },
      "source": [
        "### 2. Explain the difference between supervised and unsupervised clustering?\n",
        "Supervised learning uses labeled data; clustering is unsupervised and uses unlabeled data to find inherent groupings."
      ],
      "id": "6PlufFZGODDG"
    },
    {
      "cell_type": "markdown",
      "metadata": {
        "id": "-WZcPyYNODDG"
      },
      "source": [
        "### 3. What are the key applications of clustering algorithms?\n",
        "Customer segmentation, image segmentation, anomaly detection."
      ],
      "id": "-WZcPyYNODDG"
    },
    {
      "cell_type": "markdown",
      "metadata": {
        "id": "ZFcG_t5KODDG"
      },
      "source": [
        "### 4. Describe the K-means clustering algorithm?\n",
        "Partitions data into K clusters by minimizing within-cluster variance iteratively."
      ],
      "id": "ZFcG_t5KODDG"
    },
    {
      "cell_type": "markdown",
      "metadata": {
        "id": "1wquOIvnODDG"
      },
      "source": [
        "### 5. Main advantages and disadvantages of K-means clustering?\n",
        "Advantages: Simple, scalable. Disadvantages: Requires K, sensitive to initialization and outliers."
      ],
      "id": "1wquOIvnODDG"
    },
    {
      "cell_type": "markdown",
      "metadata": {
        "id": "iJHd91U9ODDH"
      },
      "source": [
        "### 6. How does hierarchical clustering work?\n",
        "Builds a tree of clusters by either agglomerative (bottom-up) or divisive (top-down) methods."
      ],
      "id": "iJHd91U9ODDH"
    },
    {
      "cell_type": "markdown",
      "metadata": {
        "id": "vOZZVieZODDH"
      },
      "source": [
        "### 7. Different linkage criteria used in hierarchical clustering?\n",
        "Single, complete, average linkage."
      ],
      "id": "vOZZVieZODDH"
    },
    {
      "cell_type": "markdown",
      "metadata": {
        "id": "H9ebiESMODDH"
      },
      "source": [
        "### 8. Explain the concept of DBSCAN clustering?\n",
        "Density-based clustering that groups points closely packed together and marks others as noise."
      ],
      "id": "H9ebiESMODDH"
    },
    {
      "cell_type": "markdown",
      "metadata": {
        "id": "EMMQnqRdODDH"
      },
      "source": [
        "### 9. Parameters involved in DBSCAN clustering?\n",
        "Epsilon (neighborhood radius), MinPts (minimum points to form a cluster)."
      ],
      "id": "EMMQnqRdODDH"
    },
    {
      "cell_type": "markdown",
      "metadata": {
        "id": "63MDgw1RODDI"
      },
      "source": [
        "### 10. Describe the process of evaluating clustering algorithms?\n",
        "Using metrics like silhouette score, Davies-Bouldin index."
      ],
      "id": "63MDgw1RODDI"
    },
    {
      "cell_type": "markdown",
      "metadata": {
        "id": "aWTl6DsyODDI"
      },
      "source": [
        "### 11. What is the silhouette score, and how is it calculated?\n",
        "Measures how similar a point is to its cluster compared to other clusters; ranges from -1 to 1."
      ],
      "id": "aWTl6DsyODDI"
    },
    {
      "cell_type": "markdown",
      "metadata": {
        "id": "MtKWEt7PODDI"
      },
      "source": [
        "### 12. Challenges of clustering high-dimensional data?\n",
        "Curse of dimensionality, distance measures become less meaningful."
      ],
      "id": "MtKWEt7PODDI"
    },
    {
      "cell_type": "markdown",
      "metadata": {
        "id": "xOfJgAUNODDI"
      },
      "source": [
        "### 13. Explain the concept of density-based clustering?\n",
        "Clusters are dense regions separated by sparse regions."
      ],
      "id": "xOfJgAUNODDI"
    },
    {
      "cell_type": "markdown",
      "metadata": {
        "id": "xlCwPPgsODDI"
      },
      "source": [
        "### 14. How does Gaussian Mixture Model (GMM) clustering differ from K-means?\n",
        "GMM models clusters as Gaussian distributions, allowing soft assignments."
      ],
      "id": "xlCwPPgsODDI"
    },
    {
      "cell_type": "markdown",
      "metadata": {
        "id": "D2VSQSZlODDI"
      },
      "source": [
        "### 15. Limitations of traditional clustering algorithms?\n",
        "Sensitivity to noise, need to specify number of clusters."
      ],
      "id": "D2VSQSZlODDI"
    },
    {
      "cell_type": "markdown",
      "metadata": {
        "id": "0XzabdtgODDI"
      },
      "source": [
        "### 16. Applications of spectral clustering?\n",
        "Image segmentation, social network analysis."
      ],
      "id": "0XzabdtgODDI"
    },
    {
      "cell_type": "markdown",
      "metadata": {
        "id": "o4jRqNz2ODDI"
      },
      "source": [
        "### 17. Explain the concept of affinity propagation?\n",
        "Clustering by message passing between points without specifying number of clusters."
      ],
      "id": "o4jRqNz2ODDI"
    },
    {
      "cell_type": "markdown",
      "metadata": {
        "id": "X48QzVopODDJ"
      },
      "source": [
        "### 18. How do you handle categorical variables in clustering?\n",
        "Using encoding techniques or specialized algorithms."
      ],
      "id": "X48QzVopODDJ"
    },
    {
      "cell_type": "markdown",
      "metadata": {
        "id": "MAtrHqKYODDJ"
      },
      "source": [
        "### 19. Describe the elbow method for determining the optimal number of clusters?\n",
        "Plot within-cluster sum of squares vs number of clusters and look for elbow point."
      ],
      "id": "MAtrHqKYODDJ"
    },
    {
      "cell_type": "markdown",
      "metadata": {
        "id": "9Gq0ZI_xODDJ"
      },
      "source": [
        "### 20. Emerging trends in clustering research?\n",
        "Deep clustering, scalable algorithms."
      ],
      "id": "9Gq0ZI_xODDJ"
    },
    {
      "cell_type": "markdown",
      "metadata": {
        "id": "dNqQipkXODDJ"
      },
      "source": [
        "### 21. What is anomaly detection, and why is it important?\n",
        "Identifying rare or unusual data points; important for fraud detection, fault diagnosis."
      ],
      "id": "dNqQipkXODDJ"
    },
    {
      "cell_type": "markdown",
      "metadata": {
        "id": "KmkJJvsjODDJ"
      },
      "source": [
        "### 22. Types of anomalies encountered in anomaly detection?\n",
        "Point anomalies, contextual anomalies, collective anomalies."
      ],
      "id": "KmkJJvsjODDJ"
    },
    {
      "cell_type": "markdown",
      "metadata": {
        "id": "6I4gbasPODDJ"
      },
      "source": [
        "### 23. Explain the difference between supervised and unsupervised anomaly detection techniques?\n",
        "Supervised uses labeled anomalies; unsupervised detects anomalies without labels."
      ],
      "id": "6I4gbasPODDJ"
    },
    {
      "cell_type": "markdown",
      "metadata": {
        "id": "zHp8CRfVODDJ"
      },
      "source": [
        "### 24. Describe the Isolation Forest algorithm for anomaly detection?\n",
        "An ensemble method isolating anomalies by random partitioning."
      ],
      "id": "zHp8CRfVODDJ"
    },
    {
      "cell_type": "markdown",
      "metadata": {
        "id": "V1ajNbuEODDJ"
      },
      "source": [
        "### 25. How does One-Class SVM work in anomaly detection?\n",
        "Learns boundary around normal data to detect outliers."
      ],
      "id": "V1ajNbuEODDJ"
    },
    {
      "cell_type": "markdown",
      "metadata": {
        "id": "kcKIWuMDODDJ"
      },
      "source": [
        "### 26. Discuss the challenges of anomaly detection in high-dimensional data?\n",
        "Sparsity, noise, computational complexity."
      ],
      "id": "kcKIWuMDODDJ"
    },
    {
      "cell_type": "markdown",
      "metadata": {
        "id": "H2y6cQtgODDJ"
      },
      "source": [
        "### 27. Explain the concept of novelty detection?\n",
        "Detecting new or unseen anomalies in data."
      ],
      "id": "H2y6cQtgODDJ"
    },
    {
      "cell_type": "markdown",
      "metadata": {
        "id": "QCbKVALEODDJ"
      },
      "source": [
        "### 28. What are some real-world applications of anomaly detection?\n",
        "Network security, healthcare monitoring."
      ],
      "id": "QCbKVALEODDJ"
    },
    {
      "cell_type": "markdown",
      "metadata": {
        "id": "VnnMeoSXODDJ"
      },
      "source": [
        "### 29. Describe the Local Outlier Factor (LOF) algorithm?\n",
        "Measures local density deviation to identify outliers."
      ],
      "id": "VnnMeoSXODDJ"
    },
    {
      "cell_type": "markdown",
      "metadata": {
        "id": "970HM1QjODDK"
      },
      "source": [
        "### 30. How do you evaluate the performance of an anomaly detection model?\n",
        "Using precision, recall, F1-score, ROC curves."
      ],
      "id": "970HM1QjODDK"
    },
    {
      "cell_type": "markdown",
      "metadata": {
        "id": "9XoMriOiODDK"
      },
      "source": [
        "### 31. Discuss the role of feature engineering in anomaly detection?\n",
        "Improves detection by creating informative features."
      ],
      "id": "9XoMriOiODDK"
    },
    {
      "cell_type": "markdown",
      "metadata": {
        "id": "HuXorUbRODDK"
      },
      "source": [
        "### 32. What are the limitations of traditional anomaly detection methods?\n",
        "Assumptions about data distribution, sensitivity to noise."
      ],
      "id": "HuXorUbRODDK"
    },
    {
      "cell_type": "markdown",
      "metadata": {
        "id": "rDpH-VBYODDK"
      },
      "source": [
        "### 33. Explain the concept of ensemble methods in anomaly detection?\n",
        "Combining multiple detectors to improve robustness."
      ],
      "id": "rDpH-VBYODDK"
    },
    {
      "cell_type": "markdown",
      "metadata": {
        "id": "ARjtqOBaODDK"
      },
      "source": [
        "### 34. How does autoencoder-based anomaly detection work?\n",
        "Learns compressed representation; high reconstruction error indicates anomaly."
      ],
      "id": "ARjtqOBaODDK"
    },
    {
      "cell_type": "markdown",
      "metadata": {
        "id": "3b3QyWxoODDL"
      },
      "source": [
        "### 35. What are some approaches for handling imbalanced data in anomaly detection?\n",
        "Resampling, synthetic data generation."
      ],
      "id": "3b3QyWxoODDL"
    },
    {
      "cell_type": "markdown",
      "metadata": {
        "id": "qIXy-1_ZODDL"
      },
      "source": [
        "### 36. Describe the concept of semi-supervised anomaly detection?\n",
        "Uses labeled normal data and unlabeled data to detect anomalies."
      ],
      "id": "qIXy-1_ZODDL"
    },
    {
      "cell_type": "markdown",
      "metadata": {
        "id": "T8a6FcfkODDL"
      },
      "source": [
        "### 37. Discuss the trade-offs between false positives and false negatives in anomaly detection?\n",
        "Balancing detection sensitivity and false alarm rate."
      ],
      "id": "T8a6FcfkODDL"
    },
    {
      "cell_type": "markdown",
      "metadata": {
        "id": "o-DvecqyODDL"
      },
      "source": [
        "### 38. How do you interpret the results of an anomaly detection model?\n",
        "Analyzing detected anomalies and their context."
      ],
      "id": "o-DvecqyODDL"
    },
    {
      "cell_type": "markdown",
      "metadata": {
        "id": "7BDp1lf0ODDL"
      },
      "source": [
        "### 39. What are some open research challenges in anomaly detection?\n",
        "Scalability, interpretability, evolving data."
      ],
      "id": "7BDp1lf0ODDL"
    },
    {
      "cell_type": "markdown",
      "metadata": {
        "id": "CGDuWwbLODDM"
      },
      "source": [
        "### 40. Explain the concept of contextual anomaly detection?\n",
        "Detecting anomalies considering context or environment."
      ],
      "id": "CGDuWwbLODDM"
    },
    {
      "cell_type": "markdown",
      "metadata": {
        "id": "JOLxf8saODDM"
      },
      "source": [
        "### 41. What is time series analysis, and what are its key components?\n",
        "Analyzing data points over time; components include trend, seasonality, noise."
      ],
      "id": "JOLxf8saODDM"
    },
    {
      "cell_type": "markdown",
      "metadata": {
        "id": "6KAYh2nvODDM"
      },
      "source": [
        "### 42. Discuss the difference between univariate and multivariate time series analysis?\n",
        "Univariate analyzes one variable; multivariate analyzes multiple variables."
      ],
      "id": "6KAYh2nvODDM"
    },
    {
      "cell_type": "markdown",
      "metadata": {
        "id": "PaVC_8EYODDM"
      },
      "source": [
        "### 43. Describe the process of time series decomposition?\n",
        "Separating series into trend, seasonal, and residual components."
      ],
      "id": "PaVC_8EYODDM"
    },
    {
      "cell_type": "markdown",
      "metadata": {
        "id": "DGTlR2V-ODDM"
      },
      "source": [
        "### 44. What are the main components of a time series decomposition?\n",
        "Trend, seasonality, residual."
      ],
      "id": "DGTlR2V-ODDM"
    },
    {
      "cell_type": "markdown",
      "metadata": {
        "id": "o4BtXEBPODDN"
      },
      "source": [
        "### 45. Explain the concept of stationarity in time series data?\n",
        "Statistical properties like mean and variance are constant over time."
      ],
      "id": "o4BtXEBPODDN"
    },
    {
      "cell_type": "markdown",
      "metadata": {
        "id": "yc3z5mpaODDN"
      },
      "source": [
        "### 46. How do you test for stationarity in a time series?\n",
        "Using tests like Augmented Dickey-Fuller (ADF)."
      ],
      "id": "yc3z5mpaODDN"
    },
    {
      "cell_type": "markdown",
      "metadata": {
        "id": "440tRcx3ODDN"
      },
      "source": [
        "### 47. Discuss the autoregressive integrated moving average (ARIMA) model?\n",
        "Autoregressive Integrated Moving Average model for forecasting stationary time series."
      ],
      "id": "440tRcx3ODDN"
    },
    {
      "cell_type": "markdown",
      "metadata": {
        "id": "AJm5YRj4ODDN"
      },
      "source": [
        "### 48. What are the parameters of the ARIMA model?\n",
        "p (autoregressive order), d (differencing order), q (moving average order)."
      ],
      "id": "AJm5YRj4ODDN"
    },
    {
      "cell_type": "markdown",
      "metadata": {
        "id": "oixaXavcODDN"
      },
      "source": [
        "### 49. Describe the seasonal autoregressive integrated moving average (SARIMA) model?\n",
        "Seasonal ARIMA model accounting for seasonality."
      ],
      "id": "oixaXavcODDN"
    },
    {
      "cell_type": "markdown",
      "metadata": {
        "id": "sjwK9FCqODDN"
      },
      "source": [
        "### 50. How do you choose the appropriate lag order in an ARIMA model?\n",
        "Using ACF and PACF plots."
      ],
      "id": "sjwK9FCqODDN"
    },
    {
      "cell_type": "markdown",
      "metadata": {
        "id": "sNkTF0EHODDN"
      },
      "source": [
        "### 51. Explain the concept of differencing in time series analysis?\n",
        "Subtracting previous observations to make series stationary."
      ],
      "id": "sNkTF0EHODDN"
    },
    {
      "cell_type": "markdown",
      "metadata": {
        "id": "qjGEdWUIODDN"
      },
      "source": [
        "### 52. What is the Box-Jenkins methodology?\n",
        "Systematic approach to identify, estimate, and check ARIMA models."
      ],
      "id": "qjGEdWUIODDN"
    },
    {
      "cell_type": "markdown",
      "metadata": {
        "id": "TtRdC7yQODDN"
      },
      "source": [
        "### 53. Discuss the role of ACF and PACF plots in identifying ARIMA parameters?\n",
        "Identify order of AR and MA components."
      ],
      "id": "TtRdC7yQODDN"
    },
    {
      "cell_type": "markdown",
      "metadata": {
        "id": "Mb1gDYHOODDN"
      },
      "source": [
        "### 54. How do you handle missing values in time series data?\n",
        "Interpolation, forward/backward fill."
      ],
      "id": "Mb1gDYHOODDN"
    },
    {
      "cell_type": "markdown",
      "metadata": {
        "id": "cqsWerw2ODDO"
      },
      "source": [
        "### 55. Describe the concept of exponential smoothing?\n",
        "Weighted moving average giving more weight to recent observations."
      ],
      "id": "cqsWerw2ODDO"
    },
    {
      "cell_type": "markdown",
      "metadata": {
        "id": "IDQBL3lcODDO"
      },
      "source": [
        "### 56. What is the Holt-Winters method, and when is it used?\n",
        "Exponential smoothing method for data with trend and seasonality."
      ],
      "id": "IDQBL3lcODDO"
    },
    {
      "cell_type": "markdown",
      "metadata": {
        "id": "rQwUmMojODDO"
      },
      "source": [
        "### 57. Discuss the challenges of forecasting long-term trends in time series data?\n",
        "Model drift, changing patterns."
      ],
      "id": "rQwUmMojODDO"
    },
    {
      "cell_type": "markdown",
      "metadata": {
        "id": "v64bVi8NODDO"
      },
      "source": [
        "### 58. Explain the concept of seasonality in time series analysis?\n",
        "Regular repeating patterns over fixed periods."
      ],
      "id": "v64bVi8NODDO"
    },
    {
      "cell_type": "markdown",
      "metadata": {
        "id": "rgFMKVyXODDO"
      },
      "source": [
        "### 59. How do you evaluate the performance of a time series forecasting model?\n",
        "Using metrics like MAE, RMSE."
      ],
      "id": "rgFMKVyXODDO"
    },
    {
      "cell_type": "markdown",
      "metadata": {
        "id": "-1oNuVG2ODDO"
      },
      "source": [
        "### 60. What are some advanced techniques for time series forecasting?\n",
        "LSTM, Prophet, state-space models."
      ],
      "id": "-1oNuVG2ODDO"
    }
  ],
  "metadata": {
    "kernelspec": {
      "display_name": "Python 3",
      "language": "python",
      "name": "python3"
    },
    "language_info": {
      "name": "python",
      "version": "3.8"
    },
    "colab": {
      "provenance": [],
      "include_colab_link": true
    }
  },
  "nbformat": 4,
  "nbformat_minor": 5
}